{
 "cells": [
  {
   "cell_type": "markdown",
   "metadata": {},
   "source": [
    "# Mass Modelling and Label Noise Investigation for CHIP Classification \n",
    "\n",
    "## Wei Jie Huang - 31500315\n",
    "\n",
    "# 1. Introduction\n",
    "This notebook parses through the modelling techniques and methods to find misclassified labels within the datasets. \n",
    "\n",
    "Within both supplied datasets, grouping the 88 participants by their unique `MSID` demonstrates no inconsistencies between dataset1 and dataset2 classifications (44 CHIP, 44 Control). \n",
    "\n",
    "In addition, within each individual dataset, each read of a particular patient presents the same label; thus for every unique `MSID`, no inconsistent classification arises. From these two observations, it's hypothesised that the label noise is large enough to span both datasets, hence, we cannot ascertain that a particular machine produced a ground truth classification. \n",
    "\n",
    "There were two methods in uncovering label noise, the first was utilising a Python package, `cleanlab`, which wraps around sklearn machine learning models working with label noise probabilities as an input; the second consisted of further exploratory analysis of modelling accuracies and averages, inferring structured bias across multiple patients through `MSID` groupings.\n",
    "\n",
    "**NOTE: Although the notebook seems long, it's due to the outputs in attempt to find accuracies of many models.**\n",
    "\n",
    "**It is short, in essence, if you skim over model creating and accuracies**\n",
    "\n",
    "# 2. Import Libraries"
   ]
  },
  {
   "cell_type": "code",
   "execution_count": 2,
   "metadata": {},
   "outputs": [],
   "source": [
    "import numpy as np\n",
    "import pandas as pd\n",
    "import pandas_profiling as pp\n",
    "import math\n",
    "import random\n",
    "import seaborn as sns\n",
    "import matplotlib.pyplot as plt\n",
    "from matplotlib.pylab import rcParams\n",
    "rcParams['figure.figsize'] = 12, 4\n",
    "%matplotlib inline\n",
    "\n",
    "# preprocessing\n",
    "import sklearn\n",
    "from sklearn.preprocessing import LabelEncoder, StandardScaler, MinMaxScaler, RobustScaler\n",
    "from sklearn.model_selection import train_test_split, GridSearchCV, StratifiedKFold, learning_curve, ShuffleSplit, RepeatedStratifiedKFold\n",
    "from sklearn.model_selection import cross_val_score, GroupKFold\n",
    "from sklearn.model_selection import cross_val_predict as cvp\n",
    "from sklearn import metrics\n",
    "from sklearn.metrics import r2_score, mean_absolute_error, mean_squared_error, accuracy_score, confusion_matrix, explained_variance_score\n",
    "from sklearn.feature_selection import VarianceThreshold\n",
    "from sklearn.feature_selection import SelectFromModel, SelectKBest, RFE, chi2\n",
    "\n",
    "# models\n",
    "from sklearn.linear_model import LinearRegression, LogisticRegression, Perceptron, RidgeClassifier, SGDClassifier, LassoCV, LogisticRegressionCV\n",
    "from sklearn.svm import SVC, LinearSVC, SVR\n",
    "from sklearn.ensemble import RandomForestClassifier, GradientBoostingClassifier, ExtraTreesClassifier, IsolationForest\n",
    "from sklearn.ensemble import BaggingClassifier, AdaBoostClassifier, VotingClassifier\n",
    "from sklearn.ensemble import RandomForestClassifier\n",
    "from sklearn.naive_bayes import GaussianNB\n",
    "from sklearn.neighbors import KNeighborsClassifier, RadiusNeighborsClassifier, NearestCentroid\n",
    "from sklearn.gaussian_process import GaussianProcessClassifier\n",
    "from sklearn.neural_network import MLPClassifier\n",
    "from sklearn.tree import DecisionTreeClassifier, plot_tree\n",
    "from sklearn import metrics\n",
    "import xgboost as xgb\n",
    "from xgboost import XGBClassifier, XGBRFClassifier\n",
    "import lightgbm as lgb\n",
    "from lightgbm import LGBMClassifier\n",
    "\n",
    "# Custom python file for commonly used data preprocessing methods within the project\n",
    "import preprocessing\n",
    "\n",
    "import warnings\n",
    "warnings.filterwarnings(\"ignore\")"
   ]
  },
  {
   "cell_type": "code",
   "execution_count": 20,
   "metadata": {
    "scrolled": false
   },
   "outputs": [
    {
     "data": {
      "text/html": [
       "<div>\n",
       "<style scoped>\n",
       "    .dataframe tbody tr th:only-of-type {\n",
       "        vertical-align: middle;\n",
       "    }\n",
       "\n",
       "    .dataframe tbody tr th {\n",
       "        vertical-align: top;\n",
       "    }\n",
       "\n",
       "    .dataframe thead th {\n",
       "        text-align: right;\n",
       "    }\n",
       "</style>\n",
       "<table border=\"1\" class=\"dataframe\">\n",
       "  <thead>\n",
       "    <tr style=\"text-align: right;\">\n",
       "      <th></th>\n",
       "      <th>d.barcode</th>\n",
       "      <th>DP</th>\n",
       "      <th>VD</th>\n",
       "      <th>AF</th>\n",
       "      <th>HIAF</th>\n",
       "      <th>IMPACT</th>\n",
       "      <th>SYMBOL</th>\n",
       "      <th>loci</th>\n",
       "      <th>sampleTimePt</th>\n",
       "      <th>gender</th>\n",
       "      <th>MSID</th>\n",
       "      <th>BIAS</th>\n",
       "      <th>REFBIAS</th>\n",
       "      <th>VARBIAS</th>\n",
       "      <th>QUAL</th>\n",
       "      <th>ODDRATIO</th>\n",
       "      <th>chipOrControl</th>\n",
       "    </tr>\n",
       "  </thead>\n",
       "  <tbody>\n",
       "    <tr>\n",
       "      <th>0</th>\n",
       "      <td>4010289633</td>\n",
       "      <td>7281</td>\n",
       "      <td>26</td>\n",
       "      <td>0.003600</td>\n",
       "      <td>0.003300</td>\n",
       "      <td>MODERATE</td>\n",
       "      <td>GNB1</td>\n",
       "      <td>chr1:1747196_T/C</td>\n",
       "      <td>Baseline</td>\n",
       "      <td>Male</td>\n",
       "      <td>MS2083</td>\n",
       "      <td>2:2</td>\n",
       "      <td>3644:3596</td>\n",
       "      <td>12:14</td>\n",
       "      <td>34.000000</td>\n",
       "      <td>1.182210</td>\n",
       "      <td>CHIP</td>\n",
       "    </tr>\n",
       "    <tr>\n",
       "      <th>1</th>\n",
       "      <td>4010289633</td>\n",
       "      <td>7281</td>\n",
       "      <td>26</td>\n",
       "      <td>0.003600</td>\n",
       "      <td>0.003300</td>\n",
       "      <td>MODERATE</td>\n",
       "      <td>GNB1</td>\n",
       "      <td>chr1:1747196_T/C</td>\n",
       "      <td>Baseline</td>\n",
       "      <td>Male</td>\n",
       "      <td>MS2083</td>\n",
       "      <td>2:2</td>\n",
       "      <td>3644:3596</td>\n",
       "      <td>12:14</td>\n",
       "      <td>34.000000</td>\n",
       "      <td>1.182210</td>\n",
       "      <td>CHIP</td>\n",
       "    </tr>\n",
       "    <tr>\n",
       "      <th>2</th>\n",
       "      <td>4010289633</td>\n",
       "      <td>7281</td>\n",
       "      <td>26</td>\n",
       "      <td>0.003600</td>\n",
       "      <td>0.003300</td>\n",
       "      <td>MODERATE</td>\n",
       "      <td>GNB1</td>\n",
       "      <td>chr1:1747196_T/C</td>\n",
       "      <td>Baseline</td>\n",
       "      <td>Male</td>\n",
       "      <td>MS2083</td>\n",
       "      <td>2:2</td>\n",
       "      <td>3644:3596</td>\n",
       "      <td>12:14</td>\n",
       "      <td>34.000000</td>\n",
       "      <td>1.182210</td>\n",
       "      <td>CHIP</td>\n",
       "    </tr>\n",
       "    <tr>\n",
       "      <th>3</th>\n",
       "      <td>4010289633</td>\n",
       "      <td>7281</td>\n",
       "      <td>26</td>\n",
       "      <td>0.003600</td>\n",
       "      <td>0.003300</td>\n",
       "      <td>MODERATE</td>\n",
       "      <td>GNB1</td>\n",
       "      <td>chr1:1747196_T/C</td>\n",
       "      <td>Baseline</td>\n",
       "      <td>Male</td>\n",
       "      <td>MS2083</td>\n",
       "      <td>2:2</td>\n",
       "      <td>3644:3596</td>\n",
       "      <td>12:14</td>\n",
       "      <td>34.000000</td>\n",
       "      <td>1.182210</td>\n",
       "      <td>CHIP</td>\n",
       "    </tr>\n",
       "    <tr>\n",
       "      <th>4</th>\n",
       "      <td>4010289633</td>\n",
       "      <td>7282</td>\n",
       "      <td>29</td>\n",
       "      <td>0.004000</td>\n",
       "      <td>0.003600</td>\n",
       "      <td>MODERATE</td>\n",
       "      <td>GNB1</td>\n",
       "      <td>chr1:1747250_T/C</td>\n",
       "      <td>Baseline</td>\n",
       "      <td>Male</td>\n",
       "      <td>MS2083</td>\n",
       "      <td>2:2</td>\n",
       "      <td>3639:3606</td>\n",
       "      <td>15:14</td>\n",
       "      <td>32.700000</td>\n",
       "      <td>1.061729</td>\n",
       "      <td>CHIP</td>\n",
       "    </tr>\n",
       "    <tr>\n",
       "      <th>...</th>\n",
       "      <td>...</td>\n",
       "      <td>...</td>\n",
       "      <td>...</td>\n",
       "      <td>...</td>\n",
       "      <td>...</td>\n",
       "      <td>...</td>\n",
       "      <td>...</td>\n",
       "      <td>...</td>\n",
       "      <td>...</td>\n",
       "      <td>...</td>\n",
       "      <td>...</td>\n",
       "      <td>...</td>\n",
       "      <td>...</td>\n",
       "      <td>...</td>\n",
       "      <td>...</td>\n",
       "      <td>...</td>\n",
       "      <td>...</td>\n",
       "    </tr>\n",
       "    <tr>\n",
       "      <th>1137944</th>\n",
       "      <td>4010290016</td>\n",
       "      <td>731</td>\n",
       "      <td>2</td>\n",
       "      <td>0.002700</td>\n",
       "      <td>0.002800</td>\n",
       "      <td>MODERATE</td>\n",
       "      <td>ZFY</td>\n",
       "      <td>chrY:2848011_C/T</td>\n",
       "      <td>Blank</td>\n",
       "      <td>Blank</td>\n",
       "      <td>NaN</td>\n",
       "      <td>2:2</td>\n",
       "      <td>371:357</td>\n",
       "      <td>1:1</td>\n",
       "      <td>31.000000</td>\n",
       "      <td>1.039170</td>\n",
       "      <td>NaN</td>\n",
       "    </tr>\n",
       "    <tr>\n",
       "      <th>1137945</th>\n",
       "      <td>4010290016</td>\n",
       "      <td>731</td>\n",
       "      <td>2</td>\n",
       "      <td>0.002700</td>\n",
       "      <td>0.002800</td>\n",
       "      <td>MODERATE</td>\n",
       "      <td>ZFY</td>\n",
       "      <td>chrY:2848029_C/T</td>\n",
       "      <td>Blank</td>\n",
       "      <td>Blank</td>\n",
       "      <td>NaN</td>\n",
       "      <td>2:2</td>\n",
       "      <td>367:359</td>\n",
       "      <td>1:1</td>\n",
       "      <td>37.000000</td>\n",
       "      <td>1.022260</td>\n",
       "      <td>NaN</td>\n",
       "    </tr>\n",
       "    <tr>\n",
       "      <th>1137946</th>\n",
       "      <td>4010290016</td>\n",
       "      <td>731</td>\n",
       "      <td>2</td>\n",
       "      <td>0.002700</td>\n",
       "      <td>0.002800</td>\n",
       "      <td>MODERATE</td>\n",
       "      <td>ZFY</td>\n",
       "      <td>chrY:2848029_C/T</td>\n",
       "      <td>Blank</td>\n",
       "      <td>Blank</td>\n",
       "      <td>NaN</td>\n",
       "      <td>2:2</td>\n",
       "      <td>367:359</td>\n",
       "      <td>1:1</td>\n",
       "      <td>37.000000</td>\n",
       "      <td>1.022260</td>\n",
       "      <td>NaN</td>\n",
       "    </tr>\n",
       "    <tr>\n",
       "      <th>1137947</th>\n",
       "      <td>4010290016</td>\n",
       "      <td>731</td>\n",
       "      <td>2</td>\n",
       "      <td>0.002700</td>\n",
       "      <td>0.002800</td>\n",
       "      <td>MODERATE</td>\n",
       "      <td>ZFY</td>\n",
       "      <td>chrY:2848029_C/T</td>\n",
       "      <td>Blank</td>\n",
       "      <td>Blank</td>\n",
       "      <td>NaN</td>\n",
       "      <td>2:2</td>\n",
       "      <td>367:359</td>\n",
       "      <td>1:1</td>\n",
       "      <td>37.000000</td>\n",
       "      <td>1.022260</td>\n",
       "      <td>NaN</td>\n",
       "    </tr>\n",
       "    <tr>\n",
       "      <th>1137948</th>\n",
       "      <td>4010290016</td>\n",
       "      <td>731</td>\n",
       "      <td>2</td>\n",
       "      <td>0.002700</td>\n",
       "      <td>0.002800</td>\n",
       "      <td>MODERATE</td>\n",
       "      <td>ZFY</td>\n",
       "      <td>chrY:2848029_C/T</td>\n",
       "      <td>Blank</td>\n",
       "      <td>Blank</td>\n",
       "      <td>NaN</td>\n",
       "      <td>2:2</td>\n",
       "      <td>367:359</td>\n",
       "      <td>1:1</td>\n",
       "      <td>37.000000</td>\n",
       "      <td>1.022260</td>\n",
       "      <td>NaN</td>\n",
       "    </tr>\n",
       "  </tbody>\n",
       "</table>\n",
       "<p>1137949 rows × 17 columns</p>\n",
       "</div>"
      ],
      "text/plain": [
       "          d.barcode    DP  VD       AF     HIAF    IMPACT SYMBOL  \\\n",
       "0        4010289633  7281  26 0.003600 0.003300  MODERATE   GNB1   \n",
       "1        4010289633  7281  26 0.003600 0.003300  MODERATE   GNB1   \n",
       "2        4010289633  7281  26 0.003600 0.003300  MODERATE   GNB1   \n",
       "3        4010289633  7281  26 0.003600 0.003300  MODERATE   GNB1   \n",
       "4        4010289633  7282  29 0.004000 0.003600  MODERATE   GNB1   \n",
       "...             ...   ...  ..      ...      ...       ...    ...   \n",
       "1137944  4010290016   731   2 0.002700 0.002800  MODERATE    ZFY   \n",
       "1137945  4010290016   731   2 0.002700 0.002800  MODERATE    ZFY   \n",
       "1137946  4010290016   731   2 0.002700 0.002800  MODERATE    ZFY   \n",
       "1137947  4010290016   731   2 0.002700 0.002800  MODERATE    ZFY   \n",
       "1137948  4010290016   731   2 0.002700 0.002800  MODERATE    ZFY   \n",
       "\n",
       "                     loci sampleTimePt gender    MSID BIAS    REFBIAS VARBIAS  \\\n",
       "0        chr1:1747196_T/C     Baseline   Male  MS2083  2:2  3644:3596   12:14   \n",
       "1        chr1:1747196_T/C     Baseline   Male  MS2083  2:2  3644:3596   12:14   \n",
       "2        chr1:1747196_T/C     Baseline   Male  MS2083  2:2  3644:3596   12:14   \n",
       "3        chr1:1747196_T/C     Baseline   Male  MS2083  2:2  3644:3596   12:14   \n",
       "4        chr1:1747250_T/C     Baseline   Male  MS2083  2:2  3639:3606   15:14   \n",
       "...                   ...          ...    ...     ...  ...        ...     ...   \n",
       "1137944  chrY:2848011_C/T        Blank  Blank     NaN  2:2    371:357     1:1   \n",
       "1137945  chrY:2848029_C/T        Blank  Blank     NaN  2:2    367:359     1:1   \n",
       "1137946  chrY:2848029_C/T        Blank  Blank     NaN  2:2    367:359     1:1   \n",
       "1137947  chrY:2848029_C/T        Blank  Blank     NaN  2:2    367:359     1:1   \n",
       "1137948  chrY:2848029_C/T        Blank  Blank     NaN  2:2    367:359     1:1   \n",
       "\n",
       "             QUAL  ODDRATIO chipOrControl  \n",
       "0       34.000000  1.182210          CHIP  \n",
       "1       34.000000  1.182210          CHIP  \n",
       "2       34.000000  1.182210          CHIP  \n",
       "3       34.000000  1.182210          CHIP  \n",
       "4       32.700000  1.061729          CHIP  \n",
       "...           ...       ...           ...  \n",
       "1137944 31.000000  1.039170           NaN  \n",
       "1137945 37.000000  1.022260           NaN  \n",
       "1137946 37.000000  1.022260           NaN  \n",
       "1137947 37.000000  1.022260           NaN  \n",
       "1137948 37.000000  1.022260           NaN  \n",
       "\n",
       "[1137949 rows x 17 columns]"
      ]
     },
     "execution_count": 20,
     "metadata": {},
     "output_type": "execute_result"
    }
   ],
   "source": [
    "df = pd.read_csv(\"../data/chipVariantCalling_run1.tsv\", sep='\\t')\n",
    "df2 = pd.read_csv(\"../data/chipVariantCalling_run2.tsv\", sep='\\t')\n",
    "\n",
    "\n",
    "pd.set_option('display.max_columns', None)\n",
    "pd.set_option('float_format', '{:f}'.format)\n",
    "\n",
    "df"
   ]
  },
  {
   "cell_type": "code",
   "execution_count": 5,
   "metadata": {},
   "outputs": [],
   "source": [
    "dataset1 = df.copy(deep=True)\n",
    "dataset2 = df2.copy(deep=True)"
   ]
  },
  {
   "cell_type": "markdown",
   "metadata": {},
   "source": [
    "# 3. Data Preprocessing\n",
    "Although not the main purpose of the notebook, data must be preprocessed before it can run through models, such that outliers \n",
    "Most notably, data preprocessing methods have mostly been modulated into a python file `preprocessing.py` for cleaner code. \n",
    "\n",
    "To summarise:\n",
    "- `preprocessing.remove_redundant()`\n",
    "    - Removes all duplicate rows and remove invalid classifications of `chipOrControl`; these include `blank`, `unknown` and  `NaN`\n",
    "- `preprocessing.convert_ratios()`\n",
    "    - Converts columns containing a strings of `a:b` to a float by simple division, a/b. If the function attempts to divide by zero, return is also zero\n",
    "\n",
    "`preprocessing.remove_redundant()` must be called upon the datasets, as there exists hundreds of thousands of duplicate data which must be parsed. \n",
    "\n",
    "`preprocessing.py` documentation can be found here: https://git.infotech.monash.edu/ads2001-s1-2021/ads2001-chip-1/blob/master/CHIP%20Project/preprocessing.py"
   ]
  },
  {
   "cell_type": "code",
   "execution_count": 21,
   "metadata": {},
   "outputs": [
    {
     "name": "stdout",
     "output_type": "stream",
     "text": [
      "Before removing duplicate rows and invalid labels: \n",
      "Rows =  1137949\n"
     ]
    }
   ],
   "source": [
    "print(\"Before removing duplicate rows and invalid labels: \")\n",
    "print(\"Rows = \", df.shape[0])"
   ]
  },
  {
   "cell_type": "code",
   "execution_count": 22,
   "metadata": {
    "scrolled": true
   },
   "outputs": [],
   "source": [
    "df = preprocessing.remove_redundant(df)\n",
    "df2 = preprocessing.remove_redundant(df2)"
   ]
  },
  {
   "cell_type": "code",
   "execution_count": 23,
   "metadata": {},
   "outputs": [
    {
     "name": "stdout",
     "output_type": "stream",
     "text": [
      "After removing duplicate rows and invalid labels: \n",
      "Rows =  121936\n"
     ]
    }
   ],
   "source": [
    "print(\"After removing duplicate rows and invalid labels: \")\n",
    "print(\"Rows = \", df.shape[0])"
   ]
  },
  {
   "cell_type": "markdown",
   "metadata": {},
   "source": [
    "Next, given that columns `REFBIAS` and `VARBIAS` are string values, convert to float with `preprocessing.convert_ratios()`"
   ]
  },
  {
   "cell_type": "code",
   "execution_count": 24,
   "metadata": {},
   "outputs": [],
   "source": [
    "df = preprocessing.convert_ratios(df, [\"REFBIAS\", \"VARBIAS\"])\n",
    "df2 = preprocessing.convert_ratios(df2, [\"REFBIAS\", \"VARBIAS\"])"
   ]
  },
  {
   "cell_type": "markdown",
   "metadata": {},
   "source": [
    "Now that data is in the correct format, examine the variables itself via a correlation matrix to visualise if any variables are highly correlated against each other"
   ]
  },
  {
   "cell_type": "code",
   "execution_count": 25,
   "metadata": {
    "scrolled": false
   },
   "outputs": [
    {
     "data": {
      "image/png": "[encoded data removed]",
      "text/plain": [
       "<Figure size 720x576 with 2 Axes>"
      ]
     },
     "metadata": {
      "needs_background": "light"
     },
     "output_type": "display_data"
    }
   ],
   "source": [
    "corrs = df.corr() # calculate the correlation table\n",
    "# as this is a symmetric table, set up a mask so that we only plot values below the main diagonal\n",
    "mask = np.triu(np.ones_like(corrs, dtype=np.bool)) \n",
    "f, ax = plt.subplots(figsize=(10, 8)) # initialise the plots and axes\n",
    "# plot the correlations as a seaborn heatmap, with a colourbar\n",
    "sns.heatmap(corrs, mask=mask, center=0, annot=True, square=True, linewidths=.5) \n",
    "# do some fiddling so that the top and bottom are not obscured\n",
    "bottom, top = ax.get_ylim() \n",
    "ax.set_ylim(bottom + 0.5, top - 0.5);"
   ]
  },
  {
   "cell_type": "markdown",
   "metadata": {},
   "source": [
    "We can see that `AF` and `HIAF` have exact correlations; `ODDRATIO` and `VARBIAS` contains a very high correlation too. \n",
    "\n",
    "However, if we examine `ODDRATIO` itself, an intersting fact arises where DNA sequencing reliability is called into question"
   ]
  },
  {
   "cell_type": "code",
   "execution_count": 49,
   "metadata": {},
   "outputs": [
    {
     "name": "stdout",
     "output_type": "stream",
     "text": [
      "Frequency of unique strings in BIAS\n"
     ]
    },
    {
     "data": {
      "text/plain": [
       "1:0    40451\n",
       "1:1     7625\n",
       "2:0     2885\n",
       "0:2     2007\n",
       "1:2     1556\n",
       "0:0       50\n",
       "Name: BIAS, dtype: int64"
      ]
     },
     "execution_count": 49,
     "metadata": {},
     "output_type": "execute_result"
    }
   ],
   "source": [
    "zero_OR = dataset1[dataset1['ODDRATIO'] == 0]\n",
    "print(\"Frequency of unique strings in BIAS, where ODDRATIO = 0\")\n",
    "zero_OR.BIAS.value_counts()"
   ]
  },
  {
   "cell_type": "code",
   "execution_count": 50,
   "metadata": {},
   "outputs": [
    {
     "name": "stdout",
     "output_type": "stream",
     "text": [
      "Frequency of unique strings in BIAS in original dataset\n"
     ]
    },
    {
     "data": {
      "text/plain": [
       "2:2    1079156\n",
       "1:0      40451\n",
       "1:1       7707\n",
       "1:2       5691\n",
       "2:0       2885\n",
       "0:2       2007\n",
       "0:0         50\n",
       "2:1          2\n",
       "Name: BIAS, dtype: int64"
      ]
     },
     "execution_count": 50,
     "metadata": {},
     "output_type": "execute_result"
    }
   ],
   "source": [
    "print(\"Frequency of unique strings in BIAS in original dataset\")\n",
    "dataset1.BIAS.value_counts()"
   ]
  },
  {
   "cell_type": "markdown",
   "metadata": {},
   "source": [
    "A wide discrepancy between the frequency of values between a dataset containing `ODDRATIO` = 0, and the original is depicted.\n",
    "\n",
    "The value of `BIAS` determines whether there’s strand bias between the DNA variant read and sequenced data. It consists two numbers. First number is for reference allele. 2nd number is for alternative allele. \n",
    "\n",
    "The numbers range from 0-2. \n",
    "- 0 means not enough to determine bias. \n",
    "- 1 means only one orientation observed. \n",
    "- 2 means both orientations observed. \n",
    "\n",
    "2:1 would indicate strand bias, but not 1:1. Hence, a distinct correlation between `ODDRATIO` and `BIAS` exists; thus the following datasets have all values of `ODDRATIO = 0` removed, as well as only including instances where `BIAS` = 1:1 or 2:2\n",
    "\n",
    "A higher level description of variables may be found here: https://github.com/AstraZeneca-NGS/VarDict/wiki/VarDict-Raw-Output "
   ]
  },
  {
   "cell_type": "code",
   "execution_count": 28,
   "metadata": {},
   "outputs": [],
   "source": [
    "df = df[df[\"BIAS\"].str.contains(\"2:2\")]\n",
    "df = df[df['ODDRATIO'] > 0]\n",
    "\n",
    "df2 = df2[df2[\"BIAS\"].str.contains(\"2:2\")]\n",
    "df2 = df2[df2['ODDRATIO'] > 0]"
   ]
  },
  {
   "cell_type": "code",
   "execution_count": 29,
   "metadata": {
    "scrolled": false
   },
   "outputs": [
    {
     "data": {
      "image/png": "[encoded data removed]",
      "text/plain": [
       "<Figure size 720x576 with 2 Axes>"
      ]
     },
     "metadata": {
      "needs_background": "light"
     },
     "output_type": "display_data"
    }
   ],
   "source": [
    "corrs = df.corr() # calculate the correlation table\n",
    "# as this is a symmetric table, set up a mask so that we only plot values below the main diagonal\n",
    "mask = np.triu(np.ones_like(corrs, dtype=np.bool)) \n",
    "f, ax = plt.subplots(figsize=(10, 8)) # initialise the plots and axes\n",
    "# plot the correlations as a seaborn heatmap, with a colourbar\n",
    "sns.heatmap(corrs, mask=mask, center=0, annot=True, square=True, linewidths=.5) \n",
    "# do some fiddling so that the top and bottom are not obscured\n",
    "bottom, top = ax.get_ylim() \n",
    "ax.set_ylim(bottom + 0.5, top - 0.5);"
   ]
  },
  {
   "cell_type": "markdown",
   "metadata": {},
   "source": [
    "When `ODDRATIO` AND `BIAS` are filtered, the confusion matrix changes it's correlation values, especially those related to `REFBIAS`.\n",
    "\n",
    "We can also drop `AF` and `BIAS`, as `HIAF` provides all high quality allele frequency reads (`AF`), while `BIAS` has already been filtered out."
   ]
  },
  {
   "cell_type": "code",
   "execution_count": 11,
   "metadata": {},
   "outputs": [],
   "source": [
    "df.drop([\"AF\", \"BIAS\"], axis = 1, inplace=True)\n",
    "df2.drop([\"AF\" , \"BIAS\"], axis = 1, inplace=True)"
   ]
  },
  {
   "cell_type": "markdown",
   "metadata": {},
   "source": [
    "In exploratory data anaysis, it was uncovered that certain `SYMBOL`s (GENE) were prevelant indiciators of `CHIP`. Hence, we one hot encode the top five genes which are associated with `CHIP`  "
   ]
  },
  {
   "cell_type": "code",
   "execution_count": 15,
   "metadata": {},
   "outputs": [],
   "source": [
    "# Collate names of genes in alphabetical order\n",
    "genes = sorted(df.SYMBOL.unique())\n",
    "genes2 = sorted(df2.SYMBOL.unique())\n",
    "\n",
    "# One hot encode via pd.get_dummies()\n",
    "df = pd.concat([df,pd.get_dummies(df['SYMBOL'], prefix='GENE')],axis=1)\n",
    "df2 = pd.concat([df2,pd.get_dummies(df2['SYMBOL'], prefix='GENE')],axis=1)\n",
    "\n",
    "# Remove other genes from dataframe\n",
    "df = df[['DP', 'VD', 'AF', 'HIAF', 'IMPACT', 'sampleTimePt', 'gender', 'MSID',\n",
    "       'REFBIAS', 'VARBIAS', 'QUAL', 'ODDRATIO', 'chipOrControl', \n",
    "         'GENE_DNMT3A', 'GENE_TET2', 'GENE_TP53', 'GENE_ASXL1', 'GENE_BCOR']]\n",
    "\n",
    "df2 = df2[['DP', 'VD', 'AF', 'HIAF', 'IMPACT', 'sampleTimePt', 'gender', 'MSID',\n",
    "       'REFBIAS', 'VARBIAS', 'QUAL', 'ODDRATIO', 'chipOrControl',\n",
    "           'GENE_DNMT3A', 'GENE_TET2', 'GENE_TP53', 'GENE_ASXL1', 'GENE_BCOR']]\n",
    "\n",
    "\n",
    "# Create separate dataframe\n",
    "encoder = df[['GENE_DNMT3A', 'GENE_TET2', 'GENE_TP53', 'GENE_ASXL1', 'GENE_BCOR']]\n",
    "encoder2 = df2[['GENE_DNMT3A', 'GENE_TET2', 'GENE_TP53', 'GENE_ASXL1', 'GENE_BCOR']]\n",
    "\n",
    "# Sum of one hot encode. Value = 1 if exists, 0 otherwise\n",
    "p = encoder[list(encoder)].sum(axis=1).array\n",
    "p2 = encoder2[list(encoder2)].sum(axis=1).array\n",
    "\n",
    "# Flip values due to binary logic of code above \n",
    "for i in range(len(p)):\n",
    "    if p[i] == 0:\n",
    "        p[i] = 1\n",
    "    else:\n",
    "        p[i] = 0\n",
    "\n",
    "for i in range(len(p2)):\n",
    "    if p2[i] == 0:\n",
    "        p2[i] = 1\n",
    "    else:\n",
    "        p2[i] = 0\n",
    "        \n",
    "# Add to df. 'other' is a column given that a sequencing read does not pertain to the top 5 most frequent genes. \n",
    "df[\"other\"] = p\n",
    "df2[\"other\"] = p2"
   ]
  },
  {
   "cell_type": "markdown",
   "metadata": {},
   "source": [
    "Finally, change catagorical variables into binary varaibles under one hot encoding"
   ]
  },
  {
   "cell_type": "code",
   "execution_count": 17,
   "metadata": {},
   "outputs": [],
   "source": [
    "categorical = ['IMPACT', 'sampleTimePt', 'gender', 'chipOrControl']\n",
    "for i in categorical:\n",
    "    df[i] = df[i].astype('category').cat.codes\n",
    "    df2[i] = df2[i].astype('category').cat.codes"
   ]
  },
  {
   "cell_type": "markdown",
   "metadata": {},
   "source": [
    "# 4. Modelling and Classification \n",
    "\n",
    "Moving on to modelling, we split the training and testing datasets on a 80/20 split respectively.\n",
    "\n",
    "## Note to reader\n",
    "Finding the correct hyper parameters are under Nick Phan's individual report. The purpose of this notebook is to collate a baseline for model accuracies, then comparing those scores after collating misclassifications of labels.\n",
    "\n",
    "Most models are under a default. If highly specific inputs are given, then they are **the** best parameters for the model. \n",
    "Notably, KNN and AdaBoost have gone under SKLearn's `GridSearchCV` to find the correct parameters, and are simply inputted into the models below."
   ]
  },
  {
   "cell_type": "code",
   "execution_count": 345,
   "metadata": {},
   "outputs": [],
   "source": [
    "X = df.drop(['MSID', 'chipOrControl'], axis = 1) \n",
    "y = df['chipOrControl'] \n",
    "X_train, X_test, y_train, y_test = train_test_split(X, y, train_size=.8, random_state=0)\n",
    "\n",
    "X2 = df2.drop(['MSID', 'chipOrControl'], axis = 1) \n",
    "y2 = df2['chipOrControl'] \n",
    "X_train2, X_test2, y_train2, y_test2 = train_test_split(X2, y2, train_size=.8, random_state=2)"
   ]
  },
  {
   "cell_type": "code",
   "execution_count": 684,
   "metadata": {},
   "outputs": [],
   "source": [
    "# Append accuracy results into this dataframe\n",
    "results = pd.DataFrame()"
   ]
  },
  {
   "cell_type": "markdown",
   "metadata": {},
   "source": [
    "### K-Nearest Neighbours"
   ]
  },
  {
   "cell_type": "code",
   "execution_count": 280,
   "metadata": {},
   "outputs": [
    {
     "name": "stdout",
     "output_type": "stream",
     "text": [
      "Accuracy 0.815\n"
     ]
    }
   ],
   "source": [
    "knn = KNeighborsClassifier(n_neighbors = 3, weights='distance', metric = 'manhattan', algorithm = 'kd_tree')\n",
    "knn.fit(X_train, y_train)\n",
    "y_predknn = knn.predict(X_test)\n",
    "print('Accuracy {0}'.format(np.round(accuracy_score(y_test, y_predknn),3)))"
   ]
  },
  {
   "cell_type": "code",
   "execution_count": 346,
   "metadata": {
    "scrolled": false
   },
   "outputs": [
    {
     "name": "stdout",
     "output_type": "stream",
     "text": [
      "Accuracy 0.63\n"
     ]
    }
   ],
   "source": [
    "knn = KNeighborsClassifier(n_neighbors = 10, weights='distance', metric = 'manhattan', algorithm = 'kd_tree')\n",
    "knn.fit(X_train2, y_train2)\n",
    "y_predknn2 = knn.predict(X_test2)\n",
    "print('Accuracy {0}'.format(np.round(accuracy_score(y_test2, y_predknn2),3)))"
   ]
  },
  {
   "cell_type": "markdown",
   "metadata": {},
   "source": [
    "### Random Forests"
   ]
  },
  {
   "cell_type": "code",
   "execution_count": 715,
   "metadata": {},
   "outputs": [
    {
     "name": "stdout",
     "output_type": "stream",
     "text": [
      "Accuracy 0.723\n"
     ]
    }
   ],
   "source": [
    "rfc = RandomForestClassifier(n_estimators = 100)\n",
    "rfc.fit(X_train, y_train)\n",
    "y_predrfc = rfc.predict(X_test)  \n",
    "print('Accuracy {0}'.format(np.round(accuracy_score(y_test, y_predrfc),3)))"
   ]
  },
  {
   "cell_type": "code",
   "execution_count": 347,
   "metadata": {},
   "outputs": [
    {
     "name": "stdout",
     "output_type": "stream",
     "text": [
      "Accuracy 0.625\n"
     ]
    }
   ],
   "source": [
    "rfc = RandomForestClassifier(n_estimators = 100)\n",
    "rfc2.fit(X_train2, y_train2)\n",
    "y_predrfc2 = rfc.predict(X_test2)  \n",
    "print('Accuracy {0}'.format(np.round(accuracy_score(y_test2, y_predrfc2),3)))"
   ]
  },
  {
   "cell_type": "markdown",
   "metadata": {},
   "source": [
    "### AdaBoost"
   ]
  },
  {
   "cell_type": "code",
   "execution_count": 662,
   "metadata": {},
   "outputs": [
    {
     "name": "stdout",
     "output_type": "stream",
     "text": [
      "Accuracy 0.807\n"
     ]
    }
   ],
   "source": [
    "ada = AdaBoostClassifier(DecisionTreeClassifier(), n_estimators=50, learning_rate = 0.5, algorithm= 'SAMME')\n",
    "ada.fit(X_train, y_train)\n",
    "y_predada = ada.predict(X_test)\n",
    "print('Accuracy {0}'.format(np.round(accuracy_score(y_test, y_predada),3)))"
   ]
  },
  {
   "cell_type": "code",
   "execution_count": 348,
   "metadata": {},
   "outputs": [
    {
     "name": "stdout",
     "output_type": "stream",
     "text": [
      "Accuracy 0.689\n"
     ]
    }
   ],
   "source": [
    "ada = AdaBoostClassifier(DecisionTreeClassifier(), n_estimators=50, learning_rate = 0.5, algorithm= 'SAMME')\n",
    "ada.fit(X_train2, y_train2)\n",
    "y_predada2 = ada.predict(X_test2)\n",
    "print('Accuracy {0}'.format(np.round(accuracy_score(y_test2, y_predada2),3)))"
   ]
  },
  {
   "cell_type": "markdown",
   "metadata": {},
   "source": [
    "### Decision Trees"
   ]
  },
  {
   "cell_type": "code",
   "execution_count": 982,
   "metadata": {},
   "outputs": [
    {
     "name": "stdout",
     "output_type": "stream",
     "text": [
      "Accuracy 0.788\n"
     ]
    }
   ],
   "source": [
    "dt = DecisionTreeClassifier()\n",
    "dt.fit(X_train, y_train)\n",
    "y_preddct = dt.predict(X_test)  \n",
    "print('Accuracy {0}'.format(np.round(accuracy_score(y_test, y_preddct),3)))"
   ]
  },
  {
   "cell_type": "code",
   "execution_count": 349,
   "metadata": {},
   "outputs": [
    {
     "name": "stdout",
     "output_type": "stream",
     "text": [
      "Accuracy 0.661\n"
     ]
    }
   ],
   "source": [
    "dt = DecisionTreeClassifier()\n",
    "dt.fit(X_train2, y_train2)\n",
    "y_preddct2 = dt.predict(X_test2)  \n",
    "print('Accuracy {0}'.format(np.round(accuracy_score(y_test2, y_preddct2),3)))"
   ]
  },
  {
   "cell_type": "markdown",
   "metadata": {},
   "source": [
    "### Logistic Regression"
   ]
  },
  {
   "cell_type": "code",
   "execution_count": 710,
   "metadata": {},
   "outputs": [
    {
     "name": "stdout",
     "output_type": "stream",
     "text": [
      "Accuracy 0.547\n"
     ]
    }
   ],
   "source": [
    "logreg = LogisticRegression(multi_class='ovr')\n",
    "logreg.fit(X_train, y_train)\n",
    "y_predlogreg = logreg.predict(X_test)  \n",
    "print('Accuracy {0}'.format(np.round(accuracy_score(y_test, y_predlogreg),3)))"
   ]
  },
  {
   "cell_type": "code",
   "execution_count": 712,
   "metadata": {},
   "outputs": [
    {
     "name": "stdout",
     "output_type": "stream",
     "text": [
      "Accuracy 0.521\n"
     ]
    }
   ],
   "source": [
    "logreg = LogisticRegression(multi_class='ovr')\n",
    "logreg.fit(X_train2, y_train2)\n",
    "y_predlogreg2 = logreg.predict(X_test2)  \n",
    "print('Accuracy {0}'.format(np.round(accuracy_score(y_test2, y_predlogreg2),3)))"
   ]
  },
  {
   "cell_type": "markdown",
   "metadata": {},
   "source": [
    "### Gaussian Naive Bayes"
   ]
  },
  {
   "cell_type": "code",
   "execution_count": 535,
   "metadata": {},
   "outputs": [
    {
     "name": "stdout",
     "output_type": "stream",
     "text": [
      "Accuracy 0.527\n"
     ]
    }
   ],
   "source": [
    "gnb = GaussianNB()\n",
    "gnb.fit(X_train, y_train)\n",
    "y_predgnb = gnb.predict(X_test)\n",
    "print('Accuracy {0}'.format(np.round(accuracy_score(y_test, y_predgnb),3)))"
   ]
  },
  {
   "cell_type": "code",
   "execution_count": 539,
   "metadata": {},
   "outputs": [
    {
     "name": "stdout",
     "output_type": "stream",
     "text": [
      "Accuracy 0.488\n"
     ]
    }
   ],
   "source": [
    "gnb2 = GaussianNB()\n",
    "gnb2.fit(X_train2, y_train2)\n",
    "y_predgnb2 = gnb2.predict(X_test2)\n",
    "print('Accuracy {0}'.format(np.round(accuracy_score(y_test2, y_predgnb2),3)))"
   ]
  },
  {
   "cell_type": "markdown",
   "metadata": {},
   "source": [
    "### XG Boost"
   ]
  },
  {
   "cell_type": "code",
   "execution_count": 737,
   "metadata": {},
   "outputs": [
    {
     "name": "stdout",
     "output_type": "stream",
     "text": [
      "Accuracy 0.756\n"
     ]
    }
   ],
   "source": [
    "xg = XGBClassifier(objective='binary:logistic', n_estimators=1000,seed=1, eval_metric='logloss', n_jobs = -1)\n",
    "xg.fit(X_train,y_train)\n",
    "y_predxgb=xg.predict(X_test)\n",
    "print('Accuracy {0}'.format(np.round(accuracy_score(y_test, y_predxgb),3)))"
   ]
  },
  {
   "cell_type": "code",
   "execution_count": 739,
   "metadata": {},
   "outputs": [
    {
     "name": "stdout",
     "output_type": "stream",
     "text": [
      "Accuracy 0.632\n"
     ]
    }
   ],
   "source": [
    "xg2 = XGBClassifier(objective='binary:logistic', n_estimators=1000,seed=1, eval_metric='logloss', n_jobs = -1)\n",
    "xg2.fit(X_train2,y_train2)\n",
    "y_predxgb2 = xg2.predict(X_test2)\n",
    "print('Accuracy {0}'.format(np.round(accuracy_score(y_test2, y_predxgb2),3)))"
   ]
  },
  {
   "cell_type": "markdown",
   "metadata": {},
   "source": [
    "### Light Gradient Boosted Machines"
   ]
  },
  {
   "cell_type": "code",
   "execution_count": 770,
   "metadata": {},
   "outputs": [
    {
     "name": "stdout",
     "output_type": "stream",
     "text": [
      "Training until validation scores don't improve for 50 rounds\n",
      "[3]\tvalid_0's binary_logloss: 0.682506\n",
      "[6]\tvalid_0's binary_logloss: 0.678527\n",
      "[9]\tvalid_0's binary_logloss: 0.675436\n",
      "[12]\tvalid_0's binary_logloss: 0.672802\n",
      "[15]\tvalid_0's binary_logloss: 0.670844\n",
      "[18]\tvalid_0's binary_logloss: 0.66862\n",
      "[21]\tvalid_0's binary_logloss: 0.667467\n",
      "[24]\tvalid_0's binary_logloss: 0.666429\n",
      "[27]\tvalid_0's binary_logloss: 0.664957\n",
      "[30]\tvalid_0's binary_logloss: 0.663839\n",
      "[33]\tvalid_0's binary_logloss: 0.663006\n",
      "[36]\tvalid_0's binary_logloss: 0.661699\n",
      "[39]\tvalid_0's binary_logloss: 0.660682\n",
      "[42]\tvalid_0's binary_logloss: 0.65978\n",
      "[45]\tvalid_0's binary_logloss: 0.659187\n",
      "[48]\tvalid_0's binary_logloss: 0.658621\n",
      "[51]\tvalid_0's binary_logloss: 0.657865\n",
      "[54]\tvalid_0's binary_logloss: 0.657126\n",
      "[57]\tvalid_0's binary_logloss: 0.65652\n",
      "[60]\tvalid_0's binary_logloss: 0.656317\n",
      "[63]\tvalid_0's binary_logloss: 0.65555\n",
      "[66]\tvalid_0's binary_logloss: 0.654712\n",
      "[69]\tvalid_0's binary_logloss: 0.653749\n",
      "[72]\tvalid_0's binary_logloss: 0.653411\n",
      "[75]\tvalid_0's binary_logloss: 0.652866\n",
      "[78]\tvalid_0's binary_logloss: 0.652475\n",
      "[81]\tvalid_0's binary_logloss: 0.652212\n",
      "[84]\tvalid_0's binary_logloss: 0.651963\n",
      "[87]\tvalid_0's binary_logloss: 0.65159\n",
      "[90]\tvalid_0's binary_logloss: 0.650783\n",
      "[93]\tvalid_0's binary_logloss: 0.650612\n",
      "[96]\tvalid_0's binary_logloss: 0.650026\n",
      "[99]\tvalid_0's binary_logloss: 0.649852\n",
      "[102]\tvalid_0's binary_logloss: 0.649622\n",
      "[105]\tvalid_0's binary_logloss: 0.649437\n",
      "[108]\tvalid_0's binary_logloss: 0.649154\n",
      "[111]\tvalid_0's binary_logloss: 0.648731\n",
      "[114]\tvalid_0's binary_logloss: 0.647926\n",
      "[117]\tvalid_0's binary_logloss: 0.647833\n",
      "[120]\tvalid_0's binary_logloss: 0.647772\n",
      "[123]\tvalid_0's binary_logloss: 0.647638\n",
      "[126]\tvalid_0's binary_logloss: 0.647153\n",
      "[129]\tvalid_0's binary_logloss: 0.646324\n",
      "[132]\tvalid_0's binary_logloss: 0.64535\n",
      "[135]\tvalid_0's binary_logloss: 0.645229\n",
      "[138]\tvalid_0's binary_logloss: 0.645052\n",
      "[141]\tvalid_0's binary_logloss: 0.64441\n",
      "[144]\tvalid_0's binary_logloss: 0.643783\n",
      "[147]\tvalid_0's binary_logloss: 0.643445\n",
      "[150]\tvalid_0's binary_logloss: 0.643339\n",
      "[153]\tvalid_0's binary_logloss: 0.64303\n",
      "[156]\tvalid_0's binary_logloss: 0.643079\n",
      "[159]\tvalid_0's binary_logloss: 0.642596\n",
      "[162]\tvalid_0's binary_logloss: 0.642089\n",
      "[165]\tvalid_0's binary_logloss: 0.641529\n",
      "[168]\tvalid_0's binary_logloss: 0.641168\n",
      "[171]\tvalid_0's binary_logloss: 0.640196\n",
      "[174]\tvalid_0's binary_logloss: 0.639745\n",
      "[177]\tvalid_0's binary_logloss: 0.639113\n",
      "[180]\tvalid_0's binary_logloss: 0.638155\n",
      "[183]\tvalid_0's binary_logloss: 0.637632\n",
      "[186]\tvalid_0's binary_logloss: 0.637291\n",
      "[189]\tvalid_0's binary_logloss: 0.636559\n",
      "[192]\tvalid_0's binary_logloss: 0.635768\n",
      "[195]\tvalid_0's binary_logloss: 0.635658\n",
      "[198]\tvalid_0's binary_logloss: 0.634963\n",
      "[201]\tvalid_0's binary_logloss: 0.633965\n",
      "[204]\tvalid_0's binary_logloss: 0.633968\n",
      "[207]\tvalid_0's binary_logloss: 0.633549\n",
      "[210]\tvalid_0's binary_logloss: 0.633574\n",
      "[213]\tvalid_0's binary_logloss: 0.63331\n",
      "[216]\tvalid_0's binary_logloss: 0.632838\n",
      "[219]\tvalid_0's binary_logloss: 0.632726\n",
      "[222]\tvalid_0's binary_logloss: 0.632684\n",
      "[225]\tvalid_0's binary_logloss: 0.632655\n",
      "[228]\tvalid_0's binary_logloss: 0.632525\n",
      "[231]\tvalid_0's binary_logloss: 0.632508\n",
      "[234]\tvalid_0's binary_logloss: 0.631944\n",
      "[237]\tvalid_0's binary_logloss: 0.631677\n",
      "[240]\tvalid_0's binary_logloss: 0.631095\n",
      "[243]\tvalid_0's binary_logloss: 0.630835\n",
      "[246]\tvalid_0's binary_logloss: 0.63056\n",
      "[249]\tvalid_0's binary_logloss: 0.630249\n",
      "[252]\tvalid_0's binary_logloss: 0.630105\n",
      "[255]\tvalid_0's binary_logloss: 0.630076\n",
      "[258]\tvalid_0's binary_logloss: 0.629782\n",
      "[261]\tvalid_0's binary_logloss: 0.629485\n",
      "[264]\tvalid_0's binary_logloss: 0.62942\n",
      "[267]\tvalid_0's binary_logloss: 0.629368\n",
      "[270]\tvalid_0's binary_logloss: 0.628948\n",
      "[273]\tvalid_0's binary_logloss: 0.628871\n",
      "[276]\tvalid_0's binary_logloss: 0.628767\n",
      "[279]\tvalid_0's binary_logloss: 0.628443\n",
      "[282]\tvalid_0's binary_logloss: 0.62822\n",
      "[285]\tvalid_0's binary_logloss: 0.627907\n",
      "[288]\tvalid_0's binary_logloss: 0.627659\n",
      "[291]\tvalid_0's binary_logloss: 0.627475\n",
      "[294]\tvalid_0's binary_logloss: 0.627249\n",
      "[297]\tvalid_0's binary_logloss: 0.626797\n",
      "[300]\tvalid_0's binary_logloss: 0.626383\n",
      "[303]\tvalid_0's binary_logloss: 0.626014\n",
      "[306]\tvalid_0's binary_logloss: 0.625866\n",
      "[309]\tvalid_0's binary_logloss: 0.62594\n",
      "[312]\tvalid_0's binary_logloss: 0.625958\n",
      "[315]\tvalid_0's binary_logloss: 0.62578\n",
      "[318]\tvalid_0's binary_logloss: 0.625703\n",
      "[321]\tvalid_0's binary_logloss: 0.625726\n",
      "[324]\tvalid_0's binary_logloss: 0.625644\n",
      "[327]\tvalid_0's binary_logloss: 0.625366\n",
      "[330]\tvalid_0's binary_logloss: 0.625416\n",
      "[333]\tvalid_0's binary_logloss: 0.62519\n",
      "[336]\tvalid_0's binary_logloss: 0.624885\n",
      "[339]\tvalid_0's binary_logloss: 0.624561\n",
      "[342]\tvalid_0's binary_logloss: 0.624042\n",
      "[345]\tvalid_0's binary_logloss: 0.623954\n",
      "[348]\tvalid_0's binary_logloss: 0.623808\n",
      "[351]\tvalid_0's binary_logloss: 0.623793\n",
      "[354]\tvalid_0's binary_logloss: 0.623631\n",
      "[357]\tvalid_0's binary_logloss: 0.623069\n",
      "[360]\tvalid_0's binary_logloss: 0.622825\n",
      "[363]\tvalid_0's binary_logloss: 0.622819\n",
      "[366]\tvalid_0's binary_logloss: 0.622797\n",
      "[369]\tvalid_0's binary_logloss: 0.622722\n",
      "[372]\tvalid_0's binary_logloss: 0.622329\n",
      "[375]\tvalid_0's binary_logloss: 0.622308\n",
      "[378]\tvalid_0's binary_logloss: 0.622169\n",
      "[381]\tvalid_0's binary_logloss: 0.621454\n",
      "[384]\tvalid_0's binary_logloss: 0.621252\n",
      "[387]\tvalid_0's binary_logloss: 0.62087\n",
      "[390]\tvalid_0's binary_logloss: 0.620953\n",
      "[393]\tvalid_0's binary_logloss: 0.621012\n",
      "[396]\tvalid_0's binary_logloss: 0.621\n",
      "[399]\tvalid_0's binary_logloss: 0.620854\n",
      "[402]\tvalid_0's binary_logloss: 0.620739\n",
      "[405]\tvalid_0's binary_logloss: 0.620662\n",
      "[408]\tvalid_0's binary_logloss: 0.620489\n",
      "[411]\tvalid_0's binary_logloss: 0.620011\n",
      "[414]\tvalid_0's binary_logloss: 0.619717\n",
      "[417]\tvalid_0's binary_logloss: 0.619734\n",
      "[420]\tvalid_0's binary_logloss: 0.619456\n",
      "[423]\tvalid_0's binary_logloss: 0.61921\n",
      "[426]\tvalid_0's binary_logloss: 0.618977\n",
      "[429]\tvalid_0's binary_logloss: 0.618868\n",
      "[432]\tvalid_0's binary_logloss: 0.618568\n",
      "[435]\tvalid_0's binary_logloss: 0.618418\n",
      "[438]\tvalid_0's binary_logloss: 0.618047\n",
      "[441]\tvalid_0's binary_logloss: 0.618008\n",
      "[444]\tvalid_0's binary_logloss: 0.617862\n",
      "[447]\tvalid_0's binary_logloss: 0.617826\n",
      "[450]\tvalid_0's binary_logloss: 0.617807\n",
      "[453]\tvalid_0's binary_logloss: 0.617726\n",
      "[456]\tvalid_0's binary_logloss: 0.61765\n",
      "[459]\tvalid_0's binary_logloss: 0.617561\n",
      "[462]\tvalid_0's binary_logloss: 0.617584\n",
      "[465]\tvalid_0's binary_logloss: 0.617404\n",
      "[468]\tvalid_0's binary_logloss: 0.617473\n",
      "[471]\tvalid_0's binary_logloss: 0.617025\n",
      "[474]\tvalid_0's binary_logloss: 0.616726\n",
      "[477]\tvalid_0's binary_logloss: 0.616218\n",
      "[480]\tvalid_0's binary_logloss: 0.615884\n",
      "[483]\tvalid_0's binary_logloss: 0.615787\n",
      "[486]\tvalid_0's binary_logloss: 0.61553\n",
      "[489]\tvalid_0's binary_logloss: 0.615394\n",
      "[492]\tvalid_0's binary_logloss: 0.615381\n",
      "[495]\tvalid_0's binary_logloss: 0.615081\n",
      "[498]\tvalid_0's binary_logloss: 0.615087\n",
      "[501]\tvalid_0's binary_logloss: 0.615041\n",
      "[504]\tvalid_0's binary_logloss: 0.614945\n",
      "[507]\tvalid_0's binary_logloss: 0.614663\n",
      "[510]\tvalid_0's binary_logloss: 0.61462\n",
      "[513]\tvalid_0's binary_logloss: 0.614357\n",
      "[516]\tvalid_0's binary_logloss: 0.614365\n",
      "[519]\tvalid_0's binary_logloss: 0.614448\n",
      "[522]\tvalid_0's binary_logloss: 0.614263\n",
      "[525]\tvalid_0's binary_logloss: 0.614059\n",
      "[528]\tvalid_0's binary_logloss: 0.613736\n",
      "[531]\tvalid_0's binary_logloss: 0.61347\n",
      "[534]\tvalid_0's binary_logloss: 0.613111\n",
      "[537]\tvalid_0's binary_logloss: 0.612831\n",
      "[540]\tvalid_0's binary_logloss: 0.612911\n",
      "[543]\tvalid_0's binary_logloss: 0.612917\n",
      "[546]\tvalid_0's binary_logloss: 0.612679\n",
      "[549]\tvalid_0's binary_logloss: 0.612714\n",
      "[552]\tvalid_0's binary_logloss: 0.612473\n",
      "[555]\tvalid_0's binary_logloss: 0.612529\n",
      "[558]\tvalid_0's binary_logloss: 0.612149\n",
      "[561]\tvalid_0's binary_logloss: 0.611801\n",
      "[564]\tvalid_0's binary_logloss: 0.611609\n",
      "[567]\tvalid_0's binary_logloss: 0.611401\n",
      "[570]\tvalid_0's binary_logloss: 0.611438\n",
      "[573]\tvalid_0's binary_logloss: 0.611323\n",
      "[576]\tvalid_0's binary_logloss: 0.611198\n",
      "[579]\tvalid_0's binary_logloss: 0.611085\n",
      "[582]\tvalid_0's binary_logloss: 0.611057\n",
      "[585]\tvalid_0's binary_logloss: 0.610973\n",
      "[588]\tvalid_0's binary_logloss: 0.61082\n",
      "[591]\tvalid_0's binary_logloss: 0.610953\n",
      "[594]\tvalid_0's binary_logloss: 0.610958\n",
      "[597]\tvalid_0's binary_logloss: 0.610813\n",
      "[600]\tvalid_0's binary_logloss: 0.610791\n"
     ]
    },
    {
     "name": "stdout",
     "output_type": "stream",
     "text": [
      "[603]\tvalid_0's binary_logloss: 0.610715\n",
      "[606]\tvalid_0's binary_logloss: 0.610541\n",
      "[609]\tvalid_0's binary_logloss: 0.610221\n",
      "[612]\tvalid_0's binary_logloss: 0.609994\n",
      "[615]\tvalid_0's binary_logloss: 0.609916\n",
      "[618]\tvalid_0's binary_logloss: 0.609844\n",
      "[621]\tvalid_0's binary_logloss: 0.609749\n",
      "[624]\tvalid_0's binary_logloss: 0.609436\n",
      "[627]\tvalid_0's binary_logloss: 0.60918\n",
      "[630]\tvalid_0's binary_logloss: 0.609063\n",
      "[633]\tvalid_0's binary_logloss: 0.609126\n",
      "[636]\tvalid_0's binary_logloss: 0.609174\n",
      "[639]\tvalid_0's binary_logloss: 0.609267\n",
      "[642]\tvalid_0's binary_logloss: 0.609352\n",
      "[645]\tvalid_0's binary_logloss: 0.609387\n",
      "[648]\tvalid_0's binary_logloss: 0.609438\n",
      "[651]\tvalid_0's binary_logloss: 0.609439\n",
      "[654]\tvalid_0's binary_logloss: 0.609416\n",
      "[657]\tvalid_0's binary_logloss: 0.609311\n",
      "[660]\tvalid_0's binary_logloss: 0.60922\n",
      "[663]\tvalid_0's binary_logloss: 0.609217\n",
      "[666]\tvalid_0's binary_logloss: 0.609296\n",
      "[669]\tvalid_0's binary_logloss: 0.608988\n",
      "[672]\tvalid_0's binary_logloss: 0.60865\n",
      "[675]\tvalid_0's binary_logloss: 0.608642\n",
      "[678]\tvalid_0's binary_logloss: 0.608377\n",
      "[681]\tvalid_0's binary_logloss: 0.6082\n",
      "[684]\tvalid_0's binary_logloss: 0.608104\n",
      "[687]\tvalid_0's binary_logloss: 0.608104\n",
      "[690]\tvalid_0's binary_logloss: 0.608009\n",
      "[693]\tvalid_0's binary_logloss: 0.607751\n",
      "[696]\tvalid_0's binary_logloss: 0.607573\n",
      "[699]\tvalid_0's binary_logloss: 0.607422\n",
      "[702]\tvalid_0's binary_logloss: 0.607238\n",
      "[705]\tvalid_0's binary_logloss: 0.607157\n",
      "[708]\tvalid_0's binary_logloss: 0.607047\n",
      "[711]\tvalid_0's binary_logloss: 0.606945\n",
      "[714]\tvalid_0's binary_logloss: 0.606644\n",
      "[717]\tvalid_0's binary_logloss: 0.606696\n",
      "[720]\tvalid_0's binary_logloss: 0.606724\n",
      "[723]\tvalid_0's binary_logloss: 0.606623\n",
      "[726]\tvalid_0's binary_logloss: 0.606595\n",
      "[729]\tvalid_0's binary_logloss: 0.606433\n",
      "[732]\tvalid_0's binary_logloss: 0.606434\n",
      "[735]\tvalid_0's binary_logloss: 0.606286\n",
      "[738]\tvalid_0's binary_logloss: 0.606344\n",
      "[741]\tvalid_0's binary_logloss: 0.606233\n",
      "[744]\tvalid_0's binary_logloss: 0.606214\n",
      "[747]\tvalid_0's binary_logloss: 0.606001\n",
      "[750]\tvalid_0's binary_logloss: 0.605849\n",
      "[753]\tvalid_0's binary_logloss: 0.605714\n",
      "[756]\tvalid_0's binary_logloss: 0.605635\n",
      "[759]\tvalid_0's binary_logloss: 0.605604\n",
      "[762]\tvalid_0's binary_logloss: 0.605378\n",
      "[765]\tvalid_0's binary_logloss: 0.605246\n",
      "[768]\tvalid_0's binary_logloss: 0.605032\n",
      "[771]\tvalid_0's binary_logloss: 0.604989\n",
      "[774]\tvalid_0's binary_logloss: 0.604989\n",
      "[777]\tvalid_0's binary_logloss: 0.604732\n",
      "[780]\tvalid_0's binary_logloss: 0.604791\n",
      "[783]\tvalid_0's binary_logloss: 0.604655\n",
      "[786]\tvalid_0's binary_logloss: 0.604371\n",
      "[789]\tvalid_0's binary_logloss: 0.604082\n",
      "[792]\tvalid_0's binary_logloss: 0.604047\n",
      "[795]\tvalid_0's binary_logloss: 0.603957\n",
      "[798]\tvalid_0's binary_logloss: 0.603829\n",
      "[801]\tvalid_0's binary_logloss: 0.603801\n",
      "[804]\tvalid_0's binary_logloss: 0.603664\n",
      "[807]\tvalid_0's binary_logloss: 0.603533\n",
      "[810]\tvalid_0's binary_logloss: 0.603551\n",
      "[813]\tvalid_0's binary_logloss: 0.603539\n",
      "[816]\tvalid_0's binary_logloss: 0.603438\n",
      "[819]\tvalid_0's binary_logloss: 0.603168\n",
      "[822]\tvalid_0's binary_logloss: 0.603238\n",
      "[825]\tvalid_0's binary_logloss: 0.603184\n",
      "[828]\tvalid_0's binary_logloss: 0.60312\n",
      "[831]\tvalid_0's binary_logloss: 0.602998\n",
      "[834]\tvalid_0's binary_logloss: 0.60288\n",
      "[837]\tvalid_0's binary_logloss: 0.602671\n",
      "[840]\tvalid_0's binary_logloss: 0.602578\n",
      "[843]\tvalid_0's binary_logloss: 0.602584\n",
      "[846]\tvalid_0's binary_logloss: 0.602473\n",
      "[849]\tvalid_0's binary_logloss: 0.602157\n",
      "[852]\tvalid_0's binary_logloss: 0.602216\n",
      "[855]\tvalid_0's binary_logloss: 0.602146\n",
      "[858]\tvalid_0's binary_logloss: 0.602172\n",
      "[861]\tvalid_0's binary_logloss: 0.601959\n",
      "[864]\tvalid_0's binary_logloss: 0.601966\n",
      "[867]\tvalid_0's binary_logloss: 0.601999\n",
      "[870]\tvalid_0's binary_logloss: 0.601954\n",
      "[873]\tvalid_0's binary_logloss: 0.601969\n",
      "[876]\tvalid_0's binary_logloss: 0.601966\n",
      "[879]\tvalid_0's binary_logloss: 0.601952\n",
      "[882]\tvalid_0's binary_logloss: 0.602022\n",
      "[885]\tvalid_0's binary_logloss: 0.60187\n",
      "[888]\tvalid_0's binary_logloss: 0.601857\n",
      "[891]\tvalid_0's binary_logloss: 0.601447\n",
      "[894]\tvalid_0's binary_logloss: 0.601465\n",
      "[897]\tvalid_0's binary_logloss: 0.60134\n",
      "[900]\tvalid_0's binary_logloss: 0.601399\n",
      "[903]\tvalid_0's binary_logloss: 0.601211\n",
      "[906]\tvalid_0's binary_logloss: 0.601059\n",
      "[909]\tvalid_0's binary_logloss: 0.601095\n",
      "[912]\tvalid_0's binary_logloss: 0.600908\n",
      "[915]\tvalid_0's binary_logloss: 0.600994\n",
      "[918]\tvalid_0's binary_logloss: 0.601029\n",
      "[921]\tvalid_0's binary_logloss: 0.600954\n",
      "[924]\tvalid_0's binary_logloss: 0.600909\n",
      "[927]\tvalid_0's binary_logloss: 0.600903\n",
      "[930]\tvalid_0's binary_logloss: 0.600823\n",
      "[933]\tvalid_0's binary_logloss: 0.600713\n",
      "[936]\tvalid_0's binary_logloss: 0.600709\n",
      "[939]\tvalid_0's binary_logloss: 0.600506\n",
      "[942]\tvalid_0's binary_logloss: 0.600503\n",
      "[945]\tvalid_0's binary_logloss: 0.600428\n",
      "[948]\tvalid_0's binary_logloss: 0.600427\n",
      "[951]\tvalid_0's binary_logloss: 0.600448\n",
      "[954]\tvalid_0's binary_logloss: 0.600406\n",
      "[957]\tvalid_0's binary_logloss: 0.600206\n",
      "[960]\tvalid_0's binary_logloss: 0.600213\n",
      "[963]\tvalid_0's binary_logloss: 0.600157\n",
      "[966]\tvalid_0's binary_logloss: 0.600068\n",
      "[969]\tvalid_0's binary_logloss: 0.599655\n",
      "[972]\tvalid_0's binary_logloss: 0.599731\n",
      "[975]\tvalid_0's binary_logloss: 0.599706\n",
      "[978]\tvalid_0's binary_logloss: 0.599522\n",
      "[981]\tvalid_0's binary_logloss: 0.599243\n",
      "[984]\tvalid_0's binary_logloss: 0.598832\n",
      "[987]\tvalid_0's binary_logloss: 0.598377\n",
      "[990]\tvalid_0's binary_logloss: 0.598364\n",
      "[993]\tvalid_0's binary_logloss: 0.598306\n",
      "[996]\tvalid_0's binary_logloss: 0.598296\n",
      "[999]\tvalid_0's binary_logloss: 0.598198\n",
      "[1002]\tvalid_0's binary_logloss: 0.598119\n",
      "[1005]\tvalid_0's binary_logloss: 0.597911\n",
      "[1008]\tvalid_0's binary_logloss: 0.597864\n",
      "[1011]\tvalid_0's binary_logloss: 0.597816\n",
      "[1014]\tvalid_0's binary_logloss: 0.597838\n",
      "[1017]\tvalid_0's binary_logloss: 0.597887\n",
      "[1020]\tvalid_0's binary_logloss: 0.597587\n",
      "[1023]\tvalid_0's binary_logloss: 0.597458\n",
      "[1026]\tvalid_0's binary_logloss: 0.597504\n",
      "[1029]\tvalid_0's binary_logloss: 0.597506\n",
      "[1032]\tvalid_0's binary_logloss: 0.596943\n",
      "[1035]\tvalid_0's binary_logloss: 0.596838\n",
      "[1038]\tvalid_0's binary_logloss: 0.596705\n",
      "[1041]\tvalid_0's binary_logloss: 0.596769\n",
      "[1044]\tvalid_0's binary_logloss: 0.59667\n",
      "[1047]\tvalid_0's binary_logloss: 0.596485\n",
      "[1050]\tvalid_0's binary_logloss: 0.596302\n",
      "[1053]\tvalid_0's binary_logloss: 0.596002\n",
      "[1056]\tvalid_0's binary_logloss: 0.595848\n",
      "[1059]\tvalid_0's binary_logloss: 0.595816\n",
      "[1062]\tvalid_0's binary_logloss: 0.595485\n",
      "[1065]\tvalid_0's binary_logloss: 0.595463\n",
      "[1068]\tvalid_0's binary_logloss: 0.59539\n",
      "[1071]\tvalid_0's binary_logloss: 0.59539\n",
      "[1074]\tvalid_0's binary_logloss: 0.595413\n",
      "[1077]\tvalid_0's binary_logloss: 0.595263\n",
      "[1080]\tvalid_0's binary_logloss: 0.594948\n",
      "[1083]\tvalid_0's binary_logloss: 0.594925\n",
      "[1086]\tvalid_0's binary_logloss: 0.594897\n",
      "[1089]\tvalid_0's binary_logloss: 0.594735\n",
      "[1092]\tvalid_0's binary_logloss: 0.594751\n",
      "[1095]\tvalid_0's binary_logloss: 0.594694\n",
      "[1098]\tvalid_0's binary_logloss: 0.59426\n",
      "[1101]\tvalid_0's binary_logloss: 0.594117\n",
      "[1104]\tvalid_0's binary_logloss: 0.594193\n",
      "[1107]\tvalid_0's binary_logloss: 0.594251\n",
      "[1110]\tvalid_0's binary_logloss: 0.594256\n",
      "[1113]\tvalid_0's binary_logloss: 0.594297\n",
      "[1116]\tvalid_0's binary_logloss: 0.594323\n",
      "[1119]\tvalid_0's binary_logloss: 0.594028\n",
      "[1122]\tvalid_0's binary_logloss: 0.593957\n",
      "[1125]\tvalid_0's binary_logloss: 0.593953\n",
      "[1128]\tvalid_0's binary_logloss: 0.593913\n",
      "[1131]\tvalid_0's binary_logloss: 0.593838\n",
      "[1134]\tvalid_0's binary_logloss: 0.593831\n",
      "[1137]\tvalid_0's binary_logloss: 0.593873\n",
      "[1140]\tvalid_0's binary_logloss: 0.593835\n",
      "[1143]\tvalid_0's binary_logloss: 0.593878\n",
      "[1146]\tvalid_0's binary_logloss: 0.593883\n",
      "[1149]\tvalid_0's binary_logloss: 0.593775\n",
      "[1152]\tvalid_0's binary_logloss: 0.593596\n",
      "[1155]\tvalid_0's binary_logloss: 0.593316\n",
      "[1158]\tvalid_0's binary_logloss: 0.593238\n",
      "[1161]\tvalid_0's binary_logloss: 0.593242\n",
      "[1164]\tvalid_0's binary_logloss: 0.593109\n",
      "[1167]\tvalid_0's binary_logloss: 0.59313\n",
      "[1170]\tvalid_0's binary_logloss: 0.593092\n",
      "[1173]\tvalid_0's binary_logloss: 0.593155\n",
      "[1176]\tvalid_0's binary_logloss: 0.592917\n",
      "[1179]\tvalid_0's binary_logloss: 0.592596\n",
      "[1182]\tvalid_0's binary_logloss: 0.592435\n",
      "[1185]\tvalid_0's binary_logloss: 0.592433\n",
      "[1188]\tvalid_0's binary_logloss: 0.592379\n",
      "[1191]\tvalid_0's binary_logloss: 0.592436\n",
      "[1194]\tvalid_0's binary_logloss: 0.592415\n",
      "[1197]\tvalid_0's binary_logloss: 0.592175\n",
      "[1200]\tvalid_0's binary_logloss: 0.592206\n",
      "[1203]\tvalid_0's binary_logloss: 0.591938\n"
     ]
    },
    {
     "name": "stdout",
     "output_type": "stream",
     "text": [
      "[1206]\tvalid_0's binary_logloss: 0.591556\n",
      "[1209]\tvalid_0's binary_logloss: 0.591588\n",
      "[1212]\tvalid_0's binary_logloss: 0.59165\n",
      "[1215]\tvalid_0's binary_logloss: 0.591608\n",
      "[1218]\tvalid_0's binary_logloss: 0.591576\n",
      "[1221]\tvalid_0's binary_logloss: 0.591406\n",
      "[1224]\tvalid_0's binary_logloss: 0.59147\n",
      "[1227]\tvalid_0's binary_logloss: 0.591443\n",
      "[1230]\tvalid_0's binary_logloss: 0.591441\n",
      "[1233]\tvalid_0's binary_logloss: 0.591239\n",
      "[1236]\tvalid_0's binary_logloss: 0.591226\n",
      "[1239]\tvalid_0's binary_logloss: 0.59128\n",
      "[1242]\tvalid_0's binary_logloss: 0.591305\n",
      "[1245]\tvalid_0's binary_logloss: 0.591298\n",
      "[1248]\tvalid_0's binary_logloss: 0.591268\n",
      "[1251]\tvalid_0's binary_logloss: 0.591422\n",
      "[1254]\tvalid_0's binary_logloss: 0.591266\n",
      "[1257]\tvalid_0's binary_logloss: 0.591287\n",
      "[1260]\tvalid_0's binary_logloss: 0.591146\n",
      "[1263]\tvalid_0's binary_logloss: 0.591168\n",
      "[1266]\tvalid_0's binary_logloss: 0.591105\n",
      "[1269]\tvalid_0's binary_logloss: 0.590994\n",
      "[1272]\tvalid_0's binary_logloss: 0.590886\n",
      "[1275]\tvalid_0's binary_logloss: 0.590748\n",
      "[1278]\tvalid_0's binary_logloss: 0.590527\n",
      "[1281]\tvalid_0's binary_logloss: 0.590304\n",
      "[1284]\tvalid_0's binary_logloss: 0.590252\n",
      "[1287]\tvalid_0's binary_logloss: 0.59032\n",
      "[1290]\tvalid_0's binary_logloss: 0.590352\n",
      "[1293]\tvalid_0's binary_logloss: 0.590293\n",
      "[1296]\tvalid_0's binary_logloss: 0.590309\n",
      "[1299]\tvalid_0's binary_logloss: 0.590162\n",
      "[1302]\tvalid_0's binary_logloss: 0.590114\n",
      "[1305]\tvalid_0's binary_logloss: 0.590037\n",
      "[1308]\tvalid_0's binary_logloss: 0.589929\n",
      "[1311]\tvalid_0's binary_logloss: 0.58991\n",
      "[1314]\tvalid_0's binary_logloss: 0.589877\n",
      "[1317]\tvalid_0's binary_logloss: 0.589827\n",
      "[1320]\tvalid_0's binary_logloss: 0.589863\n",
      "[1323]\tvalid_0's binary_logloss: 0.589932\n",
      "[1326]\tvalid_0's binary_logloss: 0.590007\n",
      "[1329]\tvalid_0's binary_logloss: 0.590077\n",
      "[1332]\tvalid_0's binary_logloss: 0.590033\n",
      "[1335]\tvalid_0's binary_logloss: 0.589973\n",
      "[1338]\tvalid_0's binary_logloss: 0.589837\n",
      "[1341]\tvalid_0's binary_logloss: 0.589892\n",
      "[1344]\tvalid_0's binary_logloss: 0.589851\n",
      "[1347]\tvalid_0's binary_logloss: 0.589858\n",
      "[1350]\tvalid_0's binary_logloss: 0.589642\n",
      "[1353]\tvalid_0's binary_logloss: 0.589512\n",
      "[1356]\tvalid_0's binary_logloss: 0.589559\n",
      "[1359]\tvalid_0's binary_logloss: 0.589579\n",
      "[1362]\tvalid_0's binary_logloss: 0.589607\n",
      "[1365]\tvalid_0's binary_logloss: 0.589654\n",
      "[1368]\tvalid_0's binary_logloss: 0.589665\n",
      "[1371]\tvalid_0's binary_logloss: 0.589712\n",
      "[1374]\tvalid_0's binary_logloss: 0.589655\n",
      "[1377]\tvalid_0's binary_logloss: 0.589172\n",
      "[1380]\tvalid_0's binary_logloss: 0.588944\n",
      "[1383]\tvalid_0's binary_logloss: 0.588902\n",
      "[1386]\tvalid_0's binary_logloss: 0.588823\n",
      "[1389]\tvalid_0's binary_logloss: 0.58862\n",
      "[1392]\tvalid_0's binary_logloss: 0.588619\n",
      "[1395]\tvalid_0's binary_logloss: 0.58854\n",
      "[1398]\tvalid_0's binary_logloss: 0.588451\n",
      "[1401]\tvalid_0's binary_logloss: 0.588461\n",
      "[1404]\tvalid_0's binary_logloss: 0.588452\n",
      "[1407]\tvalid_0's binary_logloss: 0.5883\n",
      "[1410]\tvalid_0's binary_logloss: 0.588197\n",
      "[1413]\tvalid_0's binary_logloss: 0.588115\n",
      "[1416]\tvalid_0's binary_logloss: 0.588137\n",
      "[1419]\tvalid_0's binary_logloss: 0.588149\n",
      "[1422]\tvalid_0's binary_logloss: 0.587675\n",
      "[1425]\tvalid_0's binary_logloss: 0.587616\n",
      "[1428]\tvalid_0's binary_logloss: 0.587576\n",
      "[1431]\tvalid_0's binary_logloss: 0.587567\n",
      "[1434]\tvalid_0's binary_logloss: 0.587364\n",
      "[1437]\tvalid_0's binary_logloss: 0.587436\n",
      "[1440]\tvalid_0's binary_logloss: 0.587334\n",
      "[1443]\tvalid_0's binary_logloss: 0.587301\n",
      "[1446]\tvalid_0's binary_logloss: 0.587137\n",
      "[1449]\tvalid_0's binary_logloss: 0.587009\n",
      "[1452]\tvalid_0's binary_logloss: 0.586811\n",
      "[1455]\tvalid_0's binary_logloss: 0.586666\n",
      "[1458]\tvalid_0's binary_logloss: 0.586639\n",
      "[1461]\tvalid_0's binary_logloss: 0.586654\n",
      "[1464]\tvalid_0's binary_logloss: 0.586478\n",
      "[1467]\tvalid_0's binary_logloss: 0.586527\n",
      "[1470]\tvalid_0's binary_logloss: 0.586533\n",
      "[1473]\tvalid_0's binary_logloss: 0.586165\n",
      "[1476]\tvalid_0's binary_logloss: 0.586157\n",
      "[1479]\tvalid_0's binary_logloss: 0.586083\n",
      "[1482]\tvalid_0's binary_logloss: 0.586038\n",
      "[1485]\tvalid_0's binary_logloss: 0.585879\n",
      "[1488]\tvalid_0's binary_logloss: 0.585871\n",
      "[1491]\tvalid_0's binary_logloss: 0.58584\n",
      "[1494]\tvalid_0's binary_logloss: 0.585737\n",
      "[1497]\tvalid_0's binary_logloss: 0.585643\n",
      "[1500]\tvalid_0's binary_logloss: 0.58565\n",
      "[1503]\tvalid_0's binary_logloss: 0.585658\n",
      "[1506]\tvalid_0's binary_logloss: 0.585613\n",
      "[1509]\tvalid_0's binary_logloss: 0.585291\n",
      "[1512]\tvalid_0's binary_logloss: 0.585059\n",
      "[1515]\tvalid_0's binary_logloss: 0.585003\n",
      "[1518]\tvalid_0's binary_logloss: 0.584821\n",
      "[1521]\tvalid_0's binary_logloss: 0.584784\n",
      "[1524]\tvalid_0's binary_logloss: 0.584793\n",
      "[1527]\tvalid_0's binary_logloss: 0.584574\n",
      "[1530]\tvalid_0's binary_logloss: 0.584613\n",
      "[1533]\tvalid_0's binary_logloss: 0.584527\n",
      "[1536]\tvalid_0's binary_logloss: 0.584374\n",
      "[1539]\tvalid_0's binary_logloss: 0.584325\n",
      "[1542]\tvalid_0's binary_logloss: 0.58434\n",
      "[1545]\tvalid_0's binary_logloss: 0.584288\n",
      "[1548]\tvalid_0's binary_logloss: 0.584125\n",
      "[1551]\tvalid_0's binary_logloss: 0.584151\n",
      "[1554]\tvalid_0's binary_logloss: 0.584095\n",
      "[1557]\tvalid_0's binary_logloss: 0.584101\n",
      "[1560]\tvalid_0's binary_logloss: 0.584149\n",
      "[1563]\tvalid_0's binary_logloss: 0.584199\n",
      "[1566]\tvalid_0's binary_logloss: 0.584216\n",
      "[1569]\tvalid_0's binary_logloss: 0.584265\n",
      "[1572]\tvalid_0's binary_logloss: 0.584309\n",
      "[1575]\tvalid_0's binary_logloss: 0.584226\n",
      "[1578]\tvalid_0's binary_logloss: 0.584279\n",
      "[1581]\tvalid_0's binary_logloss: 0.584204\n",
      "[1584]\tvalid_0's binary_logloss: 0.58423\n",
      "[1587]\tvalid_0's binary_logloss: 0.584317\n",
      "[1590]\tvalid_0's binary_logloss: 0.584323\n",
      "[1593]\tvalid_0's binary_logloss: 0.584311\n",
      "[1596]\tvalid_0's binary_logloss: 0.584064\n",
      "[1599]\tvalid_0's binary_logloss: 0.583957\n",
      "[1602]\tvalid_0's binary_logloss: 0.583697\n",
      "[1605]\tvalid_0's binary_logloss: 0.583539\n",
      "[1608]\tvalid_0's binary_logloss: 0.583325\n",
      "[1611]\tvalid_0's binary_logloss: 0.583283\n",
      "[1614]\tvalid_0's binary_logloss: 0.583332\n",
      "[1617]\tvalid_0's binary_logloss: 0.583335\n",
      "[1620]\tvalid_0's binary_logloss: 0.583085\n",
      "[1623]\tvalid_0's binary_logloss: 0.582848\n",
      "[1626]\tvalid_0's binary_logloss: 0.582436\n",
      "[1629]\tvalid_0's binary_logloss: 0.582376\n",
      "[1632]\tvalid_0's binary_logloss: 0.582415\n",
      "[1635]\tvalid_0's binary_logloss: 0.582453\n",
      "[1638]\tvalid_0's binary_logloss: 0.582429\n",
      "[1641]\tvalid_0's binary_logloss: 0.582405\n",
      "[1644]\tvalid_0's binary_logloss: 0.58229\n",
      "[1647]\tvalid_0's binary_logloss: 0.582323\n",
      "[1650]\tvalid_0's binary_logloss: 0.58236\n",
      "[1653]\tvalid_0's binary_logloss: 0.582345\n",
      "[1656]\tvalid_0's binary_logloss: 0.582399\n",
      "[1659]\tvalid_0's binary_logloss: 0.582412\n",
      "[1662]\tvalid_0's binary_logloss: 0.582301\n",
      "[1665]\tvalid_0's binary_logloss: 0.582144\n",
      "[1668]\tvalid_0's binary_logloss: 0.582202\n",
      "[1671]\tvalid_0's binary_logloss: 0.58224\n",
      "[1674]\tvalid_0's binary_logloss: 0.582282\n",
      "[1677]\tvalid_0's binary_logloss: 0.582304\n",
      "[1680]\tvalid_0's binary_logloss: 0.582309\n",
      "[1683]\tvalid_0's binary_logloss: 0.582222\n",
      "[1686]\tvalid_0's binary_logloss: 0.582105\n",
      "[1689]\tvalid_0's binary_logloss: 0.582111\n",
      "[1692]\tvalid_0's binary_logloss: 0.582153\n",
      "[1695]\tvalid_0's binary_logloss: 0.582055\n",
      "[1698]\tvalid_0's binary_logloss: 0.582042\n",
      "[1701]\tvalid_0's binary_logloss: 0.581977\n",
      "[1704]\tvalid_0's binary_logloss: 0.581966\n",
      "[1707]\tvalid_0's binary_logloss: 0.581758\n",
      "[1710]\tvalid_0's binary_logloss: 0.581786\n",
      "[1713]\tvalid_0's binary_logloss: 0.581657\n",
      "[1716]\tvalid_0's binary_logloss: 0.581692\n",
      "[1719]\tvalid_0's binary_logloss: 0.581707\n",
      "[1722]\tvalid_0's binary_logloss: 0.581641\n",
      "[1725]\tvalid_0's binary_logloss: 0.581512\n",
      "[1728]\tvalid_0's binary_logloss: 0.581622\n",
      "[1731]\tvalid_0's binary_logloss: 0.581706\n",
      "[1734]\tvalid_0's binary_logloss: 0.581721\n",
      "[1737]\tvalid_0's binary_logloss: 0.581766\n",
      "[1740]\tvalid_0's binary_logloss: 0.581761\n",
      "[1743]\tvalid_0's binary_logloss: 0.58182\n",
      "[1746]\tvalid_0's binary_logloss: 0.581824\n",
      "[1749]\tvalid_0's binary_logloss: 0.58183\n",
      "[1752]\tvalid_0's binary_logloss: 0.581877\n",
      "[1755]\tvalid_0's binary_logloss: 0.5817\n",
      "[1758]\tvalid_0's binary_logloss: 0.581756\n",
      "[1761]\tvalid_0's binary_logloss: 0.581791\n",
      "[1764]\tvalid_0's binary_logloss: 0.581815\n",
      "[1767]\tvalid_0's binary_logloss: 0.581768\n",
      "[1770]\tvalid_0's binary_logloss: 0.581717\n",
      "[1773]\tvalid_0's binary_logloss: 0.581658\n",
      "Early stopping, best iteration is:\n",
      "[1725]\tvalid_0's binary_logloss: 0.581512\n"
     ]
    },
    {
     "data": {
      "text/plain": [
       "LGBMClassifier(n_estimators=10000, num_leaves=40)"
      ]
     },
     "execution_count": 770,
     "metadata": {},
     "output_type": "execute_result"
    }
   ],
   "source": [
    "lgb = LGBMClassifier(n_estimators=10000, num_leaves = 40, n_jobs = -1)\n",
    "lgb.fit(X_train, y_train, eval_set=[(X_test, y_test)], early_stopping_rounds=50, verbose=3)"
   ]
  },
  {
   "cell_type": "code",
   "execution_count": 771,
   "metadata": {},
   "outputs": [
    {
     "name": "stdout",
     "output_type": "stream",
     "text": [
      "Accuracy 0.692\n"
     ]
    }
   ],
   "source": [
    "y_predlgb = lgb.predict(X_test)\n",
    "print('Accuracy {0}'.format(np.round(accuracy_score(y_test, y_predlgb),3)))"
   ]
  },
  {
   "cell_type": "code",
   "execution_count": 777,
   "metadata": {},
   "outputs": [
    {
     "data": {
      "text/plain": [
       "LGBMClassifier(n_estimators=1000, num_leaves=40)"
      ]
     },
     "execution_count": 777,
     "metadata": {},
     "output_type": "execute_result"
    }
   ],
   "source": [
    "lgb = LGBMClassifier(n_estimators=1000, num_leaves = 40, n_jobs = -1)\n",
    "lgb.fit(X_train, y_train, verbose=3)"
   ]
  },
  {
   "cell_type": "code",
   "execution_count": 778,
   "metadata": {},
   "outputs": [
    {
     "name": "stdout",
     "output_type": "stream",
     "text": [
      "Accuracy 0.675\n"
     ]
    }
   ],
   "source": [
    "y_predlgb = lgb.predict(X_test)\n",
    "print('Accuracy {0}'.format(np.round(accuracy_score(y_test, y_predlgb),3)))"
   ]
  },
  {
   "cell_type": "code",
   "execution_count": 779,
   "metadata": {},
   "outputs": [
    {
     "name": "stdout",
     "output_type": "stream",
     "text": [
      "Accuracy 0.623\n"
     ]
    }
   ],
   "source": [
    "lgb2 = LGBMClassifier(n_estimators=1000, num_leaves = 40, n_jobs = -1)\n",
    "lgb2.fit(X_train2, y_train2)\n",
    "y_predlgb2 = lgb2.predict(X_test2)\n",
    "print('Accuracy {0}'.format(np.round(accuracy_score(y_test2, y_predlgb2),3)))"
   ]
  },
  {
   "cell_type": "markdown",
   "metadata": {},
   "source": [
    "## Preliminary Modelling Results\n",
    "\n",
    "KNN, ADA, DCT are the best performing, with approximately 81%, 80% and 78% respectively\n",
    "- KNearestNeighbours performs better when data is not normalised; it also contains catagorical values. The underlying reason remains unknown.\n",
    "- AdaBoosting performs, on average, better than all other models. This includes the second dataset. \n",
    "- Decision Trees perform better than Random Forests, most likely due to Random Forests suffering from overfitting.\n",
    "\n",
    "A neural network was also implemented with Fast.ai's Tabnet. It produced about less than 60% accuracy. Other neural networks were attempted to be utilised (Keras), but did not bode high accuracies. \n",
    "\n",
    "Notebook for Fast.ai Tabnet implementation can be found here: https://colab.research.google.com/drive/1kPmhvoxSk40FPfKq86O04F5aT3BNKQ83?usp=sharing \n",
    "\n",
    "(The code is not well documented, simply mentioned to state that neural networks were attempted.)"
   ]
  },
  {
   "cell_type": "markdown",
   "metadata": {},
   "source": [
    "# 5. Label Noise Investigation\n",
    "\n",
    "## Method 1. `cleanlab` Confidnet Learning Library\n",
    "https://github.com/cgnorthcutt/cleanlab \n",
    "\n",
    "`cleanlab` is a framework for confident learning, analogous to how PyTorch and TensorFlow are frameworks for deep learning. \n",
    "\n",
    "Thus, the purpose of the library is to find label errors in datasets, and aid machine learning models with noisy labels in mind. Although confident learning required no hyperparameter tuning, it required a noise matrix providing the predicted probabilities of true labels and those misclassified. \n",
    "\n",
    "Through cross validation to obtain predicted probabilities out-of-sample, it can directly estimate the joint distribution of noisy and true labels, thus output a noise matrix representing the predicted probabilities for a classification. Furthermore, the calculated probabilities for each element in the noise matrix does not assume randomly uniform label noise within the implementation, hence increasing the likelihood of detecting structured bias across MSID groups. \n",
    "\n",
    "By utilising cleanlab within both CHIP datasets, the expectation is that the package's methods will improve the accuracy scores of our binary classification models."
   ]
  },
  {
   "cell_type": "code",
   "execution_count": 540,
   "metadata": {},
   "outputs": [],
   "source": [
    "from __future__ import (print_function, absolute_import, division,\n",
    "                        unicode_literals, with_statement)\n",
    "from sklearn.model_selection import ParameterGrid\n",
    "from cleanlab.classification import LearningWithNoisyLabels\n",
    "from cleanlab.noise_generation import generate_noisy_labels\n",
    "from cleanlab.util import value_counts\n",
    "from cleanlab.latent_algebra import compute_inv_noise_matrix\n",
    "from cleanlab.latent_estimation import estimate_py_noise_matrices_and_cv_pred_proba"
   ]
  },
  {
   "cell_type": "markdown",
   "metadata": {},
   "source": [
    "Examples of latent statistics in uncertainty estimation for dataset labels are the:\n",
    "\n",
    "- Latent Prior: \n",
    "    - the unknown prior of true labels (the prior of noisy labels is known)\n",
    "    - `est_py` is the array p(y)\n",
    "\n",
    "\n",
    "- Noisy Matrix: \n",
    "     - a class-conditional probability dist. mapping true classes to noisy classes\n",
    "     - `est_nm` is the matrix P(s|y) \n",
    "\n",
    "\n",
    "- inverse noise matrix: \n",
    "    - a class-conditional probability dist. mapping noisy classes back to true classes\n",
    "    - `est_inv` is the matrix P(y|s)\n",
    "\n",
    "\n",
    "- Confident Joint: \n",
    "    - `confident_joint` is an unnormalized estimate of the joint distribution of noisy labels and true labels\n",
    "\n",
    "\n",
    "- psx:\n",
    "    -  `psx` n x m predicted probabilities matrix\n",
    "\n"
   ]
  },
  {
   "cell_type": "code",
   "execution_count": 1033,
   "metadata": {},
   "outputs": [],
   "source": [
    "est_py, est_nm, est_inv, confident_joint, psx = (\n",
    "    estimate_py_noise_matrices_and_cv_pred_proba(X = X_train.to_numpy(), s = y_train.to_numpy()))"
   ]
  },
  {
   "cell_type": "code",
   "execution_count": 1045,
   "metadata": {},
   "outputs": [
    {
     "data": {
      "text/plain": [
       "array([[0.56105991, 0.55191325],\n",
       "       [0.43894009, 0.44808675]])"
      ]
     },
     "execution_count": 1045,
     "metadata": {},
     "output_type": "execute_result"
    }
   ],
   "source": [
    "est_nm"
   ]
  },
  {
   "cell_type": "code",
   "execution_count": 1047,
   "metadata": {},
   "outputs": [
    {
     "data": {
      "text/plain": [
       "array([[11688, 39953],\n",
       "       [ 9144, 32437]])"
      ]
     },
     "execution_count": 1047,
     "metadata": {},
     "output_type": "execute_result"
    }
   ],
   "source": [
    "confident_joint"
   ]
  },
  {
   "cell_type": "code",
   "execution_count": 1048,
   "metadata": {
    "scrolled": true
   },
   "outputs": [
    {
     "data": {
      "text/plain": [
       "array([[0.5504991 , 0.4495009 ],\n",
       "       [0.55251686, 0.44748314],\n",
       "       [0.55123444, 0.44876556],\n",
       "       ...,\n",
       "       [0.56489256, 0.43510744],\n",
       "       [0.56643076, 0.43356924],\n",
       "       [0.55298554, 0.44701446]])"
      ]
     },
     "execution_count": 1048,
     "metadata": {},
     "output_type": "execute_result"
    }
   ],
   "source": [
    "psx"
   ]
  },
  {
   "cell_type": "code",
   "execution_count": 1167,
   "metadata": {},
   "outputs": [],
   "source": [
    "est_py2, est_nm2, est_inv2, confident_joint2, psx2 = (\n",
    "estimate_py_noise_matrices_and_cv_pred_proba( X = X_train2.to_numpy(), s = y_train2.to_numpy(),))"
   ]
  },
  {
   "cell_type": "markdown",
   "metadata": {},
   "source": [
    "## `cleanlab` Modelling"
   ]
  },
  {
   "cell_type": "markdown",
   "metadata": {},
   "source": [
    "### `cleanlab` DCT"
   ]
  },
  {
   "cell_type": "code",
   "execution_count": 1066,
   "metadata": {},
   "outputs": [
    {
     "name": "stdout",
     "output_type": "stream",
     "text": [
      "Decision Tree: 0.749\n"
     ]
    }
   ],
   "source": [
    "clf = DecisionTreeClassifier()\n",
    "lnl_dct1 = LearningWithNoisyLabels(clf=clf)\n",
    "lnl_dct1.fit(X = X_train.to_numpy(), s = y_train.to_numpy(), noise_matrix = est_nm)\n",
    "pred_lnl_dct1 = lnl_dct1.predict(X_test.to_numpy())\n",
    "print(\"Decision Tree:\", round(accuracy_score(pred_lnl_dct1, y_test), 3))"
   ]
  },
  {
   "cell_type": "code",
   "execution_count": 1070,
   "metadata": {},
   "outputs": [
    {
     "name": "stdout",
     "output_type": "stream",
     "text": [
      "Decision Tree: 0.602\n"
     ]
    }
   ],
   "source": [
    "clf = DecisionTreeClassifier()\n",
    "lnl_dct2 = LearningWithNoisyLabels(clf=clf)\n",
    "lnl_dct2 = lnl_dct2.fit(X = X_train2.to_numpy(), s = y_train2.to_numpy(), noise_matrix = est_nm2)\n",
    "pred_lnl_dct2 = rp.predict(X_test2.to_numpy())\n",
    "print(\"Decision Tree:\", round(accuracy_score(pred_lnl_dct2, y_test2), 3))"
   ]
  },
  {
   "cell_type": "markdown",
   "metadata": {},
   "source": [
    "### `cleanlab` KNN"
   ]
  },
  {
   "cell_type": "code",
   "execution_count": 1072,
   "metadata": {},
   "outputs": [
    {
     "name": "stdout",
     "output_type": "stream",
     "text": [
      "KNN accuracy: 0.781\n"
     ]
    }
   ],
   "source": [
    "clf = KNeighborsClassifier(n_neighbors = 10, weights='distance', metric = 'manhattan', algorithm = 'kd_tree')\n",
    "lnl_knn1 = LearningWithNoisyLabels(clf=clf)\n",
    "lnl_knn1.fit(X_train.to_numpy(), y_train.to_numpy(), noise_matrix = est_nm)\n",
    "pred_lnl_knn1 = lnl_knn1.predict(X_test.to_numpy())\n",
    "print(\"KNN accuracy:\", round(accuracy_score(pred_lnl_knn1, y_test), 3))"
   ]
  },
  {
   "cell_type": "code",
   "execution_count": 1073,
   "metadata": {},
   "outputs": [
    {
     "name": "stdout",
     "output_type": "stream",
     "text": [
      "KNN: 0.601\n"
     ]
    }
   ],
   "source": [
    "clf = KNeighborsClassifier(n_neighbors = 10, weights='distance', metric = 'manhattan', algorithm = 'kd_tree')\n",
    "lnl_knn2 = LearningWithNoisyLabels(clf=clf)\n",
    "lnl_knn2.fit(X = X_train2.to_numpy(), s = y_train2.to_numpy(), noise_matrix = est_nm2)\n",
    "pred_lnl_knn2 = lnl_knn2.predict(X_test2.to_numpy())\n",
    "print(\"KNN:\", round(accuracy_score(pred_lnl_knn2, y_test2), 3))"
   ]
  },
  {
   "cell_type": "markdown",
   "metadata": {},
   "source": [
    "### `cleanlab` Logistic Regression"
   ]
  },
  {
   "cell_type": "code",
   "execution_count": 1098,
   "metadata": {},
   "outputs": [
    {
     "name": "stdout",
     "output_type": "stream",
     "text": [
      "Logistic Regression: 0.52\n"
     ]
    }
   ],
   "source": [
    "log = LogisticRegression(solver='lbfgs', multi_class='auto', max_iter=1000)\n",
    "lnl_log1 = LearningWithNoisyLabels(clf=log)\n",
    "lnl_log1.fit(X = X_train.to_numpy(), s = y_train.to_numpy(), noise_matrix = est_nm)\n",
    "pred_lnl_log1 = lnl_log1.predict(X_test.to_numpy())\n",
    "print(\"Logistic Regression:\", round(accuracy_score(pred_lnl_log1, y_test), 3))"
   ]
  },
  {
   "cell_type": "code",
   "execution_count": 1097,
   "metadata": {},
   "outputs": [
    {
     "name": "stdout",
     "output_type": "stream",
     "text": [
      "Logistic Regression: 0.516\n"
     ]
    }
   ],
   "source": [
    "clf = LogisticRegression(solver='lbfgs', multi_class='auto', max_iter=1000)\n",
    "lnl_log2 = LearningWithNoisyLabels(clf=clf)\n",
    "lnl_log2.fit(X = X_train2.to_numpy(), s = y_train2.to_numpy(), noise_matrix = est_nm2)\n",
    "pred_lnl_log2 = lnl_log2.predict(X_test2.to_numpy())\n",
    "print(\"Logistic Regression:\", round(accuracy_score(pred_lnl_log2, y_test2), 3))"
   ]
  },
  {
   "cell_type": "markdown",
   "metadata": {},
   "source": [
    "### `cleanlab` AdaBoost Classifier"
   ]
  },
  {
   "cell_type": "code",
   "execution_count": 1076,
   "metadata": {},
   "outputs": [
    {
     "name": "stdout",
     "output_type": "stream",
     "text": [
      "Ada Boost: 0.778\n"
     ]
    }
   ],
   "source": [
    "ada = AdaBoostClassifier(DecisionTreeClassifier(), n_estimators=50, learning_rate = 0.5, algorithm= 'SAMME')\n",
    "lnl_ada1 = LearningWithNoisyLabels(clf=ada)\n",
    "lnl_ada1.fit(X = X_train.to_numpy(), s = y_train.to_numpy(), noise_matrix = est_nm)\n",
    "pred_lnl_ada1 = lnl_ada1.predict(X_test.to_numpy())\n",
    "print(\"Ada Boost:\", round(accuracy_score(pred_lnl_ada1, y_test), 3))"
   ]
  },
  {
   "cell_type": "code",
   "execution_count": 1078,
   "metadata": {},
   "outputs": [
    {
     "name": "stdout",
     "output_type": "stream",
     "text": [
      "AdaBoost: 0.647\n"
     ]
    }
   ],
   "source": [
    "clf = AdaBoostClassifier(DecisionTreeClassifier(), n_estimators=50, learning_rate = 0.5, algorithm= 'SAMME')\n",
    "lnl_ada2 = LearningWithNoisyLabels(clf=clf)\n",
    "lnl_ada2.fit(X = X_train2.to_numpy(), s = y_train2.to_numpy(), noise_matrix = est_nm2)\n",
    "pred_lnl_ada2 = lnl_ada2.predict(X_test2.to_numpy())\n",
    "print(\"AdaBoost:\", round(accuracy_score(pred_lnl_ada2, y_test2), 3))"
   ]
  },
  {
   "cell_type": "markdown",
   "metadata": {},
   "source": [
    "### `cleanlab` Gaussian Naive Bayes"
   ]
  },
  {
   "cell_type": "code",
   "execution_count": 1080,
   "metadata": {},
   "outputs": [
    {
     "name": "stdout",
     "output_type": "stream",
     "text": [
      "Gaussian : 0.474\n"
     ]
    }
   ],
   "source": [
    "gb = GaussianNB()\n",
    "lnl_gb1 = LearningWithNoisyLabels(clf=gb)\n",
    "lnl_gb1.fit(X = X_train.to_numpy(), s = y_train.to_numpy(), noise_matrix = est_nm)\n",
    "pred_lnl_gb1 = lnl_gb1.predict(X_test.to_numpy())\n",
    "print(\"Gaussian :\", round(accuracy_score(pred_lnl_gb1, y_test), 3))"
   ]
  },
  {
   "cell_type": "code",
   "execution_count": 1081,
   "metadata": {},
   "outputs": [
    {
     "name": "stdout",
     "output_type": "stream",
     "text": [
      "Gaussian: 0.49\n"
     ]
    }
   ],
   "source": [
    "clf = GaussianNB()\n",
    "lnl_gb2 = LearningWithNoisyLabels(clf=clf)\n",
    "lnl_gb2.fit(X = X_train2.to_numpy(), s = y_train2.to_numpy(), noise_matrix = est_nm2)\n",
    "pred_lnl_gb2 = lnl_gb2.predict(X_test2.to_numpy())\n",
    "print(\"Gaussian:\", round(accuracy_score(pred_lnl_gb2, y_test2), 3))"
   ]
  },
  {
   "cell_type": "markdown",
   "metadata": {},
   "source": [
    "### `cleanlab` XGBoost Classifer "
   ]
  },
  {
   "cell_type": "code",
   "execution_count": 1082,
   "metadata": {},
   "outputs": [
    {
     "name": "stdout",
     "output_type": "stream",
     "text": [
      "XG Boost: 0.724\n"
     ]
    }
   ],
   "source": [
    "xgf = XGBClassifier(objective='binary:logistic', n_estimators=1000,seed=1, eval_metric='logloss', n_jobs = -1)\n",
    "lnl_xg1 = LearningWithNoisyLabels(clf=xgf)\n",
    "lnl_xg1.fit(X = X_train.to_numpy(), s = y_train.to_numpy(), noise_matrix = est_nm)\n",
    "pred_lnl_xg1 = lnl_xg1.predict(X_test.to_numpy())\n",
    "print(\"XG Boost:\", round(accuracy_score(pred_lnl_xg1, y_test), 3))"
   ]
  },
  {
   "cell_type": "code",
   "execution_count": 1083,
   "metadata": {},
   "outputs": [
    {
     "name": "stdout",
     "output_type": "stream",
     "text": [
      "XG Boost: 0.624\n"
     ]
    }
   ],
   "source": [
    "xgf = XGBClassifier(objective='binary:logistic', n_estimators=1000,seed=1, eval_metric='logloss', n_jobs = -1)\n",
    "lnl_xg2 = LearningWithNoisyLabels(clf=xgf)\n",
    "lnl_xg2.fit(X = X_train2.to_numpy(), s = y_train2.to_numpy(), noise_matrix = est_nm2)\n",
    "pred_lnl_xg2 = lnl_xg2.predict(X_test2.to_numpy())\n",
    "print(\"XG Boost:\", round(accuracy_score(pred_lnl_xg2, y_test2), 3))"
   ]
  },
  {
   "cell_type": "markdown",
   "metadata": {},
   "source": [
    "### `cleanlab` Light Gradient Boosting"
   ]
  },
  {
   "cell_type": "code",
   "execution_count": 1084,
   "metadata": {},
   "outputs": [
    {
     "name": "stdout",
     "output_type": "stream",
     "text": [
      "Light Gradient Boosting: 0.654\n"
     ]
    }
   ],
   "source": [
    "lgbf = LGBMClassifier(n_estimators=1000, num_leaves = 40, n_jobs = -1)\n",
    "lnl_lg1 = LearningWithNoisyLabels(clf=lgbf)\n",
    "lnl_lg1.fit(X = X_train.to_numpy(), s = y_train.to_numpy(), noise_matrix = est_nm)\n",
    "pred_lnl_lg1 = lnl_lg1.predict(X_test.to_numpy())\n",
    "print(\"Light Gradient Boosting:\", round(accuracy_score(pred_lnl_lg1, y_test), 3))"
   ]
  },
  {
   "cell_type": "code",
   "execution_count": 1085,
   "metadata": {},
   "outputs": [
    {
     "name": "stdout",
     "output_type": "stream",
     "text": [
      "Light Gradient Boosting: 0.611\n"
     ]
    }
   ],
   "source": [
    "lgbf = LGBMClassifier(n_estimators=1000, num_leaves = 40, n_jobs = -1)\n",
    "lnl_lg2 = LearningWithNoisyLabels(clf=lgbf)\n",
    "lnl_lg2.fit(X = X_train2.to_numpy(), s = y_train2.to_numpy(), noise_matrix = est_nm2)\n",
    "pred_lnl_lg2 = lnl_lg2.predict(X_test2.to_numpy())\n",
    "print(\"Light Gradient Boosting:\", round(accuracy_score(pred_lnl_lg2, y_test2), 3))"
   ]
  },
  {
   "cell_type": "markdown",
   "metadata": {},
   "source": [
    "### `cleanlab` Random Forests"
   ]
  },
  {
   "cell_type": "code",
   "execution_count": 1090,
   "metadata": {},
   "outputs": [
    {
     "name": "stdout",
     "output_type": "stream",
     "text": [
      "Random Forests: 0.691\n"
     ]
    }
   ],
   "source": [
    "rfc = RandomForestClassifier()\n",
    "lnl_rfc1 = LearningWithNoisyLabels(clf=rfc)\n",
    "lnl_rfc1.fit(X = X_train.to_numpy(), s = y_train.to_numpy(), noise_matrix = est_nm)\n",
    "pred_lnl_rfc1 = lnl_rfc1.predict(X_test.to_numpy())\n",
    "print(\"Random Forests:\", round(accuracy_score(pred_lnl_rfc1, y_test), 3))"
   ]
  },
  {
   "cell_type": "code",
   "execution_count": 1093,
   "metadata": {
    "scrolled": true
   },
   "outputs": [
    {
     "name": "stdout",
     "output_type": "stream",
     "text": [
      "Random Forests Boosting: 0.601\n"
     ]
    }
   ],
   "source": [
    "rfc\n",
    "lnl_rfc2 = LearningWithNoisyLabels(clf=rfc)\n",
    "lnl_rfc2.fit(X = X_train2.to_numpy(), s = y_train2.to_numpy(), noise_matrix = est_nm2)\n",
    "pred_lnl_rfc2 = lnl_rfc2.predict(X_test2.to_numpy())\n",
    "print(\"Random Forests Boosting:\", round(accuracy_score(pred_lnl_rfc2, y_test2), 3))"
   ]
  },
  {
   "cell_type": "markdown",
   "metadata": {},
   "source": [
    "## Preliminary `cleanlab` Results:\n",
    "\n",
    "`cleanlab` performs worse in all machine modelling with it's package in place. Specifically, all models had accuracy scores decreased by around 1-5%.\n",
    "\n",
    "There are two possible reasons for this result:\n",
    "1. The dataset had little to no label noise, resulting in worse performance as cleanlab changes true positive classifications to a falsified label.\n",
    "2. Input parameter, `est_nm`, contained inaccurate values, resulting in the model predicting label noise incorrectly.\n",
    "\n",
    "Though the former is incorrect, due to confirmed false negatives, the latter is supported by the differences between the confusion matrices of high performing models and the estimated noise matrix (`est_nm`), which can output the confident_joint (unnormalized estimate of the joint distribution of noisy labels and true labels) for further analysis.\n",
    "\n",
    "\n",
    "Given that `est_nm` = `array([[11688, 39953], [ 9144, 32437]])`, while the confusion matrix of AdaBoost consists of `array([[10540, 2204], [2302, 8262]])`, it's likely that `cleanlab` did not output a noise matrix to a high enough accuracy nor precision for calculating the models. "
   ]
  },
  {
   "cell_type": "code",
   "execution_count": 1141,
   "metadata": {
    "scrolled": true
   },
   "outputs": [
    {
     "data": {
      "text/plain": [
       "Text(0.5, 1.0, 'Confusion Matrix of AdaBoostClassifer')"
      ]
     },
     "execution_count": 1141,
     "metadata": {},
     "output_type": "execute_result"
    },
    {
     "data": {
      "image/png": "[encoded data removed]",
      "text/plain": [
       "<Figure size 864x288 with 2 Axes>"
      ]
     },
     "metadata": {},
     "output_type": "display_data"
    }
   ],
   "source": [
    "ax= plt.subplot()\n",
    "sns.heatmap(confusion_matrix(y_test, y_predada), annot=True, fmt='g');\n",
    "\n",
    "# labels, title and ticks\n",
    "sns.set(font_scale=1)\n",
    "ax.set_xlabel('Predicted labels');ax.set_ylabel('True labels')\n",
    "ax.set_title('Confusion Matrix of AdaBoostClassifer')"
   ]
  },
  {
   "cell_type": "code",
   "execution_count": 1045,
   "metadata": {},
   "outputs": [
    {
     "data": {
      "text/plain": [
       "array([[0.56105991, 0.55191325],\n",
       "       [0.43894009, 0.44808675]])"
      ]
     },
     "execution_count": 1045,
     "metadata": {},
     "output_type": "execute_result"
    }
   ],
   "source": [
    "est_nm"
   ]
  },
  {
   "cell_type": "markdown",
   "metadata": {},
   "source": [
    "## Method 2: Exploratory Analysis of Structured Bias, Grouped by `MSID`\n",
    "\n",
    "The second method of uncovering label noise was based on the assumption that structured group bias was present within both datasets. \n",
    "\n",
    "By examining the trends and weighted averages of model inaccuracies, we can hope to uncover that perhaps some groups of `MSID` patients are continuously misclassified as `CHIP`, where originally labelled as `Control`."
   ]
  },
  {
   "cell_type": "code",
   "execution_count": 289,
   "metadata": {},
   "outputs": [],
   "source": [
    "# Split up training and testing with the same random state such that \n",
    "# rows and indicies appear in the same indices as the testing/training models\n",
    "\n",
    "tX_train, tX_test, ty_train, ty_test = train_test_split(df.drop(['chipOrControl'], axis = 1), \n",
    "                                                    y, train_size=.8, random_state=0)\n",
    "\n",
    "tX_train2, tX_test2, ty_train2, ty_test2 = train_test_split(df2.drop(['chipOrControl'], axis = 1), \n",
    "                                                    y2, train_size=.8, random_state=0)\n",
    "\n",
    "testing = tX_test\n",
    "testing2 = tX_test2"
   ]
  },
  {
   "cell_type": "code",
   "execution_count": 300,
   "metadata": {},
   "outputs": [],
   "source": [
    "# Append new columns with the predicted classifications of the model\n",
    "testing['ada_pred'] = pd.Series(y_predada).values\n",
    "testing['rfc_pred'] = pd.Series(y_predrfc).values\n",
    "testing['dct_pred'] = pd.Series(y_preddct).values\n",
    "testing['knn_pred'] = pd.Series(y_predknn).values\n",
    "testing['chipOrControl'] = ty_test\n",
    "\n",
    "testing2['ada_pred'] = pd.Series(y_predada2).values\n",
    "testing2['rfc_pred'] = pd.Series(y_predrfc2).values\n",
    "testing2['dct_pred'] = pd.Series(y_preddct2).values\n",
    "testing2['knn_pred'] = pd.Series(y_predknn2).values\n",
    "testing2['chipOrControl'] = ty_test2\n",
    "\n",
    "# Sort by MSID for plotting convenience\n",
    "testing = testing.sort_values(by=['MSID'])\n",
    "testing2 = testing2.sort_values(by=['MSID'])"
   ]
  },
  {
   "cell_type": "code",
   "execution_count": 384,
   "metadata": {},
   "outputs": [],
   "source": [
    "# Create separate DataFrames, showing only rows where the model classification is not aligned with testing classifications\n",
    "\n",
    "testing_ada = testing[testing['ada_pred'] != testing['chipOrControl']]\n",
    "testing_dct = testing[testing['dct_pred'] != testing['chipOrControl']]\n",
    "testing_knn = testing[testing['knn_pred'] != testing['chipOrControl']]\n",
    "testing_rfc = testing[testing['rfc_pred'] != testing['chipOrControl']]\n",
    "\n",
    "testing_ada2 = testing2[testing2['ada_pred'] != testing2['chipOrControl']]\n",
    "testing_dct2 = testing2[testing2['dct_pred'] != testing2['chipOrControl']]\n",
    "testing_knn2 = testing2[testing2['knn_pred'] != testing2['chipOrControl']]\n",
    "testing_rfc2 = testing2[testing2['rfc_pred'] != testing2['chipOrControl']]"
   ]
  },
  {
   "cell_type": "code",
   "execution_count": 478,
   "metadata": {},
   "outputs": [],
   "source": [
    "# Create new dataframe detailing inaccuracies of each model\n",
    "msid_counts = pd.DataFrame()\n",
    "\n",
    "msid_counts['x_train'] = testing.MSID.value_counts(sort=False)\n",
    "msid_counts['x_train2'] = testing2.MSID.value_counts(sort=False)\n",
    "\n",
    "msid_counts['ada'] = testing_ada.MSID.value_counts(sort=False)\n",
    "msid_counts['ada2'] = testing_ada2.MSID.value_counts(sort=False)\n",
    "\n",
    "msid_counts['rfc'] = testing_rfc.MSID.value_counts(sort=False)\n",
    "msid_counts['rfc2'] = testing_rfc2.MSID.value_counts(sort=False)\n",
    "\n",
    "msid_counts['dct'] = testing_dct.MSID.value_counts(sort=False)\n",
    "msid_counts['dct2'] = testing_dct2.MSID.value_counts(sort=False)\n",
    "\n",
    "msid_counts['knn'] = testing_knn.MSID.value_counts(sort=False)\n",
    "msid_counts['knn2'] = testing_knn2.MSID.value_counts(sort=False)"
   ]
  },
  {
   "cell_type": "markdown",
   "metadata": {},
   "source": [
    "`msid_counts` provide the frequency of inaccurate labellings for each model per dataset, while grouped by `MSID`."
   ]
  },
  {
   "cell_type": "code",
   "execution_count": 479,
   "metadata": {},
   "outputs": [
    {
     "data": {
      "text/html": [
       "<div>\n",
       "<style scoped>\n",
       "    .dataframe tbody tr th:only-of-type {\n",
       "        vertical-align: middle;\n",
       "    }\n",
       "\n",
       "    .dataframe tbody tr th {\n",
       "        vertical-align: top;\n",
       "    }\n",
       "\n",
       "    .dataframe thead th {\n",
       "        text-align: right;\n",
       "    }\n",
       "</style>\n",
       "<table border=\"1\" class=\"dataframe\">\n",
       "  <thead>\n",
       "    <tr style=\"text-align: right;\">\n",
       "      <th></th>\n",
       "      <th>x_train</th>\n",
       "      <th>x_train2</th>\n",
       "      <th>ada</th>\n",
       "      <th>ada2</th>\n",
       "      <th>rfc</th>\n",
       "      <th>rfc2</th>\n",
       "      <th>dct</th>\n",
       "      <th>dct2</th>\n",
       "      <th>knn</th>\n",
       "      <th>knn2</th>\n",
       "    </tr>\n",
       "  </thead>\n",
       "  <tbody>\n",
       "    <tr>\n",
       "      <th>MS5488</th>\n",
       "      <td>236</td>\n",
       "      <td>227</td>\n",
       "      <td>46</td>\n",
       "      <td>77</td>\n",
       "      <td>50</td>\n",
       "      <td>70</td>\n",
       "      <td>48</td>\n",
       "      <td>87</td>\n",
       "      <td>53</td>\n",
       "      <td>91</td>\n",
       "    </tr>\n",
       "    <tr>\n",
       "      <th>MS4410</th>\n",
       "      <td>328</td>\n",
       "      <td>299</td>\n",
       "      <td>54</td>\n",
       "      <td>102</td>\n",
       "      <td>119</td>\n",
       "      <td>135</td>\n",
       "      <td>61</td>\n",
       "      <td>107</td>\n",
       "      <td>65</td>\n",
       "      <td>122</td>\n",
       "    </tr>\n",
       "    <tr>\n",
       "      <th>MS6638</th>\n",
       "      <td>327</td>\n",
       "      <td>331</td>\n",
       "      <td>88</td>\n",
       "      <td>122</td>\n",
       "      <td>135</td>\n",
       "      <td>146</td>\n",
       "      <td>87</td>\n",
       "      <td>124</td>\n",
       "      <td>80</td>\n",
       "      <td>155</td>\n",
       "    </tr>\n",
       "    <tr>\n",
       "      <th>MS11186</th>\n",
       "      <td>180</td>\n",
       "      <td>239</td>\n",
       "      <td>36</td>\n",
       "      <td>101</td>\n",
       "      <td>76</td>\n",
       "      <td>121</td>\n",
       "      <td>42</td>\n",
       "      <td>110</td>\n",
       "      <td>47</td>\n",
       "      <td>106</td>\n",
       "    </tr>\n",
       "    <tr>\n",
       "      <th>MS15959</th>\n",
       "      <td>343</td>\n",
       "      <td>243</td>\n",
       "      <td>40</td>\n",
       "      <td>63</td>\n",
       "      <td>45</td>\n",
       "      <td>75</td>\n",
       "      <td>45</td>\n",
       "      <td>64</td>\n",
       "      <td>44</td>\n",
       "      <td>80</td>\n",
       "    </tr>\n",
       "    <tr>\n",
       "      <th>...</th>\n",
       "      <td>...</td>\n",
       "      <td>...</td>\n",
       "      <td>...</td>\n",
       "      <td>...</td>\n",
       "      <td>...</td>\n",
       "      <td>...</td>\n",
       "      <td>...</td>\n",
       "      <td>...</td>\n",
       "      <td>...</td>\n",
       "      <td>...</td>\n",
       "    </tr>\n",
       "    <tr>\n",
       "      <th>MS12764</th>\n",
       "      <td>443</td>\n",
       "      <td>495</td>\n",
       "      <td>51</td>\n",
       "      <td>140</td>\n",
       "      <td>70</td>\n",
       "      <td>174</td>\n",
       "      <td>63</td>\n",
       "      <td>153</td>\n",
       "      <td>59</td>\n",
       "      <td>154</td>\n",
       "    </tr>\n",
       "    <tr>\n",
       "      <th>MS12922</th>\n",
       "      <td>108</td>\n",
       "      <td>155</td>\n",
       "      <td>26</td>\n",
       "      <td>46</td>\n",
       "      <td>51</td>\n",
       "      <td>46</td>\n",
       "      <td>27</td>\n",
       "      <td>58</td>\n",
       "      <td>26</td>\n",
       "      <td>63</td>\n",
       "    </tr>\n",
       "    <tr>\n",
       "      <th>MS3780</th>\n",
       "      <td>370</td>\n",
       "      <td>426</td>\n",
       "      <td>70</td>\n",
       "      <td>126</td>\n",
       "      <td>81</td>\n",
       "      <td>122</td>\n",
       "      <td>80</td>\n",
       "      <td>130</td>\n",
       "      <td>56</td>\n",
       "      <td>140</td>\n",
       "    </tr>\n",
       "    <tr>\n",
       "      <th>MS10108</th>\n",
       "      <td>144</td>\n",
       "      <td>213</td>\n",
       "      <td>35</td>\n",
       "      <td>76</td>\n",
       "      <td>43</td>\n",
       "      <td>69</td>\n",
       "      <td>36</td>\n",
       "      <td>78</td>\n",
       "      <td>32</td>\n",
       "      <td>74</td>\n",
       "    </tr>\n",
       "    <tr>\n",
       "      <th>MS13090</th>\n",
       "      <td>161</td>\n",
       "      <td>203</td>\n",
       "      <td>45</td>\n",
       "      <td>72</td>\n",
       "      <td>68</td>\n",
       "      <td>109</td>\n",
       "      <td>48</td>\n",
       "      <td>74</td>\n",
       "      <td>47</td>\n",
       "      <td>93</td>\n",
       "    </tr>\n",
       "  </tbody>\n",
       "</table>\n",
       "<p>88 rows × 10 columns</p>\n",
       "</div>"
      ],
      "text/plain": [
       "         x_train  x_train2  ada  ada2  rfc  rfc2  dct  dct2  knn  knn2\n",
       "MS5488       236       227   46    77   50    70   48    87   53    91\n",
       "MS4410       328       299   54   102  119   135   61   107   65   122\n",
       "MS6638       327       331   88   122  135   146   87   124   80   155\n",
       "MS11186      180       239   36   101   76   121   42   110   47   106\n",
       "MS15959      343       243   40    63   45    75   45    64   44    80\n",
       "...          ...       ...  ...   ...  ...   ...  ...   ...  ...   ...\n",
       "MS12764      443       495   51   140   70   174   63   153   59   154\n",
       "MS12922      108       155   26    46   51    46   27    58   26    63\n",
       "MS3780       370       426   70   126   81   122   80   130   56   140\n",
       "MS10108      144       213   35    76   43    69   36    78   32    74\n",
       "MS13090      161       203   45    72   68   109   48    74   47    93\n",
       "\n",
       "[88 rows x 10 columns]"
      ]
     },
     "execution_count": 479,
     "metadata": {},
     "output_type": "execute_result"
    }
   ],
   "source": [
    "msid_counts"
   ]
  },
  {
   "cell_type": "markdown",
   "metadata": {},
   "source": [
    "We can transform `msid_counts` to find percentage error per model by dividing the sum of frequency inaccuracies by total, denoted by `X_train` or `X_train2`respectively for both datasets.\n",
    "\n",
    "Denote `pct_msid_counts` as the percentage error for a particualr dataset and its model."
   ]
  },
  {
   "cell_type": "code",
   "execution_count": 482,
   "metadata": {},
   "outputs": [],
   "source": [
    "pct_msid_counts = msid_counts.copy(deep=True)\n",
    "\n",
    "pct_msid_counts['ada pct'] = pct_msid_counts.ada / pct_msid_counts.x_train \n",
    "pct_msid_counts['rfc pct'] = pct_msid_counts.rfc / pct_msid_counts.x_train \n",
    "pct_msid_counts['dct pct'] = pct_msid_counts.dct / pct_msid_counts.x_train \n",
    "pct_msid_counts['knn pct'] = pct_msid_counts.knn / pct_msid_counts.x_train \n",
    "\n",
    "pct_msid_counts['ada2 pct'] = pct_msid_counts.ada2 / pct_msid_counts.x_train2\n",
    "pct_msid_counts['rfc2 pct'] = pct_msid_counts.rfc2 / pct_msid_counts.x_train2 \n",
    "pct_msid_counts['dct2 pct'] = pct_msid_counts.dct2 / pct_msid_counts.x_train2 \n",
    "pct_msid_counts['knn2 pct'] = pct_msid_counts.knn2 / pct_msid_counts.x_train2\n",
    "\n",
    "pct_msid_counts.drop(['x_train', 'x_train2'], axis=1, inplace=True)"
   ]
  },
  {
   "cell_type": "code",
   "execution_count": 1148,
   "metadata": {
    "scrolled": false
   },
   "outputs": [
    {
     "data": {
      "text/html": [
       "<div>\n",
       "<style scoped>\n",
       "    .dataframe tbody tr th:only-of-type {\n",
       "        vertical-align: middle;\n",
       "    }\n",
       "\n",
       "    .dataframe tbody tr th {\n",
       "        vertical-align: top;\n",
       "    }\n",
       "\n",
       "    .dataframe thead th {\n",
       "        text-align: right;\n",
       "    }\n",
       "</style>\n",
       "<table border=\"1\" class=\"dataframe\">\n",
       "  <thead>\n",
       "    <tr style=\"text-align: right;\">\n",
       "      <th></th>\n",
       "      <th>ada pct</th>\n",
       "      <th>rfc pct</th>\n",
       "      <th>dct pct</th>\n",
       "      <th>knn pct</th>\n",
       "      <th>ada2 pct</th>\n",
       "      <th>rfc2 pct</th>\n",
       "      <th>dct2 pct</th>\n",
       "      <th>knn2 pct</th>\n",
       "    </tr>\n",
       "  </thead>\n",
       "  <tbody>\n",
       "    <tr>\n",
       "      <th>MS10080</th>\n",
       "      <td>0.271</td>\n",
       "      <td>0.372</td>\n",
       "      <td>0.264</td>\n",
       "      <td>0.310</td>\n",
       "      <td>0.341</td>\n",
       "      <td>0.493</td>\n",
       "      <td>0.363</td>\n",
       "      <td>0.390</td>\n",
       "    </tr>\n",
       "    <tr>\n",
       "      <th>MS10108</th>\n",
       "      <td>0.243</td>\n",
       "      <td>0.299</td>\n",
       "      <td>0.250</td>\n",
       "      <td>0.222</td>\n",
       "      <td>0.357</td>\n",
       "      <td>0.324</td>\n",
       "      <td>0.366</td>\n",
       "      <td>0.347</td>\n",
       "    </tr>\n",
       "    <tr>\n",
       "      <th>MS10284</th>\n",
       "      <td>0.203</td>\n",
       "      <td>0.416</td>\n",
       "      <td>0.255</td>\n",
       "      <td>0.271</td>\n",
       "      <td>0.443</td>\n",
       "      <td>0.500</td>\n",
       "      <td>0.426</td>\n",
       "      <td>0.523</td>\n",
       "    </tr>\n",
       "    <tr>\n",
       "      <th>MS10285</th>\n",
       "      <td>0.205</td>\n",
       "      <td>0.216</td>\n",
       "      <td>0.239</td>\n",
       "      <td>0.170</td>\n",
       "      <td>0.340</td>\n",
       "      <td>0.187</td>\n",
       "      <td>0.351</td>\n",
       "      <td>0.378</td>\n",
       "    </tr>\n",
       "    <tr>\n",
       "      <th>MS10716</th>\n",
       "      <td>0.249</td>\n",
       "      <td>0.249</td>\n",
       "      <td>0.240</td>\n",
       "      <td>0.141</td>\n",
       "      <td>0.387</td>\n",
       "      <td>0.390</td>\n",
       "      <td>0.379</td>\n",
       "      <td>0.398</td>\n",
       "    </tr>\n",
       "    <tr>\n",
       "      <th>...</th>\n",
       "      <td>...</td>\n",
       "      <td>...</td>\n",
       "      <td>...</td>\n",
       "      <td>...</td>\n",
       "      <td>...</td>\n",
       "      <td>...</td>\n",
       "      <td>...</td>\n",
       "      <td>...</td>\n",
       "    </tr>\n",
       "    <tr>\n",
       "      <th>MS8569</th>\n",
       "      <td>0.147</td>\n",
       "      <td>0.154</td>\n",
       "      <td>0.170</td>\n",
       "      <td>0.124</td>\n",
       "      <td>0.371</td>\n",
       "      <td>0.267</td>\n",
       "      <td>0.376</td>\n",
       "      <td>0.407</td>\n",
       "    </tr>\n",
       "    <tr>\n",
       "      <th>MS8886</th>\n",
       "      <td>0.230</td>\n",
       "      <td>0.426</td>\n",
       "      <td>0.241</td>\n",
       "      <td>0.213</td>\n",
       "      <td>0.395</td>\n",
       "      <td>0.571</td>\n",
       "      <td>0.415</td>\n",
       "      <td>0.405</td>\n",
       "    </tr>\n",
       "    <tr>\n",
       "      <th>MS917</th>\n",
       "      <td>0.347</td>\n",
       "      <td>0.408</td>\n",
       "      <td>0.306</td>\n",
       "      <td>0.388</td>\n",
       "      <td>0.367</td>\n",
       "      <td>0.467</td>\n",
       "      <td>0.400</td>\n",
       "      <td>0.420</td>\n",
       "    </tr>\n",
       "    <tr>\n",
       "      <th>MS9695</th>\n",
       "      <td>0.160</td>\n",
       "      <td>0.215</td>\n",
       "      <td>0.189</td>\n",
       "      <td>0.148</td>\n",
       "      <td>0.319</td>\n",
       "      <td>0.310</td>\n",
       "      <td>0.348</td>\n",
       "      <td>0.343</td>\n",
       "    </tr>\n",
       "    <tr>\n",
       "      <th>MS9816</th>\n",
       "      <td>0.227</td>\n",
       "      <td>0.348</td>\n",
       "      <td>0.254</td>\n",
       "      <td>0.194</td>\n",
       "      <td>0.310</td>\n",
       "      <td>0.425</td>\n",
       "      <td>0.334</td>\n",
       "      <td>0.452</td>\n",
       "    </tr>\n",
       "  </tbody>\n",
       "</table>\n",
       "<p>88 rows × 8 columns</p>\n",
       "</div>"
      ],
      "text/plain": [
       "         ada pct  rfc pct  dct pct  knn pct  ada2 pct  rfc2 pct  dct2 pct  \\\n",
       "MS10080    0.271    0.372    0.264    0.310     0.341     0.493     0.363   \n",
       "MS10108    0.243    0.299    0.250    0.222     0.357     0.324     0.366   \n",
       "MS10284    0.203    0.416    0.255    0.271     0.443     0.500     0.426   \n",
       "MS10285    0.205    0.216    0.239    0.170     0.340     0.187     0.351   \n",
       "MS10716    0.249    0.249    0.240    0.141     0.387     0.390     0.379   \n",
       "...          ...      ...      ...      ...       ...       ...       ...   \n",
       "MS8569     0.147    0.154    0.170    0.124     0.371     0.267     0.376   \n",
       "MS8886     0.230    0.426    0.241    0.213     0.395     0.571     0.415   \n",
       "MS917      0.347    0.408    0.306    0.388     0.367     0.467     0.400   \n",
       "MS9695     0.160    0.215    0.189    0.148     0.319     0.310     0.348   \n",
       "MS9816     0.227    0.348    0.254    0.194     0.310     0.425     0.334   \n",
       "\n",
       "         knn2 pct  \n",
       "MS10080     0.390  \n",
       "MS10108     0.347  \n",
       "MS10284     0.523  \n",
       "MS10285     0.378  \n",
       "MS10716     0.398  \n",
       "...           ...  \n",
       "MS8569      0.407  \n",
       "MS8886      0.405  \n",
       "MS917       0.420  \n",
       "MS9695      0.343  \n",
       "MS9816      0.452  \n",
       "\n",
       "[88 rows x 8 columns]"
      ]
     },
     "execution_count": 1148,
     "metadata": {},
     "output_type": "execute_result"
    }
   ],
   "source": [
    "pct_msid_counts.round(3)"
   ]
  },
  {
   "cell_type": "markdown",
   "metadata": {},
   "source": [
    "With the `pct_msid_counts` DataFrame, by averaging inaccuracies across models, separated by datasets, we can find the average error that a model will predict a `MSID`incorrectly."
   ]
  },
  {
   "cell_type": "code",
   "execution_count": 491,
   "metadata": {},
   "outputs": [],
   "source": [
    "pct_msid_counts1 = pct_msid_counts.drop(['ada2 pct', 'rfc2 pct', 'dct2 pct', 'knn2 pct'], axis=1)\n",
    "pct_msid_counts2 = pct_msid_counts.drop(['ada pct', 'rfc pct', 'dct pct', 'knn pct'], axis=1)"
   ]
  },
  {
   "cell_type": "code",
   "execution_count": 502,
   "metadata": {},
   "outputs": [],
   "source": [
    "errors = pd.DataFrame()\n",
    "errors['run1_avg'] = pct_msid_counts1.T.mean()\n",
    "errors['run2_avg'] = pct_msid_counts2.T.mean()"
   ]
  },
  {
   "cell_type": "markdown",
   "metadata": {},
   "source": [
    "Denote `errors` as the average error rate a dataset will predict a `MSID` incorrectly."
   ]
  },
  {
   "cell_type": "code",
   "execution_count": 973,
   "metadata": {},
   "outputs": [
    {
     "data": {
      "text/html": [
       "<div>\n",
       "<style scoped>\n",
       "    .dataframe tbody tr th:only-of-type {\n",
       "        vertical-align: middle;\n",
       "    }\n",
       "\n",
       "    .dataframe tbody tr th {\n",
       "        vertical-align: top;\n",
       "    }\n",
       "\n",
       "    .dataframe thead th {\n",
       "        text-align: right;\n",
       "    }\n",
       "</style>\n",
       "<table border=\"1\" class=\"dataframe\">\n",
       "  <thead>\n",
       "    <tr style=\"text-align: right;\">\n",
       "      <th></th>\n",
       "      <th>run1_avg</th>\n",
       "      <th>run2_avg</th>\n",
       "      <th>chipOrControl</th>\n",
       "    </tr>\n",
       "  </thead>\n",
       "  <tbody>\n",
       "    <tr>\n",
       "      <th>MS10080</th>\n",
       "      <td>0.304</td>\n",
       "      <td>0.397</td>\n",
       "      <td>Control</td>\n",
       "    </tr>\n",
       "    <tr>\n",
       "      <th>MS10108</th>\n",
       "      <td>0.253</td>\n",
       "      <td>0.349</td>\n",
       "      <td>CHIP</td>\n",
       "    </tr>\n",
       "    <tr>\n",
       "      <th>MS10284</th>\n",
       "      <td>0.286</td>\n",
       "      <td>0.473</td>\n",
       "      <td>Control</td>\n",
       "    </tr>\n",
       "    <tr>\n",
       "      <th>MS10285</th>\n",
       "      <td>0.207</td>\n",
       "      <td>0.314</td>\n",
       "      <td>CHIP</td>\n",
       "    </tr>\n",
       "    <tr>\n",
       "      <th>MS10716</th>\n",
       "      <td>0.220</td>\n",
       "      <td>0.389</td>\n",
       "      <td>CHIP</td>\n",
       "    </tr>\n",
       "    <tr>\n",
       "      <th>...</th>\n",
       "      <td>...</td>\n",
       "      <td>...</td>\n",
       "      <td>...</td>\n",
       "    </tr>\n",
       "    <tr>\n",
       "      <th>MS8569</th>\n",
       "      <td>0.149</td>\n",
       "      <td>0.355</td>\n",
       "      <td>CHIP</td>\n",
       "    </tr>\n",
       "    <tr>\n",
       "      <th>MS8886</th>\n",
       "      <td>0.277</td>\n",
       "      <td>0.446</td>\n",
       "      <td>Control</td>\n",
       "    </tr>\n",
       "    <tr>\n",
       "      <th>MS917</th>\n",
       "      <td>0.362</td>\n",
       "      <td>0.413</td>\n",
       "      <td>Control</td>\n",
       "    </tr>\n",
       "    <tr>\n",
       "      <th>MS9695</th>\n",
       "      <td>0.178</td>\n",
       "      <td>0.330</td>\n",
       "      <td>CHIP</td>\n",
       "    </tr>\n",
       "    <tr>\n",
       "      <th>MS9816</th>\n",
       "      <td>0.256</td>\n",
       "      <td>0.380</td>\n",
       "      <td>Control</td>\n",
       "    </tr>\n",
       "  </tbody>\n",
       "</table>\n",
       "<p>88 rows × 3 columns</p>\n",
       "</div>"
      ],
      "text/plain": [
       "         run1_avg  run2_avg chipOrControl\n",
       "MS10080     0.304     0.397       Control\n",
       "MS10108     0.253     0.349          CHIP\n",
       "MS10284     0.286     0.473       Control\n",
       "MS10285     0.207     0.314          CHIP\n",
       "MS10716     0.220     0.389          CHIP\n",
       "...           ...       ...           ...\n",
       "MS8569      0.149     0.355          CHIP\n",
       "MS8886      0.277     0.446       Control\n",
       "MS917       0.362     0.413       Control\n",
       "MS9695      0.178     0.330          CHIP\n",
       "MS9816      0.256     0.380       Control\n",
       "\n",
       "[88 rows x 3 columns]"
      ]
     },
     "execution_count": 973,
     "metadata": {},
     "output_type": "execute_result"
    }
   ],
   "source": [
    "errors"
   ]
  },
  {
   "cell_type": "markdown",
   "metadata": {},
   "source": [
    "Finally, by placing a filter on a minimum average, we can visualise which groups of `MSID` a model classifies inaccurately.\n",
    "Particularly, we find that a 30 and 35% filter is appropriate, as this presents only 9 patients out of the total 88."
   ]
  },
  {
   "cell_type": "code",
   "execution_count": 1155,
   "metadata": {
    "scrolled": true
   },
   "outputs": [
    {
     "data": {
      "text/html": [
       "<style  type=\"text/css\" >\n",
       "</style><table id=\"T_31f62fb4_bea8_11eb_8eec_18dbf24d743f\" ><caption>MSID with high inaccuracy rates per dataset, minimum 30% and 35% respectively</caption><thead>    <tr>        <th class=\"blank level0\" ></th>        <th class=\"col_heading level0 col0\" >run1_avg</th>        <th class=\"col_heading level0 col1\" >run2_avg</th>        <th class=\"col_heading level0 col2\" >chipOrControl</th>    </tr></thead><tbody>\n",
       "                <tr>\n",
       "                        <th id=\"T_31f62fb4_bea8_11eb_8eec_18dbf24d743flevel0_row0\" class=\"row_heading level0 row0\" >MS10080</th>\n",
       "                        <td id=\"T_31f62fb4_bea8_11eb_8eec_18dbf24d743frow0_col0\" class=\"data row0 col0\" >0.304264</td>\n",
       "                        <td id=\"T_31f62fb4_bea8_11eb_8eec_18dbf24d743frow0_col1\" class=\"data row0 col1\" >0.396861</td>\n",
       "                        <td id=\"T_31f62fb4_bea8_11eb_8eec_18dbf24d743frow0_col2\" class=\"data row0 col2\" >Control</td>\n",
       "            </tr>\n",
       "            <tr>\n",
       "                        <th id=\"T_31f62fb4_bea8_11eb_8eec_18dbf24d743flevel0_row1\" class=\"row_heading level0 row1\" >MS13090</th>\n",
       "                        <td id=\"T_31f62fb4_bea8_11eb_8eec_18dbf24d743frow1_col0\" class=\"data row1 col0\" >0.322981</td>\n",
       "                        <td id=\"T_31f62fb4_bea8_11eb_8eec_18dbf24d743frow1_col1\" class=\"data row1 col1\" >0.428571</td>\n",
       "                        <td id=\"T_31f62fb4_bea8_11eb_8eec_18dbf24d743frow1_col2\" class=\"data row1 col2\" >Control</td>\n",
       "            </tr>\n",
       "            <tr>\n",
       "                        <th id=\"T_31f62fb4_bea8_11eb_8eec_18dbf24d743flevel0_row2\" class=\"row_heading level0 row2\" >MS13994</th>\n",
       "                        <td id=\"T_31f62fb4_bea8_11eb_8eec_18dbf24d743frow2_col0\" class=\"data row2 col0\" >0.323864</td>\n",
       "                        <td id=\"T_31f62fb4_bea8_11eb_8eec_18dbf24d743frow2_col1\" class=\"data row2 col1\" >0.441489</td>\n",
       "                        <td id=\"T_31f62fb4_bea8_11eb_8eec_18dbf24d743frow2_col2\" class=\"data row2 col2\" >Control</td>\n",
       "            </tr>\n",
       "            <tr>\n",
       "                        <th id=\"T_31f62fb4_bea8_11eb_8eec_18dbf24d743flevel0_row3\" class=\"row_heading level0 row3\" >MS17137</th>\n",
       "                        <td id=\"T_31f62fb4_bea8_11eb_8eec_18dbf24d743frow3_col0\" class=\"data row3 col0\" >0.333916</td>\n",
       "                        <td id=\"T_31f62fb4_bea8_11eb_8eec_18dbf24d743frow3_col1\" class=\"data row3 col1\" >0.444976</td>\n",
       "                        <td id=\"T_31f62fb4_bea8_11eb_8eec_18dbf24d743frow3_col2\" class=\"data row3 col2\" >Control</td>\n",
       "            </tr>\n",
       "            <tr>\n",
       "                        <th id=\"T_31f62fb4_bea8_11eb_8eec_18dbf24d743flevel0_row4\" class=\"row_heading level0 row4\" >MS5053</th>\n",
       "                        <td id=\"T_31f62fb4_bea8_11eb_8eec_18dbf24d743frow4_col0\" class=\"data row4 col0\" >0.329646</td>\n",
       "                        <td id=\"T_31f62fb4_bea8_11eb_8eec_18dbf24d743frow4_col1\" class=\"data row4 col1\" >0.399148</td>\n",
       "                        <td id=\"T_31f62fb4_bea8_11eb_8eec_18dbf24d743frow4_col2\" class=\"data row4 col2\" >Control</td>\n",
       "            </tr>\n",
       "            <tr>\n",
       "                        <th id=\"T_31f62fb4_bea8_11eb_8eec_18dbf24d743flevel0_row5\" class=\"row_heading level0 row5\" >MS5082</th>\n",
       "                        <td id=\"T_31f62fb4_bea8_11eb_8eec_18dbf24d743frow5_col0\" class=\"data row5 col0\" >0.337500</td>\n",
       "                        <td id=\"T_31f62fb4_bea8_11eb_8eec_18dbf24d743frow5_col1\" class=\"data row5 col1\" >0.462670</td>\n",
       "                        <td id=\"T_31f62fb4_bea8_11eb_8eec_18dbf24d743frow5_col2\" class=\"data row5 col2\" >Control</td>\n",
       "            </tr>\n",
       "            <tr>\n",
       "                        <th id=\"T_31f62fb4_bea8_11eb_8eec_18dbf24d743flevel0_row6\" class=\"row_heading level0 row6\" >MS7260</th>\n",
       "                        <td id=\"T_31f62fb4_bea8_11eb_8eec_18dbf24d743frow6_col0\" class=\"data row6 col0\" >0.317235</td>\n",
       "                        <td id=\"T_31f62fb4_bea8_11eb_8eec_18dbf24d743frow6_col1\" class=\"data row6 col1\" >0.524221</td>\n",
       "                        <td id=\"T_31f62fb4_bea8_11eb_8eec_18dbf24d743frow6_col2\" class=\"data row6 col2\" >Control</td>\n",
       "            </tr>\n",
       "            <tr>\n",
       "                        <th id=\"T_31f62fb4_bea8_11eb_8eec_18dbf24d743flevel0_row7\" class=\"row_heading level0 row7\" >MS8519</th>\n",
       "                        <td id=\"T_31f62fb4_bea8_11eb_8eec_18dbf24d743frow7_col0\" class=\"data row7 col0\" >0.360390</td>\n",
       "                        <td id=\"T_31f62fb4_bea8_11eb_8eec_18dbf24d743frow7_col1\" class=\"data row7 col1\" >0.403974</td>\n",
       "                        <td id=\"T_31f62fb4_bea8_11eb_8eec_18dbf24d743frow7_col2\" class=\"data row7 col2\" >Control</td>\n",
       "            </tr>\n",
       "            <tr>\n",
       "                        <th id=\"T_31f62fb4_bea8_11eb_8eec_18dbf24d743flevel0_row8\" class=\"row_heading level0 row8\" >MS917</th>\n",
       "                        <td id=\"T_31f62fb4_bea8_11eb_8eec_18dbf24d743frow8_col0\" class=\"data row8 col0\" >0.362245</td>\n",
       "                        <td id=\"T_31f62fb4_bea8_11eb_8eec_18dbf24d743frow8_col1\" class=\"data row8 col1\" >0.413333</td>\n",
       "                        <td id=\"T_31f62fb4_bea8_11eb_8eec_18dbf24d743frow8_col2\" class=\"data row8 col2\" >Control</td>\n",
       "            </tr>\n",
       "    </tbody></table>"
      ],
      "text/plain": [
       "<pandas.io.formats.style.Styler at 0x179e6cfb820>"
      ]
     },
     "execution_count": 1155,
     "metadata": {},
     "output_type": "execute_result"
    }
   ],
   "source": [
    "higherror = errors.loc[(errors['run1_avg']>=0.3) & (errors['run2_avg']>= errors.run2_avg.mean())] # run2 avg = 0.354\n",
    "higherror.style.set_caption(\"MSID with high inaccuracy rates per dataset, minimum 30% and 35% respectively\")"
   ]
  },
  {
   "cell_type": "code",
   "execution_count": 896,
   "metadata": {},
   "outputs": [
    {
     "data": {
      "text/plain": [
       "<PandasArray>\n",
       "['MS10080', 'MS13090', 'MS13994', 'MS17137',  'MS5053',  'MS5082',  'MS7260',\n",
       "  'MS8519',   'MS917']\n",
       "Length: 9, dtype: object"
      ]
     },
     "execution_count": 896,
     "metadata": {},
     "output_type": "execute_result"
    }
   ],
   "source": [
    "higherror_msid = higherror.index.array\n",
    "higherror_msid"
   ]
  },
  {
   "cell_type": "markdown",
   "metadata": {},
   "source": [
    "## Assume that for the above MSID, labels are incorrect. \n",
    "### Flip models and rerun models:"
   ]
  },
  {
   "cell_type": "code",
   "execution_count": 887,
   "metadata": {},
   "outputs": [],
   "source": [
    "df_flip = df.copy(deep=True)\n",
    "df_flip2 = df2.copy(deep=True)\n",
    "\n",
    "for msid in higherror_msid:\n",
    "    df_flip.loc[df_flip.MSID == msid, \"chipOrControl\"] = 0\n",
    "\n",
    "for msid in higherror_msid:\n",
    "    df_flip2.loc[df_flip2.MSID == msid, \"chipOrControl\"] = 0\n",
    "    \n",
    "Xf = df_flip.drop(['MSID', 'chipOrControl'], axis = 1) \n",
    "yf = df_flip['chipOrControl'] \n",
    "X_trainf, X_testf, y_trainf, y_testf = train_test_split(Xf, yf, train_size=.8, random_state=0)\n",
    "\n",
    "X2f = df2.drop(['MSID', 'chipOrControl'], axis = 1) \n",
    "y2f = df2['chipOrControl'] \n",
    "X_train2f, X_test2f, y_train2f, y_test2f = train_test_split(X2f, y2f, train_size=.8, random_state=2)"
   ]
  },
  {
   "cell_type": "markdown",
   "metadata": {},
   "source": [
    "### AdaBoost Flipped "
   ]
  },
  {
   "cell_type": "code",
   "execution_count": 904,
   "metadata": {},
   "outputs": [
    {
     "name": "stdout",
     "output_type": "stream",
     "text": [
      "Accuracy 0.823\n"
     ]
    }
   ],
   "source": [
    "adaf = AdaBoostClassifier(DecisionTreeClassifier(), n_estimators=50, learning_rate = 0.5, algorithm= 'SAMME')\n",
    "adaf.fit(X_trainf, y_trainf)\n",
    "y_predadaf = adaf.predict(X_testf)\n",
    "print('Accuracy {0}'.format(np.round(accuracy_score(y_testf, y_predadaf),3)))"
   ]
  },
  {
   "cell_type": "code",
   "execution_count": 908,
   "metadata": {},
   "outputs": [
    {
     "name": "stdout",
     "output_type": "stream",
     "text": [
      "Accuracy 0.692\n"
     ]
    }
   ],
   "source": [
    "adaf2 = AdaBoostClassifier(DecisionTreeClassifier(), n_estimators=50, learning_rate = 0.5, algorithm= 'SAMME')\n",
    "adaf2.fit(X_train2f, y_train2f)\n",
    "y_predadaf2 = adaf2.predict(X_test2f)\n",
    "print('Accuracy {0}'.format(np.round(accuracy_score(y_test2f, y_predadaf2),3)))"
   ]
  },
  {
   "cell_type": "markdown",
   "metadata": {},
   "source": [
    "### KNN Flipped"
   ]
  },
  {
   "cell_type": "code",
   "execution_count": 912,
   "metadata": {
    "scrolled": false
   },
   "outputs": [
    {
     "name": "stdout",
     "output_type": "stream",
     "text": [
      "2 Accuracy 0.821\n",
      "3 Accuracy 0.825\n",
      "4 Accuracy 0.826\n",
      "5 Accuracy 0.823\n",
      "6 Accuracy 0.824\n",
      "7 Accuracy 0.823\n",
      "8 Accuracy 0.821\n",
      "9 Accuracy 0.82\n"
     ]
    }
   ],
   "source": [
    "for i in range(2, 10):\n",
    "    knnf = KNeighborsClassifier(n_neighbors = i, weights='distance', metric = 'manhattan', algorithm = 'kd_tree')\n",
    "    knnf.fit(X_trainf, y_trainf)\n",
    "    y_predknnf = knnf.predict(X_testf)\n",
    "    print(i, 'Accuracy {0}'.format(np.round(accuracy_score(y_testf, y_predknnf),3)))"
   ]
  },
  {
   "cell_type": "code",
   "execution_count": 915,
   "metadata": {},
   "outputs": [
    {
     "name": "stdout",
     "output_type": "stream",
     "text": [
      "10 Accuracy 0.63\n",
      "11 Accuracy 0.629\n",
      "12 Accuracy 0.632\n",
      "13 Accuracy 0.632\n",
      "14 Accuracy 0.633\n"
     ]
    }
   ],
   "source": [
    "for i in range(10, 15):\n",
    "    knn2f = KNeighborsClassifier(n_neighbors = i, weights='distance', metric = 'manhattan', algorithm = 'kd_tree')\n",
    "    knn2f.fit(X_train2f, y_train2f)\n",
    "    y_predknn2f = knn2f.predict(X_test2f)\n",
    "    print(i, 'Accuracy {0}'.format(np.round(accuracy_score(y_test2f, y_predknn2f),3)))"
   ]
  },
  {
   "cell_type": "code",
   "execution_count": 924,
   "metadata": {},
   "outputs": [
    {
     "name": "stdout",
     "output_type": "stream",
     "text": [
      "Accuracy 0.826\n"
     ]
    }
   ],
   "source": [
    "knnf = KNeighborsClassifier(n_neighbors = 4, weights='distance', metric = 'manhattan', algorithm = 'kd_tree')\n",
    "knnf.fit(X_trainf, y_trainf)\n",
    "y_predknnf = knnf.predict(X_testf)\n",
    "print('Accuracy {0}'.format(np.round(accuracy_score(y_testf, y_predknnf),3)))"
   ]
  },
  {
   "cell_type": "code",
   "execution_count": 926,
   "metadata": {},
   "outputs": [
    {
     "name": "stdout",
     "output_type": "stream",
     "text": [
      "Accuracy 0.633\n"
     ]
    }
   ],
   "source": [
    "knn2f = KNeighborsClassifier(n_neighbors = 14, weights='distance', metric = 'manhattan', algorithm = 'kd_tree')\n",
    "knn2f.fit(X_train2f, y_train2f)\n",
    "y_predknn2f = knn2f.predict(X_test2f)\n",
    "print('Accuracy {0}'.format(np.round(accuracy_score(y_test2f, y_predknn2f),3)))"
   ]
  },
  {
   "cell_type": "markdown",
   "metadata": {},
   "source": [
    "### RFC Flipped"
   ]
  },
  {
   "cell_type": "code",
   "execution_count": 918,
   "metadata": {},
   "outputs": [
    {
     "name": "stdout",
     "output_type": "stream",
     "text": [
      "Accuracy 0.736\n"
     ]
    }
   ],
   "source": [
    "rfcf = RandomForestClassifier(n_estimators = 100)\n",
    "rfcf.fit(X_trainf, y_trainf)\n",
    "y_predrfcf = rfcf.predict(X_testf)  \n",
    "print('Accuracy {0}'.format(np.round(accuracy_score(y_testf, y_predrfcf),3)))"
   ]
  },
  {
   "cell_type": "code",
   "execution_count": 921,
   "metadata": {},
   "outputs": [
    {
     "name": "stdout",
     "output_type": "stream",
     "text": [
      "Accuracy 0.629\n"
     ]
    }
   ],
   "source": [
    "rfc2f = RandomForestClassifier(n_estimators = 100)\n",
    "rfc2f.fit(X_train2f, y_train2f)\n",
    "y_predrfc2f = rfc2f.predict(X_test2f)  \n",
    "print('Accuracy {0}'.format(np.round(accuracy_score(y_test2f, y_predrfc2f),3)))"
   ]
  },
  {
   "cell_type": "markdown",
   "metadata": {},
   "source": [
    "### DCT Flipped"
   ]
  },
  {
   "cell_type": "code",
   "execution_count": 927,
   "metadata": {},
   "outputs": [
    {
     "name": "stdout",
     "output_type": "stream",
     "text": [
      "Accuracy 0.793\n"
     ]
    }
   ],
   "source": [
    "dtf = DecisionTreeClassifier()\n",
    "dtf.fit(X_trainf, y_trainf)\n",
    "y_preddctf = dtf.predict(X_testf)  \n",
    "print('Accuracy {0}'.format(np.round(accuracy_score(y_testf, y_preddctf),3)))"
   ]
  },
  {
   "cell_type": "code",
   "execution_count": 922,
   "metadata": {},
   "outputs": [
    {
     "name": "stdout",
     "output_type": "stream",
     "text": [
      "Accuracy 0.66\n"
     ]
    }
   ],
   "source": [
    "dt2f = DecisionTreeClassifier()\n",
    "dt2f.fit(X_train2f, y_train2f)\n",
    "y_preddt2f = dt2f.predict(X_test2f)  \n",
    "print('Accuracy {0}'.format(np.round(accuracy_score(y_test2f, y_preddt2f),3)))"
   ]
  },
  {
   "cell_type": "markdown",
   "metadata": {},
   "source": [
    "### Logistic Regression Flipped"
   ]
  },
  {
   "cell_type": "code",
   "execution_count": 929,
   "metadata": {},
   "outputs": [
    {
     "name": "stdout",
     "output_type": "stream",
     "text": [
      "Accuracy 0.599\n"
     ]
    }
   ],
   "source": [
    "logregf = LogisticRegression(multi_class='ovr')\n",
    "logregf.fit(X_trainf, y_trainf)\n",
    "y_predlogregf = logregf.predict(X_testf)  \n",
    "print('Accuracy {0}'.format(np.round(accuracy_score(y_testf, y_predlogregf),3)))"
   ]
  },
  {
   "cell_type": "code",
   "execution_count": 930,
   "metadata": {},
   "outputs": [
    {
     "name": "stdout",
     "output_type": "stream",
     "text": [
      "Accuracy 0.521\n"
     ]
    }
   ],
   "source": [
    "logreg2f = LogisticRegression(multi_class='ovr')\n",
    "logreg2f.fit(X_train2f, y_train2f)\n",
    "y_predlogreg2f = logreg.predict(X_test2f)  \n",
    "print('Accuracy {0}'.format(np.round(accuracy_score(y_test2f, y_predlogreg2f),3)))"
   ]
  },
  {
   "cell_type": "markdown",
   "metadata": {},
   "source": [
    "### Gaussian Naive Bayes Flipped"
   ]
  },
  {
   "cell_type": "code",
   "execution_count": 961,
   "metadata": {},
   "outputs": [
    {
     "name": "stdout",
     "output_type": "stream",
     "text": [
      "Accuracy 0.463\n"
     ]
    }
   ],
   "source": [
    "gnbf = GaussianNB()\n",
    "gnbf.fit(X_trainf, y_trainf)\n",
    "y_predgnbf = gnbf.predict(X_testf)\n",
    "print('Accuracy {0}'.format(np.round(accuracy_score(y_testf, y_predgnbf),3)))"
   ]
  },
  {
   "cell_type": "code",
   "execution_count": 932,
   "metadata": {},
   "outputs": [
    {
     "name": "stdout",
     "output_type": "stream",
     "text": [
      "Accuracy 0.488\n"
     ]
    }
   ],
   "source": [
    "gnb2f = GaussianNB()\n",
    "gnb2f.fit(X_train2f, y_train2f)\n",
    "y_predgnb2f = gnb2f.predict(X_test2f)\n",
    "print('Accuracy {0}'.format(np.round(accuracy_score(y_test2f, y_predgnb2f),3)))"
   ]
  },
  {
   "cell_type": "markdown",
   "metadata": {},
   "source": [
    "### XGBoost Classifer Flipped"
   ]
  },
  {
   "cell_type": "code",
   "execution_count": 933,
   "metadata": {},
   "outputs": [
    {
     "name": "stdout",
     "output_type": "stream",
     "text": [
      "Accuracy 0.763\n"
     ]
    }
   ],
   "source": [
    "xgf = XGBClassifier(objective='binary:logistic', n_estimators=1000,seed=1, eval_metric='logloss', n_jobs = -1)\n",
    "xgf.fit(X_trainf,y_trainf)\n",
    "y_predxgbf = xgf.predict(X_testf)\n",
    "print('Accuracy {0}'.format(np.round(accuracy_score(y_testf, y_predxgbf),3)))"
   ]
  },
  {
   "cell_type": "code",
   "execution_count": 934,
   "metadata": {},
   "outputs": [
    {
     "name": "stdout",
     "output_type": "stream",
     "text": [
      "Accuracy 0.632\n"
     ]
    }
   ],
   "source": [
    "xg2f = XGBClassifier(objective='binary:logistic', n_estimators=1000,seed=1, eval_metric='logloss', n_jobs = -1)\n",
    "xg2f.fit(X_train2f,y_train2f)\n",
    "y_predxgb2f = xg2f.predict(X_test2f)\n",
    "print('Accuracy {0}'.format(np.round(accuracy_score(y_test2f, y_predxgb2f),3)))"
   ]
  },
  {
   "cell_type": "markdown",
   "metadata": {},
   "source": [
    "### Light Gradient Boosting Flipped"
   ]
  },
  {
   "cell_type": "code",
   "execution_count": 935,
   "metadata": {},
   "outputs": [
    {
     "name": "stdout",
     "output_type": "stream",
     "text": [
      "Accuracy 0.697\n"
     ]
    }
   ],
   "source": [
    "lgbf = LGBMClassifier(n_estimators=1000, num_leaves = 40, n_jobs = -1)\n",
    "lgbf.fit(X_trainf, y_trainf)\n",
    "y_predlgbf = lgbf.predict(X_testf)\n",
    "print('Accuracy {0}'.format(np.round(accuracy_score(y_testf, y_predlgbf),3)))"
   ]
  },
  {
   "cell_type": "code",
   "execution_count": 936,
   "metadata": {},
   "outputs": [
    {
     "name": "stdout",
     "output_type": "stream",
     "text": [
      "Accuracy 0.623\n"
     ]
    }
   ],
   "source": [
    "lgb2f = LGBMClassifier(n_estimators=1000, num_leaves = 40, n_jobs = -1)\n",
    "lgb2f.fit(X_train2f, y_train2f)\n",
    "y_predlgb2f = lgb2f.predict(X_test2f)\n",
    "print('Accuracy {0}'.format(np.round(accuracy_score(y_test2f, y_predlgb2f),3)))"
   ]
  },
  {
   "cell_type": "markdown",
   "metadata": {},
   "source": [
    "# 6. Final Results\n",
    "Finally, now that all accuracy of models have been run over both datasets under different conditions, place all accuracy results into DataFrames and visualise performance of each model."
   ]
  },
  {
   "cell_type": "code",
   "execution_count": 780,
   "metadata": {},
   "outputs": [],
   "source": [
    "res1 = {}\n",
    "res2 = {}\n",
    "\n",
    "res1['K Neighbours'] = np.round(accuracy_score(y_test, y_predknn),3)*100\n",
    "res2['K Neighbours'] = np.round(accuracy_score(y_test2, y_predknn2),3)*100\n",
    "\n",
    "res1['Random Forest'] = np.round(accuracy_score(y_test, y_predrfc),3)*100\n",
    "res2['Random Forest'] = np.round(accuracy_score(y_test2, y_predrfc2),3)*100\n",
    "\n",
    "res1['AdaBoost'] = np.round(accuracy_score(y_test, y_predada),3)*100\n",
    "res2['AdaBoost'] = np.round(accuracy_score(y_test2, y_predada2),3)*100\n",
    "\n",
    "res1['XG Boost'] = np.round(accuracy_score(y_test, y_predxgb),3)*100\n",
    "res2['XG Boost'] = np.round(accuracy_score(y_test2, y_predxgb2),3)*100\n",
    "\n",
    "res1['Decision Trees'] = np.round(accuracy_score(y_test, y_preddct),3)*100\n",
    "res2['Decision Trees'] = np.round(accuracy_score(y_test2, y_preddct2),3)*100\n",
    "\n",
    "res1['Logistic Regression'] = np.round(accuracy_score(y_test, y_predlogreg),3)*100\n",
    "res2['Logistic Regression'] = np.round(accuracy_score(y_test2, y_predlogreg2),3)*100\n",
    "\n",
    "res1['Guassian Naive Bayes'] = np.round(accuracy_score(y_test, y_predgnb),3)*100\n",
    "res2['Guassian Naive Bayes'] = np.round(accuracy_score(y_test2, y_predgnb2),3)*100\n",
    "\n",
    "res1['Light Gradient Boosting'] = np.round(accuracy_score(y_test, y_predlgb),3)*100\n",
    "res2['Light Gradient Boosting'] = np.round(accuracy_score(y_test2, y_predlgb2),3)*100"
   ]
  },
  {
   "cell_type": "code",
   "execution_count": 952,
   "metadata": {},
   "outputs": [
    {
     "data": {
      "text/html": [
       "<div>\n",
       "<style scoped>\n",
       "    .dataframe tbody tr th:only-of-type {\n",
       "        vertical-align: middle;\n",
       "    }\n",
       "\n",
       "    .dataframe tbody tr th {\n",
       "        vertical-align: top;\n",
       "    }\n",
       "\n",
       "    .dataframe thead th {\n",
       "        text-align: right;\n",
       "    }\n",
       "</style>\n",
       "<table border=\"1\" class=\"dataframe\">\n",
       "  <thead>\n",
       "    <tr style=\"text-align: right;\">\n",
       "      <th></th>\n",
       "      <th>Dataset 1</th>\n",
       "      <th>Dataset 2</th>\n",
       "    </tr>\n",
       "  </thead>\n",
       "  <tbody>\n",
       "    <tr>\n",
       "      <th>K Neighbours</th>\n",
       "      <td>81.500</td>\n",
       "      <td>63.000</td>\n",
       "    </tr>\n",
       "    <tr>\n",
       "      <th>Random Forest</th>\n",
       "      <td>72.300</td>\n",
       "      <td>62.500</td>\n",
       "    </tr>\n",
       "    <tr>\n",
       "      <th>AdaBoost</th>\n",
       "      <td>80.700</td>\n",
       "      <td>68.900</td>\n",
       "    </tr>\n",
       "    <tr>\n",
       "      <th>XG Boost</th>\n",
       "      <td>75.600</td>\n",
       "      <td>63.200</td>\n",
       "    </tr>\n",
       "    <tr>\n",
       "      <th>Decision Trees</th>\n",
       "      <td>78.800</td>\n",
       "      <td>66.100</td>\n",
       "    </tr>\n",
       "    <tr>\n",
       "      <th>Logistic Regression</th>\n",
       "      <td>54.700</td>\n",
       "      <td>52.100</td>\n",
       "    </tr>\n",
       "    <tr>\n",
       "      <th>Guassian Naive Bayes</th>\n",
       "      <td>52.700</td>\n",
       "      <td>48.800</td>\n",
       "    </tr>\n",
       "    <tr>\n",
       "      <th>Light Gradient Boosting</th>\n",
       "      <td>67.500</td>\n",
       "      <td>62.300</td>\n",
       "    </tr>\n",
       "  </tbody>\n",
       "</table>\n",
       "</div>"
      ],
      "text/plain": [
       "                         Dataset 1  Dataset 2\n",
       "K Neighbours                81.500     63.000\n",
       "Random Forest               72.300     62.500\n",
       "AdaBoost                    80.700     68.900\n",
       "XG Boost                    75.600     63.200\n",
       "Decision Trees              78.800     66.100\n",
       "Logistic Regression         54.700     52.100\n",
       "Guassian Naive Bayes        52.700     48.800\n",
       "Light Gradient Boosting     67.500     62.300"
      ]
     },
     "execution_count": 952,
     "metadata": {},
     "output_type": "execute_result"
    }
   ],
   "source": [
    "results = pd.DataFrame()\n",
    "results['Dataset 1'] = pd.Series(res1)\n",
    "results['Dataset 2'] = pd.Series(res2)\n",
    "results"
   ]
  },
  {
   "cell_type": "markdown",
   "metadata": {},
   "source": [
    "## `cleanlab` Results"
   ]
  },
  {
   "cell_type": "code",
   "execution_count": 1115,
   "metadata": {},
   "outputs": [],
   "source": [
    "res1_cleanlab = {}\n",
    "res2_cleanlab = {}\n",
    "\n",
    "res1_cleanlab['K Neighbours'] = np.round(accuracy_score(y_testf, pred_lnl_knn1),3)*100\n",
    "res2_cleanlab['K Neighbours'] = np.round(accuracy_score(y_test2f, pred_lnl_knn2),3)*100\n",
    "\n",
    "res1_cleanlab['Random Forest'] = np.round(accuracy_score(y_testf, pred_lnl_rfc1),3)*100\n",
    "res2_cleanlab['Random Forest'] = np.round(accuracy_score(y_test2f, pred_lnl_rfc2),3)*100\n",
    "\n",
    "res1_cleanlab['AdaBoost'] = np.round(accuracy_score(y_testf, pred_lnl_ada1),3)*100\n",
    "res2_cleanlab['AdaBoost'] = np.round(accuracy_score(y_test2f, pred_lnl_ada2),3)*100\n",
    "\n",
    "res1_cleanlab['XG Boost'] = np.round(accuracy_score(y_testf, pred_lnl_xg1),3)*100\n",
    "res2_cleanlab['XG Boost'] = np.round(accuracy_score(y_test2f, pred_lnl_xg2),3)*100\n",
    "\n",
    "res1_cleanlab['Decision Trees'] = np.round(accuracy_score(y_testf, pred_lnl_dct1),3)*100\n",
    "res2_cleanlab['Decision Trees'] = np.round(accuracy_score(y_test2f, pred_lnl_dct2),3)*100\n",
    "\n",
    "res1_cleanlab['Logistic Regression'] = np.round(accuracy_score(y_testf, pred_lnl_log1),3)*100\n",
    "res2_cleanlab['Logistic Regression'] = np.round(accuracy_score(y_test2f, pred_lnl_log2),3)*100\n",
    "\n",
    "res1_cleanlab['Guassian Naive Bayes'] = np.round(accuracy_score(y_testf, pred_lnl_gb1),3)*100\n",
    "res2_cleanlab['Guassian Naive Bayes'] = np.round(accuracy_score(y_test2f, pred_lnl_gb2),3)*100\n",
    "\n",
    "res1_cleanlab['Light Gradient Boosting'] = np.round(accuracy_score(y_testf, pred_lnl_lg1),3)*100\n",
    "res2_cleanlab['Light Gradient Boosting'] = np.round(accuracy_score(y_test2f, pred_lnl_lg2),3)*100"
   ]
  },
  {
   "cell_type": "code",
   "execution_count": 1116,
   "metadata": {},
   "outputs": [
    {
     "data": {
      "text/html": [
       "<div>\n",
       "<style scoped>\n",
       "    .dataframe tbody tr th:only-of-type {\n",
       "        vertical-align: middle;\n",
       "    }\n",
       "\n",
       "    .dataframe tbody tr th {\n",
       "        vertical-align: top;\n",
       "    }\n",
       "\n",
       "    .dataframe thead th {\n",
       "        text-align: right;\n",
       "    }\n",
       "</style>\n",
       "<table border=\"1\" class=\"dataframe\">\n",
       "  <thead>\n",
       "    <tr style=\"text-align: right;\">\n",
       "      <th></th>\n",
       "      <th>Cleanlab Dataset 1</th>\n",
       "      <th>Cleanlab Dataset 2</th>\n",
       "    </tr>\n",
       "  </thead>\n",
       "  <tbody>\n",
       "    <tr>\n",
       "      <th>K Neighbours</th>\n",
       "      <td>76.600</td>\n",
       "      <td>60.100</td>\n",
       "    </tr>\n",
       "    <tr>\n",
       "      <th>Random Forest</th>\n",
       "      <td>68.500</td>\n",
       "      <td>60.100</td>\n",
       "    </tr>\n",
       "    <tr>\n",
       "      <th>AdaBoost</th>\n",
       "      <td>75.900</td>\n",
       "      <td>64.700</td>\n",
       "    </tr>\n",
       "    <tr>\n",
       "      <th>XG Boost</th>\n",
       "      <td>71.600</td>\n",
       "      <td>62.400</td>\n",
       "    </tr>\n",
       "    <tr>\n",
       "      <th>Decision Trees</th>\n",
       "      <td>73.200</td>\n",
       "      <td>60.200</td>\n",
       "    </tr>\n",
       "    <tr>\n",
       "      <th>Logistic Regression</th>\n",
       "      <td>53.800</td>\n",
       "      <td>51.600</td>\n",
       "    </tr>\n",
       "    <tr>\n",
       "      <th>Guassian Naive Bayes</th>\n",
       "      <td>44.200</td>\n",
       "      <td>49.000</td>\n",
       "    </tr>\n",
       "    <tr>\n",
       "      <th>Light Gradient Boosting</th>\n",
       "      <td>64.900</td>\n",
       "      <td>60.600</td>\n",
       "    </tr>\n",
       "  </tbody>\n",
       "</table>\n",
       "</div>"
      ],
      "text/plain": [
       "                         Cleanlab Dataset 1  Cleanlab Dataset 2\n",
       "K Neighbours                         76.600              60.100\n",
       "Random Forest                        68.500              60.100\n",
       "AdaBoost                             75.900              64.700\n",
       "XG Boost                             71.600              62.400\n",
       "Decision Trees                       73.200              60.200\n",
       "Logistic Regression                  53.800              51.600\n",
       "Guassian Naive Bayes                 44.200              49.000\n",
       "Light Gradient Boosting              64.900              60.600"
      ]
     },
     "execution_count": 1116,
     "metadata": {},
     "output_type": "execute_result"
    }
   ],
   "source": [
    "results_lnl = pd.DataFrame()\n",
    "results_lnl['Cleanlab Dataset 1'] = pd.Series(res1_cleanlab)\n",
    "results_lnl['Cleanlab Dataset 2'] = pd.Series(res2_cleanlab)\n",
    "results_lnl"
   ]
  },
  {
   "cell_type": "code",
   "execution_count": 1129,
   "metadata": {},
   "outputs": [
    {
     "data": {
      "image/png": "[encoded data removed]",
      "text/plain": [
       "<Figure size 864x288 with 1 Axes>"
      ]
     },
     "metadata": {
      "needs_background": "light"
     },
     "output_type": "display_data"
    }
   ],
   "source": [
    "res_lnl = pd.concat([results, results_lnl],axis=1)\n",
    "\n",
    "ax = res_lnl.round(2).plot(kind='bar', rot=15)\n",
    "for p in ax.patches:\n",
    "    ax.annotate(str(p.get_height()), (p.get_x()*1.005, p.get_height()*1.005))\n",
    "plt.legend(loc='center left', bbox_to_anchor=(1.0, 0.5))\n",
    "plt.ylabel(\"Accuracy\")\n",
    "plt.title(\"Accuracy scores across datasets with and without Cleanlab Framework\")\n",
    "plt.ylim(0, 100, 10);"
   ]
  },
  {
   "cell_type": "markdown",
   "metadata": {},
   "source": [
    "As previously stated, the accuracy score on the models are subpar, hence, can conclude are not a reliable method of detecting false classifications of `control` within the dataset.\n",
    "\n",
    "In future, perhaps investigating the mathematics more in-depth would aide the performance of these models.\n",
    "\n",
    "Further investigations would start with this paper, *Confident Learning: Estimating Uncertainty in Dataset Labels*:\n",
    "https://arxiv.org/abs/1911.00068"
   ]
  },
  {
   "cell_type": "markdown",
   "metadata": {},
   "source": [
    "## Flipped MSID Models Results"
   ]
  },
  {
   "cell_type": "code",
   "execution_count": 940,
   "metadata": {},
   "outputs": [],
   "source": [
    "res1f = {}\n",
    "res2f = {}\n",
    "\n",
    "res1f['K Neighbours'] = np.round(accuracy_score(y_testf, y_predknnf),3)*100\n",
    "res2f['K Neighbours'] = np.round(accuracy_score(y_test2f, y_predknn2f),3)*100\n",
    "\n",
    "res1f['Random Forest'] = np.round(accuracy_score(y_testf, y_predrfcf),3)*100\n",
    "res2f['Random Forest'] = np.round(accuracy_score(y_test2f, y_predrfc2f),3)*100\n",
    "\n",
    "res1f['AdaBoost'] = np.round(accuracy_score(y_testf, y_predadaf),3)*100\n",
    "res2f['AdaBoost'] = np.round(accuracy_score(y_test2f, y_predadaf2),3)*100\n",
    "\n",
    "res1f['XG Boost'] = np.round(accuracy_score(y_testf, y_predxgb),3)*100\n",
    "res2f['XG Boost'] = np.round(accuracy_score(y_test2f, y_predxgb2),3)*100\n",
    "\n",
    "res1f['Decision Trees'] = np.round(accuracy_score(y_testf, y_preddctf),3)*100\n",
    "res2f['Decision Trees'] = np.round(accuracy_score(y_test2f, y_preddt2f),3)*100\n",
    "\n",
    "res1f['Logistic Regression'] = np.round(accuracy_score(y_testf, y_predlogregf),3)*100\n",
    "res2f['Logistic Regression'] = np.round(accuracy_score(y_test2f, y_predlogreg2f),3)*100\n",
    "\n",
    "res1f['Guassian Naive Bayes'] = np.round(accuracy_score(y_testf, y_predgnbf),3)*100\n",
    "res2f['Guassian Naive Bayes'] = np.round(accuracy_score(y_test2f, y_predgnb2f),3)*100\n",
    "\n",
    "res1f['Light Gradient Boosting'] = np.round(accuracy_score(y_testf, y_predlgbf),3)*100\n",
    "res2f['Light Gradient Boosting'] = np.round(accuracy_score(y_test2f, y_predlgb2f),3)*100"
   ]
  },
  {
   "cell_type": "code",
   "execution_count": 947,
   "metadata": {},
   "outputs": [
    {
     "data": {
      "text/html": [
       "<div>\n",
       "<style scoped>\n",
       "    .dataframe tbody tr th:only-of-type {\n",
       "        vertical-align: middle;\n",
       "    }\n",
       "\n",
       "    .dataframe tbody tr th {\n",
       "        vertical-align: top;\n",
       "    }\n",
       "\n",
       "    .dataframe thead th {\n",
       "        text-align: right;\n",
       "    }\n",
       "</style>\n",
       "<table border=\"1\" class=\"dataframe\">\n",
       "  <thead>\n",
       "    <tr style=\"text-align: right;\">\n",
       "      <th></th>\n",
       "      <th>Dataset 1 Flipped</th>\n",
       "      <th>Dataset 2 Flipped</th>\n",
       "    </tr>\n",
       "  </thead>\n",
       "  <tbody>\n",
       "    <tr>\n",
       "      <th>K Neighbours</th>\n",
       "      <td>82.600</td>\n",
       "      <td>63.300</td>\n",
       "    </tr>\n",
       "    <tr>\n",
       "      <th>Random Forest</th>\n",
       "      <td>73.600</td>\n",
       "      <td>62.900</td>\n",
       "    </tr>\n",
       "    <tr>\n",
       "      <th>AdaBoost</th>\n",
       "      <td>82.300</td>\n",
       "      <td>69.200</td>\n",
       "    </tr>\n",
       "    <tr>\n",
       "      <th>XG Boost</th>\n",
       "      <td>74.400</td>\n",
       "      <td>63.200</td>\n",
       "    </tr>\n",
       "    <tr>\n",
       "      <th>Decision Trees</th>\n",
       "      <td>79.300</td>\n",
       "      <td>66.000</td>\n",
       "    </tr>\n",
       "    <tr>\n",
       "      <th>Logistic Regression</th>\n",
       "      <td>59.900</td>\n",
       "      <td>52.100</td>\n",
       "    </tr>\n",
       "    <tr>\n",
       "      <th>Guassian Naive Bayes</th>\n",
       "      <td>46.300</td>\n",
       "      <td>48.800</td>\n",
       "    </tr>\n",
       "    <tr>\n",
       "      <th>Light Gradient Boosting</th>\n",
       "      <td>69.700</td>\n",
       "      <td>62.300</td>\n",
       "    </tr>\n",
       "  </tbody>\n",
       "</table>\n",
       "</div>"
      ],
      "text/plain": [
       "                         Dataset 1 Flipped  Dataset 2 Flipped\n",
       "K Neighbours                        82.600             63.300\n",
       "Random Forest                       73.600             62.900\n",
       "AdaBoost                            82.300             69.200\n",
       "XG Boost                            74.400             63.200\n",
       "Decision Trees                      79.300             66.000\n",
       "Logistic Regression                 59.900             52.100\n",
       "Guassian Naive Bayes                46.300             48.800\n",
       "Light Gradient Boosting             69.700             62.300"
      ]
     },
     "execution_count": 947,
     "metadata": {},
     "output_type": "execute_result"
    }
   ],
   "source": [
    "results2 = pd.DataFrame()\n",
    "results2['Dataset 1 Flipped'] = pd.Series(res1f)\n",
    "results2['Dataset 2 Flipped'] = pd.Series(res2f)\n",
    "results2"
   ]
  },
  {
   "cell_type": "code",
   "execution_count": 1128,
   "metadata": {},
   "outputs": [
    {
     "data": {
      "image/png": "[encoded data removed]",
      "text/plain": [
       "<Figure size 864x288 with 1 Axes>"
      ]
     },
     "metadata": {
      "needs_background": "light"
     },
     "output_type": "display_data"
    }
   ],
   "source": [
    "restotal = pd.concat([results, results2],axis=1)\n",
    "restotal\n",
    "\n",
    "ax = restotal.round(2).plot(kind='bar', rot=15)\n",
    "for p in ax.patches:\n",
    "    ax.annotate(str(p.get_height()), (p.get_x()*1.005, p.get_height()*1.005))\n",
    "plt.legend(loc='center left', bbox_to_anchor=(1.0, 0.5))\n",
    "plt.ylabel(\"Accuracy\")\n",
    "plt.title(\"Accuracy of CHIP vs Control classification across datasets with and without MSID classification changes\")\n",
    "plt.ylim(0, 100, 10);"
   ]
  },
  {
   "cell_type": "markdown",
   "metadata": {},
   "source": [
    "By flipping the `MSID` of commonly misclassified patients, we visualise that the accuracy of most models increase by a range of 1-5%.\n",
    "\n",
    "Thus, this method via data investigation of structured bias produced favourable results, given that accuracies of better performing models had all increased.\n",
    "\n",
    "# 7. Conclusions\n",
    "\n",
    "From noise label investigation, its uncovered that the `cleanlab` package was not useful in finding misclassified labels given structured bias in `MSID` misclassification. \n",
    "\n",
    "However, further data analysis elucidated particular groups of patients who were continously misclassified (`MSID`: `MS7260` especially with over 50% misclassification rate). As a result, by visualising these trends in data, under the assumption that these sets of labels are ones which are indeed under sequencing noise, have improved our models by changing the labels of these patients."
   ]
  },
  {
   "cell_type": "code",
   "execution_count": null,
   "metadata": {},
   "outputs": [],
   "source": []
  }
 ],
 "metadata": {
  "kernelspec": {
   "display_name": "Python 3",
   "language": "python",
   "name": "python3"
  },
  "language_info": {
   "codemirror_mode": {
    "name": "ipython",
    "version": 3
   },
   "file_extension": ".py",
   "mimetype": "text/x-python",
   "name": "python",
   "nbconvert_exporter": "python",
   "pygments_lexer": "ipython3",
   "version": "3.8.5"
  }
 },
 "nbformat": 4,
 "nbformat_minor": 4
}
