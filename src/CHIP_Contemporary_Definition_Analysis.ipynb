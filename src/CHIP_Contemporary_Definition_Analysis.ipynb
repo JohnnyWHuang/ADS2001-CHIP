{
 "cells": [
  {
   "cell_type": "code",
   "execution_count": 1,
   "metadata": {},
   "outputs": [],
   "source": [
    "import pandas as pd\n",
    "import numpy as np\n",
    "from matplotlib import pyplot as plt\n",
    "from sklearn.model_selection import train_test_split # for splitting the data into training and testing sets\n",
    "from sklearn.linear_model import LinearRegression, Ridge # models we are going to use\n",
    "from sklearn.metrics import r2_score # for comparing the predicted and test values\n",
    "import seaborn as sns;\n",
    "\n",
    "\n",
    "from sklearn.tree import DecisionTreeClassifier, plot_tree\n",
    "from sklearn.ensemble import BaggingClassifier, RandomForestClassifier\n",
    "from sklearn.model_selection import train_test_split\n",
    "from sklearn.metrics import confusion_matrix, accuracy_score"
   ]
  },
  {
   "cell_type": "code",
   "execution_count": 2,
   "metadata": {},
   "outputs": [],
   "source": [
    "from logitplots import plt_confusion_matrix, plt_decision_boundaries, plt_correlation_matrix"
   ]
  },
  {
   "cell_type": "code",
   "execution_count": 3,
   "metadata": {},
   "outputs": [],
   "source": [
    "df_1 = pd.read_csv('chipVariantCalling_run1.tsv', sep = '\\t')\n",
    "df_2 = pd.read_csv('chipVariantCalling_run2.tsv', sep = '\\t', low_memory=False)\n",
    "\n",
    "known1 = df_1[df_1['chipOrControl'].isin(['CHIP', 'Control'])]\n",
    "df1 = known1.drop_duplicates()\n",
    "df1 = df1.rename(columns={\"d.barcode\": \"barcode\"})\n",
    "\n",
    "known2 = df_2[df_2['chipOrControl'].isin(['CHIP', 'Control'])]\n",
    "df2 = known2.drop_duplicates()\n",
    "df2 = df2.rename(columns={\"d.barcode\": \"barcode\"})"
   ]
  },
  {
   "cell_type": "code",
   "execution_count": 4,
   "metadata": {},
   "outputs": [
    {
     "name": "stdout",
     "output_type": "stream",
     "text": [
      "chipOrControl    3623\n",
      "SYMBOL           3623\n",
      "AF               3623\n",
      "ODDRATIO         3623\n",
      "VD               3623\n",
      "dtype: int64\n",
      "chipOrControl    1682\n",
      "SYMBOL           1682\n",
      "AF               1682\n",
      "ODDRATIO         1682\n",
      "VD               1682\n",
      "dtype: int64\n",
      "chipOrControl    0.464256\n",
      "SYMBOL           0.464256\n",
      "AF               0.464256\n",
      "ODDRATIO         0.464256\n",
      "VD               0.464256\n",
      "dtype: float64\n"
     ]
    }
   ],
   "source": [
    "#Making binary\n",
    "df1['gender']=df1.gender.astype(object)\n",
    "df1['chipOrControl']=df1.chipOrControl.astype(object)\n",
    "df1['sampleTimePt']=df1.sampleTimePt.astype(object)\n",
    "\n",
    "df1 = df1.replace({'gender': {'Male': 1, 'Female': 0}})\n",
    "\n",
    "df1 = df1.replace({'sampleTimePt': {'Baseline': 1, 'Y3': 0}})\n",
    "\n",
    "df1 = df1.replace({'chipOrControl': {'CHIP': 1, 'Control': 0}})\n",
    "\n",
    "dfg1 = df1[['chipOrControl', 'SYMBOL', 'AF', 'ODDRATIO', 'VD']]\n",
    "df_chip1 = dfg1[dfg1[\"AF\"] >= 0.02]\n",
    "control_1 = df_chip1[df_chip1['chipOrControl'] == 0]\n",
    "print(df_chip1.count())\n",
    "print(control_1.count())\n",
    "print(control_1.count()/df_chip1.count())"
   ]
  },
  {
   "cell_type": "code",
   "execution_count": 5,
   "metadata": {
    "scrolled": true
   },
   "outputs": [
    {
     "name": "stdout",
     "output_type": "stream",
     "text": [
      "chipOrControl    9328\n",
      "SYMBOL           9328\n",
      "AF               9328\n",
      "ODDRATIO         9328\n",
      "VD               9328\n",
      "dtype: int64\n",
      "chipOrControl    4450\n",
      "SYMBOL           4450\n",
      "AF               4450\n",
      "ODDRATIO         4450\n",
      "VD               4450\n",
      "dtype: int64\n",
      "chipOrControl    0.477058\n",
      "SYMBOL           0.477058\n",
      "AF               0.477058\n",
      "ODDRATIO         0.477058\n",
      "VD               0.477058\n",
      "dtype: float64\n"
     ]
    }
   ],
   "source": [
    "df2['gender']=df2.gender.astype(object)\n",
    "df2['chipOrControl']=df2.chipOrControl.astype(object)\n",
    "df2['sampleTimePt']=df2.sampleTimePt.astype(object)\n",
    "\n",
    "df2 = df2.replace({'gender': {'Male': 1, 'Female': 0}})\n",
    "\n",
    "df2 = df2.replace({'sampleTimePt': {'Baseline': 1, 'Y3': 0}})\n",
    "\n",
    "df2 = df2.replace({'chipOrControl': {'CHIP': 1, 'Control': 0}})\n",
    "\n",
    "dfg2 = df2[['chipOrControl', 'SYMBOL', 'AF', 'ODDRATIO', 'VD']]\n",
    "df_chip2 = dfg2[dfg2[\"AF\"] >= 0.02]\n",
    "control_2 = df_chip2[df_chip2['chipOrControl'] == 0]\n",
    "print(df_chip2.count())\n",
    "print(control_2.count())\n",
    "print(control_2.count()/df_chip2.count())"
   ]
  },
  {
   "cell_type": "code",
   "execution_count": 6,
   "metadata": {},
   "outputs": [
    {
     "name": "stdout",
     "output_type": "stream",
     "text": [
      "Model coefficients are [[-0.037  0.127  0.016]]\n",
      "Model intercept is [0.009]\n"
     ]
    }
   ],
   "source": [
    "X = df_chip1.drop(['chipOrControl', 'SYMBOL'],axis=1) # drop Y from our dataframe\n",
    "y = df_chip1['chipOrControl'] # create a dataframe with just the Y values\n",
    "\n",
    "X = (X-X.mean())/X.std()\n",
    "\n",
    "X_train, X_test, y_train, y_test = train_test_split(X,y,test_size=0.8, random_state=1) \n",
    "\n",
    "from sklearn.linear_model import LogisticRegression # import the LogisticRegression model\n",
    "\n",
    "logreg = LogisticRegression(solver='lbfgs',penalty='none')\n",
    "logreg.fit(X_train,y_train) # fit the training data to the model\n",
    "print('Model coefficients are',np.round(logreg.coef_,3)) # print the model coefficients c1,...,c4\n",
    "print('Model intercept is',np.round(logreg.intercept_,3)) # print the model intercept c0"
   ]
  },
  {
   "cell_type": "code",
   "execution_count": 7,
   "metadata": {},
   "outputs": [
    {
     "name": "stdout",
     "output_type": "stream",
     "text": [
      "Probability table for testing set is:\n",
      "[[0.50115408 0.49884592]\n",
      " [0.49401937 0.50598063]\n",
      " [0.49373196 0.50626804]\n",
      " ...\n",
      " [0.49393156 0.50606844]\n",
      " [0.49797261 0.50202739]\n",
      " [0.49374987 0.50625013]]\n"
     ]
    },
    {
     "data": {
      "image/png": "[encoded data removed]",
      "text/plain": [
       "<Figure size 504x432 with 2 Axes>"
      ]
     },
     "metadata": {
      "needs_background": "light"
     },
     "output_type": "display_data"
    }
   ],
   "source": [
    " y_preda = logreg.predict_proba(X_test) # calculate the probabilities for the test features\n",
    "# print out the probability table with a header\n",
    "print('Probability table for testing set is:')\n",
    "print(y_preda)\n",
    "\n",
    "y_pred=logreg.predict(X_test)\n",
    "\n",
    " from sklearn.metrics import confusion_matrix # import the confusion matrix function\n",
    "cnf_matrix = confusion_matrix(y_test, y_pred) # create a confusion matrix for our actual and predicted values\n",
    "# create a data frame from the confusion matrix with the column and row names being the class_names\n",
    "class_names=['Control', 'CHIP'] # names of the binary classes for plotting\n",
    "cmatrix = pd.DataFrame(cnf_matrix,columns=class_names,index=class_names) \n",
    "f, ax = plt.subplots(figsize=(7,6)) # initialise the plots and axes\n",
    "sns.heatmap(cmatrix, annot=True, linewidths=.5) # plot the confusion matrix as a heatmap\n",
    "plt.title('Confusion matrix') # add a title\n",
    "plt.ylabel('Actual label') # add a ylabel\n",
    "plt.xlabel('Predicted label') # add a xlabel\n",
    "# adjust the bottom and top of the figure, so we can view all of it\n",
    "bottom, top = ax.get_ylim()  # get the y axis limits\n",
    "ax.set_ylim(bottom + 0.5, top - 0.5); # adjust the y axis limits"
   ]
  },
  {
   "cell_type": "code",
   "execution_count": 8,
   "metadata": {
    "scrolled": true
   },
   "outputs": [
    {
     "name": "stdout",
     "output_type": "stream",
     "text": [
      "Accuracy: 0.549\n",
      "Precision: 0.56\n",
      "Recall: 0.801\n"
     ]
    },
    {
     "data": {
      "image/png": "[encoded data removed]",
      "text/plain": [
       "<Figure size 432x288 with 1 Axes>"
      ]
     },
     "metadata": {
      "needs_background": "light"
     },
     "output_type": "display_data"
    }
   ],
   "source": [
    "from sklearn.metrics import accuracy_score, precision_score, recall_score # import the score functions \n",
    "print(\"Accuracy:\",np.round(accuracy_score(y_test, y_pred),3)) # calculate and print the accuracy score\n",
    "print(\"Precision:\",np.round(precision_score(y_test, y_pred),3)) # calculate and print the precision score\n",
    "print(\"Recall:\",np.round(recall_score(y_test, y_pred),3)) # calculate and print the recall score\n",
    "\n",
    "\n",
    " # import the functions to calculate the parameters for the ROC curve and the AUC\n",
    "from sklearn.metrics import roc_curve, roc_auc_score \n",
    "y_pred_proba = logreg.predict_proba(X_test)[::,1] # extract the second column of the model probabilities \n",
    "# calculate the false positive and true positive rates as the threshold is varied, we don't use thresholds\n",
    "fpr, tpr, thresholds = roc_curve(y_test,  y_pred_proba)\n",
    "auc = roc_auc_score(y_test, y_pred_proba) # calculate the area under the ROC curve (AUC)\n",
    "# plot the FPR vs TPR and format label with AUC to 3 decimal places\n",
    "plt.plot(fpr,tpr,label=\"Logistic Regression, auc = %0.3f \" % auc)\n",
    "plt.plot([0,1],[0,1],'k--') # plot x = y for comparison\n",
    "plt.plot([0, 0, 1], [0, 1, 1], 'g--', label=\"'Perfect' Classifier\")\n",
    "plt.xlabel('False Positive Rate') # add xlabel\n",
    "plt.ylabel('True Positive Rate') # add ylabel\n",
    "plt.title('ROC curve') # add title\n",
    "plt.legend(loc='best'); # add legend"
   ]
  },
  {
   "cell_type": "code",
   "execution_count": 9,
   "metadata": {},
   "outputs": [
    {
     "name": "stdout",
     "output_type": "stream",
     "text": [
      "Model coefficients are [[-0.078 -0.053  0.039]]\n",
      "Model intercept is [0.101]\n"
     ]
    }
   ],
   "source": [
    "X = df_chip2.drop(['chipOrControl', 'SYMBOL'],axis=1) # drop Y from our dataframe\n",
    "y = df_chip2['chipOrControl'] # create a dataframe with just the Y values\n",
    "\n",
    "X = (X-X.mean())/X.std()\n",
    "\n",
    "X_train, X_test, y_train, y_test = train_test_split(X,y,test_size=0.8, random_state=1) \n",
    "\n",
    "from sklearn.linear_model import LogisticRegression # import the LogisticRegression model\n",
    "\n",
    "logreg = LogisticRegression(solver='lbfgs',penalty='none')\n",
    "logreg.fit(X_train,y_train) # fit the training data to the model\n",
    "print('Model coefficients are',np.round(logreg.coef_,3)) # print the model coefficients c1,...,c4\n",
    "print('Model intercept is',np.round(logreg.intercept_,3)) # print the model intercept c0"
   ]
  },
  {
   "cell_type": "code",
   "execution_count": 13,
   "metadata": {},
   "outputs": [
    {
     "name": "stdout",
     "output_type": "stream",
     "text": [
      "Probability table for testing set is:\n",
      "[[0.48450332 0.51549668]\n",
      " [0.47023793 0.52976207]\n",
      " [0.46852692 0.53147308]\n",
      " ...\n",
      " [0.46999654 0.53000346]\n",
      " [0.46910863 0.53089137]\n",
      " [0.46798857 0.53201143]]\n"
     ]
    },
    {
     "data": {
      "image/png": "[encoded data removed]",
      "text/plain": [
       "<Figure size 504x432 with 2 Axes>"
      ]
     },
     "metadata": {
      "needs_background": "light"
     },
     "output_type": "display_data"
    }
   ],
   "source": [
    " y_preda = logreg.predict_proba(X_test) # calculate the probabilities for the test features\n",
    "# print out the probability table with a header\n",
    "print('Probability table for testing set is:')\n",
    "print(y_preda)\n",
    "\n",
    "y_pred=logreg.predict(X_test)\n",
    "\n",
    " from sklearn.metrics import confusion_matrix # import the confusion matrix function\n",
    "cnf_matrix = confusion_matrix(y_test, y_pred) # create a confusion matrix for our actual and predicted values\n",
    "# create a data frame from the confusion matrix with the column and row names being the class_names\n",
    "class_names=['Control', 'CHIP'] # names of the binary classes for plotting\n",
    "cmatrix = pd.DataFrame(cnf_matrix,columns=class_names,index=class_names) \n",
    "f, ax = plt.subplots(figsize=(7,6)) # initialise the plots and axes\n",
    "sns.heatmap(cmatrix, annot=True, linewidths=.5) # plot the confusion matrix as a heatmap\n",
    "plt.title('Confusion matrix') # add a title\n",
    "plt.ylabel('Actual label') # add a ylabel\n",
    "plt.xlabel('Predicted label') # add a xlabel\n",
    "# adjust the bottom and top of the figure, so we can view all of it\n",
    "bottom, top = ax.get_ylim()  # get the y axis limits\n",
    "ax.set_ylim(bottom + 0.5, top - 0.5); # adjust the y axis limits"
   ]
  },
  {
   "cell_type": "code",
   "execution_count": 14,
   "metadata": {},
   "outputs": [
    {
     "name": "stdout",
     "output_type": "stream",
     "text": [
      "Accuracy: 0.522\n",
      "Precision: 0.524\n",
      "Recall: 0.926\n"
     ]
    },
    {
     "data": {
      "image/png": "[encoded data removed]",
      "text/plain": [
       "<Figure size 432x288 with 1 Axes>"
      ]
     },
     "metadata": {
      "needs_background": "light"
     },
     "output_type": "display_data"
    }
   ],
   "source": [
    "from sklearn.metrics import accuracy_score, precision_score, recall_score # import the score functions \n",
    "print(\"Accuracy:\",np.round(accuracy_score(y_test, y_pred),3)) # calculate and print the accuracy score\n",
    "print(\"Precision:\",np.round(precision_score(y_test, y_pred),3)) # calculate and print the precision score\n",
    "print(\"Recall:\",np.round(recall_score(y_test, y_pred),3)) # calculate and print the recall score\n",
    "\n",
    "\n",
    " # import the functions to calculate the parameters for the ROC curve and the AUC\n",
    "from sklearn.metrics import roc_curve, roc_auc_score \n",
    "y_pred_proba = logreg.predict_proba(X_test)[::,1] # extract the second column of the model probabilities \n",
    "# calculate the false positive and true positive rates as the threshold is varied, we don't use thresholds\n",
    "fpr, tpr, thresholds = roc_curve(y_test,  y_pred_proba)\n",
    "auc = roc_auc_score(y_test, y_pred_proba) # calculate the area under the ROC curve (AUC)\n",
    "# plot the FPR vs TPR and format label with AUC to 3 decimal places\n",
    "plt.plot(fpr,tpr,label=\"Logistic Regression, auc = %0.3f \" % auc)\n",
    "plt.plot([0,1],[0,1],'k--') # plot x = y for comparison\n",
    "plt.plot([0, 0, 1], [0, 1, 1], 'g--', label=\"'Perfect' Classifier\")\n",
    "plt.xlabel('False Positive Rate') # add xlabel\n",
    "plt.ylabel('True Positive Rate') # add ylabel\n",
    "plt.title('ROC curve') # add title\n",
    "plt.legend(loc='best'); # add legend"
   ]
  },
  {
   "cell_type": "markdown",
   "metadata": {},
   "source": [
    "## Decision Tree Stuff"
   ]
  },
  {
   "cell_type": "code",
   "execution_count": null,
   "metadata": {},
   "outputs": [],
   "source": [
    " # instantatiate the DTC, set random_state so results are repeatable\n",
    "df_dtc = DecisionTreeClassifier(random_state = 4, max_depth = 3) \n",
    "df_dtc = df_dtc.fit(X_train, y_train) # train the model using the training set"
   ]
  },
  {
   "cell_type": "code",
   "execution_count": null,
   "metadata": {},
   "outputs": [],
   "source": [
    " fig, ax = plt.subplots(figsize=(10,9)) # initialise the plots and axes\n",
    "# plot the decision tree for the model df_dtc\n",
    "plot_tree(df_dtc, \n",
    " filled = True, # colour the nodes according to the classifaction\n",
    " rounded = True, # make the nodes have rounded corners\n",
    " class_names = ['Class 1', 'Class 2','Class 3'], # use these names for targets\n",
    " feature_names = X.columns # use these names for features\n",
    " );"
   ]
  },
  {
   "cell_type": "code",
   "execution_count": null,
   "metadata": {
    "scrolled": true
   },
   "outputs": [],
   "source": [
    "Y_pred = df_dtc.predict(X_test) # calculate the predictions of the model for our test set\n",
    "# plot the confusion matrix for the test and predicted target values\n",
    "cm = confusion_matrix(y_test, Y_pred)\n",
    "plt_confusion_matrix(cm, ['Positive','Negative'], 'Decision Tree') \n",
    "print(\"Decision Tree Accuracy:\",np.round(accuracy_score(y_test, Y_pred),3)) # calculate and print the accuracy score"
   ]
  },
  {
   "cell_type": "code",
   "execution_count": null,
   "metadata": {},
   "outputs": [],
   "source": [
    " X = df_chip[['AF','V D']] # drop the target variable for the features\n",
    "y = df_chip['chipOrControl'] # create a target dataframe\n",
    "fig, ax = plt.subplots(figsize=(6,5)) # initialise the plots and axes\n",
    "plt.scatter(X['AF'], X['VD'], c=y); # scatter plot of the two features, coloured based on the target\n",
    "plt.xlabel('AF') # xlabel\n",
    "plt.ylabel('VD') # ylabel"
   ]
  },
  {
   "cell_type": "code",
   "execution_count": null,
   "metadata": {},
   "outputs": [],
   "source": [
    "# split the dataframes into training and testing sets\n",
    "X_train, X_test, y_train, y_test = train_test_split(X, y, random_state = 42)"
   ]
  },
  {
   "cell_type": "code",
   "execution_count": null,
   "metadata": {},
   "outputs": [],
   "source": [
    "fig, axs = plt.subplots(2,2,figsize=(10,9)) # initialise the plots and axes for a 2x2 set of plots\n",
    "# create arrays for contour plots of the decision boundaries\n",
    "xx, yy = np.meshgrid(np.linspace(0,6), np.linspace(200,1800))\n",
    "for i in range(2): # i loops over (0,1)\n",
    "    for j in range(2): # j loops over (0,1)\n",
    "        depth = i*2+j+1 # depth can then be calculated based on i and j\n",
    "        # fit the data to our DTC and specify the maximum depth of the tree\n",
    "        df_dtc = DecisionTreeClassifier(random_state = 42, max_depth=depth).fit(X_train, y_train)\n",
    "        # scatter plot of the two features, coloured based on the target, alpha set the transperancy\n",
    "        # axs[i,j] is (i,j) set of the axes defined above\n",
    "        axs[i,j].scatter(X['AF'], X['ODDRATIO'], c=y, alpha=0.3);\n",
    "        plt_decision_boundaries(df_dtc, xx, yy, ax=axs[i,j], fill=False) # contour plot of the decision boundaries for this classifier\n",
    "        Y_pred = df_dtc.predict(X_test) # calculate the predicted values\n",
    "        accuracy = np.round(accuracy_score(y_test, Y_pred),3) # calculate the accuracy score\n",
    "        # add the depth and accuracy to the title\n",
    "        axs[i,j].set_title('depth = {0}, accuracy = {1}'.format(depth,accuracy)) \n",
    "        # only print axis labels on the left and bottom\n",
    "        if i == 1:\n",
    "            axs[i,j].set_xlabel('AF')\n",
    "        if j == 0:\n",
    "            axs[i,j].set_ylabel('ODDRATIO')"
   ]
  },
  {
   "cell_type": "code",
   "execution_count": null,
   "metadata": {},
   "outputs": [],
   "source": [
    "df_chip.head()"
   ]
  },
  {
   "cell_type": "code",
   "execution_count": null,
   "metadata": {},
   "outputs": [],
   "source": []
  }
 ],
 "metadata": {
  "kernelspec": {
   "display_name": "Python 3",
   "language": "python",
   "name": "python3"
  },
  "language_info": {
   "codemirror_mode": {
    "name": "ipython",
    "version": 3
   },
   "file_extension": ".py",
   "mimetype": "text/x-python",
   "name": "python",
   "nbconvert_exporter": "python",
   "pygments_lexer": "ipython3",
   "version": "3.8.5"
  }
 },
 "nbformat": 4,
 "nbformat_minor": 4
}
