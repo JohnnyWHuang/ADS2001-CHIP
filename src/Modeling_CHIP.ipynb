{
 "cells": [
  {
   "cell_type": "code",
   "execution_count": 2,
   "metadata": {},
   "outputs": [],
   "source": [
    "import pandas as pd\n",
    "import numpy as np\n",
    "from matplotlib import pyplot as plt\n",
    "from sklearn.model_selection import train_test_split # for splitting the data into training and testing sets\n",
    "from sklearn.linear_model import LinearRegression, Ridge # models we are going to use\n",
    "from sklearn.metrics import r2_score # for comparing the predicted and test values\n",
    "import seaborn as sns;"
   ]
  },
  {
   "cell_type": "code",
   "execution_count": 3,
   "metadata": {},
   "outputs": [],
   "source": [
    "df_1 = pd.read_csv('chipVariantCalling_run1.tsv', sep = '\\t')\n",
    "df_2 = pd.read_csv('chipVariantCalling_run2.tsv', sep = '\\t', low_memory=False)"
   ]
  },
  {
   "cell_type": "code",
   "execution_count": 4,
   "metadata": {},
   "outputs": [],
   "source": [
    "known1 = df_1[df_1['chipOrControl'].isin(['CHIP', 'Control'])]\n",
    "df1 = known1.drop_duplicates()\n",
    "df1 = df1.rename(columns={\"d.barcode\": \"barcode\"})\n",
    "\n",
    "known2 = df_2[df_2['chipOrControl'].isin(['CHIP', 'Control'])]\n",
    "df2 = known2.drop_duplicates()\n",
    "df2 = df2.rename(columns={\"d.barcode\": \"barcode\"})"
   ]
  },
  {
   "cell_type": "code",
   "execution_count": 5,
   "metadata": {},
   "outputs": [
    {
     "data": {
      "text/html": [
       "<div>\n",
       "<style scoped>\n",
       "    .dataframe tbody tr th:only-of-type {\n",
       "        vertical-align: middle;\n",
       "    }\n",
       "\n",
       "    .dataframe tbody tr th {\n",
       "        vertical-align: top;\n",
       "    }\n",
       "\n",
       "    .dataframe thead th {\n",
       "        text-align: right;\n",
       "    }\n",
       "</style>\n",
       "<table border=\"1\" class=\"dataframe\">\n",
       "  <thead>\n",
       "    <tr style=\"text-align: right;\">\n",
       "      <th></th>\n",
       "      <th>barcode</th>\n",
       "      <th>DP</th>\n",
       "      <th>VD</th>\n",
       "      <th>AF</th>\n",
       "      <th>HIAF</th>\n",
       "      <th>IMPACT</th>\n",
       "      <th>SYMBOL</th>\n",
       "      <th>loci</th>\n",
       "      <th>sampleTimePt</th>\n",
       "      <th>gender</th>\n",
       "      <th>MSID</th>\n",
       "      <th>BIAS</th>\n",
       "      <th>REFBIAS</th>\n",
       "      <th>VARBIAS</th>\n",
       "      <th>QUAL</th>\n",
       "      <th>ODDRATIO</th>\n",
       "      <th>chipOrControl</th>\n",
       "    </tr>\n",
       "  </thead>\n",
       "  <tbody>\n",
       "    <tr>\n",
       "      <th>0</th>\n",
       "      <td>4010289633</td>\n",
       "      <td>7281</td>\n",
       "      <td>26</td>\n",
       "      <td>0.0036</td>\n",
       "      <td>0.0033</td>\n",
       "      <td>MODERATE</td>\n",
       "      <td>GNB1</td>\n",
       "      <td>chr1:1747196_T/C</td>\n",
       "      <td>Baseline</td>\n",
       "      <td>Male</td>\n",
       "      <td>MS2083</td>\n",
       "      <td>2:2</td>\n",
       "      <td>3644:3596</td>\n",
       "      <td>12:14</td>\n",
       "      <td>34.0</td>\n",
       "      <td>1.182210</td>\n",
       "      <td>CHIP</td>\n",
       "    </tr>\n",
       "    <tr>\n",
       "      <th>4</th>\n",
       "      <td>4010289633</td>\n",
       "      <td>7282</td>\n",
       "      <td>29</td>\n",
       "      <td>0.0040</td>\n",
       "      <td>0.0036</td>\n",
       "      <td>MODERATE</td>\n",
       "      <td>GNB1</td>\n",
       "      <td>chr1:1747250_T/C</td>\n",
       "      <td>Baseline</td>\n",
       "      <td>Male</td>\n",
       "      <td>MS2083</td>\n",
       "      <td>2:2</td>\n",
       "      <td>3639:3606</td>\n",
       "      <td>15:14</td>\n",
       "      <td>32.7</td>\n",
       "      <td>1.061729</td>\n",
       "      <td>CHIP</td>\n",
       "    </tr>\n",
       "    <tr>\n",
       "      <th>8</th>\n",
       "      <td>4010289633</td>\n",
       "      <td>7282</td>\n",
       "      <td>24</td>\n",
       "      <td>0.0033</td>\n",
       "      <td>0.0033</td>\n",
       "      <td>MODERATE</td>\n",
       "      <td>GNB1</td>\n",
       "      <td>chr1:1747256_T/C</td>\n",
       "      <td>Baseline</td>\n",
       "      <td>Male</td>\n",
       "      <td>MS2083</td>\n",
       "      <td>2:2</td>\n",
       "      <td>3626:3607</td>\n",
       "      <td>12:12</td>\n",
       "      <td>34.9</td>\n",
       "      <td>1.005270</td>\n",
       "      <td>CHIP</td>\n",
       "    </tr>\n",
       "    <tr>\n",
       "      <th>12</th>\n",
       "      <td>4010289633</td>\n",
       "      <td>178</td>\n",
       "      <td>2</td>\n",
       "      <td>0.0112</td>\n",
       "      <td>0.0120</td>\n",
       "      <td>MODERATE</td>\n",
       "      <td>NRAS</td>\n",
       "      <td>chr1:115256571_T/C</td>\n",
       "      <td>Baseline</td>\n",
       "      <td>Male</td>\n",
       "      <td>MS2083</td>\n",
       "      <td>2:2</td>\n",
       "      <td>88:88</td>\n",
       "      <td>1:1</td>\n",
       "      <td>37.0</td>\n",
       "      <td>1.000000</td>\n",
       "      <td>CHIP</td>\n",
       "    </tr>\n",
       "    <tr>\n",
       "      <th>13</th>\n",
       "      <td>4010289633</td>\n",
       "      <td>1773</td>\n",
       "      <td>6</td>\n",
       "      <td>0.0034</td>\n",
       "      <td>0.0035</td>\n",
       "      <td>MODERATE</td>\n",
       "      <td>NRAS</td>\n",
       "      <td>chr1:115258674_T/C</td>\n",
       "      <td>Baseline</td>\n",
       "      <td>Male</td>\n",
       "      <td>MS2083</td>\n",
       "      <td>2:2</td>\n",
       "      <td>889:874</td>\n",
       "      <td>3:3</td>\n",
       "      <td>37.0</td>\n",
       "      <td>1.017150</td>\n",
       "      <td>CHIP</td>\n",
       "    </tr>\n",
       "    <tr>\n",
       "      <th>...</th>\n",
       "      <td>...</td>\n",
       "      <td>...</td>\n",
       "      <td>...</td>\n",
       "      <td>...</td>\n",
       "      <td>...</td>\n",
       "      <td>...</td>\n",
       "      <td>...</td>\n",
       "      <td>...</td>\n",
       "      <td>...</td>\n",
       "      <td>...</td>\n",
       "      <td>...</td>\n",
       "      <td>...</td>\n",
       "      <td>...</td>\n",
       "      <td>...</td>\n",
       "      <td>...</td>\n",
       "      <td>...</td>\n",
       "      <td>...</td>\n",
       "    </tr>\n",
       "    <tr>\n",
       "      <th>536725</th>\n",
       "      <td>4010289816</td>\n",
       "      <td>711</td>\n",
       "      <td>2</td>\n",
       "      <td>0.0028</td>\n",
       "      <td>0.0028</td>\n",
       "      <td>MODERATE</td>\n",
       "      <td>BRCC3</td>\n",
       "      <td>chrX:154305513_C/T</td>\n",
       "      <td>Y3</td>\n",
       "      <td>Female</td>\n",
       "      <td>MS6625</td>\n",
       "      <td>2:2</td>\n",
       "      <td>356:353</td>\n",
       "      <td>1:1</td>\n",
       "      <td>31.0</td>\n",
       "      <td>1.008490</td>\n",
       "      <td>Control</td>\n",
       "    </tr>\n",
       "    <tr>\n",
       "      <th>536726</th>\n",
       "      <td>4010289816</td>\n",
       "      <td>711</td>\n",
       "      <td>2</td>\n",
       "      <td>0.0028</td>\n",
       "      <td>0.0029</td>\n",
       "      <td>MODERATE</td>\n",
       "      <td>BRCC3</td>\n",
       "      <td>chrX:154305518_T/C</td>\n",
       "      <td>Y3</td>\n",
       "      <td>Female</td>\n",
       "      <td>MS6625</td>\n",
       "      <td>2:2</td>\n",
       "      <td>355:353</td>\n",
       "      <td>1:1</td>\n",
       "      <td>37.0</td>\n",
       "      <td>1.005660</td>\n",
       "      <td>Control</td>\n",
       "    </tr>\n",
       "    <tr>\n",
       "      <th>536733</th>\n",
       "      <td>4010289816</td>\n",
       "      <td>711</td>\n",
       "      <td>2</td>\n",
       "      <td>0.0028</td>\n",
       "      <td>0.0029</td>\n",
       "      <td>HIGH</td>\n",
       "      <td>BRCC3</td>\n",
       "      <td>chrX:154305518_T/C</td>\n",
       "      <td>Y3</td>\n",
       "      <td>Female</td>\n",
       "      <td>MS6625</td>\n",
       "      <td>2:2</td>\n",
       "      <td>355:353</td>\n",
       "      <td>1:1</td>\n",
       "      <td>37.0</td>\n",
       "      <td>1.005660</td>\n",
       "      <td>Control</td>\n",
       "    </tr>\n",
       "    <tr>\n",
       "      <th>536734</th>\n",
       "      <td>4010289816</td>\n",
       "      <td>711</td>\n",
       "      <td>2</td>\n",
       "      <td>0.0028</td>\n",
       "      <td>0.0029</td>\n",
       "      <td>MODERATE</td>\n",
       "      <td>BRCC3</td>\n",
       "      <td>chrX:154305533_A/T</td>\n",
       "      <td>Y3</td>\n",
       "      <td>Female</td>\n",
       "      <td>MS6625</td>\n",
       "      <td>2:2</td>\n",
       "      <td>356:353</td>\n",
       "      <td>1:1</td>\n",
       "      <td>37.0</td>\n",
       "      <td>1.008490</td>\n",
       "      <td>Control</td>\n",
       "    </tr>\n",
       "    <tr>\n",
       "      <th>536741</th>\n",
       "      <td>4010289816</td>\n",
       "      <td>711</td>\n",
       "      <td>2</td>\n",
       "      <td>0.0028</td>\n",
       "      <td>0.0028</td>\n",
       "      <td>MODERATE</td>\n",
       "      <td>BRCC3</td>\n",
       "      <td>chrX:154305535_C/G</td>\n",
       "      <td>Y3</td>\n",
       "      <td>Female</td>\n",
       "      <td>MS6625</td>\n",
       "      <td>2:2</td>\n",
       "      <td>356:353</td>\n",
       "      <td>1:1</td>\n",
       "      <td>25.0</td>\n",
       "      <td>1.008490</td>\n",
       "      <td>Control</td>\n",
       "    </tr>\n",
       "  </tbody>\n",
       "</table>\n",
       "<p>121936 rows × 17 columns</p>\n",
       "</div>"
      ],
      "text/plain": [
       "           barcode    DP  VD      AF    HIAF    IMPACT SYMBOL  \\\n",
       "0       4010289633  7281  26  0.0036  0.0033  MODERATE   GNB1   \n",
       "4       4010289633  7282  29  0.0040  0.0036  MODERATE   GNB1   \n",
       "8       4010289633  7282  24  0.0033  0.0033  MODERATE   GNB1   \n",
       "12      4010289633   178   2  0.0112  0.0120  MODERATE   NRAS   \n",
       "13      4010289633  1773   6  0.0034  0.0035  MODERATE   NRAS   \n",
       "...            ...   ...  ..     ...     ...       ...    ...   \n",
       "536725  4010289816   711   2  0.0028  0.0028  MODERATE  BRCC3   \n",
       "536726  4010289816   711   2  0.0028  0.0029  MODERATE  BRCC3   \n",
       "536733  4010289816   711   2  0.0028  0.0029      HIGH  BRCC3   \n",
       "536734  4010289816   711   2  0.0028  0.0029  MODERATE  BRCC3   \n",
       "536741  4010289816   711   2  0.0028  0.0028  MODERATE  BRCC3   \n",
       "\n",
       "                      loci sampleTimePt  gender    MSID BIAS    REFBIAS  \\\n",
       "0         chr1:1747196_T/C     Baseline    Male  MS2083  2:2  3644:3596   \n",
       "4         chr1:1747250_T/C     Baseline    Male  MS2083  2:2  3639:3606   \n",
       "8         chr1:1747256_T/C     Baseline    Male  MS2083  2:2  3626:3607   \n",
       "12      chr1:115256571_T/C     Baseline    Male  MS2083  2:2      88:88   \n",
       "13      chr1:115258674_T/C     Baseline    Male  MS2083  2:2    889:874   \n",
       "...                    ...          ...     ...     ...  ...        ...   \n",
       "536725  chrX:154305513_C/T           Y3  Female  MS6625  2:2    356:353   \n",
       "536726  chrX:154305518_T/C           Y3  Female  MS6625  2:2    355:353   \n",
       "536733  chrX:154305518_T/C           Y3  Female  MS6625  2:2    355:353   \n",
       "536734  chrX:154305533_A/T           Y3  Female  MS6625  2:2    356:353   \n",
       "536741  chrX:154305535_C/G           Y3  Female  MS6625  2:2    356:353   \n",
       "\n",
       "       VARBIAS  QUAL  ODDRATIO chipOrControl  \n",
       "0        12:14  34.0  1.182210          CHIP  \n",
       "4        15:14  32.7  1.061729          CHIP  \n",
       "8        12:12  34.9  1.005270          CHIP  \n",
       "12         1:1  37.0  1.000000          CHIP  \n",
       "13         3:3  37.0  1.017150          CHIP  \n",
       "...        ...   ...       ...           ...  \n",
       "536725     1:1  31.0  1.008490       Control  \n",
       "536726     1:1  37.0  1.005660       Control  \n",
       "536733     1:1  37.0  1.005660       Control  \n",
       "536734     1:1  37.0  1.008490       Control  \n",
       "536741     1:1  25.0  1.008490       Control  \n",
       "\n",
       "[121936 rows x 17 columns]"
      ]
     },
     "execution_count": 5,
     "metadata": {},
     "output_type": "execute_result"
    }
   ],
   "source": [
    "df1"
   ]
  },
  {
   "cell_type": "code",
   "execution_count": 6,
   "metadata": {},
   "outputs": [],
   "source": [
    "#Making binary\n",
    "df1['gender']=df1.gender.astype(object)\n",
    "df1['chipOrControl']=df1.chipOrControl.astype(object)\n",
    "df1['sampleTimePt']=df1.sampleTimePt.astype(object)\n",
    "\n",
    "df1 = df1.replace({'gender': {'Male': 1, 'Female': 0}})\n",
    "\n",
    "df1 = df1.replace({'sampleTimePt': {'Baseline': 1, 'Y3': 0}})\n",
    "\n",
    "df1 = df1.replace({'chipOrControl': {'CHIP': 1, 'Control': 0}})"
   ]
  },
  {
   "cell_type": "code",
   "execution_count": 7,
   "metadata": {
    "scrolled": true
   },
   "outputs": [
    {
     "data": {
      "image/png": "[encoded data removed]",
      "text/plain": [
       "<Figure size 720x576 with 2 Axes>"
      ]
     },
     "metadata": {
      "needs_background": "light"
     },
     "output_type": "display_data"
    }
   ],
   "source": [
    "corrs = df1.corr() # calculate the correlation table\n",
    "# as this is a symmetric table, set up a mask so that we only plot values below the main diagonal\n",
    "mask = np.triu(np.ones_like(corrs, dtype=np.bool)) \n",
    "f, ax = plt.subplots(figsize=(10, 8)) # initialise the plots and axes\n",
    "# plot the correlations as a seaborn heatmap, with a colourbar\n",
    "sns.heatmap(corrs, mask=mask, center=0, annot=True, square=True, linewidths=.5) \n",
    "# do some fiddling so that the top and bottom are not obscured\n",
    "bottom, top = ax.get_ylim() \n",
    "ax.set_ylim(bottom + 0.5, top - 0.5);"
   ]
  },
  {
   "cell_type": "code",
   "execution_count": 9,
   "metadata": {},
   "outputs": [
    {
     "data": {
      "text/plain": [
       "chipOrControl    121936\n",
       "SYMBOL           121936\n",
       "AF               121936\n",
       "ODDRATIO         121936\n",
       "VD               121936\n",
       "dtype: int64"
      ]
     },
     "execution_count": 9,
     "metadata": {},
     "output_type": "execute_result"
    }
   ],
   "source": [
    "dfg = df1[['chipOrControl', 'SYMBOL', 'AF', 'ODDRATIO', 'VD']]\n",
    "dfg.count()"
   ]
  },
  {
   "cell_type": "code",
   "execution_count": 10,
   "metadata": {},
   "outputs": [
    {
     "data": {
      "text/html": [
       "<div>\n",
       "<style scoped>\n",
       "    .dataframe tbody tr th:only-of-type {\n",
       "        vertical-align: middle;\n",
       "    }\n",
       "\n",
       "    .dataframe tbody tr th {\n",
       "        vertical-align: top;\n",
       "    }\n",
       "\n",
       "    .dataframe thead th {\n",
       "        text-align: right;\n",
       "    }\n",
       "</style>\n",
       "<table border=\"1\" class=\"dataframe\">\n",
       "  <thead>\n",
       "    <tr style=\"text-align: right;\">\n",
       "      <th></th>\n",
       "      <th>chipOrControl</th>\n",
       "      <th>SYMBOL</th>\n",
       "      <th>AF</th>\n",
       "      <th>ODDRATIO</th>\n",
       "      <th>VD</th>\n",
       "    </tr>\n",
       "  </thead>\n",
       "  <tbody>\n",
       "    <tr>\n",
       "      <th>276</th>\n",
       "      <td>1</td>\n",
       "      <td>DNMT3A</td>\n",
       "      <td>0.0250</td>\n",
       "      <td>1.164410</td>\n",
       "      <td>2</td>\n",
       "    </tr>\n",
       "    <tr>\n",
       "      <th>716</th>\n",
       "      <td>1</td>\n",
       "      <td>TET2</td>\n",
       "      <td>0.5030</td>\n",
       "      <td>1.007435</td>\n",
       "      <td>2113</td>\n",
       "    </tr>\n",
       "    <tr>\n",
       "      <th>1332</th>\n",
       "      <td>1</td>\n",
       "      <td>TET2</td>\n",
       "      <td>1.0000</td>\n",
       "      <td>0.000000</td>\n",
       "      <td>2</td>\n",
       "    </tr>\n",
       "    <tr>\n",
       "      <th>1444</th>\n",
       "      <td>1</td>\n",
       "      <td>TET2</td>\n",
       "      <td>0.0600</td>\n",
       "      <td>2.057400</td>\n",
       "      <td>3</td>\n",
       "    </tr>\n",
       "    <tr>\n",
       "      <th>1452</th>\n",
       "      <td>1</td>\n",
       "      <td>TET2</td>\n",
       "      <td>0.0392</td>\n",
       "      <td>1.040843</td>\n",
       "      <td>2</td>\n",
       "    </tr>\n",
       "  </tbody>\n",
       "</table>\n",
       "</div>"
      ],
      "text/plain": [
       "      chipOrControl  SYMBOL      AF  ODDRATIO    VD\n",
       "276               1  DNMT3A  0.0250  1.164410     2\n",
       "716               1    TET2  0.5030  1.007435  2113\n",
       "1332              1    TET2  1.0000  0.000000     2\n",
       "1444              1    TET2  0.0600  2.057400     3\n",
       "1452              1    TET2  0.0392  1.040843     2"
      ]
     },
     "execution_count": 10,
     "metadata": {},
     "output_type": "execute_result"
    }
   ],
   "source": [
    "df_chip = dfg[dfg[\"AF\"] >= 0.02]\n",
    "df_con = dfg[dfg[\"AF\"] < 0.02]\n",
    "df_chip.head()"
   ]
  },
  {
   "cell_type": "code",
   "execution_count": 12,
   "metadata": {},
   "outputs": [
    {
     "name": "stdout",
     "output_type": "stream",
     "text": [
      "34\n",
      "36\n"
     ]
    }
   ],
   "source": [
    "g_con = dfg_con['SYMBOL'].unique()\n",
    "g_chip = df_chip['SYMBOL'].unique()\n",
    "print(len(g_con))\n",
    "print(len(g_chip))"
   ]
  },
  {
   "cell_type": "code",
   "execution_count": 13,
   "metadata": {},
   "outputs": [
    {
     "data": {
      "text/plain": [
       "{'AC078842.3', 'LY9'}"
      ]
     },
     "execution_count": 13,
     "metadata": {},
     "output_type": "execute_result"
    }
   ],
   "source": [
    "set(g_chip)-set(g_con)"
   ]
  },
  {
   "cell_type": "code",
   "execution_count": 14,
   "metadata": {},
   "outputs": [
    {
     "name": "stdout",
     "output_type": "stream",
     "text": [
      "chipOrControl    15\n",
      "SYMBOL           15\n",
      "AF               15\n",
      "ODDRATIO         15\n",
      "VD               15\n",
      "dtype: int64\n",
      "chipOrControl    78\n",
      "SYMBOL           78\n",
      "AF               78\n",
      "ODDRATIO         78\n",
      "VD               78\n",
      "dtype: int64\n"
     ]
    }
   ],
   "source": [
    "print(df_con[df_con['SYMBOL'] == 'AC078842.3'].count())\n",
    "print(df_con[df_con['SYMBOL'] == 'LY9'].count())"
   ]
  },
  {
   "cell_type": "code",
   "execution_count": 17,
   "metadata": {},
   "outputs": [],
   "source": [
    "X = dfg.drop(['AF', 'SYMBOL'],axis=1) # drop Y from our dataframe\n",
    "Y = dfg['AF'] # create a dataframe with just the Y values\n"
   ]
  },
  {
   "cell_type": "code",
   "execution_count": 18,
   "metadata": {},
   "outputs": [
    {
     "name": "stdout",
     "output_type": "stream",
     "text": [
      "Training score is 0.2436\n",
      "Testing score is 0.1166\n"
     ]
    }
   ],
   "source": [
    "rng = np.random.RandomState(1) # make sure the results are repeatable\n",
    "# split into a training set with 80% of the data, and a testing set as the remainder\n",
    "X_train, X_test, Y_train, Y_test = train_test_split(X,Y,test_size=0.8) \n",
    "linear = LinearRegression() # instantatiate the linear regression model\n",
    "linear.fit(X_train,Y_train) # fit the data to the model\n",
    "training_score = linear.score(X_train,Y_train) # calculate rsq for the training set\n",
    "# use the independent variables for the testing set to predict the target variable\n",
    "preds_linear = linear.predict(X_test) \n",
    "# calculate the correlation of the predicted and actual target variables\n",
    "rsquared_linear = r2_score(Y_test,preds_linear) \n",
    "# print the training and testing scores\n",
    "print(\"Training score is\",round(training_score,4))\n",
    "print(\"Testing score is\",round(rsquared_linear,4))"
   ]
  },
  {
   "cell_type": "code",
   "execution_count": 19,
   "metadata": {},
   "outputs": [
    {
     "data": {
      "image/png": "[encoded data removed]",
      "text/plain": [
       "<Figure size 432x288 with 1 Axes>"
      ]
     },
     "metadata": {
      "needs_background": "light"
     },
     "output_type": "display_data"
    }
   ],
   "source": [
    "plt.scatter(preds_linear,Y_test) # scatter plot of predicted values against actual values\n",
    "# use numpy polyfit and poly1d to create a function for the line of best fit, then plot this function in blue\n",
    "p1 = np.poly1d(np.polyfit(preds_linear, Y_test, 1))\n",
    "plt.plot(Y_test,p1(Y_test),'b--')\n",
    "plt.title(\"Linear Regression, Rsq=%f\" % rsquared_linear) # add a title including the correlation coefficient\n",
    "plt.xlabel(\"Predicted\") # xlabel\n",
    "plt.ylabel(\"Actual\") # ylabel\n",
    "plt.plot(Y_test,Y_test,'k--') # add x=y line in black for comparison\n",
    "plt.show() # display the final plot"
   ]
  },
  {
   "cell_type": "code",
   "execution_count": 60,
   "metadata": {},
   "outputs": [
    {
     "data": {
      "text/html": [
       "<div>\n",
       "<style scoped>\n",
       "    .dataframe tbody tr th:only-of-type {\n",
       "        vertical-align: middle;\n",
       "    }\n",
       "\n",
       "    .dataframe tbody tr th {\n",
       "        vertical-align: top;\n",
       "    }\n",
       "\n",
       "    .dataframe thead th {\n",
       "        text-align: right;\n",
       "    }\n",
       "</style>\n",
       "<table border=\"1\" class=\"dataframe\">\n",
       "  <thead>\n",
       "    <tr style=\"text-align: right;\">\n",
       "      <th></th>\n",
       "      <th>chipOrControl</th>\n",
       "      <th>SYMBOL</th>\n",
       "      <th>AF</th>\n",
       "      <th>ODDRATIO</th>\n",
       "      <th>VD</th>\n",
       "    </tr>\n",
       "  </thead>\n",
       "  <tbody>\n",
       "    <tr>\n",
       "      <th>276</th>\n",
       "      <td>1</td>\n",
       "      <td>DNMT3A</td>\n",
       "      <td>0.0250</td>\n",
       "      <td>1.164410</td>\n",
       "      <td>2</td>\n",
       "    </tr>\n",
       "    <tr>\n",
       "      <th>716</th>\n",
       "      <td>1</td>\n",
       "      <td>TET2</td>\n",
       "      <td>0.5030</td>\n",
       "      <td>1.007435</td>\n",
       "      <td>2113</td>\n",
       "    </tr>\n",
       "    <tr>\n",
       "      <th>1332</th>\n",
       "      <td>1</td>\n",
       "      <td>TET2</td>\n",
       "      <td>1.0000</td>\n",
       "      <td>0.000000</td>\n",
       "      <td>2</td>\n",
       "    </tr>\n",
       "    <tr>\n",
       "      <th>1444</th>\n",
       "      <td>1</td>\n",
       "      <td>TET2</td>\n",
       "      <td>0.0600</td>\n",
       "      <td>2.057400</td>\n",
       "      <td>3</td>\n",
       "    </tr>\n",
       "    <tr>\n",
       "      <th>1452</th>\n",
       "      <td>1</td>\n",
       "      <td>TET2</td>\n",
       "      <td>0.0392</td>\n",
       "      <td>1.040843</td>\n",
       "      <td>2</td>\n",
       "    </tr>\n",
       "  </tbody>\n",
       "</table>\n",
       "</div>"
      ],
      "text/plain": [
       "      chipOrControl  SYMBOL      AF  ODDRATIO    VD\n",
       "276               1  DNMT3A  0.0250  1.164410     2\n",
       "716               1    TET2  0.5030  1.007435  2113\n",
       "1332              1    TET2  1.0000  0.000000     2\n",
       "1444              1    TET2  0.0600  2.057400     3\n",
       "1452              1    TET2  0.0392  1.040843     2"
      ]
     },
     "execution_count": 60,
     "metadata": {},
     "output_type": "execute_result"
    }
   ],
   "source": [
    "df_chip.head()"
   ]
  },
  {
   "cell_type": "code",
   "execution_count": 61,
   "metadata": {},
   "outputs": [
    {
     "name": "stdout",
     "output_type": "stream",
     "text": [
      "chipOrControl    0.464256\n",
      "SYMBOL           0.464256\n",
      "AF               0.464256\n",
      "ODDRATIO         0.464256\n",
      "VD               0.464256\n",
      "dtype: float64\n"
     ]
    }
   ],
   "source": [
    "# This percentage is how many of the ones which, by definition should be classified as CHIP but were classified as control.\n",
    "control = df_chip[df_chip['chipOrControl'] == 0]\n",
    "print(control.count()/df_chip.count())"
   ]
  },
  {
   "cell_type": "code",
   "execution_count": 54,
   "metadata": {},
   "outputs": [
    {
     "name": "stdout",
     "output_type": "stream",
     "text": [
      "Model coefficients are [[ 0.037 -0.127 -0.016]]\n",
      "Model intercept is [0.009]\n"
     ]
    }
   ],
   "source": [
    "X = df_chip.drop(['chipOrControl', 'SYMBOL'],axis=1) # drop Y from our dataframe\n",
    "y = df_chip['chipOrControl'] # create a dataframe with just the Y values\n",
    "\n",
    "X = -(X-X.mean())/X.std()\n",
    "\n",
    "X_train, X_test, y_train, y_test = train_test_split(X,y,test_size=0.8, random_state=1) \n",
    "\n",
    "from sklearn.linear_model import LogisticRegression # import the LogisticRegression model\n",
    "\n",
    "logreg = LogisticRegression(solver='lbfgs',penalty='none')\n",
    "logreg.fit(X_train,y_train) # fit the training data to the model\n",
    "print('Model coefficients are',np.round(logreg.coef_,3)) # print the model coefficients c1,...,c4\n",
    "print('Model intercept is',np.round(logreg.intercept_,3)) # print the model intercept c0"
   ]
  },
  {
   "cell_type": "code",
   "execution_count": 55,
   "metadata": {},
   "outputs": [
    {
     "name": "stdout",
     "output_type": "stream",
     "text": [
      "Probability table for testing set is:\n",
      "[[0.50115408 0.49884592]\n",
      " [0.49401937 0.50598063]\n",
      " [0.49373196 0.50626804]\n",
      " ...\n",
      " [0.49393156 0.50606844]\n",
      " [0.49797261 0.50202739]\n",
      " [0.49374987 0.50625013]]\n"
     ]
    }
   ],
   "source": [
    " y_preda = logreg.predict_proba(X_test) # calculate the probabilities for the test features\n",
    "# print out the probability table with a header\n",
    "print('Probability table for testing set is:')\n",
    "print(y_preda)"
   ]
  },
  {
   "cell_type": "code",
   "execution_count": 56,
   "metadata": {},
   "outputs": [],
   "source": [
    "y_pred=logreg.predict(X_test)"
   ]
  },
  {
   "cell_type": "code",
   "execution_count": 57,
   "metadata": {},
   "outputs": [
    {
     "data": {
      "image/png": "[encoded data removed]",
      "text/plain": [
       "<Figure size 504x432 with 2 Axes>"
      ]
     },
     "metadata": {
      "needs_background": "light"
     },
     "output_type": "display_data"
    }
   ],
   "source": [
    " from sklearn.metrics import confusion_matrix # import the confusion matrix function\n",
    "cnf_matrix = confusion_matrix(y_test, y_pred) # create a confusion matrix for our actual and predicted values\n",
    "# create a data frame from the confusion matrix with the column and row names being the class_names\n",
    "class_names=['Control', 'CHIP'] # names of the binary classes for plotting\n",
    "cmatrix = pd.DataFrame(cnf_matrix,columns=class_names,index=class_names) \n",
    "f, ax = plt.subplots(figsize=(7,6)) # initialise the plots and axes\n",
    "sns.heatmap(cmatrix, annot=True, linewidths=.5) # plot the confusion matrix as a heatmap\n",
    "plt.title('Confusion matrix') # add a title\n",
    "plt.ylabel('Actual label') # add a ylabel\n",
    "plt.xlabel('Predicted label') # add a xlabel\n",
    "# adjust the bottom and top of the figure, so we can view all of it\n",
    "bottom, top = ax.get_ylim()  # get the y axis limits\n",
    "ax.set_ylim(bottom + 0.5, top - 0.5); # adjust the y axis limits"
   ]
  },
  {
   "cell_type": "code",
   "execution_count": null,
   "metadata": {},
   "outputs": [],
   "source": []
  }
 ],
 "metadata": {
  "kernelspec": {
   "display_name": "Python 3",
   "language": "python",
   "name": "python3"
  },
  "language_info": {
   "codemirror_mode": {
    "name": "ipython",
    "version": 3
   },
   "file_extension": ".py",
   "mimetype": "text/x-python",
   "name": "python",
   "nbconvert_exporter": "python",
   "pygments_lexer": "ipython3",
   "version": "3.7.6"
  }
 },
 "nbformat": 4,
 "nbformat_minor": 4
}
