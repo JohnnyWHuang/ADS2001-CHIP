{
 "cells": [
  {
   "cell_type": "code",
   "execution_count": 1,
   "metadata": {},
   "outputs": [],
   "source": [
    "import numpy as np\n",
    "import pandas as pd\n",
    "import pandas_profiling as pp\n",
    "import math\n",
    "import random\n",
    "import seaborn as sns\n",
    "import matplotlib.pyplot as plt\n",
    "%matplotlib inline\n",
    "\n",
    "# preprocessing\n",
    "import sklearn\n",
    "from sklearn.preprocessing import LabelEncoder, StandardScaler, MinMaxScaler, RobustScaler\n",
    "from sklearn.model_selection import train_test_split, GridSearchCV, StratifiedKFold, learning_curve, ShuffleSplit\n",
    "from sklearn.model_selection import cross_val_predict as cvp\n",
    "from sklearn import metrics\n",
    "from sklearn.metrics import r2_score, mean_absolute_error, mean_squared_error, accuracy_score, confusion_matrix, explained_variance_score\n",
    "from sklearn.feature_selection import VarianceThreshold\n",
    "from sklearn.feature_selection import SelectFromModel, SelectKBest, RFE, chi2\n",
    "\n",
    "# models\n",
    "from sklearn.linear_model import LinearRegression, LogisticRegression, Perceptron, RidgeClassifier, SGDClassifier, LassoCV\n",
    "from sklearn.svm import SVC, LinearSVC, SVR\n",
    "from sklearn.ensemble import RandomForestClassifier, GradientBoostingClassifier, ExtraTreesClassifier \n",
    "from sklearn.ensemble import BaggingClassifier, AdaBoostClassifier, VotingClassifier\n",
    "from sklearn.ensemble import RandomForestClassifier\n",
    "from sklearn.naive_bayes import GaussianNB\n",
    "from sklearn.neighbors import KNeighborsClassifier\n",
    "from sklearn.gaussian_process import GaussianProcessClassifier\n",
    "from sklearn.neural_network import MLPClassifier\n",
    "from sklearn.tree import DecisionTreeClassifier, plot_tree\n",
    "from sklearn import metrics\n",
    "import xgboost as xgb\n",
    "from xgboost import XGBClassifier\n",
    "import lightgbm as lgb\n",
    "from lightgbm import LGBMClassifier\n",
    "\n",
    "# NN models\n",
    "import keras\n",
    "from keras.models import Sequential\n",
    "from keras.layers import Dense\n",
    "from keras import optimizers\n",
    "from keras.wrappers.scikit_learn import KerasClassifier\n",
    "\n",
    "import warnings\n",
    "warnings.filterwarnings(\"ignore\")"
   ]
  },
  {
   "cell_type": "code",
   "execution_count": 2,
   "metadata": {},
   "outputs": [],
   "source": [
    "# pip install pytorch_tabnet"
   ]
  },
  {
   "cell_type": "code",
   "execution_count": 3,
   "metadata": {},
   "outputs": [],
   "source": [
    "from pytorch_tabnet.tab_model import TabNetClassifier"
   ]
  },
  {
   "cell_type": "code",
   "execution_count": 4,
   "metadata": {},
   "outputs": [],
   "source": [
    "pd.set_option('display.max_columns', None)\n",
    "pd.set_option('float_format', '{:f}'.format)"
   ]
  },
  {
   "cell_type": "code",
   "execution_count": 5,
   "metadata": {},
   "outputs": [
    {
     "data": {
      "text/html": [
       "<div>\n",
       "<style scoped>\n",
       "    .dataframe tbody tr th:only-of-type {\n",
       "        vertical-align: middle;\n",
       "    }\n",
       "\n",
       "    .dataframe tbody tr th {\n",
       "        vertical-align: top;\n",
       "    }\n",
       "\n",
       "    .dataframe thead th {\n",
       "        text-align: right;\n",
       "    }\n",
       "</style>\n",
       "<table border=\"1\" class=\"dataframe\">\n",
       "  <thead>\n",
       "    <tr style=\"text-align: right;\">\n",
       "      <th></th>\n",
       "      <th>d.barcode</th>\n",
       "      <th>DP</th>\n",
       "      <th>VD</th>\n",
       "      <th>AF</th>\n",
       "      <th>HIAF</th>\n",
       "      <th>IMPACT</th>\n",
       "      <th>SYMBOL</th>\n",
       "      <th>loci</th>\n",
       "      <th>sampleTimePt</th>\n",
       "      <th>gender</th>\n",
       "      <th>MSID</th>\n",
       "      <th>BIAS</th>\n",
       "      <th>REFBIAS</th>\n",
       "      <th>VARBIAS</th>\n",
       "      <th>QUAL</th>\n",
       "      <th>ODDRATIO</th>\n",
       "      <th>chipOrControl</th>\n",
       "    </tr>\n",
       "  </thead>\n",
       "  <tbody>\n",
       "    <tr>\n",
       "      <th>0</th>\n",
       "      <td>4010289633</td>\n",
       "      <td>7281</td>\n",
       "      <td>26</td>\n",
       "      <td>0.003600</td>\n",
       "      <td>0.003300</td>\n",
       "      <td>MODERATE</td>\n",
       "      <td>GNB1</td>\n",
       "      <td>chr1:1747196_T/C</td>\n",
       "      <td>Baseline</td>\n",
       "      <td>Male</td>\n",
       "      <td>MS2083</td>\n",
       "      <td>2:2</td>\n",
       "      <td>3644:3596</td>\n",
       "      <td>12:14</td>\n",
       "      <td>34.000000</td>\n",
       "      <td>1.182210</td>\n",
       "      <td>CHIP</td>\n",
       "    </tr>\n",
       "    <tr>\n",
       "      <th>1</th>\n",
       "      <td>4010289633</td>\n",
       "      <td>7281</td>\n",
       "      <td>26</td>\n",
       "      <td>0.003600</td>\n",
       "      <td>0.003300</td>\n",
       "      <td>MODERATE</td>\n",
       "      <td>GNB1</td>\n",
       "      <td>chr1:1747196_T/C</td>\n",
       "      <td>Baseline</td>\n",
       "      <td>Male</td>\n",
       "      <td>MS2083</td>\n",
       "      <td>2:2</td>\n",
       "      <td>3644:3596</td>\n",
       "      <td>12:14</td>\n",
       "      <td>34.000000</td>\n",
       "      <td>1.182210</td>\n",
       "      <td>CHIP</td>\n",
       "    </tr>\n",
       "    <tr>\n",
       "      <th>2</th>\n",
       "      <td>4010289633</td>\n",
       "      <td>7281</td>\n",
       "      <td>26</td>\n",
       "      <td>0.003600</td>\n",
       "      <td>0.003300</td>\n",
       "      <td>MODERATE</td>\n",
       "      <td>GNB1</td>\n",
       "      <td>chr1:1747196_T/C</td>\n",
       "      <td>Baseline</td>\n",
       "      <td>Male</td>\n",
       "      <td>MS2083</td>\n",
       "      <td>2:2</td>\n",
       "      <td>3644:3596</td>\n",
       "      <td>12:14</td>\n",
       "      <td>34.000000</td>\n",
       "      <td>1.182210</td>\n",
       "      <td>CHIP</td>\n",
       "    </tr>\n",
       "    <tr>\n",
       "      <th>3</th>\n",
       "      <td>4010289633</td>\n",
       "      <td>7281</td>\n",
       "      <td>26</td>\n",
       "      <td>0.003600</td>\n",
       "      <td>0.003300</td>\n",
       "      <td>MODERATE</td>\n",
       "      <td>GNB1</td>\n",
       "      <td>chr1:1747196_T/C</td>\n",
       "      <td>Baseline</td>\n",
       "      <td>Male</td>\n",
       "      <td>MS2083</td>\n",
       "      <td>2:2</td>\n",
       "      <td>3644:3596</td>\n",
       "      <td>12:14</td>\n",
       "      <td>34.000000</td>\n",
       "      <td>1.182210</td>\n",
       "      <td>CHIP</td>\n",
       "    </tr>\n",
       "    <tr>\n",
       "      <th>4</th>\n",
       "      <td>4010289633</td>\n",
       "      <td>7282</td>\n",
       "      <td>29</td>\n",
       "      <td>0.004000</td>\n",
       "      <td>0.003600</td>\n",
       "      <td>MODERATE</td>\n",
       "      <td>GNB1</td>\n",
       "      <td>chr1:1747250_T/C</td>\n",
       "      <td>Baseline</td>\n",
       "      <td>Male</td>\n",
       "      <td>MS2083</td>\n",
       "      <td>2:2</td>\n",
       "      <td>3639:3606</td>\n",
       "      <td>15:14</td>\n",
       "      <td>32.700000</td>\n",
       "      <td>1.061729</td>\n",
       "      <td>CHIP</td>\n",
       "    </tr>\n",
       "    <tr>\n",
       "      <th>...</th>\n",
       "      <td>...</td>\n",
       "      <td>...</td>\n",
       "      <td>...</td>\n",
       "      <td>...</td>\n",
       "      <td>...</td>\n",
       "      <td>...</td>\n",
       "      <td>...</td>\n",
       "      <td>...</td>\n",
       "      <td>...</td>\n",
       "      <td>...</td>\n",
       "      <td>...</td>\n",
       "      <td>...</td>\n",
       "      <td>...</td>\n",
       "      <td>...</td>\n",
       "      <td>...</td>\n",
       "      <td>...</td>\n",
       "      <td>...</td>\n",
       "    </tr>\n",
       "    <tr>\n",
       "      <th>1137944</th>\n",
       "      <td>4010290016</td>\n",
       "      <td>731</td>\n",
       "      <td>2</td>\n",
       "      <td>0.002700</td>\n",
       "      <td>0.002800</td>\n",
       "      <td>MODERATE</td>\n",
       "      <td>ZFY</td>\n",
       "      <td>chrY:2848011_C/T</td>\n",
       "      <td>Blank</td>\n",
       "      <td>Blank</td>\n",
       "      <td>NaN</td>\n",
       "      <td>2:2</td>\n",
       "      <td>371:357</td>\n",
       "      <td>1:1</td>\n",
       "      <td>31.000000</td>\n",
       "      <td>1.039170</td>\n",
       "      <td>NaN</td>\n",
       "    </tr>\n",
       "    <tr>\n",
       "      <th>1137945</th>\n",
       "      <td>4010290016</td>\n",
       "      <td>731</td>\n",
       "      <td>2</td>\n",
       "      <td>0.002700</td>\n",
       "      <td>0.002800</td>\n",
       "      <td>MODERATE</td>\n",
       "      <td>ZFY</td>\n",
       "      <td>chrY:2848029_C/T</td>\n",
       "      <td>Blank</td>\n",
       "      <td>Blank</td>\n",
       "      <td>NaN</td>\n",
       "      <td>2:2</td>\n",
       "      <td>367:359</td>\n",
       "      <td>1:1</td>\n",
       "      <td>37.000000</td>\n",
       "      <td>1.022260</td>\n",
       "      <td>NaN</td>\n",
       "    </tr>\n",
       "    <tr>\n",
       "      <th>1137946</th>\n",
       "      <td>4010290016</td>\n",
       "      <td>731</td>\n",
       "      <td>2</td>\n",
       "      <td>0.002700</td>\n",
       "      <td>0.002800</td>\n",
       "      <td>MODERATE</td>\n",
       "      <td>ZFY</td>\n",
       "      <td>chrY:2848029_C/T</td>\n",
       "      <td>Blank</td>\n",
       "      <td>Blank</td>\n",
       "      <td>NaN</td>\n",
       "      <td>2:2</td>\n",
       "      <td>367:359</td>\n",
       "      <td>1:1</td>\n",
       "      <td>37.000000</td>\n",
       "      <td>1.022260</td>\n",
       "      <td>NaN</td>\n",
       "    </tr>\n",
       "    <tr>\n",
       "      <th>1137947</th>\n",
       "      <td>4010290016</td>\n",
       "      <td>731</td>\n",
       "      <td>2</td>\n",
       "      <td>0.002700</td>\n",
       "      <td>0.002800</td>\n",
       "      <td>MODERATE</td>\n",
       "      <td>ZFY</td>\n",
       "      <td>chrY:2848029_C/T</td>\n",
       "      <td>Blank</td>\n",
       "      <td>Blank</td>\n",
       "      <td>NaN</td>\n",
       "      <td>2:2</td>\n",
       "      <td>367:359</td>\n",
       "      <td>1:1</td>\n",
       "      <td>37.000000</td>\n",
       "      <td>1.022260</td>\n",
       "      <td>NaN</td>\n",
       "    </tr>\n",
       "    <tr>\n",
       "      <th>1137948</th>\n",
       "      <td>4010290016</td>\n",
       "      <td>731</td>\n",
       "      <td>2</td>\n",
       "      <td>0.002700</td>\n",
       "      <td>0.002800</td>\n",
       "      <td>MODERATE</td>\n",
       "      <td>ZFY</td>\n",
       "      <td>chrY:2848029_C/T</td>\n",
       "      <td>Blank</td>\n",
       "      <td>Blank</td>\n",
       "      <td>NaN</td>\n",
       "      <td>2:2</td>\n",
       "      <td>367:359</td>\n",
       "      <td>1:1</td>\n",
       "      <td>37.000000</td>\n",
       "      <td>1.022260</td>\n",
       "      <td>NaN</td>\n",
       "    </tr>\n",
       "  </tbody>\n",
       "</table>\n",
       "<p>1137949 rows × 17 columns</p>\n",
       "</div>"
      ],
      "text/plain": [
       "          d.barcode    DP  VD       AF     HIAF    IMPACT SYMBOL  \\\n",
       "0        4010289633  7281  26 0.003600 0.003300  MODERATE   GNB1   \n",
       "1        4010289633  7281  26 0.003600 0.003300  MODERATE   GNB1   \n",
       "2        4010289633  7281  26 0.003600 0.003300  MODERATE   GNB1   \n",
       "3        4010289633  7281  26 0.003600 0.003300  MODERATE   GNB1   \n",
       "4        4010289633  7282  29 0.004000 0.003600  MODERATE   GNB1   \n",
       "...             ...   ...  ..      ...      ...       ...    ...   \n",
       "1137944  4010290016   731   2 0.002700 0.002800  MODERATE    ZFY   \n",
       "1137945  4010290016   731   2 0.002700 0.002800  MODERATE    ZFY   \n",
       "1137946  4010290016   731   2 0.002700 0.002800  MODERATE    ZFY   \n",
       "1137947  4010290016   731   2 0.002700 0.002800  MODERATE    ZFY   \n",
       "1137948  4010290016   731   2 0.002700 0.002800  MODERATE    ZFY   \n",
       "\n",
       "                     loci sampleTimePt gender    MSID BIAS    REFBIAS VARBIAS  \\\n",
       "0        chr1:1747196_T/C     Baseline   Male  MS2083  2:2  3644:3596   12:14   \n",
       "1        chr1:1747196_T/C     Baseline   Male  MS2083  2:2  3644:3596   12:14   \n",
       "2        chr1:1747196_T/C     Baseline   Male  MS2083  2:2  3644:3596   12:14   \n",
       "3        chr1:1747196_T/C     Baseline   Male  MS2083  2:2  3644:3596   12:14   \n",
       "4        chr1:1747250_T/C     Baseline   Male  MS2083  2:2  3639:3606   15:14   \n",
       "...                   ...          ...    ...     ...  ...        ...     ...   \n",
       "1137944  chrY:2848011_C/T        Blank  Blank     NaN  2:2    371:357     1:1   \n",
       "1137945  chrY:2848029_C/T        Blank  Blank     NaN  2:2    367:359     1:1   \n",
       "1137946  chrY:2848029_C/T        Blank  Blank     NaN  2:2    367:359     1:1   \n",
       "1137947  chrY:2848029_C/T        Blank  Blank     NaN  2:2    367:359     1:1   \n",
       "1137948  chrY:2848029_C/T        Blank  Blank     NaN  2:2    367:359     1:1   \n",
       "\n",
       "             QUAL  ODDRATIO chipOrControl  \n",
       "0       34.000000  1.182210          CHIP  \n",
       "1       34.000000  1.182210          CHIP  \n",
       "2       34.000000  1.182210          CHIP  \n",
       "3       34.000000  1.182210          CHIP  \n",
       "4       32.700000  1.061729          CHIP  \n",
       "...           ...       ...           ...  \n",
       "1137944 31.000000  1.039170           NaN  \n",
       "1137945 37.000000  1.022260           NaN  \n",
       "1137946 37.000000  1.022260           NaN  \n",
       "1137947 37.000000  1.022260           NaN  \n",
       "1137948 37.000000  1.022260           NaN  \n",
       "\n",
       "[1137949 rows x 17 columns]"
      ]
     },
     "execution_count": 5,
     "metadata": {},
     "output_type": "execute_result"
    }
   ],
   "source": [
    "df = pd.read_csv(\"../data/chipVariantCalling_run1.tsv\", sep='\\t')\n",
    "df2 = pd.read_csv(\"../data/chipVariantCalling_run2.tsv\", sep='\\t')\n",
    "\n",
    "df"
   ]
  },
  {
   "cell_type": "code",
   "execution_count": 6,
   "metadata": {},
   "outputs": [],
   "source": [
    "dataset1 = pd.read_csv(\"../data/chipVariantCalling_run1.tsv\", sep='\\t')\n",
    "dataset2 = pd.read_csv(\"../data/chipVariantCalling_run2.tsv\", sep='\\t')\n",
    "\n",
    "unknown1 = dataset1[(dataset1.chipOrControl == \"Unknown\")]\n",
    "unknown2 = dataset2[(dataset2.chipOrControl == \"Unknown\")]"
   ]
  },
  {
   "cell_type": "markdown",
   "metadata": {},
   "source": [
    "Drop columns"
   ]
  },
  {
   "cell_type": "code",
   "execution_count": 7,
   "metadata": {},
   "outputs": [],
   "source": [
    "df = df[(df.chipOrControl != \"Blank\") & (df.chipOrControl != \"Unknown\")]\n",
    "df = df.dropna(subset=['chipOrControl'])\n",
    "df.drop(['MSID', 'd.barcode'], axis=1, inplace=True)\n",
    "# df.drop(['sampleTimePt'], axis = 1, inplace=True)\n",
    "\n",
    "df2 = df2[(df2.chipOrControl != \"Blank\") & (df2.chipOrControl != \"Unknown\")]\n",
    "df2 = df2.dropna(subset=['chipOrControl'])\n",
    "df2.drop(['MSID', 'd.barcode'], axis=1, inplace=True)\n",
    "# df2.drop(['sampleTimePt'], axis = 1, inplace=True)"
   ]
  },
  {
   "cell_type": "code",
   "execution_count": 8,
   "metadata": {},
   "outputs": [],
   "source": [
    "unknown1 = unknown1[(unknown1.chipOrControl != \"Blank\") & (unknown1.chipOrControl != \"Unknown\")]\n",
    "unknown1 = unknown1.dropna(subset=['chipOrControl'])\n",
    "unknown1.drop(['MSID', 'd.barcode'], axis=1, inplace=True)\n",
    "# unknown1.drop(['sampleTimePt'], axis = 1, inplace=True)\n",
    "\n",
    "unknown2 = unknown2[(unknown2.chipOrControl != \"Blank\") & (unknown2.chipOrControl != \"Unknown\")]\n",
    "unknown2 = unknown2.dropna(subset=['chipOrControl'])\n",
    "unknown2.drop(['MSID', 'd.barcode'], axis=1, inplace=True)\n",
    "# unknown2.drop(['sampleTimePt'], axis = 1, inplace=True)"
   ]
  },
  {
   "cell_type": "markdown",
   "metadata": {},
   "source": [
    "Store names of all genes"
   ]
  },
  {
   "cell_type": "code",
   "execution_count": 9,
   "metadata": {},
   "outputs": [],
   "source": [
    "genes = df.SYMBOL.unique()\n",
    "genes2 = df2.SYMBOL.unique()"
   ]
  },
  {
   "cell_type": "code",
   "execution_count": 10,
   "metadata": {},
   "outputs": [
    {
     "data": {
      "text/html": [
       "<div>\n",
       "<style scoped>\n",
       "    .dataframe tbody tr th:only-of-type {\n",
       "        vertical-align: middle;\n",
       "    }\n",
       "\n",
       "    .dataframe tbody tr th {\n",
       "        vertical-align: top;\n",
       "    }\n",
       "\n",
       "    .dataframe thead th {\n",
       "        text-align: right;\n",
       "    }\n",
       "</style>\n",
       "<table border=\"1\" class=\"dataframe\">\n",
       "  <thead>\n",
       "    <tr style=\"text-align: right;\">\n",
       "      <th></th>\n",
       "      <th>DP</th>\n",
       "      <th>VD</th>\n",
       "      <th>AF</th>\n",
       "      <th>HIAF</th>\n",
       "      <th>IMPACT</th>\n",
       "      <th>SYMBOL</th>\n",
       "      <th>loci</th>\n",
       "      <th>sampleTimePt</th>\n",
       "      <th>gender</th>\n",
       "      <th>BIAS</th>\n",
       "      <th>REFBIAS</th>\n",
       "      <th>VARBIAS</th>\n",
       "      <th>QUAL</th>\n",
       "      <th>ODDRATIO</th>\n",
       "      <th>chipOrControl</th>\n",
       "    </tr>\n",
       "  </thead>\n",
       "  <tbody>\n",
       "    <tr>\n",
       "      <th>0</th>\n",
       "      <td>7281</td>\n",
       "      <td>26</td>\n",
       "      <td>0.003600</td>\n",
       "      <td>0.003300</td>\n",
       "      <td>MODERATE</td>\n",
       "      <td>GNB1</td>\n",
       "      <td>chr1:1747196_T/C</td>\n",
       "      <td>Baseline</td>\n",
       "      <td>Male</td>\n",
       "      <td>2:2</td>\n",
       "      <td>3644:3596</td>\n",
       "      <td>12:14</td>\n",
       "      <td>34.000000</td>\n",
       "      <td>1.182210</td>\n",
       "      <td>CHIP</td>\n",
       "    </tr>\n",
       "    <tr>\n",
       "      <th>1</th>\n",
       "      <td>7281</td>\n",
       "      <td>26</td>\n",
       "      <td>0.003600</td>\n",
       "      <td>0.003300</td>\n",
       "      <td>MODERATE</td>\n",
       "      <td>GNB1</td>\n",
       "      <td>chr1:1747196_T/C</td>\n",
       "      <td>Baseline</td>\n",
       "      <td>Male</td>\n",
       "      <td>2:2</td>\n",
       "      <td>3644:3596</td>\n",
       "      <td>12:14</td>\n",
       "      <td>34.000000</td>\n",
       "      <td>1.182210</td>\n",
       "      <td>CHIP</td>\n",
       "    </tr>\n",
       "    <tr>\n",
       "      <th>2</th>\n",
       "      <td>7281</td>\n",
       "      <td>26</td>\n",
       "      <td>0.003600</td>\n",
       "      <td>0.003300</td>\n",
       "      <td>MODERATE</td>\n",
       "      <td>GNB1</td>\n",
       "      <td>chr1:1747196_T/C</td>\n",
       "      <td>Baseline</td>\n",
       "      <td>Male</td>\n",
       "      <td>2:2</td>\n",
       "      <td>3644:3596</td>\n",
       "      <td>12:14</td>\n",
       "      <td>34.000000</td>\n",
       "      <td>1.182210</td>\n",
       "      <td>CHIP</td>\n",
       "    </tr>\n",
       "  </tbody>\n",
       "</table>\n",
       "</div>"
      ],
      "text/plain": [
       "     DP  VD       AF     HIAF    IMPACT SYMBOL              loci sampleTimePt  \\\n",
       "0  7281  26 0.003600 0.003300  MODERATE   GNB1  chr1:1747196_T/C     Baseline   \n",
       "1  7281  26 0.003600 0.003300  MODERATE   GNB1  chr1:1747196_T/C     Baseline   \n",
       "2  7281  26 0.003600 0.003300  MODERATE   GNB1  chr1:1747196_T/C     Baseline   \n",
       "\n",
       "  gender BIAS    REFBIAS VARBIAS      QUAL  ODDRATIO chipOrControl  \n",
       "0   Male  2:2  3644:3596   12:14 34.000000  1.182210          CHIP  \n",
       "1   Male  2:2  3644:3596   12:14 34.000000  1.182210          CHIP  \n",
       "2   Male  2:2  3644:3596   12:14 34.000000  1.182210          CHIP  "
      ]
     },
     "execution_count": 10,
     "metadata": {},
     "output_type": "execute_result"
    }
   ],
   "source": [
    "df.head(3)"
   ]
  },
  {
   "cell_type": "markdown",
   "metadata": {},
   "source": [
    "Separate `loci` into three separate columns: `chromosome` | `chromosome_location` | `nucleotide`"
   ]
  },
  {
   "cell_type": "code",
   "execution_count": 11,
   "metadata": {},
   "outputs": [],
   "source": [
    "import re"
   ]
  },
  {
   "cell_type": "code",
   "execution_count": 12,
   "metadata": {},
   "outputs": [],
   "source": [
    "chromosome = []\n",
    "chromosome_location = []\n",
    "nucleotide = []\n",
    "\n",
    "for location_string in df.loci.array:\n",
    "    separated = re.split(r\"[:_]+\", location_string)\n",
    "    chromosome.append(separated[0])\n",
    "    chromosome_location.append(separated[1])\n",
    "    nucleotide.append(separated[2])\n",
    "\n",
    "df['chromosome'] = pd.Series(chromosome).values\n",
    "df['chromosome_loc'] = pd.Series(chromosome_location).values\n",
    "df['nucleotide'] = pd.Series(nucleotide).values\n",
    "df.drop(['loci'],axis=1, inplace=True)"
   ]
  },
  {
   "cell_type": "code",
   "execution_count": 13,
   "metadata": {},
   "outputs": [],
   "source": [
    "chromosome = []\n",
    "chromosome_location = []\n",
    "nucleotide = []\n",
    "\n",
    "for location_string in df2.loci.array:\n",
    "    separated = re.split(r\"[:_]+\", location_string)\n",
    "    chromosome.append(separated[0])\n",
    "    chromosome_location.append(separated[1])\n",
    "    nucleotide.append(separated[2])\n",
    "    \n",
    "df2['chromosome'] = pd.Series(chromosome).values\n",
    "df2['chromosome_loc'] = pd.Series(chromosome_location).values\n",
    "df2['nucleotide'] = pd.Series(nucleotide).values\n",
    "df2.drop(['loci'],axis=1, inplace=True)"
   ]
  },
  {
   "cell_type": "markdown",
   "metadata": {},
   "source": [
    "Columns `BIAS`, `REFBIAS` and `VARBIAS` are strings. Change to floats."
   ]
  },
  {
   "cell_type": "code",
   "execution_count": 14,
   "metadata": {},
   "outputs": [],
   "source": [
    "def ratio_to_int(string):\n",
    "    a, b = string.split(\":\")\n",
    "    if int(b) == 0:\n",
    "        return 0\n",
    "    else:\n",
    "        return int(a) / int(b)"
   ]
  },
  {
   "cell_type": "code",
   "execution_count": 15,
   "metadata": {},
   "outputs": [],
   "source": [
    "# bias = []\n",
    "refbias = []\n",
    "varbias = []\n",
    "\n",
    "# for ratio in df.BIAS.array:\n",
    "#     bias.append(ratio_to_int(ratio)) \n",
    "\n",
    "for ratio in df.REFBIAS.array:\n",
    "    refbias.append(ratio_to_int(ratio)) \n",
    "\n",
    "for ratio in df.VARBIAS.array:\n",
    "    varbias.append(ratio_to_int(ratio)) \n",
    "    \n",
    "# bias = pd.Series(bias)\n",
    "refbias = pd.Series(refbias)\n",
    "varbias = pd.Series(varbias)\n",
    "\n",
    "# df['BIAS'] = bias.values\n",
    "df['REFBIAS'] = refbias.values\n",
    "df['VARBIAS'] = varbias.values"
   ]
  },
  {
   "cell_type": "code",
   "execution_count": 16,
   "metadata": {},
   "outputs": [],
   "source": [
    "# bias = []\n",
    "refbias = []\n",
    "varbias = []\n",
    "\n",
    "# for ratio in df2.BIAS.array:\n",
    "#     bias.append(ratio_to_int(ratio)) \n",
    "\n",
    "for ratio in df2.REFBIAS.array:\n",
    "    refbias.append(ratio_to_int(ratio)) \n",
    "\n",
    "for ratio in df2.VARBIAS.array:\n",
    "    varbias.append(ratio_to_int(ratio)) \n",
    "    \n",
    "# bias = pd.Series(bias)\n",
    "refbias = pd.Series(refbias)\n",
    "varbias = pd.Series(varbias)\n",
    "\n",
    "# df2['BIAS'] = bias.values\n",
    "df2['REFBIAS'] = refbias.values\n",
    "df2['VARBIAS'] = varbias.values"
   ]
  },
  {
   "cell_type": "markdown",
   "metadata": {},
   "source": [
    "Run Nick's code. I believe it changes data types to numerics"
   ]
  },
  {
   "cell_type": "code",
   "execution_count": 17,
   "metadata": {},
   "outputs": [],
   "source": [
    "objs = {}\n",
    "lst = []\n",
    "for i in df.columns:\n",
    "    if df.dtypes[i] == object:\n",
    "        if len(df[f\"{i}\"].unique()) <= 100:\n",
    "            objs[i] = len(df[f\"{i}\"].unique())\n",
    "            lst.append(i)"
   ]
  },
  {
   "cell_type": "code",
   "execution_count": 18,
   "metadata": {},
   "outputs": [],
   "source": [
    "objs = {}\n",
    "lst = []\n",
    "for i in df2.columns:\n",
    "    if df2.dtypes[i] == object:\n",
    "        if len(df2[f\"{i}\"].unique()) <= 100:\n",
    "            objs[i] = len(df2[f\"{i}\"].unique())\n",
    "            lst.append(i)"
   ]
  },
  {
   "cell_type": "code",
   "execution_count": 19,
   "metadata": {},
   "outputs": [],
   "source": [
    "for i in lst:\n",
    "    k = i\n",
    "    dict = {}\n",
    "    df_new = df\n",
    "    for ix, i in zip(range(len(df_new[i].unique())), df_new[i].unique() ):\n",
    "        dict[i] = ix\n",
    "    df = df.replace({f\"{k}\": dict})\n",
    "    df[f\"{k}\"] = df[f\"{k}\"].astype(str).astype(float)"
   ]
  },
  {
   "cell_type": "code",
   "execution_count": 20,
   "metadata": {},
   "outputs": [],
   "source": [
    "for i in lst:\n",
    "    k = i\n",
    "    dict = {}\n",
    "    df2_new = df2\n",
    "    for ix, i in zip(range(len(df2_new[i].unique())), df2_new[i].unique() ):\n",
    "        dict[i] = ix\n",
    "    df2 = df2.replace({f\"{k}\": dict})\n",
    "    df2[f\"{k}\"] = df2[f\"{k}\"].astype(str).astype(float)"
   ]
  },
  {
   "cell_type": "code",
   "execution_count": 21,
   "metadata": {},
   "outputs": [],
   "source": [
    "# LOCI not required in final model\n",
    "df.drop(['chromosome_loc'], axis=1, inplace=True)\n",
    "df2.drop(['chromosome_loc'], axis=1, inplace=True)"
   ]
  },
  {
   "cell_type": "code",
   "execution_count": 22,
   "metadata": {},
   "outputs": [],
   "source": [
    "# LOCI not required in final model\n",
    "df.drop(['chromosome', 'nucleotide'], axis=1, inplace=True)\n",
    "df2.drop(['chromosome', 'nucleotide'], axis=1, inplace=True)"
   ]
  },
  {
   "cell_type": "code",
   "execution_count": 23,
   "metadata": {},
   "outputs": [
    {
     "data": {
      "text/html": [
       "<div>\n",
       "<style scoped>\n",
       "    .dataframe tbody tr th:only-of-type {\n",
       "        vertical-align: middle;\n",
       "    }\n",
       "\n",
       "    .dataframe tbody tr th {\n",
       "        vertical-align: top;\n",
       "    }\n",
       "\n",
       "    .dataframe thead th {\n",
       "        text-align: right;\n",
       "    }\n",
       "</style>\n",
       "<table border=\"1\" class=\"dataframe\">\n",
       "  <thead>\n",
       "    <tr style=\"text-align: right;\">\n",
       "      <th></th>\n",
       "      <th>DP</th>\n",
       "      <th>VD</th>\n",
       "      <th>AF</th>\n",
       "      <th>HIAF</th>\n",
       "      <th>IMPACT</th>\n",
       "      <th>SYMBOL</th>\n",
       "      <th>sampleTimePt</th>\n",
       "      <th>gender</th>\n",
       "      <th>BIAS</th>\n",
       "      <th>REFBIAS</th>\n",
       "      <th>VARBIAS</th>\n",
       "      <th>QUAL</th>\n",
       "      <th>ODDRATIO</th>\n",
       "      <th>chipOrControl</th>\n",
       "    </tr>\n",
       "  </thead>\n",
       "  <tbody>\n",
       "    <tr>\n",
       "      <th>0</th>\n",
       "      <td>7281</td>\n",
       "      <td>26</td>\n",
       "      <td>0.003600</td>\n",
       "      <td>0.003300</td>\n",
       "      <td>0.000000</td>\n",
       "      <td>0.000000</td>\n",
       "      <td>0.000000</td>\n",
       "      <td>0.000000</td>\n",
       "      <td>0.000000</td>\n",
       "      <td>1.013348</td>\n",
       "      <td>0.857143</td>\n",
       "      <td>34.000000</td>\n",
       "      <td>1.182210</td>\n",
       "      <td>0.000000</td>\n",
       "    </tr>\n",
       "    <tr>\n",
       "      <th>4</th>\n",
       "      <td>7282</td>\n",
       "      <td>29</td>\n",
       "      <td>0.004000</td>\n",
       "      <td>0.003600</td>\n",
       "      <td>0.000000</td>\n",
       "      <td>0.000000</td>\n",
       "      <td>0.000000</td>\n",
       "      <td>0.000000</td>\n",
       "      <td>0.000000</td>\n",
       "      <td>1.009151</td>\n",
       "      <td>1.071429</td>\n",
       "      <td>32.700000</td>\n",
       "      <td>1.061729</td>\n",
       "      <td>0.000000</td>\n",
       "    </tr>\n",
       "    <tr>\n",
       "      <th>8</th>\n",
       "      <td>7282</td>\n",
       "      <td>24</td>\n",
       "      <td>0.003300</td>\n",
       "      <td>0.003300</td>\n",
       "      <td>0.000000</td>\n",
       "      <td>0.000000</td>\n",
       "      <td>0.000000</td>\n",
       "      <td>0.000000</td>\n",
       "      <td>0.000000</td>\n",
       "      <td>1.005268</td>\n",
       "      <td>1.000000</td>\n",
       "      <td>34.900000</td>\n",
       "      <td>1.005270</td>\n",
       "      <td>0.000000</td>\n",
       "    </tr>\n",
       "    <tr>\n",
       "      <th>12</th>\n",
       "      <td>178</td>\n",
       "      <td>2</td>\n",
       "      <td>0.011200</td>\n",
       "      <td>0.012000</td>\n",
       "      <td>0.000000</td>\n",
       "      <td>1.000000</td>\n",
       "      <td>0.000000</td>\n",
       "      <td>0.000000</td>\n",
       "      <td>0.000000</td>\n",
       "      <td>1.000000</td>\n",
       "      <td>1.000000</td>\n",
       "      <td>37.000000</td>\n",
       "      <td>1.000000</td>\n",
       "      <td>0.000000</td>\n",
       "    </tr>\n",
       "    <tr>\n",
       "      <th>13</th>\n",
       "      <td>1773</td>\n",
       "      <td>6</td>\n",
       "      <td>0.003400</td>\n",
       "      <td>0.003500</td>\n",
       "      <td>0.000000</td>\n",
       "      <td>1.000000</td>\n",
       "      <td>0.000000</td>\n",
       "      <td>0.000000</td>\n",
       "      <td>0.000000</td>\n",
       "      <td>1.017162</td>\n",
       "      <td>1.000000</td>\n",
       "      <td>37.000000</td>\n",
       "      <td>1.017150</td>\n",
       "      <td>0.000000</td>\n",
       "    </tr>\n",
       "    <tr>\n",
       "      <th>...</th>\n",
       "      <td>...</td>\n",
       "      <td>...</td>\n",
       "      <td>...</td>\n",
       "      <td>...</td>\n",
       "      <td>...</td>\n",
       "      <td>...</td>\n",
       "      <td>...</td>\n",
       "      <td>...</td>\n",
       "      <td>...</td>\n",
       "      <td>...</td>\n",
       "      <td>...</td>\n",
       "      <td>...</td>\n",
       "      <td>...</td>\n",
       "      <td>...</td>\n",
       "    </tr>\n",
       "    <tr>\n",
       "      <th>536717</th>\n",
       "      <td>711</td>\n",
       "      <td>4</td>\n",
       "      <td>0.005600</td>\n",
       "      <td>0.005700</td>\n",
       "      <td>0.000000</td>\n",
       "      <td>28.000000</td>\n",
       "      <td>1.000000</td>\n",
       "      <td>1.000000</td>\n",
       "      <td>0.000000</td>\n",
       "      <td>1.008523</td>\n",
       "      <td>1.000000</td>\n",
       "      <td>37.000000</td>\n",
       "      <td>1.008510</td>\n",
       "      <td>1.000000</td>\n",
       "    </tr>\n",
       "    <tr>\n",
       "      <th>536725</th>\n",
       "      <td>711</td>\n",
       "      <td>2</td>\n",
       "      <td>0.002800</td>\n",
       "      <td>0.002800</td>\n",
       "      <td>0.000000</td>\n",
       "      <td>28.000000</td>\n",
       "      <td>1.000000</td>\n",
       "      <td>1.000000</td>\n",
       "      <td>0.000000</td>\n",
       "      <td>1.008499</td>\n",
       "      <td>1.000000</td>\n",
       "      <td>31.000000</td>\n",
       "      <td>1.008490</td>\n",
       "      <td>1.000000</td>\n",
       "    </tr>\n",
       "    <tr>\n",
       "      <th>536733</th>\n",
       "      <td>711</td>\n",
       "      <td>2</td>\n",
       "      <td>0.002800</td>\n",
       "      <td>0.002900</td>\n",
       "      <td>1.000000</td>\n",
       "      <td>28.000000</td>\n",
       "      <td>1.000000</td>\n",
       "      <td>1.000000</td>\n",
       "      <td>0.000000</td>\n",
       "      <td>1.005666</td>\n",
       "      <td>1.000000</td>\n",
       "      <td>37.000000</td>\n",
       "      <td>1.005660</td>\n",
       "      <td>1.000000</td>\n",
       "    </tr>\n",
       "    <tr>\n",
       "      <th>536734</th>\n",
       "      <td>711</td>\n",
       "      <td>2</td>\n",
       "      <td>0.002800</td>\n",
       "      <td>0.002900</td>\n",
       "      <td>0.000000</td>\n",
       "      <td>28.000000</td>\n",
       "      <td>1.000000</td>\n",
       "      <td>1.000000</td>\n",
       "      <td>0.000000</td>\n",
       "      <td>1.008499</td>\n",
       "      <td>1.000000</td>\n",
       "      <td>37.000000</td>\n",
       "      <td>1.008490</td>\n",
       "      <td>1.000000</td>\n",
       "    </tr>\n",
       "    <tr>\n",
       "      <th>536741</th>\n",
       "      <td>711</td>\n",
       "      <td>2</td>\n",
       "      <td>0.002800</td>\n",
       "      <td>0.002800</td>\n",
       "      <td>0.000000</td>\n",
       "      <td>28.000000</td>\n",
       "      <td>1.000000</td>\n",
       "      <td>1.000000</td>\n",
       "      <td>0.000000</td>\n",
       "      <td>1.008499</td>\n",
       "      <td>1.000000</td>\n",
       "      <td>25.000000</td>\n",
       "      <td>1.008490</td>\n",
       "      <td>1.000000</td>\n",
       "    </tr>\n",
       "  </tbody>\n",
       "</table>\n",
       "<p>111514 rows × 14 columns</p>\n",
       "</div>"
      ],
      "text/plain": [
       "          DP  VD       AF     HIAF   IMPACT    SYMBOL  sampleTimePt   gender  \\\n",
       "0       7281  26 0.003600 0.003300 0.000000  0.000000      0.000000 0.000000   \n",
       "4       7282  29 0.004000 0.003600 0.000000  0.000000      0.000000 0.000000   \n",
       "8       7282  24 0.003300 0.003300 0.000000  0.000000      0.000000 0.000000   \n",
       "12       178   2 0.011200 0.012000 0.000000  1.000000      0.000000 0.000000   \n",
       "13      1773   6 0.003400 0.003500 0.000000  1.000000      0.000000 0.000000   \n",
       "...      ...  ..      ...      ...      ...       ...           ...      ...   \n",
       "536717   711   4 0.005600 0.005700 0.000000 28.000000      1.000000 1.000000   \n",
       "536725   711   2 0.002800 0.002800 0.000000 28.000000      1.000000 1.000000   \n",
       "536733   711   2 0.002800 0.002900 1.000000 28.000000      1.000000 1.000000   \n",
       "536734   711   2 0.002800 0.002900 0.000000 28.000000      1.000000 1.000000   \n",
       "536741   711   2 0.002800 0.002800 0.000000 28.000000      1.000000 1.000000   \n",
       "\n",
       "           BIAS  REFBIAS  VARBIAS      QUAL  ODDRATIO  chipOrControl  \n",
       "0      0.000000 1.013348 0.857143 34.000000  1.182210       0.000000  \n",
       "4      0.000000 1.009151 1.071429 32.700000  1.061729       0.000000  \n",
       "8      0.000000 1.005268 1.000000 34.900000  1.005270       0.000000  \n",
       "12     0.000000 1.000000 1.000000 37.000000  1.000000       0.000000  \n",
       "13     0.000000 1.017162 1.000000 37.000000  1.017150       0.000000  \n",
       "...         ...      ...      ...       ...       ...            ...  \n",
       "536717 0.000000 1.008523 1.000000 37.000000  1.008510       1.000000  \n",
       "536725 0.000000 1.008499 1.000000 31.000000  1.008490       1.000000  \n",
       "536733 0.000000 1.005666 1.000000 37.000000  1.005660       1.000000  \n",
       "536734 0.000000 1.008499 1.000000 37.000000  1.008490       1.000000  \n",
       "536741 0.000000 1.008499 1.000000 25.000000  1.008490       1.000000  \n",
       "\n",
       "[111514 rows x 14 columns]"
      ]
     },
     "execution_count": 23,
     "metadata": {},
     "output_type": "execute_result"
    }
   ],
   "source": [
    "df.drop_duplicates(inplace=True)\n",
    "df2.drop_duplicates(inplace=True)\n",
    "df"
   ]
  },
  {
   "cell_type": "markdown",
   "metadata": {},
   "source": [
    "### ONE HOT ENCODE \"SYMBOL\" with pd.get_dummies()"
   ]
  },
  {
   "cell_type": "code",
   "execution_count": 24,
   "metadata": {},
   "outputs": [],
   "source": [
    "df_model = pd.concat([df,pd.get_dummies(df['SYMBOL'], prefix='GENE')],axis=1)\n",
    "df_model2 = pd.concat([df2,pd.get_dummies(df2['SYMBOL'], prefix='GENE')],axis=1)"
   ]
  },
  {
   "cell_type": "code",
   "execution_count": 25,
   "metadata": {},
   "outputs": [],
   "source": [
    "df_model.drop(['SYMBOL'],axis=1, inplace=True)\n",
    "df_model2.drop(['SYMBOL'],axis=1, inplace=True)"
   ]
  },
  {
   "cell_type": "code",
   "execution_count": 26,
   "metadata": {},
   "outputs": [],
   "source": [
    "dummy_genes = df_model.columns[15:]\n",
    "dummy_genes2 = df_model2.columns[15:]\n",
    "\n",
    "d = {}\n",
    "d2 = {}\n",
    "\n",
    "for i in range(len(dummy_genes)):\n",
    "    d[dummy_genes[i]] = genes[i]\n",
    "\n",
    "for i in range(len(dummy_genes2)):\n",
    "    d2[dummy_genes2[i]] = genes2[i]"
   ]
  },
  {
   "cell_type": "code",
   "execution_count": 27,
   "metadata": {},
   "outputs": [],
   "source": [
    "df_model = df_model.rename(d, axis=1)  # Renaming columns\n",
    "df_model2 = df_model2.rename(d2, axis=1)  # Renaming columns"
   ]
  },
  {
   "cell_type": "markdown",
   "metadata": {},
   "source": [
    "### Retain top 5 genes"
   ]
  },
  {
   "cell_type": "code",
   "execution_count": 28,
   "metadata": {},
   "outputs": [],
   "source": [
    "# Remove other genes from dataframe\n",
    "df_model = df_model[['DP', 'VD', 'AF', 'HIAF', 'IMPACT', 'sampleTimePt', 'gender', 'BIAS',\n",
    "       'REFBIAS', 'VARBIAS', 'QUAL', 'ODDRATIO', 'chipOrControl', 'DNMT3A', 'TET2', 'TP53', 'ASXL1', 'BCOR']]\n",
    "\n",
    "df_model2 = df_model2[['DP', 'VD', 'AF', 'HIAF', 'IMPACT', 'sampleTimePt', 'gender', 'BIAS',\n",
    "       'REFBIAS', 'VARBIAS', 'QUAL', 'ODDRATIO', 'chipOrControl', 'DNMT3A', 'TET2', 'TP53', 'ASXL1', 'BCOR']]\n",
    "\n",
    "\n",
    "# Create separate dataframe\n",
    "encoder = df_model[['DNMT3A', 'TET2', 'TP53', 'ASXL1', 'BCOR']]\n",
    "encoder2 = df_model2[['DNMT3A', 'TET2', 'TP53', 'ASXL1', 'BCOR']]\n",
    "\n",
    "# Sum of one hot encode. Value = 1 if exists, 0 otherwise\n",
    "p = encoder[list(encoder)].sum(axis=1).array\n",
    "p2 = encoder2[list(encoder2)].sum(axis=1).array\n",
    "\n",
    "# Flip values\n",
    "for i in range(len(p)):\n",
    "    if p[i] == 0:\n",
    "        p[i] = 1\n",
    "    else:\n",
    "        p[i] = 0\n",
    "\n",
    "# Flip values\n",
    "for i in range(len(p2)):\n",
    "    if p2[i] == 0:\n",
    "        p2[i] = 1\n",
    "    else:\n",
    "        p2[i] = 0\n",
    "        \n",
    "# Add to df\n",
    "df_model[\"other\"] = p\n",
    "df_model2[\"other\"] = p2"
   ]
  },
  {
   "cell_type": "markdown",
   "metadata": {},
   "source": [
    "# One hot encode `BIAS`"
   ]
  },
  {
   "cell_type": "code",
   "execution_count": 29,
   "metadata": {},
   "outputs": [],
   "source": [
    "# bias_str = [\"twotwo\", \"onezero\", \"zerotwo\", \"onetwo\", \"twozero\", \"oneone\", \"zerozero\", \"twoone\"]\n",
    "# bias_str2 = [\"twotwo\", \"twozero\", \"onezero\", \"zerotwo\", \"oneone\", \"twoone\", \"onetwo\", \"zerozero\"]\n",
    "\n",
    "# df_model = pd.concat([df_model, pd.get_dummies(df_model['BIAS'])],axis=1)\n",
    "# df_model2 = pd.concat([df_model2, pd.get_dummies(df_model2['BIAS'])],axis=1)"
   ]
  },
  {
   "cell_type": "code",
   "execution_count": 30,
   "metadata": {},
   "outputs": [],
   "source": [
    "# dummy_bias = pd.concat([df,pd.get_dummies(df['BIAS'])],axis=1).columns[14:]\n",
    "\n",
    "\n",
    "# b = {}\n",
    "# b2 = {}\n",
    "\n",
    "# for i in range(len(dummy_bias)):\n",
    "#     b[dummy_bias[i]] = bias_str[i]\n",
    "\n",
    "# for i in range(len(dummy_bias)):\n",
    "#     b2[dummy_bias[i]] = bias_str2[i]"
   ]
  },
  {
   "cell_type": "code",
   "execution_count": 31,
   "metadata": {},
   "outputs": [],
   "source": [
    "# df_model.drop(['BIAS'],axis=1, inplace=True)\n",
    "# df_model2.drop(['BIAS'],axis=1, inplace=True)"
   ]
  },
  {
   "cell_type": "code",
   "execution_count": 32,
   "metadata": {},
   "outputs": [],
   "source": [
    "# df_model = df_model.rename(b, axis=1)  # Renaming columns\n",
    "# df_model2 = df_model2.rename(b2, axis=1)  # Renaming columns"
   ]
  },
  {
   "cell_type": "markdown",
   "metadata": {},
   "source": [
    "# Create closed datasets\n",
    "- Remove rows in relation to outliers\n",
    "- Compare values at the 98th percentile\n",
    "- Reject QUAL values less than 30"
   ]
  },
  {
   "cell_type": "code",
   "execution_count": 33,
   "metadata": {},
   "outputs": [
    {
     "name": "stdout",
     "output_type": "stream",
     "text": [
      "2.0372048\n",
      "1.0690527335697206\n",
      "1.5\n",
      "2.0983787999999985\n",
      "54.97636363636279\n",
      "2.0\n",
      "\n",
      "14.7623265426631\n",
      "1.1422222626258425\n",
      "11.289523809523661\n",
      "18.541455123750726\n",
      "12.266153846148743\n",
      "14.566349206349095\n"
     ]
    }
   ],
   "source": [
    "print(df_model.ODDRATIO.quantile(0.98))\n",
    "print(df_model.REFBIAS.quantile(0.98))\n",
    "print(df_model.VARBIAS.quantile(0.98))\n",
    "\n",
    "print(df_model.ODDRATIO.quantile(0.99))\n",
    "print(df_model.REFBIAS.quantile(0.99))\n",
    "print(df_model.VARBIAS.quantile(0.99))\n",
    "\n",
    "print()\n",
    "\n",
    "print(df_model2.ODDRATIO.quantile(0.98))\n",
    "print(df_model2.REFBIAS.quantile(0.98))\n",
    "print(df_model2.VARBIAS.quantile(0.98))\n",
    "\n",
    "print(df_model2.ODDRATIO.quantile(0.99))\n",
    "print(df_model2.REFBIAS.quantile(0.99))\n",
    "print(df_model2.VARBIAS.quantile(0.99))"
   ]
  },
  {
   "cell_type": "markdown",
   "metadata": {},
   "source": [
    "The results above display the second dataset contains more noise IF ratios are examined as quantitative values"
   ]
  },
  {
   "cell_type": "code",
   "execution_count": 34,
   "metadata": {},
   "outputs": [],
   "source": [
    "low_odd = df_model[df_model['ODDRATIO'] < 3]\n",
    "low_odd_refbias = low_odd[low_odd['REFBIAS'] < 1.3]\n",
    "low_odd_refbias_varbias = low_odd_refbias[low_odd_refbias['VARBIAS'] <= 2]\n",
    "df_model_removed = low_odd_refbias_varbias[low_odd_refbias_varbias['QUAL'] >= 30]\n",
    "# df_model_removed = df_model_removed[df_model_removed['DP'] >= ]\n",
    "\n",
    "low_odd = df_model2[df_model2['ODDRATIO'] < 3]\n",
    "low_odd_refbias = low_odd[low_odd['REFBIAS'] < 1.3]\n",
    "low_odd_refbias_varbias = low_odd_refbias[low_odd_refbias['VARBIAS'] <= 2]\n",
    "df_model_removed2 = low_odd_refbias_varbias[low_odd_refbias_varbias['QUAL'] >= 30]\n",
    "# df_model_removed = df_model_removed[df_model_removed['DP'] >= 30]"
   ]
  },
  {
   "cell_type": "markdown",
   "metadata": {},
   "source": [
    "#### Drop AF due to high correlation with HIAF. Drop duplicate rows"
   ]
  },
  {
   "cell_type": "code",
   "execution_count": 35,
   "metadata": {},
   "outputs": [],
   "source": [
    "df_model.drop('AF', axis = 1, inplace = True)\n",
    "df_model2.drop('AF', axis = 1, inplace = True)\n",
    "df_model_removed.drop('AF', axis = 1, inplace = True)\n",
    "df_model_removed2.drop('AF', axis = 1, inplace = True)"
   ]
  },
  {
   "cell_type": "code",
   "execution_count": 36,
   "metadata": {},
   "outputs": [],
   "source": [
    "df_model.drop_duplicates(inplace=True)\n",
    "df_model2.drop_duplicates(inplace=True)\n",
    "df_model_removed.drop_duplicates(inplace=True)\n",
    "df_model_removed2.drop_duplicates(inplace=True)"
   ]
  },
  {
   "cell_type": "code",
   "execution_count": 37,
   "metadata": {},
   "outputs": [
    {
     "data": {
      "text/html": [
       "<div>\n",
       "<style scoped>\n",
       "    .dataframe tbody tr th:only-of-type {\n",
       "        vertical-align: middle;\n",
       "    }\n",
       "\n",
       "    .dataframe tbody tr th {\n",
       "        vertical-align: top;\n",
       "    }\n",
       "\n",
       "    .dataframe thead th {\n",
       "        text-align: right;\n",
       "    }\n",
       "</style>\n",
       "<table border=\"1\" class=\"dataframe\">\n",
       "  <thead>\n",
       "    <tr style=\"text-align: right;\">\n",
       "      <th></th>\n",
       "      <th>DP</th>\n",
       "      <th>VD</th>\n",
       "      <th>HIAF</th>\n",
       "      <th>IMPACT</th>\n",
       "      <th>sampleTimePt</th>\n",
       "      <th>gender</th>\n",
       "      <th>BIAS</th>\n",
       "      <th>REFBIAS</th>\n",
       "      <th>VARBIAS</th>\n",
       "      <th>QUAL</th>\n",
       "      <th>ODDRATIO</th>\n",
       "      <th>chipOrControl</th>\n",
       "      <th>DNMT3A</th>\n",
       "      <th>TET2</th>\n",
       "      <th>TP53</th>\n",
       "      <th>ASXL1</th>\n",
       "      <th>BCOR</th>\n",
       "      <th>other</th>\n",
       "    </tr>\n",
       "  </thead>\n",
       "  <tbody>\n",
       "    <tr>\n",
       "      <th>count</th>\n",
       "      <td>102604.000000</td>\n",
       "      <td>102604.000000</td>\n",
       "      <td>102604.000000</td>\n",
       "      <td>102604.000000</td>\n",
       "      <td>102604.000000</td>\n",
       "      <td>102604.000000</td>\n",
       "      <td>102604.000000</td>\n",
       "      <td>102604.000000</td>\n",
       "      <td>102604.000000</td>\n",
       "      <td>102604.000000</td>\n",
       "      <td>102604.000000</td>\n",
       "      <td>102604.000000</td>\n",
       "      <td>102604.000000</td>\n",
       "      <td>102604.000000</td>\n",
       "      <td>102604.000000</td>\n",
       "      <td>102604.000000</td>\n",
       "      <td>102604.000000</td>\n",
       "      <td>102604.000000</td>\n",
       "    </tr>\n",
       "    <tr>\n",
       "      <th>mean</th>\n",
       "      <td>5867.196308</td>\n",
       "      <td>109.637655</td>\n",
       "      <td>0.010700</td>\n",
       "      <td>0.053702</td>\n",
       "      <td>0.521880</td>\n",
       "      <td>0.481979</td>\n",
       "      <td>0.069432</td>\n",
       "      <td>0.986892</td>\n",
       "      <td>0.978736</td>\n",
       "      <td>35.722231</td>\n",
       "      <td>1.019106</td>\n",
       "      <td>0.446873</td>\n",
       "      <td>0.001764</td>\n",
       "      <td>0.018995</td>\n",
       "      <td>0.037767</td>\n",
       "      <td>0.006549</td>\n",
       "      <td>0.020155</td>\n",
       "      <td>0.914769</td>\n",
       "    </tr>\n",
       "    <tr>\n",
       "      <th>std</th>\n",
       "      <td>13124.963334</td>\n",
       "      <td>2004.422850</td>\n",
       "      <td>0.065289</td>\n",
       "      <td>0.225429</td>\n",
       "      <td>0.499523</td>\n",
       "      <td>0.499678</td>\n",
       "      <td>0.474893</td>\n",
       "      <td>0.186432</td>\n",
       "      <td>0.213639</td>\n",
       "      <td>1.877877</td>\n",
       "      <td>0.228002</td>\n",
       "      <td>0.497172</td>\n",
       "      <td>0.041964</td>\n",
       "      <td>0.136509</td>\n",
       "      <td>0.190632</td>\n",
       "      <td>0.080664</td>\n",
       "      <td>0.140532</td>\n",
       "      <td>0.279226</td>\n",
       "    </tr>\n",
       "    <tr>\n",
       "      <th>min</th>\n",
       "      <td>2.000000</td>\n",
       "      <td>2.000000</td>\n",
       "      <td>0.001900</td>\n",
       "      <td>0.000000</td>\n",
       "      <td>0.000000</td>\n",
       "      <td>0.000000</td>\n",
       "      <td>0.000000</td>\n",
       "      <td>0.000000</td>\n",
       "      <td>0.000000</td>\n",
       "      <td>30.000000</td>\n",
       "      <td>0.000000</td>\n",
       "      <td>0.000000</td>\n",
       "      <td>0.000000</td>\n",
       "      <td>0.000000</td>\n",
       "      <td>0.000000</td>\n",
       "      <td>0.000000</td>\n",
       "      <td>0.000000</td>\n",
       "      <td>0.000000</td>\n",
       "    </tr>\n",
       "    <tr>\n",
       "      <th>25%</th>\n",
       "      <td>556.000000</td>\n",
       "      <td>2.000000</td>\n",
       "      <td>0.002800</td>\n",
       "      <td>0.000000</td>\n",
       "      <td>0.000000</td>\n",
       "      <td>0.000000</td>\n",
       "      <td>0.000000</td>\n",
       "      <td>1.012594</td>\n",
       "      <td>1.000000</td>\n",
       "      <td>35.000000</td>\n",
       "      <td>1.013130</td>\n",
       "      <td>0.000000</td>\n",
       "      <td>0.000000</td>\n",
       "      <td>0.000000</td>\n",
       "      <td>0.000000</td>\n",
       "      <td>0.000000</td>\n",
       "      <td>0.000000</td>\n",
       "      <td>1.000000</td>\n",
       "    </tr>\n",
       "    <tr>\n",
       "      <th>50%</th>\n",
       "      <td>1270.000000</td>\n",
       "      <td>4.000000</td>\n",
       "      <td>0.003500</td>\n",
       "      <td>0.000000</td>\n",
       "      <td>1.000000</td>\n",
       "      <td>0.000000</td>\n",
       "      <td>0.000000</td>\n",
       "      <td>1.019914</td>\n",
       "      <td>1.000000</td>\n",
       "      <td>37.000000</td>\n",
       "      <td>1.022420</td>\n",
       "      <td>0.000000</td>\n",
       "      <td>0.000000</td>\n",
       "      <td>0.000000</td>\n",
       "      <td>0.000000</td>\n",
       "      <td>0.000000</td>\n",
       "      <td>0.000000</td>\n",
       "      <td>1.000000</td>\n",
       "    </tr>\n",
       "    <tr>\n",
       "      <th>75%</th>\n",
       "      <td>5412.500000</td>\n",
       "      <td>17.000000</td>\n",
       "      <td>0.005300</td>\n",
       "      <td>0.000000</td>\n",
       "      <td>1.000000</td>\n",
       "      <td>1.000000</td>\n",
       "      <td>0.000000</td>\n",
       "      <td>1.028400</td>\n",
       "      <td>1.000000</td>\n",
       "      <td>37.000000</td>\n",
       "      <td>1.037590</td>\n",
       "      <td>1.000000</td>\n",
       "      <td>0.000000</td>\n",
       "      <td>0.000000</td>\n",
       "      <td>0.000000</td>\n",
       "      <td>0.000000</td>\n",
       "      <td>0.000000</td>\n",
       "      <td>1.000000</td>\n",
       "    </tr>\n",
       "    <tr>\n",
       "      <th>max</th>\n",
       "      <td>455487.000000</td>\n",
       "      <td>146473.000000</td>\n",
       "      <td>1.000000</td>\n",
       "      <td>1.000000</td>\n",
       "      <td>1.000000</td>\n",
       "      <td>1.000000</td>\n",
       "      <td>6.000000</td>\n",
       "      <td>1.295203</td>\n",
       "      <td>2.000000</td>\n",
       "      <td>37.000000</td>\n",
       "      <td>2.977520</td>\n",
       "      <td>1.000000</td>\n",
       "      <td>1.000000</td>\n",
       "      <td>1.000000</td>\n",
       "      <td>1.000000</td>\n",
       "      <td>1.000000</td>\n",
       "      <td>1.000000</td>\n",
       "      <td>1.000000</td>\n",
       "    </tr>\n",
       "  </tbody>\n",
       "</table>\n",
       "</div>"
      ],
      "text/plain": [
       "                 DP            VD          HIAF        IMPACT  sampleTimePt  \\\n",
       "count 102604.000000 102604.000000 102604.000000 102604.000000 102604.000000   \n",
       "mean    5867.196308    109.637655      0.010700      0.053702      0.521880   \n",
       "std    13124.963334   2004.422850      0.065289      0.225429      0.499523   \n",
       "min        2.000000      2.000000      0.001900      0.000000      0.000000   \n",
       "25%      556.000000      2.000000      0.002800      0.000000      0.000000   \n",
       "50%     1270.000000      4.000000      0.003500      0.000000      1.000000   \n",
       "75%     5412.500000     17.000000      0.005300      0.000000      1.000000   \n",
       "max   455487.000000 146473.000000      1.000000      1.000000      1.000000   \n",
       "\n",
       "             gender          BIAS       REFBIAS       VARBIAS          QUAL  \\\n",
       "count 102604.000000 102604.000000 102604.000000 102604.000000 102604.000000   \n",
       "mean       0.481979      0.069432      0.986892      0.978736     35.722231   \n",
       "std        0.499678      0.474893      0.186432      0.213639      1.877877   \n",
       "min        0.000000      0.000000      0.000000      0.000000     30.000000   \n",
       "25%        0.000000      0.000000      1.012594      1.000000     35.000000   \n",
       "50%        0.000000      0.000000      1.019914      1.000000     37.000000   \n",
       "75%        1.000000      0.000000      1.028400      1.000000     37.000000   \n",
       "max        1.000000      6.000000      1.295203      2.000000     37.000000   \n",
       "\n",
       "           ODDRATIO  chipOrControl        DNMT3A          TET2          TP53  \\\n",
       "count 102604.000000  102604.000000 102604.000000 102604.000000 102604.000000   \n",
       "mean       1.019106       0.446873      0.001764      0.018995      0.037767   \n",
       "std        0.228002       0.497172      0.041964      0.136509      0.190632   \n",
       "min        0.000000       0.000000      0.000000      0.000000      0.000000   \n",
       "25%        1.013130       0.000000      0.000000      0.000000      0.000000   \n",
       "50%        1.022420       0.000000      0.000000      0.000000      0.000000   \n",
       "75%        1.037590       1.000000      0.000000      0.000000      0.000000   \n",
       "max        2.977520       1.000000      1.000000      1.000000      1.000000   \n",
       "\n",
       "              ASXL1          BCOR         other  \n",
       "count 102604.000000 102604.000000 102604.000000  \n",
       "mean       0.006549      0.020155      0.914769  \n",
       "std        0.080664      0.140532      0.279226  \n",
       "min        0.000000      0.000000      0.000000  \n",
       "25%        0.000000      0.000000      1.000000  \n",
       "50%        0.000000      0.000000      1.000000  \n",
       "75%        0.000000      0.000000      1.000000  \n",
       "max        1.000000      1.000000      1.000000  "
      ]
     },
     "execution_count": 37,
     "metadata": {},
     "output_type": "execute_result"
    }
   ],
   "source": [
    "df_model_removed.describe()"
   ]
  },
  {
   "cell_type": "markdown",
   "metadata": {},
   "source": [
    "# Normalise Data\n",
    "Create new dataframes to be trained/tested within models by normalising quantitative variables"
   ]
  },
  {
   "cell_type": "code",
   "execution_count": 38,
   "metadata": {},
   "outputs": [
    {
     "data": {
      "text/html": [
       "<div>\n",
       "<style scoped>\n",
       "    .dataframe tbody tr th:only-of-type {\n",
       "        vertical-align: middle;\n",
       "    }\n",
       "\n",
       "    .dataframe tbody tr th {\n",
       "        vertical-align: top;\n",
       "    }\n",
       "\n",
       "    .dataframe thead th {\n",
       "        text-align: right;\n",
       "    }\n",
       "</style>\n",
       "<table border=\"1\" class=\"dataframe\">\n",
       "  <thead>\n",
       "    <tr style=\"text-align: right;\">\n",
       "      <th></th>\n",
       "      <th>DP</th>\n",
       "      <th>VD</th>\n",
       "      <th>HIAF</th>\n",
       "      <th>IMPACT</th>\n",
       "      <th>sampleTimePt</th>\n",
       "      <th>gender</th>\n",
       "      <th>BIAS</th>\n",
       "      <th>REFBIAS</th>\n",
       "      <th>VARBIAS</th>\n",
       "      <th>QUAL</th>\n",
       "      <th>ODDRATIO</th>\n",
       "      <th>chipOrControl</th>\n",
       "      <th>DNMT3A</th>\n",
       "      <th>TET2</th>\n",
       "      <th>TP53</th>\n",
       "      <th>ASXL1</th>\n",
       "      <th>BCOR</th>\n",
       "      <th>other</th>\n",
       "    </tr>\n",
       "  </thead>\n",
       "  <tbody>\n",
       "    <tr>\n",
       "      <th>0</th>\n",
       "      <td>2036</td>\n",
       "      <td>6</td>\n",
       "      <td>0.004400</td>\n",
       "      <td>0.000000</td>\n",
       "      <td>0.000000</td>\n",
       "      <td>0.000000</td>\n",
       "      <td>0.000000</td>\n",
       "      <td>0.957230</td>\n",
       "      <td>1.000000</td>\n",
       "      <td>35.000000</td>\n",
       "      <td>1.044670</td>\n",
       "      <td>0.000000</td>\n",
       "      <td>0</td>\n",
       "      <td>0</td>\n",
       "      <td>0</td>\n",
       "      <td>0</td>\n",
       "      <td>0</td>\n",
       "      <td>1</td>\n",
       "    </tr>\n",
       "    <tr>\n",
       "      <th>5</th>\n",
       "      <td>2036</td>\n",
       "      <td>7</td>\n",
       "      <td>0.003500</td>\n",
       "      <td>1.000000</td>\n",
       "      <td>0.000000</td>\n",
       "      <td>0.000000</td>\n",
       "      <td>0.000000</td>\n",
       "      <td>0.988224</td>\n",
       "      <td>0.750000</td>\n",
       "      <td>35.300000</td>\n",
       "      <td>1.317450</td>\n",
       "      <td>0.000000</td>\n",
       "      <td>0</td>\n",
       "      <td>0</td>\n",
       "      <td>0</td>\n",
       "      <td>0</td>\n",
       "      <td>0</td>\n",
       "      <td>1</td>\n",
       "    </tr>\n",
       "    <tr>\n",
       "      <th>9</th>\n",
       "      <td>2040</td>\n",
       "      <td>5</td>\n",
       "      <td>0.002100</td>\n",
       "      <td>1.000000</td>\n",
       "      <td>0.000000</td>\n",
       "      <td>0.000000</td>\n",
       "      <td>0.000000</td>\n",
       "      <td>0.988166</td>\n",
       "      <td>0.666667</td>\n",
       "      <td>31.800000</td>\n",
       "      <td>1.481960</td>\n",
       "      <td>0.000000</td>\n",
       "      <td>0</td>\n",
       "      <td>0</td>\n",
       "      <td>0</td>\n",
       "      <td>0</td>\n",
       "      <td>0</td>\n",
       "      <td>1</td>\n",
       "    </tr>\n",
       "    <tr>\n",
       "      <th>13</th>\n",
       "      <td>2041</td>\n",
       "      <td>6</td>\n",
       "      <td>0.002500</td>\n",
       "      <td>1.000000</td>\n",
       "      <td>0.000000</td>\n",
       "      <td>0.000000</td>\n",
       "      <td>0.000000</td>\n",
       "      <td>0.983415</td>\n",
       "      <td>1.000000</td>\n",
       "      <td>32.700000</td>\n",
       "      <td>1.016860</td>\n",
       "      <td>0.000000</td>\n",
       "      <td>0</td>\n",
       "      <td>0</td>\n",
       "      <td>0</td>\n",
       "      <td>0</td>\n",
       "      <td>0</td>\n",
       "      <td>1</td>\n",
       "    </tr>\n",
       "    <tr>\n",
       "      <th>17</th>\n",
       "      <td>2037</td>\n",
       "      <td>5</td>\n",
       "      <td>0.002800</td>\n",
       "      <td>1.000000</td>\n",
       "      <td>0.000000</td>\n",
       "      <td>0.000000</td>\n",
       "      <td>0.000000</td>\n",
       "      <td>0.894942</td>\n",
       "      <td>0.666667</td>\n",
       "      <td>32.200000</td>\n",
       "      <td>1.342210</td>\n",
       "      <td>0.000000</td>\n",
       "      <td>0</td>\n",
       "      <td>0</td>\n",
       "      <td>0</td>\n",
       "      <td>0</td>\n",
       "      <td>0</td>\n",
       "      <td>1</td>\n",
       "    </tr>\n",
       "    <tr>\n",
       "      <th>...</th>\n",
       "      <td>...</td>\n",
       "      <td>...</td>\n",
       "      <td>...</td>\n",
       "      <td>...</td>\n",
       "      <td>...</td>\n",
       "      <td>...</td>\n",
       "      <td>...</td>\n",
       "      <td>...</td>\n",
       "      <td>...</td>\n",
       "      <td>...</td>\n",
       "      <td>...</td>\n",
       "      <td>...</td>\n",
       "      <td>...</td>\n",
       "      <td>...</td>\n",
       "      <td>...</td>\n",
       "      <td>...</td>\n",
       "      <td>...</td>\n",
       "      <td>...</td>\n",
       "    </tr>\n",
       "    <tr>\n",
       "      <th>692971</th>\n",
       "      <td>2130</td>\n",
       "      <td>9</td>\n",
       "      <td>0.003800</td>\n",
       "      <td>1.000000</td>\n",
       "      <td>1.000000</td>\n",
       "      <td>1.000000</td>\n",
       "      <td>0.000000</td>\n",
       "      <td>0.915913</td>\n",
       "      <td>1.250000</td>\n",
       "      <td>34.100000</td>\n",
       "      <td>1.364554</td>\n",
       "      <td>1.000000</td>\n",
       "      <td>0</td>\n",
       "      <td>0</td>\n",
       "      <td>0</td>\n",
       "      <td>0</td>\n",
       "      <td>1</td>\n",
       "      <td>0</td>\n",
       "    </tr>\n",
       "    <tr>\n",
       "      <th>692986</th>\n",
       "      <td>2076</td>\n",
       "      <td>6</td>\n",
       "      <td>0.002900</td>\n",
       "      <td>1.000000</td>\n",
       "      <td>1.000000</td>\n",
       "      <td>1.000000</td>\n",
       "      <td>1.000000</td>\n",
       "      <td>0.824007</td>\n",
       "      <td>0.000000</td>\n",
       "      <td>35.400000</td>\n",
       "      <td>0.000000</td>\n",
       "      <td>1.000000</td>\n",
       "      <td>0</td>\n",
       "      <td>0</td>\n",
       "      <td>0</td>\n",
       "      <td>0</td>\n",
       "      <td>1</td>\n",
       "      <td>0</td>\n",
       "    </tr>\n",
       "    <tr>\n",
       "      <th>692993</th>\n",
       "      <td>2069</td>\n",
       "      <td>7</td>\n",
       "      <td>0.003500</td>\n",
       "      <td>1.000000</td>\n",
       "      <td>1.000000</td>\n",
       "      <td>1.000000</td>\n",
       "      <td>1.000000</td>\n",
       "      <td>0.747064</td>\n",
       "      <td>0.000000</td>\n",
       "      <td>35.900000</td>\n",
       "      <td>0.000000</td>\n",
       "      <td>1.000000</td>\n",
       "      <td>0</td>\n",
       "      <td>0</td>\n",
       "      <td>0</td>\n",
       "      <td>0</td>\n",
       "      <td>1</td>\n",
       "      <td>0</td>\n",
       "    </tr>\n",
       "    <tr>\n",
       "      <th>693021</th>\n",
       "      <td>4805</td>\n",
       "      <td>13</td>\n",
       "      <td>0.002700</td>\n",
       "      <td>1.000000</td>\n",
       "      <td>1.000000</td>\n",
       "      <td>1.000000</td>\n",
       "      <td>0.000000</td>\n",
       "      <td>1.000839</td>\n",
       "      <td>0.857143</td>\n",
       "      <td>35.000000</td>\n",
       "      <td>1.167610</td>\n",
       "      <td>1.000000</td>\n",
       "      <td>0</td>\n",
       "      <td>0</td>\n",
       "      <td>0</td>\n",
       "      <td>0</td>\n",
       "      <td>1</td>\n",
       "      <td>0</td>\n",
       "    </tr>\n",
       "    <tr>\n",
       "      <th>693035</th>\n",
       "      <td>4788</td>\n",
       "      <td>14</td>\n",
       "      <td>0.003000</td>\n",
       "      <td>1.000000</td>\n",
       "      <td>1.000000</td>\n",
       "      <td>1.000000</td>\n",
       "      <td>0.000000</td>\n",
       "      <td>0.998316</td>\n",
       "      <td>1.000000</td>\n",
       "      <td>37.000000</td>\n",
       "      <td>1.001683</td>\n",
       "      <td>1.000000</td>\n",
       "      <td>0</td>\n",
       "      <td>0</td>\n",
       "      <td>0</td>\n",
       "      <td>0</td>\n",
       "      <td>1</td>\n",
       "      <td>0</td>\n",
       "    </tr>\n",
       "  </tbody>\n",
       "</table>\n",
       "<p>100430 rows × 18 columns</p>\n",
       "</div>"
      ],
      "text/plain": [
       "          DP  VD     HIAF   IMPACT  sampleTimePt   gender     BIAS  REFBIAS  \\\n",
       "0       2036   6 0.004400 0.000000      0.000000 0.000000 0.000000 0.957230   \n",
       "5       2036   7 0.003500 1.000000      0.000000 0.000000 0.000000 0.988224   \n",
       "9       2040   5 0.002100 1.000000      0.000000 0.000000 0.000000 0.988166   \n",
       "13      2041   6 0.002500 1.000000      0.000000 0.000000 0.000000 0.983415   \n",
       "17      2037   5 0.002800 1.000000      0.000000 0.000000 0.000000 0.894942   \n",
       "...      ...  ..      ...      ...           ...      ...      ...      ...   \n",
       "692971  2130   9 0.003800 1.000000      1.000000 1.000000 0.000000 0.915913   \n",
       "692986  2076   6 0.002900 1.000000      1.000000 1.000000 1.000000 0.824007   \n",
       "692993  2069   7 0.003500 1.000000      1.000000 1.000000 1.000000 0.747064   \n",
       "693021  4805  13 0.002700 1.000000      1.000000 1.000000 0.000000 1.000839   \n",
       "693035  4788  14 0.003000 1.000000      1.000000 1.000000 0.000000 0.998316   \n",
       "\n",
       "        VARBIAS      QUAL  ODDRATIO  chipOrControl  DNMT3A  TET2  TP53  ASXL1  \\\n",
       "0      1.000000 35.000000  1.044670       0.000000       0     0     0      0   \n",
       "5      0.750000 35.300000  1.317450       0.000000       0     0     0      0   \n",
       "9      0.666667 31.800000  1.481960       0.000000       0     0     0      0   \n",
       "13     1.000000 32.700000  1.016860       0.000000       0     0     0      0   \n",
       "17     0.666667 32.200000  1.342210       0.000000       0     0     0      0   \n",
       "...         ...       ...       ...            ...     ...   ...   ...    ...   \n",
       "692971 1.250000 34.100000  1.364554       1.000000       0     0     0      0   \n",
       "692986 0.000000 35.400000  0.000000       1.000000       0     0     0      0   \n",
       "692993 0.000000 35.900000  0.000000       1.000000       0     0     0      0   \n",
       "693021 0.857143 35.000000  1.167610       1.000000       0     0     0      0   \n",
       "693035 1.000000 37.000000  1.001683       1.000000       0     0     0      0   \n",
       "\n",
       "        BCOR  other  \n",
       "0          0      1  \n",
       "5          0      1  \n",
       "9          0      1  \n",
       "13         0      1  \n",
       "17         0      1  \n",
       "...      ...    ...  \n",
       "692971     1      0  \n",
       "692986     1      0  \n",
       "692993     1      0  \n",
       "693021     1      0  \n",
       "693035     1      0  \n",
       "\n",
       "[100430 rows x 18 columns]"
      ]
     },
     "execution_count": 38,
     "metadata": {},
     "output_type": "execute_result"
    }
   ],
   "source": [
    "df_model_removed2"
   ]
  },
  {
   "cell_type": "code",
   "execution_count": 39,
   "metadata": {},
   "outputs": [],
   "source": [
    "def normalise(dataframe):\n",
    "    norms = dataframe[['DP', 'VD', 'HIAF', 'REFBIAS', 'VARBIAS', 'QUAL', 'ODDRATIO']]\n",
    "    norms = (norms-norms.mean())/norms.std()\n",
    "#     norms = pd.concat([norms, dataframe[['IMPACT', 'sampleTimePt', 'gender', 'chipOrControl', 'DNMT3A', 'TET2', 'TP53', 'ASXL1',\n",
    "#                                            'BCOR', 'other', 'twotwo', 'onezero', 'zerotwo', 'onetwo', 'twozero',\n",
    "#                                          'oneone', 'zerozero', 'twoone'] ]],axis=1)\n",
    "    \n",
    "    norms = pd.concat([norms, dataframe[['IMPACT', 'sampleTimePt', 'gender', 'chipOrControl', 'DNMT3A', 'TET2', 'TP53', 'ASXL1',\n",
    "                                       'BCOR', 'other'] ]],axis=1)\n",
    "    \n",
    "    return norms "
   ]
  },
  {
   "cell_type": "code",
   "execution_count": 40,
   "metadata": {},
   "outputs": [],
   "source": [
    "norm_df_model = normalise(df_model)\n",
    "norm_df_model2 = normalise(df_model2)\n",
    "norm_df_model_removed = normalise(df_model_removed)\n",
    "norm_df_model_removed2 = normalise(df_model_removed2)"
   ]
  },
  {
   "cell_type": "code",
   "execution_count": 41,
   "metadata": {},
   "outputs": [
    {
     "data": {
      "text/html": [
       "<div>\n",
       "<style scoped>\n",
       "    .dataframe tbody tr th:only-of-type {\n",
       "        vertical-align: middle;\n",
       "    }\n",
       "\n",
       "    .dataframe tbody tr th {\n",
       "        vertical-align: top;\n",
       "    }\n",
       "\n",
       "    .dataframe thead th {\n",
       "        text-align: right;\n",
       "    }\n",
       "</style>\n",
       "<table border=\"1\" class=\"dataframe\">\n",
       "  <thead>\n",
       "    <tr style=\"text-align: right;\">\n",
       "      <th></th>\n",
       "      <th>DP</th>\n",
       "      <th>VD</th>\n",
       "      <th>HIAF</th>\n",
       "      <th>REFBIAS</th>\n",
       "      <th>VARBIAS</th>\n",
       "      <th>QUAL</th>\n",
       "      <th>ODDRATIO</th>\n",
       "      <th>IMPACT</th>\n",
       "      <th>sampleTimePt</th>\n",
       "      <th>gender</th>\n",
       "      <th>chipOrControl</th>\n",
       "      <th>DNMT3A</th>\n",
       "      <th>TET2</th>\n",
       "      <th>TP53</th>\n",
       "      <th>ASXL1</th>\n",
       "      <th>BCOR</th>\n",
       "      <th>other</th>\n",
       "    </tr>\n",
       "  </thead>\n",
       "  <tbody>\n",
       "    <tr>\n",
       "      <th>0</th>\n",
       "      <td>0.111750</td>\n",
       "      <td>-0.039057</td>\n",
       "      <td>-0.111933</td>\n",
       "      <td>-0.040965</td>\n",
       "      <td>-0.058840</td>\n",
       "      <td>-0.478556</td>\n",
       "      <td>-0.010949</td>\n",
       "      <td>0.000000</td>\n",
       "      <td>0.000000</td>\n",
       "      <td>0.000000</td>\n",
       "      <td>0.000000</td>\n",
       "      <td>0</td>\n",
       "      <td>0</td>\n",
       "      <td>0</td>\n",
       "      <td>0</td>\n",
       "      <td>0</td>\n",
       "      <td>1</td>\n",
       "    </tr>\n",
       "    <tr>\n",
       "      <th>4</th>\n",
       "      <td>0.111826</td>\n",
       "      <td>-0.038046</td>\n",
       "      <td>-0.107488</td>\n",
       "      <td>-0.040976</td>\n",
       "      <td>0.036889</td>\n",
       "      <td>-0.970238</td>\n",
       "      <td>-0.013579</td>\n",
       "      <td>0.000000</td>\n",
       "      <td>0.000000</td>\n",
       "      <td>0.000000</td>\n",
       "      <td>0.000000</td>\n",
       "      <td>0</td>\n",
       "      <td>0</td>\n",
       "      <td>0</td>\n",
       "      <td>0</td>\n",
       "      <td>0</td>\n",
       "      <td>1</td>\n",
       "    </tr>\n",
       "    <tr>\n",
       "      <th>8</th>\n",
       "      <td>0.111826</td>\n",
       "      <td>-0.039731</td>\n",
       "      <td>-0.111933</td>\n",
       "      <td>-0.040987</td>\n",
       "      <td>0.004980</td>\n",
       "      <td>-0.138160</td>\n",
       "      <td>-0.014812</td>\n",
       "      <td>0.000000</td>\n",
       "      <td>0.000000</td>\n",
       "      <td>0.000000</td>\n",
       "      <td>0.000000</td>\n",
       "      <td>0</td>\n",
       "      <td>0</td>\n",
       "      <td>0</td>\n",
       "      <td>0</td>\n",
       "      <td>0</td>\n",
       "      <td>1</td>\n",
       "    </tr>\n",
       "    <tr>\n",
       "      <th>12</th>\n",
       "      <td>-0.424884</td>\n",
       "      <td>-0.047143</td>\n",
       "      <td>0.016982</td>\n",
       "      <td>-0.041001</td>\n",
       "      <td>0.004980</td>\n",
       "      <td>0.656097</td>\n",
       "      <td>-0.014927</td>\n",
       "      <td>0.000000</td>\n",
       "      <td>0.000000</td>\n",
       "      <td>0.000000</td>\n",
       "      <td>0.000000</td>\n",
       "      <td>0</td>\n",
       "      <td>0</td>\n",
       "      <td>0</td>\n",
       "      <td>0</td>\n",
       "      <td>0</td>\n",
       "      <td>1</td>\n",
       "    </tr>\n",
       "    <tr>\n",
       "      <th>13</th>\n",
       "      <td>-0.304381</td>\n",
       "      <td>-0.045796</td>\n",
       "      <td>-0.108970</td>\n",
       "      <td>-0.040954</td>\n",
       "      <td>0.004980</td>\n",
       "      <td>0.656097</td>\n",
       "      <td>-0.014552</td>\n",
       "      <td>0.000000</td>\n",
       "      <td>0.000000</td>\n",
       "      <td>0.000000</td>\n",
       "      <td>0.000000</td>\n",
       "      <td>0</td>\n",
       "      <td>0</td>\n",
       "      <td>0</td>\n",
       "      <td>0</td>\n",
       "      <td>0</td>\n",
       "      <td>1</td>\n",
       "    </tr>\n",
       "    <tr>\n",
       "      <th>...</th>\n",
       "      <td>...</td>\n",
       "      <td>...</td>\n",
       "      <td>...</td>\n",
       "      <td>...</td>\n",
       "      <td>...</td>\n",
       "      <td>...</td>\n",
       "      <td>...</td>\n",
       "      <td>...</td>\n",
       "      <td>...</td>\n",
       "      <td>...</td>\n",
       "      <td>...</td>\n",
       "      <td>...</td>\n",
       "      <td>...</td>\n",
       "      <td>...</td>\n",
       "      <td>...</td>\n",
       "      <td>...</td>\n",
       "      <td>...</td>\n",
       "    </tr>\n",
       "    <tr>\n",
       "      <th>536717</th>\n",
       "      <td>-0.384615</td>\n",
       "      <td>-0.046469</td>\n",
       "      <td>-0.076370</td>\n",
       "      <td>-0.040978</td>\n",
       "      <td>0.004980</td>\n",
       "      <td>0.656097</td>\n",
       "      <td>-0.014741</td>\n",
       "      <td>0.000000</td>\n",
       "      <td>1.000000</td>\n",
       "      <td>1.000000</td>\n",
       "      <td>1.000000</td>\n",
       "      <td>0</td>\n",
       "      <td>0</td>\n",
       "      <td>0</td>\n",
       "      <td>0</td>\n",
       "      <td>1</td>\n",
       "      <td>0</td>\n",
       "    </tr>\n",
       "    <tr>\n",
       "      <th>536725</th>\n",
       "      <td>-0.384615</td>\n",
       "      <td>-0.047143</td>\n",
       "      <td>-0.119342</td>\n",
       "      <td>-0.040978</td>\n",
       "      <td>0.004980</td>\n",
       "      <td>-1.613208</td>\n",
       "      <td>-0.014741</td>\n",
       "      <td>0.000000</td>\n",
       "      <td>1.000000</td>\n",
       "      <td>1.000000</td>\n",
       "      <td>1.000000</td>\n",
       "      <td>0</td>\n",
       "      <td>0</td>\n",
       "      <td>0</td>\n",
       "      <td>0</td>\n",
       "      <td>1</td>\n",
       "      <td>0</td>\n",
       "    </tr>\n",
       "    <tr>\n",
       "      <th>536733</th>\n",
       "      <td>-0.384615</td>\n",
       "      <td>-0.047143</td>\n",
       "      <td>-0.117860</td>\n",
       "      <td>-0.040986</td>\n",
       "      <td>0.004980</td>\n",
       "      <td>0.656097</td>\n",
       "      <td>-0.014803</td>\n",
       "      <td>1.000000</td>\n",
       "      <td>1.000000</td>\n",
       "      <td>1.000000</td>\n",
       "      <td>1.000000</td>\n",
       "      <td>0</td>\n",
       "      <td>0</td>\n",
       "      <td>0</td>\n",
       "      <td>0</td>\n",
       "      <td>1</td>\n",
       "      <td>0</td>\n",
       "    </tr>\n",
       "    <tr>\n",
       "      <th>536734</th>\n",
       "      <td>-0.384615</td>\n",
       "      <td>-0.047143</td>\n",
       "      <td>-0.117860</td>\n",
       "      <td>-0.040978</td>\n",
       "      <td>0.004980</td>\n",
       "      <td>0.656097</td>\n",
       "      <td>-0.014741</td>\n",
       "      <td>0.000000</td>\n",
       "      <td>1.000000</td>\n",
       "      <td>1.000000</td>\n",
       "      <td>1.000000</td>\n",
       "      <td>0</td>\n",
       "      <td>0</td>\n",
       "      <td>0</td>\n",
       "      <td>0</td>\n",
       "      <td>1</td>\n",
       "      <td>0</td>\n",
       "    </tr>\n",
       "    <tr>\n",
       "      <th>536741</th>\n",
       "      <td>-0.384615</td>\n",
       "      <td>-0.047143</td>\n",
       "      <td>-0.119342</td>\n",
       "      <td>-0.040978</td>\n",
       "      <td>0.004980</td>\n",
       "      <td>-3.882513</td>\n",
       "      <td>-0.014741</td>\n",
       "      <td>0.000000</td>\n",
       "      <td>1.000000</td>\n",
       "      <td>1.000000</td>\n",
       "      <td>1.000000</td>\n",
       "      <td>0</td>\n",
       "      <td>0</td>\n",
       "      <td>0</td>\n",
       "      <td>0</td>\n",
       "      <td>1</td>\n",
       "      <td>0</td>\n",
       "    </tr>\n",
       "  </tbody>\n",
       "</table>\n",
       "<p>110193 rows × 17 columns</p>\n",
       "</div>"
      ],
      "text/plain": [
       "              DP        VD      HIAF   REFBIAS   VARBIAS      QUAL  ODDRATIO  \\\n",
       "0       0.111750 -0.039057 -0.111933 -0.040965 -0.058840 -0.478556 -0.010949   \n",
       "4       0.111826 -0.038046 -0.107488 -0.040976  0.036889 -0.970238 -0.013579   \n",
       "8       0.111826 -0.039731 -0.111933 -0.040987  0.004980 -0.138160 -0.014812   \n",
       "12     -0.424884 -0.047143  0.016982 -0.041001  0.004980  0.656097 -0.014927   \n",
       "13     -0.304381 -0.045796 -0.108970 -0.040954  0.004980  0.656097 -0.014552   \n",
       "...          ...       ...       ...       ...       ...       ...       ...   \n",
       "536717 -0.384615 -0.046469 -0.076370 -0.040978  0.004980  0.656097 -0.014741   \n",
       "536725 -0.384615 -0.047143 -0.119342 -0.040978  0.004980 -1.613208 -0.014741   \n",
       "536733 -0.384615 -0.047143 -0.117860 -0.040986  0.004980  0.656097 -0.014803   \n",
       "536734 -0.384615 -0.047143 -0.117860 -0.040978  0.004980  0.656097 -0.014741   \n",
       "536741 -0.384615 -0.047143 -0.119342 -0.040978  0.004980 -3.882513 -0.014741   \n",
       "\n",
       "         IMPACT  sampleTimePt   gender  chipOrControl  DNMT3A  TET2  TP53  \\\n",
       "0      0.000000      0.000000 0.000000       0.000000       0     0     0   \n",
       "4      0.000000      0.000000 0.000000       0.000000       0     0     0   \n",
       "8      0.000000      0.000000 0.000000       0.000000       0     0     0   \n",
       "12     0.000000      0.000000 0.000000       0.000000       0     0     0   \n",
       "13     0.000000      0.000000 0.000000       0.000000       0     0     0   \n",
       "...         ...           ...      ...            ...     ...   ...   ...   \n",
       "536717 0.000000      1.000000 1.000000       1.000000       0     0     0   \n",
       "536725 0.000000      1.000000 1.000000       1.000000       0     0     0   \n",
       "536733 1.000000      1.000000 1.000000       1.000000       0     0     0   \n",
       "536734 0.000000      1.000000 1.000000       1.000000       0     0     0   \n",
       "536741 0.000000      1.000000 1.000000       1.000000       0     0     0   \n",
       "\n",
       "        ASXL1  BCOR  other  \n",
       "0           0     0      1  \n",
       "4           0     0      1  \n",
       "8           0     0      1  \n",
       "12          0     0      1  \n",
       "13          0     0      1  \n",
       "...       ...   ...    ...  \n",
       "536717      0     1      0  \n",
       "536725      0     1      0  \n",
       "536733      0     1      0  \n",
       "536734      0     1      0  \n",
       "536741      0     1      0  \n",
       "\n",
       "[110193 rows x 17 columns]"
      ]
     },
     "execution_count": 41,
     "metadata": {},
     "output_type": "execute_result"
    }
   ],
   "source": [
    "norm_df_model"
   ]
  },
  {
   "cell_type": "markdown",
   "metadata": {},
   "source": [
    "# 2nd May Workings"
   ]
  },
  {
   "cell_type": "code",
   "execution_count": 42,
   "metadata": {},
   "outputs": [
    {
     "data": {
      "text/plain": [
       "Index(['DP', 'VD', 'HIAF', 'IMPACT', 'sampleTimePt', 'gender', 'BIAS',\n",
       "       'REFBIAS', 'VARBIAS', 'QUAL', 'ODDRATIO', 'chipOrControl', 'DNMT3A',\n",
       "       'TET2', 'TP53', 'ASXL1', 'BCOR', 'other'],\n",
       "      dtype='object')"
      ]
     },
     "execution_count": 42,
     "metadata": {},
     "output_type": "execute_result"
    }
   ],
   "source": [
    "df_model.columns"
   ]
  },
  {
   "cell_type": "code",
   "execution_count": 43,
   "metadata": {},
   "outputs": [],
   "source": [
    "df_model.drop(['DNMT3A', 'TET2', 'TP53', 'ASXL1', 'BCOR', 'other'], axis=1 , inplace=True)"
   ]
  },
  {
   "cell_type": "code",
   "execution_count": 44,
   "metadata": {},
   "outputs": [],
   "source": [
    "df_model.drop(['QUAL', 'BIAS', 'VARBIAS', 'IMPACT'], axis=1 , inplace=True)"
   ]
  },
  {
   "cell_type": "code",
   "execution_count": 45,
   "metadata": {},
   "outputs": [],
   "source": [
    "df_other = df_model[df_model['DP'] > 10]\n",
    "df_other = df_other[df_other['ODDRATIO'] < 1.5]\n",
    "df_other = df_other[df_other['REFBIAS'] < 2]"
   ]
  },
  {
   "cell_type": "code",
   "execution_count": 46,
   "metadata": {},
   "outputs": [],
   "source": [
    "df_other = df_other[df_other['HIAF'] < 0.027]"
   ]
  },
  {
   "cell_type": "code",
   "execution_count": 47,
   "metadata": {},
   "outputs": [],
   "source": [
    "def normalise(dataframe):\n",
    "    norms = dataframe[['DP', 'VD', 'HIAF', 'REFBIAS', 'ODDRATIO']]\n",
    "    norms = (norms-norms.mean())/norms.std()\n",
    "#     norms = pd.concat([norms, dataframe[['IMPACT', 'sampleTimePt', 'gender', 'chipOrControl', 'DNMT3A', 'TET2', 'TP53', 'ASXL1',\n",
    "#                                            'BCOR', 'other', 'twotwo', 'onezero', 'zerotwo', 'onetwo', 'twozero',\n",
    "#                                          'oneone', 'zerozero', 'twoone'] ]],axis=1)\n",
    "    \n",
    "    norms = pd.concat([norms, dataframe[['sampleTimePt', 'gender', 'chipOrControl'] ]],axis=1)\n",
    "    \n",
    "    return norms "
   ]
  },
  {
   "cell_type": "code",
   "execution_count": 48,
   "metadata": {},
   "outputs": [],
   "source": [
    "df_other1 = normalise(df_other)"
   ]
  },
  {
   "cell_type": "markdown",
   "metadata": {},
   "source": [
    "# Data"
   ]
  },
  {
   "cell_type": "code",
   "execution_count": 49,
   "metadata": {},
   "outputs": [],
   "source": [
    "X = df_model.drop('chipOrControl', axis = 1) \n",
    "y = df_model['chipOrControl'] \n",
    "\n",
    "X_other = df_other.drop('chipOrControl', axis = 1) \n",
    "y_other = df_other['chipOrControl'] \n",
    "\n",
    "X_other1 = df_other1.drop('chipOrControl', axis = 1) \n",
    "y_other1 = df_other1['chipOrControl'] \n",
    "\n",
    "\n",
    "X_2 = df_model2.drop('chipOrControl', axis = 1) \n",
    "y_2 = df_model2['chipOrControl'] \n",
    "\n",
    "norm_X = norm_df_model.drop('chipOrControl', axis = 1) \n",
    "norm_y = norm_df_model['chipOrControl'] \n",
    "\n",
    "norm_X_2 = norm_df_model2.drop('chipOrControl', axis = 1) \n",
    "norm_y_2 = norm_df_model2['chipOrControl']\n",
    "\n",
    "removed_X = df_model_removed.drop('chipOrControl', axis = 1) \n",
    "removed_y = df_model_removed['chipOrControl'] \n",
    "\n",
    "removed_X_2 = df_model_removed2.drop('chipOrControl', axis = 1) \n",
    "removed_y_2 = df_model_removed2['chipOrControl'] \n",
    "\n",
    "norm_removed_X = norm_df_model_removed.drop('chipOrControl', axis = 1) \n",
    "norm_removed_y = norm_df_model_removed['chipOrControl'] \n",
    "\n",
    "norm_removed_X_2 = norm_df_model_removed2.drop('chipOrControl', axis = 1) \n",
    "norm_removed_y_2 = norm_df_model_removed2['chipOrControl'] "
   ]
  },
  {
   "cell_type": "markdown",
   "metadata": {},
   "source": [
    "# Random Forests\n",
    "Run a random forest classifer, training/testing on individual datasets"
   ]
  },
  {
   "cell_type": "markdown",
   "metadata": {},
   "source": [
    "#### Dataset 1"
   ]
  },
  {
   "cell_type": "code",
   "execution_count": 50,
   "metadata": {
    "scrolled": true
   },
   "outputs": [
    {
     "name": "stdout",
     "output_type": "stream",
     "text": [
      "Accuracy 0.64\n"
     ]
    }
   ],
   "source": [
    "# Split into training/testing\n",
    "X_train, X_test, y_train, y_test = train_test_split(X, y, train_size=.8, random_state=0)\n",
    "\n",
    "# instantatiate the RFC with 100 ensemble members\n",
    "clf = RandomForestClassifier(n_estimators = 100)\n",
    "clf.fit(X_train, y_train)\n",
    "Y_pred = clf.predict(X_test)  \n",
    "print('Accuracy {0}'.format(np.round(accuracy_score(y_test, Y_pred),3)))"
   ]
  },
  {
   "cell_type": "code",
   "execution_count": 51,
   "metadata": {},
   "outputs": [
    {
     "name": "stdout",
     "output_type": "stream",
     "text": [
      "Accuracy 0.641\n"
     ]
    }
   ],
   "source": [
    "# Split into training/testing\n",
    "X_train, X_test, y_train, y_test = train_test_split(X_other, y_other, train_size=.8, random_state=0)\n",
    "\n",
    "# instantatiate the RFC with 100 ensemble members\n",
    "clf = RandomForestClassifier(n_estimators = 100)\n",
    "clf.fit(X_train, y_train)\n",
    "Y_pred = clf.predict(X_test)  \n",
    "print('Accuracy {0}'.format(np.round(accuracy_score(y_test, Y_pred),3)))"
   ]
  },
  {
   "cell_type": "markdown",
   "metadata": {},
   "source": [
    "#### Dataset 2"
   ]
  },
  {
   "cell_type": "code",
   "execution_count": null,
   "metadata": {},
   "outputs": [],
   "source": [
    "X_train, X_test, y_train, y_test = train_test_split(X_2, y_2, train_size=.8, random_state=0)\n",
    "\n",
    "clf = RandomForestClassifier()\n",
    "clf.fit(X_train, y_train)\n",
    "Y_pred = clf.predict(X_test)  # calculate the predicted values\n",
    "print('Accuracy {0}'.format(np.round(accuracy_score(y_test, Y_pred),3)))\n",
    "\n",
    "run2_pred = clf.predict(X)\n",
    "print('Accuracy out of sample {0}'.format(np.round(accuracy_score(y, run2_pred),3)))"
   ]
  },
  {
   "cell_type": "markdown",
   "metadata": {},
   "source": [
    "#### Dataset 1 filtered"
   ]
  },
  {
   "cell_type": "code",
   "execution_count": null,
   "metadata": {},
   "outputs": [],
   "source": [
    "X_train, X_test, y_train, y_test = train_test_split(removed_X, removed_y, train_size=.8, random_state=0)\n",
    "\n",
    "clf = RandomForestClassifier()\n",
    "clf.fit(X_train, y_train)\n",
    "Y_pred = clf.predict(X_test)  # calculate the predicted values\n",
    "print('Accuracy {0}'.format(np.round(accuracy_score(y_test, Y_pred),3)))\n",
    "\n",
    "run2_pred = clf.predict(removed_X_2)\n",
    "print('Accuracy out of sample {0}'.format(np.round(accuracy_score(removed_y_2, run2_pred),3)))"
   ]
  },
  {
   "cell_type": "markdown",
   "metadata": {},
   "source": [
    "#### Dataset 2 filtered"
   ]
  },
  {
   "cell_type": "code",
   "execution_count": null,
   "metadata": {},
   "outputs": [],
   "source": [
    "X_train, X_test, y_train, y_test = train_test_split(removed_X_2, removed_y_2, train_size=.8, random_state=0)\n",
    "\n",
    "clf = RandomForestClassifier()\n",
    "clf.fit(X_train, y_train)\n",
    "Y_pred = clf.predict(X_test)  # calculate the predicted values\n",
    "print('Accuracy {0}'.format(np.round(accuracy_score(y_test, Y_pred),3)))\n",
    "\n",
    "run2_pred = clf.predict(removed_X)\n",
    "print('Accuracy out of sample {0}'.format(np.round(accuracy_score(removed_y, run2_pred),3)))"
   ]
  },
  {
   "cell_type": "markdown",
   "metadata": {},
   "source": [
    "#### Normalised Dataset 1"
   ]
  },
  {
   "cell_type": "code",
   "execution_count": null,
   "metadata": {},
   "outputs": [],
   "source": [
    "X_train, X_test, y_train, y_test = train_test_split(norm_X, norm_y, train_size=.8, random_state=0)\n",
    "\n",
    "clf = RandomForestClassifier()\n",
    "clf.fit(X_train, y_train)\n",
    "Y_pred = clf.predict(X_test)  # calculate the predicted values\n",
    "print('Accuracy {0}'.format(np.round(accuracy_score(y_test, Y_pred),3)))\n",
    "\n",
    "run2_pred = clf.predict(norm_X_2)\n",
    "print('Accuracy out of sample {0}'.format(np.round(accuracy_score(norm_y_2, run2_pred),3)))"
   ]
  },
  {
   "cell_type": "markdown",
   "metadata": {},
   "source": [
    "#### Normalised Datset 2"
   ]
  },
  {
   "cell_type": "code",
   "execution_count": null,
   "metadata": {},
   "outputs": [],
   "source": [
    "X_train, X_test, y_train, y_test = train_test_split(norm_X_2, norm_y_2, train_size=.8, random_state=0)\n",
    "\n",
    "clf = RandomForestClassifier()\n",
    "clf.fit(X_train, y_train)\n",
    "Y_pred = clf.predict(X_test)  # calculate the predicted values\n",
    "print('Accuracy {0}'.format(np.round(accuracy_score(y_test, Y_pred),3)))\n",
    "\n",
    "run2_pred = clf.predict(norm_X)\n",
    "print('Accuracy out of sample {0}'.format(np.round(accuracy_score(norm_y, run2_pred),3)))"
   ]
  },
  {
   "cell_type": "markdown",
   "metadata": {},
   "source": [
    "#### Normalised Dataset 1 Filtered"
   ]
  },
  {
   "cell_type": "code",
   "execution_count": null,
   "metadata": {},
   "outputs": [],
   "source": [
    "X_train, X_test, y_train, y_test = train_test_split(norm_removed_X, norm_removed_y, train_size=.8, random_state=0)\n",
    "\n",
    "clf = RandomForestClassifier()\n",
    "clf.fit(X_train, y_train)\n",
    "Y_pred = clf.predict(X_test)  # calculate the predicted values\n",
    "print('Accuracy {0}'.format(np.round(accuracy_score(y_test, Y_pred),3)))\n",
    "\n",
    "run2_pred = clf.predict(norm_removed_X_2)\n",
    "print('Accuracy out of sample {0}'.format(np.round(accuracy_score(norm_removed_y_2, run2_pred),3)))"
   ]
  },
  {
   "cell_type": "markdown",
   "metadata": {},
   "source": [
    "#### Normalised Dataset 2 Filtered"
   ]
  },
  {
   "cell_type": "code",
   "execution_count": null,
   "metadata": {},
   "outputs": [],
   "source": [
    "X_train, X_test, y_train, y_test = train_test_split(norm_removed_X_2, norm_removed_y_2, train_size=.8, random_state=0)\n",
    "\n",
    "clf = RandomForestClassifier()\n",
    "clf.fit(X_train, y_train)\n",
    "Y_pred = clf.predict(X_test)  # calculate the predicted values\n",
    "print('Accuracy {0}'.format(np.round(accuracy_score(y_test, Y_pred),3)))\n",
    "\n",
    "run2_pred = clf.predict(norm_removed_X)\n",
    "print('Accuracy out of sample {0}'.format(np.round(accuracy_score(norm_removed_y, run2_pred),3)))"
   ]
  },
  {
   "cell_type": "markdown",
   "metadata": {},
   "source": [
    "## Random Forests Tuning Hyperparameters"
   ]
  },
  {
   "cell_type": "code",
   "execution_count": 67,
   "metadata": {},
   "outputs": [],
   "source": [
    "X = df_model.drop('chipOrControl', axis = 1) # drop the target variable for the features\n",
    "y = df_model['chipOrControl'] # create a target dataframe\n",
    "X_train, X_test, y_train, y_test = train_test_split(X, y, train_size=.8, random_state=0)"
   ]
  },
  {
   "cell_type": "code",
   "execution_count": 71,
   "metadata": {},
   "outputs": [
    {
     "name": "stdout",
     "output_type": "stream",
     "text": [
      "Fitting 5 folds for each of 36 candidates, totalling 180 fits\n"
     ]
    },
    {
     "name": "stderr",
     "output_type": "stream",
     "text": [
      "[Parallel(n_jobs=-1)]: Using backend LokyBackend with 4 concurrent workers.\n",
      "[Parallel(n_jobs=-1)]: Done  33 tasks      | elapsed:    6.6s\n",
      "[Parallel(n_jobs=-1)]: Done 154 tasks      | elapsed:  4.3min\n",
      "[Parallel(n_jobs=-1)]: Done 180 out of 180 | elapsed:  5.8min finished\n"
     ]
    },
    {
     "data": {
      "text/plain": [
       "GridSearchCV(estimator=RandomForestClassifier(), n_jobs=-1,\n",
       "             param_grid={'bootstrap': [False], 'criterion': ['gini'],\n",
       "                         'max_depth': ['None', 3, 5], 'max_features': ['auto'],\n",
       "                         'min_samples_leaf': [1, 5, 10],\n",
       "                         'min_samples_split': [2, 40],\n",
       "                         'n_estimators': [100, 200]},\n",
       "             verbose=2)"
      ]
     },
     "execution_count": 71,
     "metadata": {},
     "output_type": "execute_result"
    }
   ],
   "source": [
    "random_forest = RandomForestClassifier()\n",
    "param_grid = {'n_estimators': [100, 200], 'min_samples_split': [2, 40], 'min_samples_leaf': [1, 5, 10], \n",
    "              'max_features': ['auto'], 'max_depth': ['None', 3, 5], 'criterion': ['gini'], 'bootstrap': [False]}\n",
    "\n",
    "random_forest_CV = GridSearchCV(estimator=random_forest, param_grid=param_grid, verbose=2, n_jobs = -1) \n",
    "random_forest_CV.fit(X_train,y_train)\n",
    "\n"
   ]
  },
  {
   "cell_type": "code",
   "execution_count": 72,
   "metadata": {},
   "outputs": [
    {
     "name": "stdout",
     "output_type": "stream",
     "text": [
      "{'bootstrap': False, 'criterion': 'gini', 'max_depth': 5, 'max_features': 'auto', 'min_samples_leaf': 5, 'min_samples_split': 40, 'n_estimators': 100}\n"
     ]
    }
   ],
   "source": [
    "print(random_forest_CV.best_params_)"
   ]
  },
  {
   "cell_type": "code",
   "execution_count": null,
   "metadata": {},
   "outputs": [],
   "source": [
    "print(random_forest_CV.best_params_)"
   ]
  },
  {
   "cell_type": "code",
   "execution_count": null,
   "metadata": {},
   "outputs": [],
   "source": [
    "y_pred = random_forest_CV.predict(X_test)"
   ]
  },
  {
   "cell_type": "code",
   "execution_count": null,
   "metadata": {},
   "outputs": [],
   "source": [
    "print('Accuracy {0}'.format(np.round(accuracy_score(y_test, y_pred),3)))"
   ]
  },
  {
   "cell_type": "code",
   "execution_count": 73,
   "metadata": {
    "scrolled": true
   },
   "outputs": [
    {
     "name": "stdout",
     "output_type": "stream",
     "text": [
      "Accuracy 0.558\n"
     ]
    }
   ],
   "source": [
    "# instantatiate the RFC with 100 ensemble members\n",
    "clf = RandomForestClassifier(max_depth = 5, min_samples_leaf = 5, min_samples_split = 40, n_estimators = 100, criterion ='gini')\n",
    "clf.fit(X_train, y_train)\n",
    "y_pred = clf.predict(X_test)\n",
    "print('Accuracy {0}'.format(np.round(accuracy_score(y_test, y_pred),3)))"
   ]
  },
  {
   "cell_type": "code",
   "execution_count": null,
   "metadata": {},
   "outputs": [],
   "source": [
    "run2_pred = clf.predict(X_2)\n",
    "print('Accuracy {0}'.format(np.round(accuracy_score(y_2, run2_pred),3)))"
   ]
  },
  {
   "cell_type": "markdown",
   "metadata": {},
   "source": [
    "# ADA"
   ]
  },
  {
   "cell_type": "code",
   "execution_count": 84,
   "metadata": {},
   "outputs": [
    {
     "name": "stdout",
     "output_type": "stream",
     "text": [
      "Accuracy 0.668\n"
     ]
    }
   ],
   "source": [
    "X_train, X_test, y_train, y_test = train_test_split(X, y, train_size=.8, random_state=0)\n",
    "\n",
    "clf = AdaBoostClassifier(\n",
    "    DecisionTreeClassifier(),\n",
    "    n_estimators=300, learning_rate = 1.5, algorithm= 'SAMME')\n",
    "clf.fit(X_train, y_train)\n",
    "y_pred = clf.predict(X_test)\n",
    "\n",
    "print('Accuracy {0}'.format(np.round(accuracy_score(y_test, y_pred),3)))"
   ]
  },
  {
   "cell_type": "code",
   "execution_count": 86,
   "metadata": {},
   "outputs": [
    {
     "name": "stdout",
     "output_type": "stream",
     "text": [
      "Accuracy 0.698\n"
     ]
    }
   ],
   "source": [
    "X_train, X_test, y_train, y_test = train_test_split(X, y, train_size=.8, random_state=0)\n",
    "\n",
    "clf = AdaBoostClassifier(\n",
    "    DecisionTreeClassifier(),\n",
    "    n_estimators=100, learning_rate = 0.5, algorithm= 'SAMME')\n",
    "clf.fit(X_train, y_train)\n",
    "y_pred = clf.predict(X_test)\n",
    "\n",
    "print('Accuracy {0}'.format(np.round(accuracy_score(y_test, y_pred),3)))"
   ]
  },
  {
   "cell_type": "code",
   "execution_count": 53,
   "metadata": {},
   "outputs": [
    {
     "ename": "MemoryError",
     "evalue": "could not allocate 3670016 bytes",
     "output_type": "error",
     "traceback": [
      "\u001b[1;31m---------------------------------------------------------------------------\u001b[0m",
      "\u001b[1;31mMemoryError\u001b[0m                               Traceback (most recent call last)",
      "\u001b[1;32m<ipython-input-53-4f5e3f930d58>\u001b[0m in \u001b[0;36m<module>\u001b[1;34m\u001b[0m\n\u001b[0;32m      4\u001b[0m     \u001b[0mRandomForestClassifier\u001b[0m\u001b[1;33m(\u001b[0m\u001b[1;33m)\u001b[0m\u001b[1;33m,\u001b[0m\u001b[1;33m\u001b[0m\u001b[1;33m\u001b[0m\u001b[0m\n\u001b[0;32m      5\u001b[0m     n_estimators=100, learning_rate = 0.5, algorithm= 'SAMME')\n\u001b[1;32m----> 6\u001b[1;33m \u001b[0mclf\u001b[0m\u001b[1;33m.\u001b[0m\u001b[0mfit\u001b[0m\u001b[1;33m(\u001b[0m\u001b[0mX_train\u001b[0m\u001b[1;33m,\u001b[0m \u001b[0my_train\u001b[0m\u001b[1;33m)\u001b[0m\u001b[1;33m\u001b[0m\u001b[1;33m\u001b[0m\u001b[0m\n\u001b[0m\u001b[0;32m      7\u001b[0m \u001b[0my_pred\u001b[0m \u001b[1;33m=\u001b[0m \u001b[0mclf\u001b[0m\u001b[1;33m.\u001b[0m\u001b[0mpredict\u001b[0m\u001b[1;33m(\u001b[0m\u001b[0mX_test\u001b[0m\u001b[1;33m)\u001b[0m\u001b[1;33m\u001b[0m\u001b[1;33m\u001b[0m\u001b[0m\n\u001b[0;32m      8\u001b[0m \u001b[1;33m\u001b[0m\u001b[0m\n",
      "\u001b[1;32m~\\anaconda3\\lib\\site-packages\\sklearn\\ensemble\\_weight_boosting.py\u001b[0m in \u001b[0;36mfit\u001b[1;34m(self, X, y, sample_weight)\u001b[0m\n\u001b[0;32m    441\u001b[0m \u001b[1;33m\u001b[0m\u001b[0m\n\u001b[0;32m    442\u001b[0m         \u001b[1;31m# Fit\u001b[0m\u001b[1;33m\u001b[0m\u001b[1;33m\u001b[0m\u001b[1;33m\u001b[0m\u001b[0m\n\u001b[1;32m--> 443\u001b[1;33m         \u001b[1;32mreturn\u001b[0m \u001b[0msuper\u001b[0m\u001b[1;33m(\u001b[0m\u001b[1;33m)\u001b[0m\u001b[1;33m.\u001b[0m\u001b[0mfit\u001b[0m\u001b[1;33m(\u001b[0m\u001b[0mX\u001b[0m\u001b[1;33m,\u001b[0m \u001b[0my\u001b[0m\u001b[1;33m,\u001b[0m \u001b[0msample_weight\u001b[0m\u001b[1;33m)\u001b[0m\u001b[1;33m\u001b[0m\u001b[1;33m\u001b[0m\u001b[0m\n\u001b[0m\u001b[0;32m    444\u001b[0m \u001b[1;33m\u001b[0m\u001b[0m\n\u001b[0;32m    445\u001b[0m     \u001b[1;32mdef\u001b[0m \u001b[0m_validate_estimator\u001b[0m\u001b[1;33m(\u001b[0m\u001b[0mself\u001b[0m\u001b[1;33m)\u001b[0m\u001b[1;33m:\u001b[0m\u001b[1;33m\u001b[0m\u001b[1;33m\u001b[0m\u001b[0m\n",
      "\u001b[1;32m~\\anaconda3\\lib\\site-packages\\sklearn\\ensemble\\_weight_boosting.py\u001b[0m in \u001b[0;36mfit\u001b[1;34m(self, X, y, sample_weight)\u001b[0m\n\u001b[0;32m    128\u001b[0m         \u001b[1;32mfor\u001b[0m \u001b[0miboost\u001b[0m \u001b[1;32min\u001b[0m \u001b[0mrange\u001b[0m\u001b[1;33m(\u001b[0m\u001b[0mself\u001b[0m\u001b[1;33m.\u001b[0m\u001b[0mn_estimators\u001b[0m\u001b[1;33m)\u001b[0m\u001b[1;33m:\u001b[0m\u001b[1;33m\u001b[0m\u001b[1;33m\u001b[0m\u001b[0m\n\u001b[0;32m    129\u001b[0m             \u001b[1;31m# Boosting step\u001b[0m\u001b[1;33m\u001b[0m\u001b[1;33m\u001b[0m\u001b[1;33m\u001b[0m\u001b[0m\n\u001b[1;32m--> 130\u001b[1;33m             sample_weight, estimator_weight, estimator_error = self._boost(\n\u001b[0m\u001b[0;32m    131\u001b[0m                 \u001b[0miboost\u001b[0m\u001b[1;33m,\u001b[0m\u001b[1;33m\u001b[0m\u001b[1;33m\u001b[0m\u001b[0m\n\u001b[0;32m    132\u001b[0m                 \u001b[0mX\u001b[0m\u001b[1;33m,\u001b[0m \u001b[0my\u001b[0m\u001b[1;33m,\u001b[0m\u001b[1;33m\u001b[0m\u001b[1;33m\u001b[0m\u001b[0m\n",
      "\u001b[1;32m~\\anaconda3\\lib\\site-packages\\sklearn\\ensemble\\_weight_boosting.py\u001b[0m in \u001b[0;36m_boost\u001b[1;34m(self, iboost, X, y, sample_weight, random_state)\u001b[0m\n\u001b[0;32m    504\u001b[0m \u001b[1;33m\u001b[0m\u001b[0m\n\u001b[0;32m    505\u001b[0m         \u001b[1;32melse\u001b[0m\u001b[1;33m:\u001b[0m  \u001b[1;31m# elif self.algorithm == \"SAMME\":\u001b[0m\u001b[1;33m\u001b[0m\u001b[1;33m\u001b[0m\u001b[0m\n\u001b[1;32m--> 506\u001b[1;33m             return self._boost_discrete(iboost, X, y, sample_weight,\n\u001b[0m\u001b[0;32m    507\u001b[0m                                         random_state)\n\u001b[0;32m    508\u001b[0m \u001b[1;33m\u001b[0m\u001b[0m\n",
      "\u001b[1;32m~\\anaconda3\\lib\\site-packages\\sklearn\\ensemble\\_weight_boosting.py\u001b[0m in \u001b[0;36m_boost_discrete\u001b[1;34m(self, iboost, X, y, sample_weight, random_state)\u001b[0m\n\u001b[0;32m    569\u001b[0m         \u001b[0mestimator\u001b[0m \u001b[1;33m=\u001b[0m \u001b[0mself\u001b[0m\u001b[1;33m.\u001b[0m\u001b[0m_make_estimator\u001b[0m\u001b[1;33m(\u001b[0m\u001b[0mrandom_state\u001b[0m\u001b[1;33m=\u001b[0m\u001b[0mrandom_state\u001b[0m\u001b[1;33m)\u001b[0m\u001b[1;33m\u001b[0m\u001b[1;33m\u001b[0m\u001b[0m\n\u001b[0;32m    570\u001b[0m \u001b[1;33m\u001b[0m\u001b[0m\n\u001b[1;32m--> 571\u001b[1;33m         \u001b[0mestimator\u001b[0m\u001b[1;33m.\u001b[0m\u001b[0mfit\u001b[0m\u001b[1;33m(\u001b[0m\u001b[0mX\u001b[0m\u001b[1;33m,\u001b[0m \u001b[0my\u001b[0m\u001b[1;33m,\u001b[0m \u001b[0msample_weight\u001b[0m\u001b[1;33m=\u001b[0m\u001b[0msample_weight\u001b[0m\u001b[1;33m)\u001b[0m\u001b[1;33m\u001b[0m\u001b[1;33m\u001b[0m\u001b[0m\n\u001b[0m\u001b[0;32m    572\u001b[0m \u001b[1;33m\u001b[0m\u001b[0m\n\u001b[0;32m    573\u001b[0m         \u001b[0my_predict\u001b[0m \u001b[1;33m=\u001b[0m \u001b[0mestimator\u001b[0m\u001b[1;33m.\u001b[0m\u001b[0mpredict\u001b[0m\u001b[1;33m(\u001b[0m\u001b[0mX\u001b[0m\u001b[1;33m)\u001b[0m\u001b[1;33m\u001b[0m\u001b[1;33m\u001b[0m\u001b[0m\n",
      "\u001b[1;32m~\\anaconda3\\lib\\site-packages\\sklearn\\ensemble\\_forest.py\u001b[0m in \u001b[0;36mfit\u001b[1;34m(self, X, y, sample_weight)\u001b[0m\n\u001b[0;32m    384\u001b[0m             \u001b[1;31m# parallel_backend contexts set at a higher level,\u001b[0m\u001b[1;33m\u001b[0m\u001b[1;33m\u001b[0m\u001b[1;33m\u001b[0m\u001b[0m\n\u001b[0;32m    385\u001b[0m             \u001b[1;31m# since correctness does not rely on using threads.\u001b[0m\u001b[1;33m\u001b[0m\u001b[1;33m\u001b[0m\u001b[1;33m\u001b[0m\u001b[0m\n\u001b[1;32m--> 386\u001b[1;33m             trees = Parallel(n_jobs=self.n_jobs, verbose=self.verbose,\n\u001b[0m\u001b[0;32m    387\u001b[0m                              \u001b[1;33m**\u001b[0m\u001b[0m_joblib_parallel_args\u001b[0m\u001b[1;33m(\u001b[0m\u001b[0mprefer\u001b[0m\u001b[1;33m=\u001b[0m\u001b[1;34m'threads'\u001b[0m\u001b[1;33m)\u001b[0m\u001b[1;33m)\u001b[0m\u001b[1;33m(\u001b[0m\u001b[1;33m\u001b[0m\u001b[1;33m\u001b[0m\u001b[0m\n\u001b[0;32m    388\u001b[0m                 delayed(_parallel_build_trees)(\n",
      "\u001b[1;32m~\\anaconda3\\lib\\site-packages\\joblib\\parallel.py\u001b[0m in \u001b[0;36m__call__\u001b[1;34m(self, iterable)\u001b[0m\n\u001b[0;32m   1049\u001b[0m                 \u001b[0mself\u001b[0m\u001b[1;33m.\u001b[0m\u001b[0m_iterating\u001b[0m \u001b[1;33m=\u001b[0m \u001b[0mself\u001b[0m\u001b[1;33m.\u001b[0m\u001b[0m_original_iterator\u001b[0m \u001b[1;32mis\u001b[0m \u001b[1;32mnot\u001b[0m \u001b[1;32mNone\u001b[0m\u001b[1;33m\u001b[0m\u001b[1;33m\u001b[0m\u001b[0m\n\u001b[0;32m   1050\u001b[0m \u001b[1;33m\u001b[0m\u001b[0m\n\u001b[1;32m-> 1051\u001b[1;33m             \u001b[1;32mwhile\u001b[0m \u001b[0mself\u001b[0m\u001b[1;33m.\u001b[0m\u001b[0mdispatch_one_batch\u001b[0m\u001b[1;33m(\u001b[0m\u001b[0miterator\u001b[0m\u001b[1;33m)\u001b[0m\u001b[1;33m:\u001b[0m\u001b[1;33m\u001b[0m\u001b[1;33m\u001b[0m\u001b[0m\n\u001b[0m\u001b[0;32m   1052\u001b[0m                 \u001b[1;32mpass\u001b[0m\u001b[1;33m\u001b[0m\u001b[1;33m\u001b[0m\u001b[0m\n\u001b[0;32m   1053\u001b[0m \u001b[1;33m\u001b[0m\u001b[0m\n",
      "\u001b[1;32m~\\anaconda3\\lib\\site-packages\\joblib\\parallel.py\u001b[0m in \u001b[0;36mdispatch_one_batch\u001b[1;34m(self, iterator)\u001b[0m\n\u001b[0;32m    864\u001b[0m                 \u001b[1;32mreturn\u001b[0m \u001b[1;32mFalse\u001b[0m\u001b[1;33m\u001b[0m\u001b[1;33m\u001b[0m\u001b[0m\n\u001b[0;32m    865\u001b[0m             \u001b[1;32melse\u001b[0m\u001b[1;33m:\u001b[0m\u001b[1;33m\u001b[0m\u001b[1;33m\u001b[0m\u001b[0m\n\u001b[1;32m--> 866\u001b[1;33m                 \u001b[0mself\u001b[0m\u001b[1;33m.\u001b[0m\u001b[0m_dispatch\u001b[0m\u001b[1;33m(\u001b[0m\u001b[0mtasks\u001b[0m\u001b[1;33m)\u001b[0m\u001b[1;33m\u001b[0m\u001b[1;33m\u001b[0m\u001b[0m\n\u001b[0m\u001b[0;32m    867\u001b[0m                 \u001b[1;32mreturn\u001b[0m \u001b[1;32mTrue\u001b[0m\u001b[1;33m\u001b[0m\u001b[1;33m\u001b[0m\u001b[0m\n\u001b[0;32m    868\u001b[0m \u001b[1;33m\u001b[0m\u001b[0m\n",
      "\u001b[1;32m~\\anaconda3\\lib\\site-packages\\joblib\\parallel.py\u001b[0m in \u001b[0;36m_dispatch\u001b[1;34m(self, batch)\u001b[0m\n\u001b[0;32m    782\u001b[0m         \u001b[1;32mwith\u001b[0m \u001b[0mself\u001b[0m\u001b[1;33m.\u001b[0m\u001b[0m_lock\u001b[0m\u001b[1;33m:\u001b[0m\u001b[1;33m\u001b[0m\u001b[1;33m\u001b[0m\u001b[0m\n\u001b[0;32m    783\u001b[0m             \u001b[0mjob_idx\u001b[0m \u001b[1;33m=\u001b[0m \u001b[0mlen\u001b[0m\u001b[1;33m(\u001b[0m\u001b[0mself\u001b[0m\u001b[1;33m.\u001b[0m\u001b[0m_jobs\u001b[0m\u001b[1;33m)\u001b[0m\u001b[1;33m\u001b[0m\u001b[1;33m\u001b[0m\u001b[0m\n\u001b[1;32m--> 784\u001b[1;33m             \u001b[0mjob\u001b[0m \u001b[1;33m=\u001b[0m \u001b[0mself\u001b[0m\u001b[1;33m.\u001b[0m\u001b[0m_backend\u001b[0m\u001b[1;33m.\u001b[0m\u001b[0mapply_async\u001b[0m\u001b[1;33m(\u001b[0m\u001b[0mbatch\u001b[0m\u001b[1;33m,\u001b[0m \u001b[0mcallback\u001b[0m\u001b[1;33m=\u001b[0m\u001b[0mcb\u001b[0m\u001b[1;33m)\u001b[0m\u001b[1;33m\u001b[0m\u001b[1;33m\u001b[0m\u001b[0m\n\u001b[0m\u001b[0;32m    785\u001b[0m             \u001b[1;31m# A job can complete so quickly than its callback is\u001b[0m\u001b[1;33m\u001b[0m\u001b[1;33m\u001b[0m\u001b[1;33m\u001b[0m\u001b[0m\n\u001b[0;32m    786\u001b[0m             \u001b[1;31m# called before we get here, causing self._jobs to\u001b[0m\u001b[1;33m\u001b[0m\u001b[1;33m\u001b[0m\u001b[1;33m\u001b[0m\u001b[0m\n",
      "\u001b[1;32m~\\anaconda3\\lib\\site-packages\\joblib\\_parallel_backends.py\u001b[0m in \u001b[0;36mapply_async\u001b[1;34m(self, func, callback)\u001b[0m\n\u001b[0;32m    206\u001b[0m     \u001b[1;32mdef\u001b[0m \u001b[0mapply_async\u001b[0m\u001b[1;33m(\u001b[0m\u001b[0mself\u001b[0m\u001b[1;33m,\u001b[0m \u001b[0mfunc\u001b[0m\u001b[1;33m,\u001b[0m \u001b[0mcallback\u001b[0m\u001b[1;33m=\u001b[0m\u001b[1;32mNone\u001b[0m\u001b[1;33m)\u001b[0m\u001b[1;33m:\u001b[0m\u001b[1;33m\u001b[0m\u001b[1;33m\u001b[0m\u001b[0m\n\u001b[0;32m    207\u001b[0m         \u001b[1;34m\"\"\"Schedule a func to be run\"\"\"\u001b[0m\u001b[1;33m\u001b[0m\u001b[1;33m\u001b[0m\u001b[0m\n\u001b[1;32m--> 208\u001b[1;33m         \u001b[0mresult\u001b[0m \u001b[1;33m=\u001b[0m \u001b[0mImmediateResult\u001b[0m\u001b[1;33m(\u001b[0m\u001b[0mfunc\u001b[0m\u001b[1;33m)\u001b[0m\u001b[1;33m\u001b[0m\u001b[1;33m\u001b[0m\u001b[0m\n\u001b[0m\u001b[0;32m    209\u001b[0m         \u001b[1;32mif\u001b[0m \u001b[0mcallback\u001b[0m\u001b[1;33m:\u001b[0m\u001b[1;33m\u001b[0m\u001b[1;33m\u001b[0m\u001b[0m\n\u001b[0;32m    210\u001b[0m             \u001b[0mcallback\u001b[0m\u001b[1;33m(\u001b[0m\u001b[0mresult\u001b[0m\u001b[1;33m)\u001b[0m\u001b[1;33m\u001b[0m\u001b[1;33m\u001b[0m\u001b[0m\n",
      "\u001b[1;32m~\\anaconda3\\lib\\site-packages\\joblib\\_parallel_backends.py\u001b[0m in \u001b[0;36m__init__\u001b[1;34m(self, batch)\u001b[0m\n\u001b[0;32m    570\u001b[0m         \u001b[1;31m# Don't delay the application, to avoid keeping the input\u001b[0m\u001b[1;33m\u001b[0m\u001b[1;33m\u001b[0m\u001b[1;33m\u001b[0m\u001b[0m\n\u001b[0;32m    571\u001b[0m         \u001b[1;31m# arguments in memory\u001b[0m\u001b[1;33m\u001b[0m\u001b[1;33m\u001b[0m\u001b[1;33m\u001b[0m\u001b[0m\n\u001b[1;32m--> 572\u001b[1;33m         \u001b[0mself\u001b[0m\u001b[1;33m.\u001b[0m\u001b[0mresults\u001b[0m \u001b[1;33m=\u001b[0m \u001b[0mbatch\u001b[0m\u001b[1;33m(\u001b[0m\u001b[1;33m)\u001b[0m\u001b[1;33m\u001b[0m\u001b[1;33m\u001b[0m\u001b[0m\n\u001b[0m\u001b[0;32m    573\u001b[0m \u001b[1;33m\u001b[0m\u001b[0m\n\u001b[0;32m    574\u001b[0m     \u001b[1;32mdef\u001b[0m \u001b[0mget\u001b[0m\u001b[1;33m(\u001b[0m\u001b[0mself\u001b[0m\u001b[1;33m)\u001b[0m\u001b[1;33m:\u001b[0m\u001b[1;33m\u001b[0m\u001b[1;33m\u001b[0m\u001b[0m\n",
      "\u001b[1;32m~\\anaconda3\\lib\\site-packages\\joblib\\parallel.py\u001b[0m in \u001b[0;36m__call__\u001b[1;34m(self)\u001b[0m\n\u001b[0;32m    260\u001b[0m         \u001b[1;31m# change the default number of processes to -1\u001b[0m\u001b[1;33m\u001b[0m\u001b[1;33m\u001b[0m\u001b[1;33m\u001b[0m\u001b[0m\n\u001b[0;32m    261\u001b[0m         \u001b[1;32mwith\u001b[0m \u001b[0mparallel_backend\u001b[0m\u001b[1;33m(\u001b[0m\u001b[0mself\u001b[0m\u001b[1;33m.\u001b[0m\u001b[0m_backend\u001b[0m\u001b[1;33m,\u001b[0m \u001b[0mn_jobs\u001b[0m\u001b[1;33m=\u001b[0m\u001b[0mself\u001b[0m\u001b[1;33m.\u001b[0m\u001b[0m_n_jobs\u001b[0m\u001b[1;33m)\u001b[0m\u001b[1;33m:\u001b[0m\u001b[1;33m\u001b[0m\u001b[1;33m\u001b[0m\u001b[0m\n\u001b[1;32m--> 262\u001b[1;33m             return [func(*args, **kwargs)\n\u001b[0m\u001b[0;32m    263\u001b[0m                     for func, args, kwargs in self.items]\n\u001b[0;32m    264\u001b[0m \u001b[1;33m\u001b[0m\u001b[0m\n",
      "\u001b[1;32m~\\anaconda3\\lib\\site-packages\\joblib\\parallel.py\u001b[0m in \u001b[0;36m<listcomp>\u001b[1;34m(.0)\u001b[0m\n\u001b[0;32m    260\u001b[0m         \u001b[1;31m# change the default number of processes to -1\u001b[0m\u001b[1;33m\u001b[0m\u001b[1;33m\u001b[0m\u001b[1;33m\u001b[0m\u001b[0m\n\u001b[0;32m    261\u001b[0m         \u001b[1;32mwith\u001b[0m \u001b[0mparallel_backend\u001b[0m\u001b[1;33m(\u001b[0m\u001b[0mself\u001b[0m\u001b[1;33m.\u001b[0m\u001b[0m_backend\u001b[0m\u001b[1;33m,\u001b[0m \u001b[0mn_jobs\u001b[0m\u001b[1;33m=\u001b[0m\u001b[0mself\u001b[0m\u001b[1;33m.\u001b[0m\u001b[0m_n_jobs\u001b[0m\u001b[1;33m)\u001b[0m\u001b[1;33m:\u001b[0m\u001b[1;33m\u001b[0m\u001b[1;33m\u001b[0m\u001b[0m\n\u001b[1;32m--> 262\u001b[1;33m             return [func(*args, **kwargs)\n\u001b[0m\u001b[0;32m    263\u001b[0m                     for func, args, kwargs in self.items]\n\u001b[0;32m    264\u001b[0m \u001b[1;33m\u001b[0m\u001b[0m\n",
      "\u001b[1;32m~\\anaconda3\\lib\\site-packages\\sklearn\\ensemble\\_forest.py\u001b[0m in \u001b[0;36m_parallel_build_trees\u001b[1;34m(tree, forest, X, y, sample_weight, tree_idx, n_trees, verbose, class_weight, n_samples_bootstrap)\u001b[0m\n\u001b[0;32m    166\u001b[0m                                                         indices=indices)\n\u001b[0;32m    167\u001b[0m \u001b[1;33m\u001b[0m\u001b[0m\n\u001b[1;32m--> 168\u001b[1;33m         \u001b[0mtree\u001b[0m\u001b[1;33m.\u001b[0m\u001b[0mfit\u001b[0m\u001b[1;33m(\u001b[0m\u001b[0mX\u001b[0m\u001b[1;33m,\u001b[0m \u001b[0my\u001b[0m\u001b[1;33m,\u001b[0m \u001b[0msample_weight\u001b[0m\u001b[1;33m=\u001b[0m\u001b[0mcurr_sample_weight\u001b[0m\u001b[1;33m,\u001b[0m \u001b[0mcheck_input\u001b[0m\u001b[1;33m=\u001b[0m\u001b[1;32mFalse\u001b[0m\u001b[1;33m)\u001b[0m\u001b[1;33m\u001b[0m\u001b[1;33m\u001b[0m\u001b[0m\n\u001b[0m\u001b[0;32m    169\u001b[0m     \u001b[1;32melse\u001b[0m\u001b[1;33m:\u001b[0m\u001b[1;33m\u001b[0m\u001b[1;33m\u001b[0m\u001b[0m\n\u001b[0;32m    170\u001b[0m         \u001b[0mtree\u001b[0m\u001b[1;33m.\u001b[0m\u001b[0mfit\u001b[0m\u001b[1;33m(\u001b[0m\u001b[0mX\u001b[0m\u001b[1;33m,\u001b[0m \u001b[0my\u001b[0m\u001b[1;33m,\u001b[0m \u001b[0msample_weight\u001b[0m\u001b[1;33m=\u001b[0m\u001b[0msample_weight\u001b[0m\u001b[1;33m,\u001b[0m \u001b[0mcheck_input\u001b[0m\u001b[1;33m=\u001b[0m\u001b[1;32mFalse\u001b[0m\u001b[1;33m)\u001b[0m\u001b[1;33m\u001b[0m\u001b[1;33m\u001b[0m\u001b[0m\n",
      "\u001b[1;32m~\\anaconda3\\lib\\site-packages\\sklearn\\tree\\_classes.py\u001b[0m in \u001b[0;36mfit\u001b[1;34m(self, X, y, sample_weight, check_input, X_idx_sorted)\u001b[0m\n\u001b[0;32m    888\u001b[0m         \"\"\"\n\u001b[0;32m    889\u001b[0m \u001b[1;33m\u001b[0m\u001b[0m\n\u001b[1;32m--> 890\u001b[1;33m         super().fit(\n\u001b[0m\u001b[0;32m    891\u001b[0m             \u001b[0mX\u001b[0m\u001b[1;33m,\u001b[0m \u001b[0my\u001b[0m\u001b[1;33m,\u001b[0m\u001b[1;33m\u001b[0m\u001b[1;33m\u001b[0m\u001b[0m\n\u001b[0;32m    892\u001b[0m             \u001b[0msample_weight\u001b[0m\u001b[1;33m=\u001b[0m\u001b[0msample_weight\u001b[0m\u001b[1;33m,\u001b[0m\u001b[1;33m\u001b[0m\u001b[1;33m\u001b[0m\u001b[0m\n",
      "\u001b[1;32m~\\anaconda3\\lib\\site-packages\\sklearn\\tree\\_classes.py\u001b[0m in \u001b[0;36mfit\u001b[1;34m(self, X, y, sample_weight, check_input, X_idx_sorted)\u001b[0m\n\u001b[0;32m    373\u001b[0m                                            min_impurity_split)\n\u001b[0;32m    374\u001b[0m \u001b[1;33m\u001b[0m\u001b[0m\n\u001b[1;32m--> 375\u001b[1;33m         \u001b[0mbuilder\u001b[0m\u001b[1;33m.\u001b[0m\u001b[0mbuild\u001b[0m\u001b[1;33m(\u001b[0m\u001b[0mself\u001b[0m\u001b[1;33m.\u001b[0m\u001b[0mtree_\u001b[0m\u001b[1;33m,\u001b[0m \u001b[0mX\u001b[0m\u001b[1;33m,\u001b[0m \u001b[0my\u001b[0m\u001b[1;33m,\u001b[0m \u001b[0msample_weight\u001b[0m\u001b[1;33m,\u001b[0m \u001b[0mX_idx_sorted\u001b[0m\u001b[1;33m)\u001b[0m\u001b[1;33m\u001b[0m\u001b[1;33m\u001b[0m\u001b[0m\n\u001b[0m\u001b[0;32m    376\u001b[0m \u001b[1;33m\u001b[0m\u001b[0m\n\u001b[0;32m    377\u001b[0m         \u001b[1;32mif\u001b[0m \u001b[0mself\u001b[0m\u001b[1;33m.\u001b[0m\u001b[0mn_outputs_\u001b[0m \u001b[1;33m==\u001b[0m \u001b[1;36m1\u001b[0m \u001b[1;32mand\u001b[0m \u001b[0mis_classifier\u001b[0m\u001b[1;33m(\u001b[0m\u001b[0mself\u001b[0m\u001b[1;33m)\u001b[0m\u001b[1;33m:\u001b[0m\u001b[1;33m\u001b[0m\u001b[1;33m\u001b[0m\u001b[0m\n",
      "\u001b[1;32msklearn\\tree\\_tree.pyx\u001b[0m in \u001b[0;36msklearn.tree._tree.DepthFirstTreeBuilder.build\u001b[1;34m()\u001b[0m\n",
      "\u001b[1;32msklearn\\tree\\_tree.pyx\u001b[0m in \u001b[0;36msklearn.tree._tree.DepthFirstTreeBuilder.build\u001b[1;34m()\u001b[0m\n",
      "\u001b[1;32msklearn\\tree\\_tree.pyx\u001b[0m in \u001b[0;36msklearn.tree._tree.Tree._add_node\u001b[1;34m()\u001b[0m\n",
      "\u001b[1;32msklearn\\tree\\_tree.pyx\u001b[0m in \u001b[0;36msklearn.tree._tree.Tree._resize_c\u001b[1;34m()\u001b[0m\n",
      "\u001b[1;32msklearn\\tree\\_utils.pyx\u001b[0m in \u001b[0;36msklearn.tree._utils.safe_realloc\u001b[1;34m()\u001b[0m\n",
      "\u001b[1;31mMemoryError\u001b[0m: could not allocate 3670016 bytes"
     ]
    }
   ],
   "source": [
    "X_train, X_test, y_train, y_test = train_test_split(X, y, train_size=.8, random_state=0)\n",
    "\n",
    "clf = AdaBoostClassifier(\n",
    "    RandomForestClassifier(),\n",
    "    n_estimators=100, learning_rate = 0.5, algorithm= 'SAMME')\n",
    "clf.fit(X_train, y_train)\n",
    "y_pred = clf.predict(X_test)\n",
    "\n",
    "print('Accuracy {0}'.format(np.round(accuracy_score(y_test, y_pred),3)))"
   ]
  },
  {
   "cell_type": "code",
   "execution_count": 87,
   "metadata": {},
   "outputs": [
    {
     "name": "stdout",
     "output_type": "stream",
     "text": [
      "Accuracy 0.661\n"
     ]
    }
   ],
   "source": [
    "X_train, X_test, y_train, y_test = train_test_split(X, y, train_size=.8, random_state=0)\n",
    "\n",
    "clf = AdaBoostClassifier(\n",
    "    DecisionTreeClassifier())\n",
    "clf.fit(X_train, y_train)\n",
    "y_pred = clf.predict(X_test)\n",
    "\n",
    "print('Accuracy {0}'.format(np.round(accuracy_score(y_test, y_pred),3)))"
   ]
  },
  {
   "cell_type": "code",
   "execution_count": 75,
   "metadata": {},
   "outputs": [
    {
     "name": "stdout",
     "output_type": "stream",
     "text": [
      "Fitting 5 folds for each of 15 candidates, totalling 75 fits\n"
     ]
    },
    {
     "name": "stderr",
     "output_type": "stream",
     "text": [
      "[Parallel(n_jobs=-1)]: Using backend LokyBackend with 4 concurrent workers.\n",
      "[Parallel(n_jobs=-1)]: Done  24 tasks      | elapsed:  2.3min\n",
      "[Parallel(n_jobs=-1)]: Done  75 out of  75 | elapsed:  8.2min finished\n"
     ]
    },
    {
     "name": "stdout",
     "output_type": "stream",
     "text": [
      "{'learning_rate': 0.001, 'n_estimators': 100}\n"
     ]
    }
   ],
   "source": [
    "param_grid = {\n",
    "    'n_estimators': [100, 200, 300],\n",
    "    'learning_rate': [0.001, 0.01, 0.1, 0.2, 0.5]\n",
    "}\n",
    "\n",
    "gs_ab = GridSearchCV(AdaBoostClassifier(), param_grid = param_grid, n_jobs = -1, verbose = 3)\n",
    "gs_ab.fit(X, y)\n",
    "print(gs_ab.best_params_)"
   ]
  },
  {
   "cell_type": "markdown",
   "metadata": {},
   "source": [
    "#### Constants"
   ]
  },
  {
   "cell_type": "code",
   "execution_count": 52,
   "metadata": {},
   "outputs": [],
   "source": [
    "# Splitting train data for model tuning with cross-validation\n",
    "cv_n_split = 3\n",
    "random_state = 40\n",
    "test_train_split_part = 0.2\n",
    "\n",
    "cv_train = ShuffleSplit(n_splits=cv_n_split, test_size=test_train_split_part, random_state=random_state)"
   ]
  },
  {
   "cell_type": "markdown",
   "metadata": {},
   "source": [
    "# Extra Trees"
   ]
  },
  {
   "cell_type": "code",
   "execution_count": null,
   "metadata": {
    "scrolled": true
   },
   "outputs": [],
   "source": [
    "# Extra Trees Classifier\n",
    "\n",
    "etr = ExtraTreesClassifier()\n",
    "etr_CV = GridSearchCV(estimator=etr, param_grid={'min_samples_leaf' : [11, 12, 13, 14]}, cv=cv_train, verbose=3)\n",
    "etr_CV.fit(X, y)\n",
    "print(etr_CV.best_params_)"
   ]
  },
  {
   "cell_type": "code",
   "execution_count": 63,
   "metadata": {
    "scrolled": true
   },
   "outputs": [
    {
     "name": "stdout",
     "output_type": "stream",
     "text": [
      "Accuracy 0.616\n"
     ]
    }
   ],
   "source": [
    "X_train, X_test, y_train, y_test = train_test_split(X, y, train_size=.8, random_state=0)\n",
    "etr = etr = ExtraTreesClassifier()\n",
    "etr.fit(X_train, y_train)\n",
    "y_pred = etr.predict(X_test)\n",
    "print('Accuracy {0}'.format(np.round(accuracy_score(y_test, y_pred),3)))"
   ]
  },
  {
   "cell_type": "markdown",
   "metadata": {},
   "source": [
    "# MLP"
   ]
  },
  {
   "cell_type": "code",
   "execution_count": null,
   "metadata": {},
   "outputs": [],
   "source": [
    "%%time\n",
    "# MLPClassifier\n",
    "\n",
    "X_train, X_test, y_train, y_test = train_test_split(X, y, train_size=.8, random_state=0)\n",
    "\n",
    "mlp = MLPClassifier()\n",
    "param_grid = {'solver': ['sgd', 'adam', 'lbfgs'],\n",
    "              'learning_rate': ['adaptive', \"constant\", \"invscaling\"],\n",
    "              }\n",
    "mlp_GS = GridSearchCV(mlp, param_grid=param_grid, cv=cv_train, verbose=True)\n",
    "mlp_GS.fit(X, y)\n",
    "print(mlp_GS.best_params_)"
   ]
  },
  {
   "cell_type": "code",
   "execution_count": 180,
   "metadata": {
    "scrolled": true
   },
   "outputs": [
    {
     "name": "stdout",
     "output_type": "stream",
     "text": [
      "Iteration 1, loss = 0.68689802\n",
      "Iteration 2, loss = 0.68524797\n",
      "Iteration 3, loss = 0.68453962\n",
      "Iteration 4, loss = 0.68426255\n",
      "Iteration 5, loss = 0.68396845\n",
      "Iteration 6, loss = 0.68365895\n",
      "Iteration 7, loss = 0.68351132\n",
      "Iteration 8, loss = 0.68333855\n",
      "Iteration 9, loss = 0.68324809\n",
      "Iteration 10, loss = 0.68302496\n",
      "Iteration 11, loss = 0.68291267\n",
      "Iteration 12, loss = 0.68273190\n",
      "Iteration 13, loss = 0.68281416\n",
      "Iteration 14, loss = 0.68262919\n",
      "Iteration 15, loss = 0.68249919\n",
      "Iteration 16, loss = 0.68253650\n",
      "Iteration 17, loss = 0.68229823\n",
      "Iteration 18, loss = 0.68225924\n",
      "Iteration 19, loss = 0.68210387\n",
      "Iteration 20, loss = 0.68202674\n",
      "Iteration 21, loss = 0.68200100\n",
      "Iteration 22, loss = 0.68194629\n",
      "Iteration 23, loss = 0.68189977\n",
      "Iteration 24, loss = 0.68181860\n",
      "Iteration 25, loss = 0.68168505\n",
      "Iteration 26, loss = 0.68164373\n",
      "Iteration 27, loss = 0.68173550\n",
      "Iteration 28, loss = 0.68168649\n",
      "Iteration 29, loss = 0.68157855\n",
      "Iteration 30, loss = 0.68143427\n",
      "Iteration 31, loss = 0.68142528\n",
      "Iteration 32, loss = 0.68125294\n",
      "Iteration 33, loss = 0.68128283\n",
      "Iteration 34, loss = 0.68131360\n",
      "Iteration 35, loss = 0.68118185\n",
      "Iteration 36, loss = 0.68123064\n",
      "Iteration 37, loss = 0.68124209\n",
      "Iteration 38, loss = 0.68110015\n",
      "Iteration 39, loss = 0.68116400\n",
      "Iteration 40, loss = 0.68107848\n",
      "Iteration 41, loss = 0.68092726\n",
      "Iteration 42, loss = 0.68090816\n",
      "Iteration 43, loss = 0.68105893\n",
      "Iteration 44, loss = 0.68090295\n",
      "Iteration 45, loss = 0.68081476\n",
      "Iteration 46, loss = 0.68073558\n",
      "Iteration 47, loss = 0.68065007\n",
      "Iteration 48, loss = 0.68066700\n",
      "Iteration 49, loss = 0.68077366\n",
      "Iteration 50, loss = 0.68064031\n",
      "Iteration 51, loss = 0.68053924\n",
      "Iteration 52, loss = 0.68049388\n",
      "Iteration 53, loss = 0.68056241\n",
      "Iteration 54, loss = 0.68040991\n",
      "Iteration 55, loss = 0.68053746\n",
      "Iteration 56, loss = 0.68034814\n",
      "Iteration 57, loss = 0.68046257\n",
      "Iteration 58, loss = 0.68032749\n",
      "Iteration 59, loss = 0.68038889\n",
      "Iteration 60, loss = 0.68035658\n",
      "Iteration 61, loss = 0.68034607\n",
      "Iteration 62, loss = 0.68019324\n",
      "Iteration 63, loss = 0.68035419\n",
      "Iteration 64, loss = 0.68020759\n",
      "Iteration 65, loss = 0.68034369\n",
      "Iteration 66, loss = 0.68027758\n",
      "Iteration 67, loss = 0.68026753\n",
      "Iteration 68, loss = 0.68028976\n",
      "Iteration 69, loss = 0.68036718\n",
      "Iteration 70, loss = 0.68006350\n",
      "Iteration 71, loss = 0.68016415\n",
      "Iteration 72, loss = 0.67994477\n",
      "Iteration 73, loss = 0.68014989\n",
      "Iteration 74, loss = 0.68006313\n",
      "Iteration 75, loss = 0.68011060\n",
      "Iteration 76, loss = 0.68018993\n",
      "Iteration 77, loss = 0.67997350\n",
      "Iteration 78, loss = 0.67988575\n",
      "Iteration 79, loss = 0.67990795\n",
      "Iteration 80, loss = 0.68015388\n",
      "Iteration 81, loss = 0.67983328\n",
      "Iteration 82, loss = 0.68001707\n",
      "Iteration 83, loss = 0.67987189\n",
      "Training loss did not improve more than tol=0.000100 for 10 consecutive epochs. Stopping.\n",
      "Accuracy 0.557\n"
     ]
    }
   ],
   "source": [
    "X_train, X_test, y_train, y_test = train_test_split(norm_X, norm_y, train_size=.8, random_state=0)\n",
    "\n",
    "mlp = MLPClassifier(solver = \"adam\", learning_rate = \"adaptive\", max_iter = 1000, verbose = 3)\n",
    "mlp.fit(X_train, y_train)\n",
    "y_pred = mlp.predict(X_test)\n",
    "print('Accuracy {0}'.format(np.round(accuracy_score(y_test, y_pred),3)))"
   ]
  },
  {
   "cell_type": "code",
   "execution_count": null,
   "metadata": {
    "scrolled": true
   },
   "outputs": [],
   "source": [
    "# Naive Bayes\n",
    "X_train, X_test, y_train, y_test = train_test_split(norm_X, norm_y, train_size=.8, random_state=0)\n",
    "\n",
    "gaussian = GaussianNB()\n",
    "param_grid={'var_smoothing': [1e-4, 1e-5, 1e-6, 1e-9]}\n",
    "gaussian_CV = GridSearchCV(estimator=gaussian, param_grid=param_grid, cv=cv_train, verbose=3)\n",
    "gaussian_CV.fit(X_train, y_train)\n",
    "print(gaussian_CV.best_params_)"
   ]
  },
  {
   "cell_type": "code",
   "execution_count": 178,
   "metadata": {
    "collapsed": true
   },
   "outputs": [
    {
     "name": "stdout",
     "output_type": "stream",
     "text": [
      "Epoch 1/15\n"
     ]
    },
    {
     "ename": "ValueError",
     "evalue": "in user code:\n\n    C:\\Users\\Johnn\\anaconda3\\lib\\site-packages\\tensorflow\\python\\keras\\engine\\training.py:805 train_function  *\n        return step_function(self, iterator)\n    C:\\Users\\Johnn\\anaconda3\\lib\\site-packages\\tensorflow\\python\\keras\\engine\\training.py:795 step_function  **\n        outputs = model.distribute_strategy.run(run_step, args=(data,))\n    C:\\Users\\Johnn\\anaconda3\\lib\\site-packages\\tensorflow\\python\\distribute\\distribute_lib.py:1259 run\n        return self._extended.call_for_each_replica(fn, args=args, kwargs=kwargs)\n    C:\\Users\\Johnn\\anaconda3\\lib\\site-packages\\tensorflow\\python\\distribute\\distribute_lib.py:2730 call_for_each_replica\n        return self._call_for_each_replica(fn, args, kwargs)\n    C:\\Users\\Johnn\\anaconda3\\lib\\site-packages\\tensorflow\\python\\distribute\\distribute_lib.py:3417 _call_for_each_replica\n        return fn(*args, **kwargs)\n    C:\\Users\\Johnn\\anaconda3\\lib\\site-packages\\tensorflow\\python\\keras\\engine\\training.py:788 run_step  **\n        outputs = model.train_step(data)\n    C:\\Users\\Johnn\\anaconda3\\lib\\site-packages\\tensorflow\\python\\keras\\engine\\training.py:754 train_step\n        y_pred = self(x, training=True)\n    C:\\Users\\Johnn\\anaconda3\\lib\\site-packages\\tensorflow\\python\\keras\\engine\\base_layer.py:998 __call__\n        input_spec.assert_input_compatibility(self.input_spec, inputs, self.name)\n    C:\\Users\\Johnn\\anaconda3\\lib\\site-packages\\tensorflow\\python\\keras\\engine\\input_spec.py:255 assert_input_compatibility\n        raise ValueError(\n\n    ValueError: Input 0 of layer sequential is incompatible with the layer: expected axis -1 of input shape to have value 7 but received input with shape (None, 16)\n",
     "output_type": "error",
     "traceback": [
      "\u001b[1;31m---------------------------------------------------------------------------\u001b[0m",
      "\u001b[1;31mValueError\u001b[0m                                Traceback (most recent call last)",
      "\u001b[1;32m<ipython-input-178-4560333d867b>\u001b[0m in \u001b[0;36m<module>\u001b[1;34m\u001b[0m\n\u001b[0;32m     17\u001b[0m \u001b[0mXtrain\u001b[0m\u001b[1;33m,\u001b[0m \u001b[0mXval\u001b[0m\u001b[1;33m,\u001b[0m \u001b[0mZtrain\u001b[0m\u001b[1;33m,\u001b[0m \u001b[0mZval\u001b[0m \u001b[1;33m=\u001b[0m \u001b[0mtrain_test_split\u001b[0m\u001b[1;33m(\u001b[0m\u001b[0mnorm_X\u001b[0m\u001b[1;33m,\u001b[0m \u001b[0mnorm_y\u001b[0m\u001b[1;33m,\u001b[0m \u001b[0mtest_size\u001b[0m\u001b[1;33m=\u001b[0m\u001b[1;36m0.2\u001b[0m\u001b[1;33m,\u001b[0m \u001b[0mrandom_state\u001b[0m\u001b[1;33m=\u001b[0m\u001b[1;36m0\u001b[0m\u001b[1;33m)\u001b[0m\u001b[1;33m\u001b[0m\u001b[1;33m\u001b[0m\u001b[0m\n\u001b[0;32m     18\u001b[0m \u001b[0mnn_model\u001b[0m \u001b[1;33m=\u001b[0m \u001b[0mbuild_nn\u001b[0m\u001b[1;33m(\u001b[0m\u001b[0moptimizers\u001b[0m\u001b[1;33m.\u001b[0m\u001b[0mAdam\u001b[0m\u001b[1;33m(\u001b[0m\u001b[0mlr\u001b[0m\u001b[1;33m=\u001b[0m\u001b[1;36m0.0001\u001b[0m\u001b[1;33m)\u001b[0m\u001b[1;33m)\u001b[0m\u001b[1;33m\u001b[0m\u001b[1;33m\u001b[0m\u001b[0m\n\u001b[1;32m---> 19\u001b[1;33m \u001b[0mnn_model\u001b[0m\u001b[1;33m.\u001b[0m\u001b[0mfit\u001b[0m\u001b[1;33m(\u001b[0m\u001b[0mXtrain\u001b[0m\u001b[1;33m,\u001b[0m \u001b[0mZtrain\u001b[0m\u001b[1;33m,\u001b[0m \u001b[0mbatch_size\u001b[0m\u001b[1;33m=\u001b[0m\u001b[1;36m16\u001b[0m\u001b[1;33m,\u001b[0m \u001b[0mepochs\u001b[0m\u001b[1;33m=\u001b[0m\u001b[1;36m15\u001b[0m\u001b[1;33m,\u001b[0m \u001b[0mvalidation_data\u001b[0m\u001b[1;33m=\u001b[0m\u001b[1;33m(\u001b[0m\u001b[0mXval\u001b[0m\u001b[1;33m,\u001b[0m \u001b[0mZval\u001b[0m\u001b[1;33m)\u001b[0m\u001b[1;33m)\u001b[0m\u001b[1;33m\u001b[0m\u001b[1;33m\u001b[0m\u001b[0m\n\u001b[0m",
      "\u001b[1;32m~\\anaconda3\\lib\\site-packages\\tensorflow\\python\\keras\\engine\\training.py\u001b[0m in \u001b[0;36mfit\u001b[1;34m(self, x, y, batch_size, epochs, verbose, callbacks, validation_split, validation_data, shuffle, class_weight, sample_weight, initial_epoch, steps_per_epoch, validation_steps, validation_batch_size, validation_freq, max_queue_size, workers, use_multiprocessing)\u001b[0m\n\u001b[0;32m   1098\u001b[0m                 _r=1):\n\u001b[0;32m   1099\u001b[0m               \u001b[0mcallbacks\u001b[0m\u001b[1;33m.\u001b[0m\u001b[0mon_train_batch_begin\u001b[0m\u001b[1;33m(\u001b[0m\u001b[0mstep\u001b[0m\u001b[1;33m)\u001b[0m\u001b[1;33m\u001b[0m\u001b[1;33m\u001b[0m\u001b[0m\n\u001b[1;32m-> 1100\u001b[1;33m               \u001b[0mtmp_logs\u001b[0m \u001b[1;33m=\u001b[0m \u001b[0mself\u001b[0m\u001b[1;33m.\u001b[0m\u001b[0mtrain_function\u001b[0m\u001b[1;33m(\u001b[0m\u001b[0miterator\u001b[0m\u001b[1;33m)\u001b[0m\u001b[1;33m\u001b[0m\u001b[1;33m\u001b[0m\u001b[0m\n\u001b[0m\u001b[0;32m   1101\u001b[0m               \u001b[1;32mif\u001b[0m \u001b[0mdata_handler\u001b[0m\u001b[1;33m.\u001b[0m\u001b[0mshould_sync\u001b[0m\u001b[1;33m:\u001b[0m\u001b[1;33m\u001b[0m\u001b[1;33m\u001b[0m\u001b[0m\n\u001b[0;32m   1102\u001b[0m                 \u001b[0mcontext\u001b[0m\u001b[1;33m.\u001b[0m\u001b[0masync_wait\u001b[0m\u001b[1;33m(\u001b[0m\u001b[1;33m)\u001b[0m\u001b[1;33m\u001b[0m\u001b[1;33m\u001b[0m\u001b[0m\n",
      "\u001b[1;32m~\\anaconda3\\lib\\site-packages\\tensorflow\\python\\eager\\def_function.py\u001b[0m in \u001b[0;36m__call__\u001b[1;34m(self, *args, **kwds)\u001b[0m\n\u001b[0;32m    826\u001b[0m     \u001b[0mtracing_count\u001b[0m \u001b[1;33m=\u001b[0m \u001b[0mself\u001b[0m\u001b[1;33m.\u001b[0m\u001b[0mexperimental_get_tracing_count\u001b[0m\u001b[1;33m(\u001b[0m\u001b[1;33m)\u001b[0m\u001b[1;33m\u001b[0m\u001b[1;33m\u001b[0m\u001b[0m\n\u001b[0;32m    827\u001b[0m     \u001b[1;32mwith\u001b[0m \u001b[0mtrace\u001b[0m\u001b[1;33m.\u001b[0m\u001b[0mTrace\u001b[0m\u001b[1;33m(\u001b[0m\u001b[0mself\u001b[0m\u001b[1;33m.\u001b[0m\u001b[0m_name\u001b[0m\u001b[1;33m)\u001b[0m \u001b[1;32mas\u001b[0m \u001b[0mtm\u001b[0m\u001b[1;33m:\u001b[0m\u001b[1;33m\u001b[0m\u001b[1;33m\u001b[0m\u001b[0m\n\u001b[1;32m--> 828\u001b[1;33m       \u001b[0mresult\u001b[0m \u001b[1;33m=\u001b[0m \u001b[0mself\u001b[0m\u001b[1;33m.\u001b[0m\u001b[0m_call\u001b[0m\u001b[1;33m(\u001b[0m\u001b[1;33m*\u001b[0m\u001b[0margs\u001b[0m\u001b[1;33m,\u001b[0m \u001b[1;33m**\u001b[0m\u001b[0mkwds\u001b[0m\u001b[1;33m)\u001b[0m\u001b[1;33m\u001b[0m\u001b[1;33m\u001b[0m\u001b[0m\n\u001b[0m\u001b[0;32m    829\u001b[0m       \u001b[0mcompiler\u001b[0m \u001b[1;33m=\u001b[0m \u001b[1;34m\"xla\"\u001b[0m \u001b[1;32mif\u001b[0m \u001b[0mself\u001b[0m\u001b[1;33m.\u001b[0m\u001b[0m_experimental_compile\u001b[0m \u001b[1;32melse\u001b[0m \u001b[1;34m\"nonXla\"\u001b[0m\u001b[1;33m\u001b[0m\u001b[1;33m\u001b[0m\u001b[0m\n\u001b[0;32m    830\u001b[0m       \u001b[0mnew_tracing_count\u001b[0m \u001b[1;33m=\u001b[0m \u001b[0mself\u001b[0m\u001b[1;33m.\u001b[0m\u001b[0mexperimental_get_tracing_count\u001b[0m\u001b[1;33m(\u001b[0m\u001b[1;33m)\u001b[0m\u001b[1;33m\u001b[0m\u001b[1;33m\u001b[0m\u001b[0m\n",
      "\u001b[1;32m~\\anaconda3\\lib\\site-packages\\tensorflow\\python\\eager\\def_function.py\u001b[0m in \u001b[0;36m_call\u001b[1;34m(self, *args, **kwds)\u001b[0m\n\u001b[0;32m    869\u001b[0m       \u001b[1;31m# This is the first call of __call__, so we have to initialize.\u001b[0m\u001b[1;33m\u001b[0m\u001b[1;33m\u001b[0m\u001b[1;33m\u001b[0m\u001b[0m\n\u001b[0;32m    870\u001b[0m       \u001b[0minitializers\u001b[0m \u001b[1;33m=\u001b[0m \u001b[1;33m[\u001b[0m\u001b[1;33m]\u001b[0m\u001b[1;33m\u001b[0m\u001b[1;33m\u001b[0m\u001b[0m\n\u001b[1;32m--> 871\u001b[1;33m       \u001b[0mself\u001b[0m\u001b[1;33m.\u001b[0m\u001b[0m_initialize\u001b[0m\u001b[1;33m(\u001b[0m\u001b[0margs\u001b[0m\u001b[1;33m,\u001b[0m \u001b[0mkwds\u001b[0m\u001b[1;33m,\u001b[0m \u001b[0madd_initializers_to\u001b[0m\u001b[1;33m=\u001b[0m\u001b[0minitializers\u001b[0m\u001b[1;33m)\u001b[0m\u001b[1;33m\u001b[0m\u001b[1;33m\u001b[0m\u001b[0m\n\u001b[0m\u001b[0;32m    872\u001b[0m     \u001b[1;32mfinally\u001b[0m\u001b[1;33m:\u001b[0m\u001b[1;33m\u001b[0m\u001b[1;33m\u001b[0m\u001b[0m\n\u001b[0;32m    873\u001b[0m       \u001b[1;31m# At this point we know that the initialization is complete (or less\u001b[0m\u001b[1;33m\u001b[0m\u001b[1;33m\u001b[0m\u001b[1;33m\u001b[0m\u001b[0m\n",
      "\u001b[1;32m~\\anaconda3\\lib\\site-packages\\tensorflow\\python\\eager\\def_function.py\u001b[0m in \u001b[0;36m_initialize\u001b[1;34m(self, args, kwds, add_initializers_to)\u001b[0m\n\u001b[0;32m    723\u001b[0m     \u001b[0mself\u001b[0m\u001b[1;33m.\u001b[0m\u001b[0m_graph_deleter\u001b[0m \u001b[1;33m=\u001b[0m \u001b[0mFunctionDeleter\u001b[0m\u001b[1;33m(\u001b[0m\u001b[0mself\u001b[0m\u001b[1;33m.\u001b[0m\u001b[0m_lifted_initializer_graph\u001b[0m\u001b[1;33m)\u001b[0m\u001b[1;33m\u001b[0m\u001b[1;33m\u001b[0m\u001b[0m\n\u001b[0;32m    724\u001b[0m     self._concrete_stateful_fn = (\n\u001b[1;32m--> 725\u001b[1;33m         self._stateful_fn._get_concrete_function_internal_garbage_collected(  # pylint: disable=protected-access\n\u001b[0m\u001b[0;32m    726\u001b[0m             *args, **kwds))\n\u001b[0;32m    727\u001b[0m \u001b[1;33m\u001b[0m\u001b[0m\n",
      "\u001b[1;32m~\\anaconda3\\lib\\site-packages\\tensorflow\\python\\eager\\function.py\u001b[0m in \u001b[0;36m_get_concrete_function_internal_garbage_collected\u001b[1;34m(self, *args, **kwargs)\u001b[0m\n\u001b[0;32m   2967\u001b[0m       \u001b[0margs\u001b[0m\u001b[1;33m,\u001b[0m \u001b[0mkwargs\u001b[0m \u001b[1;33m=\u001b[0m \u001b[1;32mNone\u001b[0m\u001b[1;33m,\u001b[0m \u001b[1;32mNone\u001b[0m\u001b[1;33m\u001b[0m\u001b[1;33m\u001b[0m\u001b[0m\n\u001b[0;32m   2968\u001b[0m     \u001b[1;32mwith\u001b[0m \u001b[0mself\u001b[0m\u001b[1;33m.\u001b[0m\u001b[0m_lock\u001b[0m\u001b[1;33m:\u001b[0m\u001b[1;33m\u001b[0m\u001b[1;33m\u001b[0m\u001b[0m\n\u001b[1;32m-> 2969\u001b[1;33m       \u001b[0mgraph_function\u001b[0m\u001b[1;33m,\u001b[0m \u001b[0m_\u001b[0m \u001b[1;33m=\u001b[0m \u001b[0mself\u001b[0m\u001b[1;33m.\u001b[0m\u001b[0m_maybe_define_function\u001b[0m\u001b[1;33m(\u001b[0m\u001b[0margs\u001b[0m\u001b[1;33m,\u001b[0m \u001b[0mkwargs\u001b[0m\u001b[1;33m)\u001b[0m\u001b[1;33m\u001b[0m\u001b[1;33m\u001b[0m\u001b[0m\n\u001b[0m\u001b[0;32m   2970\u001b[0m     \u001b[1;32mreturn\u001b[0m \u001b[0mgraph_function\u001b[0m\u001b[1;33m\u001b[0m\u001b[1;33m\u001b[0m\u001b[0m\n\u001b[0;32m   2971\u001b[0m \u001b[1;33m\u001b[0m\u001b[0m\n",
      "\u001b[1;32m~\\anaconda3\\lib\\site-packages\\tensorflow\\python\\eager\\function.py\u001b[0m in \u001b[0;36m_maybe_define_function\u001b[1;34m(self, args, kwargs)\u001b[0m\n\u001b[0;32m   3359\u001b[0m \u001b[1;33m\u001b[0m\u001b[0m\n\u001b[0;32m   3360\u001b[0m           \u001b[0mself\u001b[0m\u001b[1;33m.\u001b[0m\u001b[0m_function_cache\u001b[0m\u001b[1;33m.\u001b[0m\u001b[0mmissed\u001b[0m\u001b[1;33m.\u001b[0m\u001b[0madd\u001b[0m\u001b[1;33m(\u001b[0m\u001b[0mcall_context_key\u001b[0m\u001b[1;33m)\u001b[0m\u001b[1;33m\u001b[0m\u001b[1;33m\u001b[0m\u001b[0m\n\u001b[1;32m-> 3361\u001b[1;33m           \u001b[0mgraph_function\u001b[0m \u001b[1;33m=\u001b[0m \u001b[0mself\u001b[0m\u001b[1;33m.\u001b[0m\u001b[0m_create_graph_function\u001b[0m\u001b[1;33m(\u001b[0m\u001b[0margs\u001b[0m\u001b[1;33m,\u001b[0m \u001b[0mkwargs\u001b[0m\u001b[1;33m)\u001b[0m\u001b[1;33m\u001b[0m\u001b[1;33m\u001b[0m\u001b[0m\n\u001b[0m\u001b[0;32m   3362\u001b[0m           \u001b[0mself\u001b[0m\u001b[1;33m.\u001b[0m\u001b[0m_function_cache\u001b[0m\u001b[1;33m.\u001b[0m\u001b[0mprimary\u001b[0m\u001b[1;33m[\u001b[0m\u001b[0mcache_key\u001b[0m\u001b[1;33m]\u001b[0m \u001b[1;33m=\u001b[0m \u001b[0mgraph_function\u001b[0m\u001b[1;33m\u001b[0m\u001b[1;33m\u001b[0m\u001b[0m\n\u001b[0;32m   3363\u001b[0m \u001b[1;33m\u001b[0m\u001b[0m\n",
      "\u001b[1;32m~\\anaconda3\\lib\\site-packages\\tensorflow\\python\\eager\\function.py\u001b[0m in \u001b[0;36m_create_graph_function\u001b[1;34m(self, args, kwargs, override_flat_arg_shapes)\u001b[0m\n\u001b[0;32m   3194\u001b[0m     \u001b[0marg_names\u001b[0m \u001b[1;33m=\u001b[0m \u001b[0mbase_arg_names\u001b[0m \u001b[1;33m+\u001b[0m \u001b[0mmissing_arg_names\u001b[0m\u001b[1;33m\u001b[0m\u001b[1;33m\u001b[0m\u001b[0m\n\u001b[0;32m   3195\u001b[0m     graph_function = ConcreteFunction(\n\u001b[1;32m-> 3196\u001b[1;33m         func_graph_module.func_graph_from_py_func(\n\u001b[0m\u001b[0;32m   3197\u001b[0m             \u001b[0mself\u001b[0m\u001b[1;33m.\u001b[0m\u001b[0m_name\u001b[0m\u001b[1;33m,\u001b[0m\u001b[1;33m\u001b[0m\u001b[1;33m\u001b[0m\u001b[0m\n\u001b[0;32m   3198\u001b[0m             \u001b[0mself\u001b[0m\u001b[1;33m.\u001b[0m\u001b[0m_python_function\u001b[0m\u001b[1;33m,\u001b[0m\u001b[1;33m\u001b[0m\u001b[1;33m\u001b[0m\u001b[0m\n",
      "\u001b[1;32m~\\anaconda3\\lib\\site-packages\\tensorflow\\python\\framework\\func_graph.py\u001b[0m in \u001b[0;36mfunc_graph_from_py_func\u001b[1;34m(name, python_func, args, kwargs, signature, func_graph, autograph, autograph_options, add_control_dependencies, arg_names, op_return_value, collections, capture_by_value, override_flat_arg_shapes)\u001b[0m\n\u001b[0;32m    988\u001b[0m         \u001b[0m_\u001b[0m\u001b[1;33m,\u001b[0m \u001b[0moriginal_func\u001b[0m \u001b[1;33m=\u001b[0m \u001b[0mtf_decorator\u001b[0m\u001b[1;33m.\u001b[0m\u001b[0munwrap\u001b[0m\u001b[1;33m(\u001b[0m\u001b[0mpython_func\u001b[0m\u001b[1;33m)\u001b[0m\u001b[1;33m\u001b[0m\u001b[1;33m\u001b[0m\u001b[0m\n\u001b[0;32m    989\u001b[0m \u001b[1;33m\u001b[0m\u001b[0m\n\u001b[1;32m--> 990\u001b[1;33m       \u001b[0mfunc_outputs\u001b[0m \u001b[1;33m=\u001b[0m \u001b[0mpython_func\u001b[0m\u001b[1;33m(\u001b[0m\u001b[1;33m*\u001b[0m\u001b[0mfunc_args\u001b[0m\u001b[1;33m,\u001b[0m \u001b[1;33m**\u001b[0m\u001b[0mfunc_kwargs\u001b[0m\u001b[1;33m)\u001b[0m\u001b[1;33m\u001b[0m\u001b[1;33m\u001b[0m\u001b[0m\n\u001b[0m\u001b[0;32m    991\u001b[0m \u001b[1;33m\u001b[0m\u001b[0m\n\u001b[0;32m    992\u001b[0m       \u001b[1;31m# invariant: `func_outputs` contains only Tensors, CompositeTensors,\u001b[0m\u001b[1;33m\u001b[0m\u001b[1;33m\u001b[0m\u001b[1;33m\u001b[0m\u001b[0m\n",
      "\u001b[1;32m~\\anaconda3\\lib\\site-packages\\tensorflow\\python\\eager\\def_function.py\u001b[0m in \u001b[0;36mwrapped_fn\u001b[1;34m(*args, **kwds)\u001b[0m\n\u001b[0;32m    632\u001b[0m             \u001b[0mxla_context\u001b[0m\u001b[1;33m.\u001b[0m\u001b[0mExit\u001b[0m\u001b[1;33m(\u001b[0m\u001b[1;33m)\u001b[0m\u001b[1;33m\u001b[0m\u001b[1;33m\u001b[0m\u001b[0m\n\u001b[0;32m    633\u001b[0m         \u001b[1;32melse\u001b[0m\u001b[1;33m:\u001b[0m\u001b[1;33m\u001b[0m\u001b[1;33m\u001b[0m\u001b[0m\n\u001b[1;32m--> 634\u001b[1;33m           \u001b[0mout\u001b[0m \u001b[1;33m=\u001b[0m \u001b[0mweak_wrapped_fn\u001b[0m\u001b[1;33m(\u001b[0m\u001b[1;33m)\u001b[0m\u001b[1;33m.\u001b[0m\u001b[0m__wrapped__\u001b[0m\u001b[1;33m(\u001b[0m\u001b[1;33m*\u001b[0m\u001b[0margs\u001b[0m\u001b[1;33m,\u001b[0m \u001b[1;33m**\u001b[0m\u001b[0mkwds\u001b[0m\u001b[1;33m)\u001b[0m\u001b[1;33m\u001b[0m\u001b[1;33m\u001b[0m\u001b[0m\n\u001b[0m\u001b[0;32m    635\u001b[0m         \u001b[1;32mreturn\u001b[0m \u001b[0mout\u001b[0m\u001b[1;33m\u001b[0m\u001b[1;33m\u001b[0m\u001b[0m\n\u001b[0;32m    636\u001b[0m \u001b[1;33m\u001b[0m\u001b[0m\n",
      "\u001b[1;32m~\\anaconda3\\lib\\site-packages\\tensorflow\\python\\framework\\func_graph.py\u001b[0m in \u001b[0;36mwrapper\u001b[1;34m(*args, **kwargs)\u001b[0m\n\u001b[0;32m    975\u001b[0m           \u001b[1;32mexcept\u001b[0m \u001b[0mException\u001b[0m \u001b[1;32mas\u001b[0m \u001b[0me\u001b[0m\u001b[1;33m:\u001b[0m  \u001b[1;31m# pylint:disable=broad-except\u001b[0m\u001b[1;33m\u001b[0m\u001b[1;33m\u001b[0m\u001b[0m\n\u001b[0;32m    976\u001b[0m             \u001b[1;32mif\u001b[0m \u001b[0mhasattr\u001b[0m\u001b[1;33m(\u001b[0m\u001b[0me\u001b[0m\u001b[1;33m,\u001b[0m \u001b[1;34m\"ag_error_metadata\"\u001b[0m\u001b[1;33m)\u001b[0m\u001b[1;33m:\u001b[0m\u001b[1;33m\u001b[0m\u001b[1;33m\u001b[0m\u001b[0m\n\u001b[1;32m--> 977\u001b[1;33m               \u001b[1;32mraise\u001b[0m \u001b[0me\u001b[0m\u001b[1;33m.\u001b[0m\u001b[0mag_error_metadata\u001b[0m\u001b[1;33m.\u001b[0m\u001b[0mto_exception\u001b[0m\u001b[1;33m(\u001b[0m\u001b[0me\u001b[0m\u001b[1;33m)\u001b[0m\u001b[1;33m\u001b[0m\u001b[1;33m\u001b[0m\u001b[0m\n\u001b[0m\u001b[0;32m    978\u001b[0m             \u001b[1;32melse\u001b[0m\u001b[1;33m:\u001b[0m\u001b[1;33m\u001b[0m\u001b[1;33m\u001b[0m\u001b[0m\n\u001b[0;32m    979\u001b[0m               \u001b[1;32mraise\u001b[0m\u001b[1;33m\u001b[0m\u001b[1;33m\u001b[0m\u001b[0m\n",
      "\u001b[1;31mValueError\u001b[0m: in user code:\n\n    C:\\Users\\Johnn\\anaconda3\\lib\\site-packages\\tensorflow\\python\\keras\\engine\\training.py:805 train_function  *\n        return step_function(self, iterator)\n    C:\\Users\\Johnn\\anaconda3\\lib\\site-packages\\tensorflow\\python\\keras\\engine\\training.py:795 step_function  **\n        outputs = model.distribute_strategy.run(run_step, args=(data,))\n    C:\\Users\\Johnn\\anaconda3\\lib\\site-packages\\tensorflow\\python\\distribute\\distribute_lib.py:1259 run\n        return self._extended.call_for_each_replica(fn, args=args, kwargs=kwargs)\n    C:\\Users\\Johnn\\anaconda3\\lib\\site-packages\\tensorflow\\python\\distribute\\distribute_lib.py:2730 call_for_each_replica\n        return self._call_for_each_replica(fn, args, kwargs)\n    C:\\Users\\Johnn\\anaconda3\\lib\\site-packages\\tensorflow\\python\\distribute\\distribute_lib.py:3417 _call_for_each_replica\n        return fn(*args, **kwargs)\n    C:\\Users\\Johnn\\anaconda3\\lib\\site-packages\\tensorflow\\python\\keras\\engine\\training.py:788 run_step  **\n        outputs = model.train_step(data)\n    C:\\Users\\Johnn\\anaconda3\\lib\\site-packages\\tensorflow\\python\\keras\\engine\\training.py:754 train_step\n        y_pred = self(x, training=True)\n    C:\\Users\\Johnn\\anaconda3\\lib\\site-packages\\tensorflow\\python\\keras\\engine\\base_layer.py:998 __call__\n        input_spec.assert_input_compatibility(self.input_spec, inputs, self.name)\n    C:\\Users\\Johnn\\anaconda3\\lib\\site-packages\\tensorflow\\python\\keras\\engine\\input_spec.py:255 assert_input_compatibility\n        raise ValueError(\n\n    ValueError: Input 0 of layer sequential is incompatible with the layer: expected axis -1 of input shape to have value 7 but received input with shape (None, 16)\n"
     ]
    }
   ],
   "source": [
    "# Thanks to https://www.kaggle.com/skrudals/modification-of-neural-network-around-90\n",
    "def build_nn(optimizer='adam'):\n",
    "\n",
    "    # Initializing the NN\n",
    "    nn = Sequential()\n",
    "\n",
    "    # Adding the input layer and the first hidden layer of the NN\n",
    "    nn.add(Dense(units=32, kernel_initializer='he_normal', activation='relu', input_shape=(len(X.columns),)))\n",
    "    # Adding the output layer\n",
    "    nn.add(Dense(units=1, kernel_initializer='he_normal', activation='sigmoid'))\n",
    "\n",
    "    # Compiling the NN\n",
    "    nn.compile(optimizer=optimizer, loss='binary_crossentropy', metrics=['accuracy'])\n",
    "\n",
    "    return nn\n",
    "\n",
    "Xtrain, Xval, Ztrain, Zval = train_test_split(norm_X, norm_y, test_size=0.2, random_state=0)\n",
    "nn_model = build_nn(optimizers.Adam(lr=0.0001))\n",
    "nn_model.fit(Xtrain, Ztrain, batch_size=16, epochs=15, validation_data=(Xval, Zval))"
   ]
  },
  {
   "cell_type": "markdown",
   "metadata": {},
   "source": [
    "# KNN - 74% Accuracy"
   ]
  },
  {
   "cell_type": "code",
   "execution_count": 53,
   "metadata": {},
   "outputs": [
    {
     "name": "stdout",
     "output_type": "stream",
     "text": [
      "Fitting 3 folds for each of 3 candidates, totalling 9 fits\n"
     ]
    },
    {
     "name": "stderr",
     "output_type": "stream",
     "text": [
      "[Parallel(n_jobs=-1)]: Using backend LokyBackend with 4 concurrent workers.\n",
      "[Parallel(n_jobs=-1)]: Done   6 out of   9 | elapsed:   10.4s remaining:    5.2s\n",
      "[Parallel(n_jobs=-1)]: Done   9 out of   9 | elapsed:   12.6s finished\n"
     ]
    },
    {
     "name": "stdout",
     "output_type": "stream",
     "text": [
      "{'algorithm': 'kd_tree', 'metric': 'manhattan', 'n_neighbors': 5, 'weights': 'distance'}\n"
     ]
    }
   ],
   "source": [
    "X_train, X_test, y_train, y_test = train_test_split(X, y, train_size=.8, random_state=0)\n",
    "\n",
    "knn = KNeighborsClassifier()\n",
    "knn_CV = GridSearchCV(estimator=knn, param_grid={'weights': ['distance'], \n",
    "                                                 'metric': ['manhattan', ], \n",
    "                                                 'algorithm': ['kd_tree'],\n",
    "                                                'n_neighbors': [5,7,9]}, \n",
    "                                    cv=cv_train, verbose=3, n_jobs = -1).fit(X, y)\n",
    "print(knn_CV.best_params_)"
   ]
  },
  {
   "cell_type": "code",
   "execution_count": 132,
   "metadata": {},
   "outputs": [
    {
     "name": "stdout",
     "output_type": "stream",
     "text": [
      "Accuracy 0.736\n"
     ]
    }
   ],
   "source": [
    "X_train, X_test, y_train, y_test = train_test_split(X, y, train_size=.8, random_state=0)\n",
    "\n",
    "knn = KNeighborsClassifier(n_neighbors = 10, weights='distance', metric = 'manhattan', algorithm = 'kd_tree')\n",
    "knn.fit(X_train, y_train)\n",
    "y_pred = knn.predict(X_test)\n",
    "print('Accuracy {0}'.format(np.round(accuracy_score(y_test, y_pred),3)))"
   ]
  },
  {
   "cell_type": "code",
   "execution_count": 133,
   "metadata": {},
   "outputs": [
    {
     "name": "stdout",
     "output_type": "stream",
     "text": [
      "Accuracy 0.741\n"
     ]
    }
   ],
   "source": [
    "X_train, X_test, y_train, y_test = train_test_split(X_other, y_other, train_size=.8, random_state=0)\n",
    "\n",
    "knn = KNeighborsClassifier(n_neighbors = 10, weights='distance', metric = 'manhattan', algorithm = 'kd_tree')\n",
    "knn.fit(X_train, y_train)\n",
    "y_pred = knn.predict(X_test)\n",
    "print('Accuracy {0}'.format(np.round(accuracy_score(y_test, y_pred),3)))"
   ]
  },
  {
   "cell_type": "code",
   "execution_count": 179,
   "metadata": {},
   "outputs": [
    {
     "name": "stdout",
     "output_type": "stream",
     "text": [
      "Accuracy 0.573\n"
     ]
    }
   ],
   "source": [
    "X_train, X_test, y_train, y_test = train_test_split(X_other1, y_other1, train_size=.8, random_state=0)\n",
    "\n",
    "knn = KNeighborsClassifier(weights='distance', metric = 'manhattan', algorithm = 'kd_tree')\n",
    "knn.fit(X_train, y_train)\n",
    "y_pred = knn.predict(X_test)\n",
    "print('Accuracy {0}'.format(np.round(accuracy_score(y_test, y_pred),3)))"
   ]
  },
  {
   "cell_type": "markdown",
   "metadata": {},
   "source": [
    "# Stochastic Gradient Descent "
   ]
  },
  {
   "cell_type": "code",
   "execution_count": 170,
   "metadata": {},
   "outputs": [
    {
     "name": "stdout",
     "output_type": "stream",
     "text": [
      "Accuracy 0.551\n"
     ]
    }
   ],
   "source": [
    "X_train, X_test, y_train, y_test = train_test_split(X, y, train_size=.8, random_state=0)\n",
    "\n",
    "sgd = SGDClassifier(loss = \"squared_loss\", early_stopping=True)\n",
    "sgd.fit(X, y)\n",
    "y_pred = sgd.predict(X_test)\n",
    "print('Accuracy {0}'.format(np.round(accuracy_score(y_test, y_pred),3)))"
   ]
  },
  {
   "cell_type": "markdown",
   "metadata": {},
   "source": [
    "# XG Boost"
   ]
  },
  {
   "cell_type": "code",
   "execution_count": null,
   "metadata": {},
   "outputs": [],
   "source": [
    "X_train, X_test, y_train, y_test = train_test_split(X, y, train_size=.8, random_state=0)\n",
    "\n",
    "xgb_clf = xgb.XGBClassifier(objective='reg:squarederror') \n",
    "parameters = {'n_estimators': [50, 60, 70, 80, 90], \n",
    "              'learning_rate': [0.09, 0.1, 0.15, 0.2],\n",
    "              'max_depth': [3, 4, 5]}\n",
    "xgb_reg = GridSearchCV(estimator=xgb_clf, param_grid=parameters, cv=cv_train, verbose = 3).fit(X_train, y_train)\n",
    "print(\"Best score: %0.3f\" % xgb_reg.best_score_)\n",
    "print(\"Best parameters set:\", xgb_reg.best_params_)"
   ]
  },
  {
   "cell_type": "code",
   "execution_count": 167,
   "metadata": {},
   "outputs": [
    {
     "name": "stdout",
     "output_type": "stream",
     "text": [
      "Accuracy 0.62\n"
     ]
    }
   ],
   "source": [
    "X_train, X_test, y_train, y_test = train_test_split(X, y, train_size=.8, random_state=0)\n",
    "\n",
    "xgb_clf = xgb.XGBClassifier(\n",
    "    \n",
    "    objective='reg:squarederror') \n",
    "xgb_clf.fit(X_train, y_train)\n",
    "y_pred = xgb_clf.predict(X_test)\n",
    "print('Accuracy {0}'.format(np.round(accuracy_score(y_test, y_pred),3)))"
   ]
  },
  {
   "cell_type": "code",
   "execution_count": null,
   "metadata": {},
   "outputs": [],
   "source": [
    "X_train, X_test, y_train, y_test = train_test_split(removed_X, removed_y, train_size=.8, random_state=0)\n",
    "\n",
    "\n",
    "xgb_clf = xgb.XGBClassifier(objective='reg:squarederror') \n",
    "xgb_clf.fit(X_train, y_train)\n",
    "y_pred = xgb_clf.predict(X_test)\n",
    "print('Accuracy {0}'.format(np.round(accuracy_score(y_test, y_pred),3)))"
   ]
  },
  {
   "cell_type": "markdown",
   "metadata": {},
   "source": [
    "# Light Gradient Boosting Machine"
   ]
  },
  {
   "cell_type": "code",
   "execution_count": null,
   "metadata": {},
   "outputs": [],
   "source": [
    "X_train, X_test, y_train, y_test = train_test_split(removed_X, removed_y, train_size=.8, random_state=0)\n",
    "modelL = lgb.LGBMClassifier(n_estimators=1000, num_leaves=40)\n",
    "modelL.fit(X_train, y_train, eval_set=[(X_test, y_test)], early_stopping_rounds=50, verbose=3)"
   ]
  },
  {
   "cell_type": "code",
   "execution_count": 168,
   "metadata": {},
   "outputs": [
    {
     "name": "stdout",
     "output_type": "stream",
     "text": [
      "Training until validation scores don't improve for 50 rounds\n",
      "[3]\tvalid_0's binary_logloss: 0.683555\n",
      "[6]\tvalid_0's binary_logloss: 0.680702\n",
      "[9]\tvalid_0's binary_logloss: 0.678666\n",
      "[12]\tvalid_0's binary_logloss: 0.676996\n",
      "[15]\tvalid_0's binary_logloss: 0.676077\n",
      "[18]\tvalid_0's binary_logloss: 0.675144\n",
      "[21]\tvalid_0's binary_logloss: 0.674396\n",
      "[24]\tvalid_0's binary_logloss: 0.673838\n",
      "[27]\tvalid_0's binary_logloss: 0.673246\n",
      "[30]\tvalid_0's binary_logloss: 0.672697\n",
      "[33]\tvalid_0's binary_logloss: 0.672278\n",
      "[36]\tvalid_0's binary_logloss: 0.672083\n",
      "[39]\tvalid_0's binary_logloss: 0.671816\n",
      "[42]\tvalid_0's binary_logloss: 0.671494\n",
      "[45]\tvalid_0's binary_logloss: 0.671054\n",
      "[48]\tvalid_0's binary_logloss: 0.670732\n",
      "[51]\tvalid_0's binary_logloss: 0.670582\n",
      "[54]\tvalid_0's binary_logloss: 0.669913\n",
      "[57]\tvalid_0's binary_logloss: 0.66986\n",
      "[60]\tvalid_0's binary_logloss: 0.669141\n",
      "[63]\tvalid_0's binary_logloss: 0.668823\n",
      "[66]\tvalid_0's binary_logloss: 0.668871\n",
      "[69]\tvalid_0's binary_logloss: 0.668639\n",
      "[72]\tvalid_0's binary_logloss: 0.66829\n",
      "[75]\tvalid_0's binary_logloss: 0.668157\n",
      "[78]\tvalid_0's binary_logloss: 0.667851\n",
      "[81]\tvalid_0's binary_logloss: 0.667635\n",
      "[84]\tvalid_0's binary_logloss: 0.66762\n",
      "[87]\tvalid_0's binary_logloss: 0.667599\n",
      "[90]\tvalid_0's binary_logloss: 0.667313\n",
      "[93]\tvalid_0's binary_logloss: 0.667188\n",
      "[96]\tvalid_0's binary_logloss: 0.667143\n",
      "[99]\tvalid_0's binary_logloss: 0.666998\n",
      "[102]\tvalid_0's binary_logloss: 0.66655\n",
      "[105]\tvalid_0's binary_logloss: 0.666615\n",
      "[108]\tvalid_0's binary_logloss: 0.666385\n",
      "[111]\tvalid_0's binary_logloss: 0.666132\n",
      "[114]\tvalid_0's binary_logloss: 0.666048\n",
      "[117]\tvalid_0's binary_logloss: 0.665947\n",
      "[120]\tvalid_0's binary_logloss: 0.665604\n",
      "[123]\tvalid_0's binary_logloss: 0.665393\n",
      "[126]\tvalid_0's binary_logloss: 0.665294\n",
      "[129]\tvalid_0's binary_logloss: 0.664998\n",
      "[132]\tvalid_0's binary_logloss: 0.665011\n",
      "[135]\tvalid_0's binary_logloss: 0.664732\n",
      "[138]\tvalid_0's binary_logloss: 0.664618\n",
      "[141]\tvalid_0's binary_logloss: 0.664481\n",
      "[144]\tvalid_0's binary_logloss: 0.664407\n",
      "[147]\tvalid_0's binary_logloss: 0.664424\n",
      "[150]\tvalid_0's binary_logloss: 0.66428\n",
      "[153]\tvalid_0's binary_logloss: 0.66416\n",
      "[156]\tvalid_0's binary_logloss: 0.664251\n",
      "[159]\tvalid_0's binary_logloss: 0.664046\n",
      "[162]\tvalid_0's binary_logloss: 0.663935\n",
      "[165]\tvalid_0's binary_logloss: 0.663975\n",
      "[168]\tvalid_0's binary_logloss: 0.663628\n",
      "[171]\tvalid_0's binary_logloss: 0.66352\n",
      "[174]\tvalid_0's binary_logloss: 0.663329\n",
      "[177]\tvalid_0's binary_logloss: 0.663376\n",
      "[180]\tvalid_0's binary_logloss: 0.663091\n",
      "[183]\tvalid_0's binary_logloss: 0.663061\n",
      "[186]\tvalid_0's binary_logloss: 0.662801\n",
      "[189]\tvalid_0's binary_logloss: 0.662561\n",
      "[192]\tvalid_0's binary_logloss: 0.662542\n",
      "[195]\tvalid_0's binary_logloss: 0.662401\n",
      "[198]\tvalid_0's binary_logloss: 0.662391\n",
      "[201]\tvalid_0's binary_logloss: 0.662402\n",
      "[204]\tvalid_0's binary_logloss: 0.662333\n",
      "[207]\tvalid_0's binary_logloss: 0.662353\n",
      "[210]\tvalid_0's binary_logloss: 0.662073\n",
      "[213]\tvalid_0's binary_logloss: 0.661771\n",
      "[216]\tvalid_0's binary_logloss: 0.661692\n",
      "[219]\tvalid_0's binary_logloss: 0.661526\n",
      "[222]\tvalid_0's binary_logloss: 0.661102\n",
      "[225]\tvalid_0's binary_logloss: 0.660959\n",
      "[228]\tvalid_0's binary_logloss: 0.660809\n",
      "[231]\tvalid_0's binary_logloss: 0.660521\n",
      "[234]\tvalid_0's binary_logloss: 0.660586\n",
      "[237]\tvalid_0's binary_logloss: 0.660283\n",
      "[240]\tvalid_0's binary_logloss: 0.660348\n",
      "[243]\tvalid_0's binary_logloss: 0.660165\n",
      "[246]\tvalid_0's binary_logloss: 0.660133\n",
      "[249]\tvalid_0's binary_logloss: 0.660072\n",
      "[252]\tvalid_0's binary_logloss: 0.660108\n",
      "[255]\tvalid_0's binary_logloss: 0.65997\n",
      "[258]\tvalid_0's binary_logloss: 0.659837\n",
      "[261]\tvalid_0's binary_logloss: 0.659817\n",
      "[264]\tvalid_0's binary_logloss: 0.659843\n",
      "[267]\tvalid_0's binary_logloss: 0.65955\n",
      "[270]\tvalid_0's binary_logloss: 0.659359\n",
      "[273]\tvalid_0's binary_logloss: 0.659327\n",
      "[276]\tvalid_0's binary_logloss: 0.65913\n",
      "[279]\tvalid_0's binary_logloss: 0.659071\n",
      "[282]\tvalid_0's binary_logloss: 0.658944\n",
      "[285]\tvalid_0's binary_logloss: 0.65881\n",
      "[288]\tvalid_0's binary_logloss: 0.658834\n",
      "[291]\tvalid_0's binary_logloss: 0.65868\n",
      "[294]\tvalid_0's binary_logloss: 0.658549\n",
      "[297]\tvalid_0's binary_logloss: 0.65858\n",
      "[300]\tvalid_0's binary_logloss: 0.658605\n",
      "[303]\tvalid_0's binary_logloss: 0.658688\n",
      "[306]\tvalid_0's binary_logloss: 0.658683\n",
      "[309]\tvalid_0's binary_logloss: 0.658476\n",
      "[312]\tvalid_0's binary_logloss: 0.6583\n",
      "[315]\tvalid_0's binary_logloss: 0.658169\n",
      "[318]\tvalid_0's binary_logloss: 0.658176\n",
      "[321]\tvalid_0's binary_logloss: 0.658138\n",
      "[324]\tvalid_0's binary_logloss: 0.658068\n",
      "[327]\tvalid_0's binary_logloss: 0.658124\n",
      "[330]\tvalid_0's binary_logloss: 0.658054\n",
      "[333]\tvalid_0's binary_logloss: 0.658024\n",
      "[336]\tvalid_0's binary_logloss: 0.657975\n",
      "[339]\tvalid_0's binary_logloss: 0.657915\n",
      "[342]\tvalid_0's binary_logloss: 0.657884\n",
      "[345]\tvalid_0's binary_logloss: 0.65798\n",
      "[348]\tvalid_0's binary_logloss: 0.657858\n",
      "[351]\tvalid_0's binary_logloss: 0.65793\n",
      "[354]\tvalid_0's binary_logloss: 0.657939\n",
      "[357]\tvalid_0's binary_logloss: 0.657782\n",
      "[360]\tvalid_0's binary_logloss: 0.65768\n",
      "[363]\tvalid_0's binary_logloss: 0.657545\n",
      "[366]\tvalid_0's binary_logloss: 0.657483\n",
      "[369]\tvalid_0's binary_logloss: 0.657442\n",
      "[372]\tvalid_0's binary_logloss: 0.657529\n",
      "[375]\tvalid_0's binary_logloss: 0.657512\n",
      "[378]\tvalid_0's binary_logloss: 0.657555\n",
      "[381]\tvalid_0's binary_logloss: 0.65757\n",
      "[384]\tvalid_0's binary_logloss: 0.657674\n",
      "[387]\tvalid_0's binary_logloss: 0.657538\n",
      "[390]\tvalid_0's binary_logloss: 0.657429\n",
      "[393]\tvalid_0's binary_logloss: 0.657481\n",
      "[396]\tvalid_0's binary_logloss: 0.657486\n",
      "[399]\tvalid_0's binary_logloss: 0.657282\n",
      "[402]\tvalid_0's binary_logloss: 0.657284\n",
      "[405]\tvalid_0's binary_logloss: 0.657159\n",
      "[408]\tvalid_0's binary_logloss: 0.65711\n",
      "[411]\tvalid_0's binary_logloss: 0.657024\n",
      "[414]\tvalid_0's binary_logloss: 0.656822\n",
      "[417]\tvalid_0's binary_logloss: 0.656668\n",
      "[420]\tvalid_0's binary_logloss: 0.656588\n",
      "[423]\tvalid_0's binary_logloss: 0.656566\n",
      "[426]\tvalid_0's binary_logloss: 0.6565\n",
      "[429]\tvalid_0's binary_logloss: 0.656317\n",
      "[432]\tvalid_0's binary_logloss: 0.656244\n",
      "[435]\tvalid_0's binary_logloss: 0.65613\n",
      "[438]\tvalid_0's binary_logloss: 0.656043\n",
      "[441]\tvalid_0's binary_logloss: 0.655998\n",
      "[444]\tvalid_0's binary_logloss: 0.655885\n",
      "[447]\tvalid_0's binary_logloss: 0.655855\n",
      "[450]\tvalid_0's binary_logloss: 0.655821\n",
      "[453]\tvalid_0's binary_logloss: 0.655792\n",
      "[456]\tvalid_0's binary_logloss: 0.65569\n",
      "[459]\tvalid_0's binary_logloss: 0.655572\n",
      "[462]\tvalid_0's binary_logloss: 0.655581\n",
      "[465]\tvalid_0's binary_logloss: 0.655392\n",
      "[468]\tvalid_0's binary_logloss: 0.655253\n",
      "[471]\tvalid_0's binary_logloss: 0.655246\n",
      "[474]\tvalid_0's binary_logloss: 0.65502\n",
      "[477]\tvalid_0's binary_logloss: 0.655041\n",
      "[480]\tvalid_0's binary_logloss: 0.654893\n",
      "[483]\tvalid_0's binary_logloss: 0.654819\n",
      "[486]\tvalid_0's binary_logloss: 0.654782\n",
      "[489]\tvalid_0's binary_logloss: 0.654654\n",
      "[492]\tvalid_0's binary_logloss: 0.654675\n",
      "[495]\tvalid_0's binary_logloss: 0.654632\n",
      "[498]\tvalid_0's binary_logloss: 0.654725\n",
      "[501]\tvalid_0's binary_logloss: 0.654807\n",
      "[504]\tvalid_0's binary_logloss: 0.65481\n",
      "[507]\tvalid_0's binary_logloss: 0.654719\n",
      "[510]\tvalid_0's binary_logloss: 0.654732\n",
      "[513]\tvalid_0's binary_logloss: 0.654692\n",
      "[516]\tvalid_0's binary_logloss: 0.654647\n",
      "[519]\tvalid_0's binary_logloss: 0.654663\n",
      "[522]\tvalid_0's binary_logloss: 0.654637\n",
      "[525]\tvalid_0's binary_logloss: 0.654624\n",
      "[528]\tvalid_0's binary_logloss: 0.6545\n",
      "[531]\tvalid_0's binary_logloss: 0.65455\n",
      "[534]\tvalid_0's binary_logloss: 0.654481\n",
      "[537]\tvalid_0's binary_logloss: 0.654497\n",
      "[540]\tvalid_0's binary_logloss: 0.65463\n",
      "[543]\tvalid_0's binary_logloss: 0.654615\n",
      "[546]\tvalid_0's binary_logloss: 0.654586\n",
      "[549]\tvalid_0's binary_logloss: 0.654605\n",
      "[552]\tvalid_0's binary_logloss: 0.65453\n",
      "[555]\tvalid_0's binary_logloss: 0.654574\n",
      "[558]\tvalid_0's binary_logloss: 0.654426\n",
      "[561]\tvalid_0's binary_logloss: 0.654455\n",
      "[564]\tvalid_0's binary_logloss: 0.654462\n",
      "[567]\tvalid_0's binary_logloss: 0.654391\n",
      "[570]\tvalid_0's binary_logloss: 0.654306\n",
      "[573]\tvalid_0's binary_logloss: 0.654078\n",
      "[576]\tvalid_0's binary_logloss: 0.653971\n",
      "[579]\tvalid_0's binary_logloss: 0.653946\n",
      "[582]\tvalid_0's binary_logloss: 0.653864\n",
      "[585]\tvalid_0's binary_logloss: 0.653737\n",
      "[588]\tvalid_0's binary_logloss: 0.653778\n",
      "[591]\tvalid_0's binary_logloss: 0.653652\n",
      "[594]\tvalid_0's binary_logloss: 0.6537\n",
      "[597]\tvalid_0's binary_logloss: 0.653636\n",
      "[600]\tvalid_0's binary_logloss: 0.653579\n",
      "[603]\tvalid_0's binary_logloss: 0.65345\n",
      "[606]\tvalid_0's binary_logloss: 0.653447\n",
      "[609]\tvalid_0's binary_logloss: 0.653418\n",
      "[612]\tvalid_0's binary_logloss: 0.653404\n"
     ]
    },
    {
     "name": "stdout",
     "output_type": "stream",
     "text": [
      "[615]\tvalid_0's binary_logloss: 0.653368\n",
      "[618]\tvalid_0's binary_logloss: 0.653374\n",
      "[621]\tvalid_0's binary_logloss: 0.653348\n",
      "[624]\tvalid_0's binary_logloss: 0.653215\n",
      "[627]\tvalid_0's binary_logloss: 0.653177\n",
      "[630]\tvalid_0's binary_logloss: 0.653162\n",
      "[633]\tvalid_0's binary_logloss: 0.653176\n",
      "[636]\tvalid_0's binary_logloss: 0.653178\n",
      "[639]\tvalid_0's binary_logloss: 0.653208\n",
      "[642]\tvalid_0's binary_logloss: 0.653141\n",
      "[645]\tvalid_0's binary_logloss: 0.653142\n",
      "[648]\tvalid_0's binary_logloss: 0.653147\n",
      "[651]\tvalid_0's binary_logloss: 0.6532\n",
      "[654]\tvalid_0's binary_logloss: 0.653077\n",
      "[657]\tvalid_0's binary_logloss: 0.653112\n",
      "[660]\tvalid_0's binary_logloss: 0.653081\n",
      "[663]\tvalid_0's binary_logloss: 0.653036\n",
      "[666]\tvalid_0's binary_logloss: 0.652996\n",
      "[669]\tvalid_0's binary_logloss: 0.653066\n",
      "[672]\tvalid_0's binary_logloss: 0.653009\n",
      "[675]\tvalid_0's binary_logloss: 0.653007\n",
      "[678]\tvalid_0's binary_logloss: 0.653042\n",
      "[681]\tvalid_0's binary_logloss: 0.653129\n",
      "[684]\tvalid_0's binary_logloss: 0.653173\n",
      "[687]\tvalid_0's binary_logloss: 0.653243\n",
      "[690]\tvalid_0's binary_logloss: 0.653186\n",
      "[693]\tvalid_0's binary_logloss: 0.653204\n",
      "[696]\tvalid_0's binary_logloss: 0.653264\n",
      "[699]\tvalid_0's binary_logloss: 0.653321\n",
      "[702]\tvalid_0's binary_logloss: 0.653194\n",
      "[705]\tvalid_0's binary_logloss: 0.65323\n",
      "[708]\tvalid_0's binary_logloss: 0.653233\n",
      "[711]\tvalid_0's binary_logloss: 0.653249\n",
      "[714]\tvalid_0's binary_logloss: 0.653268\n",
      "[717]\tvalid_0's binary_logloss: 0.653243\n",
      "[720]\tvalid_0's binary_logloss: 0.653219\n",
      "[723]\tvalid_0's binary_logloss: 0.653169\n",
      "Early stopping, best iteration is:\n",
      "[673]\tvalid_0's binary_logloss: 0.652976\n"
     ]
    },
    {
     "data": {
      "text/plain": [
       "LGBMClassifier(n_estimators=10000, num_leaves=40)"
      ]
     },
     "execution_count": 168,
     "metadata": {},
     "output_type": "execute_result"
    }
   ],
   "source": [
    "X_train, X_test, y_train, y_test = train_test_split(X, y, train_size=.8, random_state=0)\n",
    "modelL = lgb.LGBMClassifier(n_estimators=10000, num_leaves=40)\n",
    "modelL.fit(X_train, y_train, eval_set=[(X_test, y_test)], early_stopping_rounds=50, verbose=3)"
   ]
  },
  {
   "cell_type": "code",
   "execution_count": 169,
   "metadata": {},
   "outputs": [
    {
     "name": "stdout",
     "output_type": "stream",
     "text": [
      "Accuracy 0.615\n"
     ]
    }
   ],
   "source": [
    "y_pred = modelL.predict(X_test)\n",
    "print('Accuracy {0}'.format(np.round(accuracy_score(y_test, y_pred),3)))"
   ]
  },
  {
   "cell_type": "markdown",
   "metadata": {},
   "source": [
    "# Logistic Regression"
   ]
  },
  {
   "cell_type": "code",
   "execution_count": 66,
   "metadata": {},
   "outputs": [
    {
     "name": "stdout",
     "output_type": "stream",
     "text": [
      "Accuracy 0.551\n"
     ]
    }
   ],
   "source": [
    "X_train, X_test, y_train, y_test = train_test_split(X, y, train_size=.8, random_state=0)\n",
    "\n",
    "log = LogisticRegression()\n",
    "log.fit(X_train, y_train)\n",
    "y_pred = log.predict(X_test)\n",
    "print('Accuracy {0}'.format(np.round(accuracy_score(y_test, y_pred),3)))"
   ]
  },
  {
   "cell_type": "code",
   "execution_count": null,
   "metadata": {},
   "outputs": [],
   "source": [
    "df_contvar = df_model[['DP', 'VD', 'HIAF', 'IMPACT', 'sampleTimePt', 'gender', 'BIAS',\n",
    "       'REFBIAS', 'VARBIAS', 'QUAL', 'ODDRATIO', 'chipOrControl']]\n",
    "\n",
    "X_cont = df_contvar.drop('chipOrControl', axis = 1) \n",
    "y_cont = df_contvar['chipOrControl'] "
   ]
  },
  {
   "cell_type": "code",
   "execution_count": 153,
   "metadata": {},
   "outputs": [
    {
     "name": "stdout",
     "output_type": "stream",
     "text": [
      "Accuracy 0.639\n"
     ]
    }
   ],
   "source": [
    "X_train, X_test, y_train, y_test = train_test_split(X, y, train_size = 0.8, random_state = 0)\n",
    "\n",
    "# instantatiate the RFC with 100 ensemble members\n",
    "clf = RandomForestClassifier()\n",
    "clf.fit(X_train, y_train)\n",
    "Y_pred = clf.predict(X_test)  \n",
    "print('Accuracy {0}'.format(np.round(accuracy_score(y_test, Y_pred),3)))"
   ]
  },
  {
   "cell_type": "code",
   "execution_count": 154,
   "metadata": {},
   "outputs": [
    {
     "name": "stdout",
     "output_type": "stream",
     "text": [
      "DP 0.31\n",
      "VD 0.066\n",
      "HIAF 0.153\n",
      "sampleTimePt 0.012\n",
      "gender 0.014\n",
      "REFBIAS 0.226\n",
      "ODDRATIO 0.218\n"
     ]
    }
   ],
   "source": [
    "for name, score in zip(X.columns, clf.feature_importances_):\n",
    "    print(name,np.round(score,3))"
   ]
  },
  {
   "cell_type": "markdown",
   "metadata": {},
   "source": [
    "# Decision Trees"
   ]
  },
  {
   "cell_type": "code",
   "execution_count": 160,
   "metadata": {},
   "outputs": [
    {
     "name": "stdout",
     "output_type": "stream",
     "text": [
      "Accuracy 0.682\n"
     ]
    }
   ],
   "source": [
    "X_train, X_test, y_train, y_test = train_test_split(X, y, train_size = 0.8, random_state = 0)\n",
    "\n",
    "# instantatiate the RFC with 100 ensemble members\n",
    "dtc = DecisionTreeClassifier()\n",
    "dtc.fit(X_train, y_train)\n",
    "Y_pred = dtc.predict(X_test)  \n",
    "print('Accuracy {0}'.format(np.round(accuracy_score(y_test, Y_pred),3)))"
   ]
  },
  {
   "cell_type": "code",
   "execution_count": 183,
   "metadata": {},
   "outputs": [
    {
     "name": "stdout",
     "output_type": "stream",
     "text": [
      "Accuracy 0.692\n"
     ]
    }
   ],
   "source": [
    "X_train, X_test, y_train, y_test = train_test_split(X_other, y_other, train_size = 0.8, random_state = 0)\n",
    "\n",
    "# instantatiate the RFC with 100 ensemble members\n",
    "dtc = DecisionTreeClassifier()\n",
    "dtc.fit(X_train, y_train)\n",
    "Y_pred = dtc.predict(X_test)  \n",
    "print('Accuracy {0}'.format(np.round(accuracy_score(y_test, Y_pred),3)))"
   ]
  },
  {
   "cell_type": "code",
   "execution_count": 182,
   "metadata": {},
   "outputs": [
    {
     "name": "stdout",
     "output_type": "stream",
     "text": [
      "Accuracy 0.692\n"
     ]
    }
   ],
   "source": [
    "X_train, X_test, y_train, y_test = train_test_split(X_other1, y_other1, train_size = 0.8, random_state = 0)\n",
    "\n",
    "# instantatiate the RFC with 100 ensemble members\n",
    "dtc = DecisionTreeClassifier()\n",
    "dtc.fit(X_train, y_train)\n",
    "Y_pred = dtc.predict(X_test)  \n",
    "print('Accuracy {0}'.format(np.round(accuracy_score(y_test, Y_pred),3)))"
   ]
  },
  {
   "cell_type": "markdown",
   "metadata": {},
   "source": [
    "# Tabnet"
   ]
  },
  {
   "cell_type": "code",
   "execution_count": 156,
   "metadata": {},
   "outputs": [],
   "source": [
    "df_model.reset_index(inplace=True)"
   ]
  },
  {
   "cell_type": "code",
   "execution_count": 159,
   "metadata": {},
   "outputs": [],
   "source": [
    "df_model.drop('index', axis=1, inplace=True)"
   ]
  },
  {
   "cell_type": "code",
   "execution_count": 161,
   "metadata": {},
   "outputs": [],
   "source": [
    "train = df_model\n",
    "target = 'chipOrControl'\n",
    "if \"Set\" not in train.columns:\n",
    "    train[\"Set\"] = np.random.choice([\"train\", \"valid\", \"test\"], p =[.8, .1, .1], size=(train.shape[0],))\n",
    "\n",
    "train_indices = train[train['Set'] == 1].index.array\n",
    "valid_indices = train[train['Set'] == 0].index.array\n",
    "test_indices = train[train['Set'] == 2].index.array"
   ]
  },
  {
   "cell_type": "code",
   "execution_count": 162,
   "metadata": {},
   "outputs": [
    {
     "name": "stdout",
     "output_type": "stream",
     "text": [
      "sampleTimePt 2\n",
      "gender 2\n",
      "chipOrControl 2\n",
      "Set 3\n"
     ]
    }
   ],
   "source": [
    "nunique = train.nunique()\n",
    "types = train.dtypes\n",
    "\n",
    "categorical_columns = []\n",
    "categorical_dims =  {}\n",
    "for col in train.columns:\n",
    "    if types[col] == 'object' or nunique[col] < 200:\n",
    "        print(col, train[col].nunique())\n",
    "        l_enc = LabelEncoder()\n",
    "        train[col] = train[col].fillna(\"VV_likely\")\n",
    "        train[col] = l_enc.fit_transform(train[col].values)\n",
    "        categorical_columns.append(col)\n",
    "        categorical_dims[col] = len(l_enc.classes_)\n",
    "    else:\n",
    "        train.fillna(train.loc[train_indices, col].mean(), inplace=True)"
   ]
  },
  {
   "cell_type": "code",
   "execution_count": 163,
   "metadata": {},
   "outputs": [],
   "source": [
    "unused_feat = ['Set']\n",
    "\n",
    "features = [ col for col in train.columns if col not in unused_feat+[target]] \n",
    "\n",
    "cat_idxs = [ i for i, f in enumerate(features) if f in categorical_columns]\n",
    "\n",
    "cat_dims = [ categorical_dims[f] for i, f in enumerate(features) if f in categorical_columns]"
   ]
  },
  {
   "cell_type": "code",
   "execution_count": 164,
   "metadata": {},
   "outputs": [
    {
     "name": "stdout",
     "output_type": "stream",
     "text": [
      "['DP', 'VD', 'HIAF', 'sampleTimePt', 'gender', 'REFBIAS', 'ODDRATIO']\n",
      "[3, 4]\n",
      "[2, 2]\n"
     ]
    }
   ],
   "source": [
    "print(features)\n",
    "print(cat_idxs)\n",
    "print(cat_dims)"
   ]
  },
  {
   "cell_type": "code",
   "execution_count": 170,
   "metadata": {},
   "outputs": [
    {
     "name": "stdout",
     "output_type": "stream",
     "text": [
      "Device used : cpu\n"
     ]
    }
   ],
   "source": [
    "import torch\n",
    "clf = TabNetClassifier(cat_idxs=cat_idxs,\n",
    "                       cat_dims=cat_dims,\n",
    "                       cat_emb_dim=1,\n",
    "                       optimizer_fn=torch.optim.Adam,\n",
    "                       optimizer_params={'lr': 0.02},\n",
    "                       scheduler_params={\"step_size\":50, # how to use learning rate scheduler\n",
    "                                         \"gamma\":0.9},\n",
    "                       scheduler_fn=torch.optim.lr_scheduler.StepLR,\n",
    "                       mask_type='entmax', # \"sparsemax\"\n",
    "                       verbose = 3\n",
    "                      )"
   ]
  },
  {
   "cell_type": "code",
   "execution_count": 166,
   "metadata": {},
   "outputs": [],
   "source": [
    "X_train = train[features].values[train_indices]\n",
    "y_train = train[target].values[train_indices]\n",
    "\n",
    "X_valid = train[features].values[valid_indices]\n",
    "y_valid = train[target].values[valid_indices]\n",
    "\n",
    "X_test = train[features].values[test_indices]\n",
    "y_test = train[target].values[test_indices]"
   ]
  },
  {
   "cell_type": "code",
   "execution_count": 167,
   "metadata": {},
   "outputs": [],
   "source": [
    "import os\n",
    "max_epochs = 1000 if not os.getenv(\"CI\", False) else 2"
   ]
  },
  {
   "cell_type": "code",
   "execution_count": 171,
   "metadata": {},
   "outputs": [
    {
     "name": "stdout",
     "output_type": "stream",
     "text": [
      "epoch 0  | loss: 0.719   | train_auc: 0.51637 | valid_auc: 0.51727 |  0:00:25s\n",
      "epoch 3  | loss: 0.6929  | train_auc: 0.53549 | valid_auc: 0.53889 |  0:01:25s\n",
      "epoch 6  | loss: 0.69175 | train_auc: 0.53639 | valid_auc: 0.54338 |  0:02:25s\n",
      "epoch 9  | loss: 0.69264 | train_auc: 0.53346 | valid_auc: 0.53563 |  0:03:21s\n",
      "epoch 12 | loss: 0.69243 | train_auc: 0.53473 | valid_auc: 0.53844 |  0:04:06s\n",
      "epoch 15 | loss: 0.69114 | train_auc: 0.52223 | valid_auc: 0.52391 |  0:04:46s\n",
      "epoch 18 | loss: 0.69042 | train_auc: 0.54065 | valid_auc: 0.54709 |  0:05:26s\n",
      "epoch 21 | loss: 0.69007 | train_auc: 0.54257 | valid_auc: 0.54478 |  0:06:06s\n",
      "epoch 24 | loss: 0.69037 | train_auc: 0.54477 | valid_auc: 0.54553 |  0:06:45s\n",
      "epoch 27 | loss: 0.69029 | train_auc: 0.53373 | valid_auc: 0.53883 |  0:07:26s\n",
      "epoch 30 | loss: 0.69078 | train_auc: 0.53879 | valid_auc: 0.54223 |  0:08:06s\n",
      "epoch 33 | loss: 0.69048 | train_auc: 0.53797 | valid_auc: 0.54237 |  0:08:47s\n",
      "epoch 36 | loss: 0.68963 | train_auc: 0.54032 | valid_auc: 0.53858 |  0:09:26s\n",
      "\n",
      "Early stopping occurred at epoch 38 with best_epoch = 18 and best_valid_auc = 0.54709\n",
      "Best weights from best epoch are automatically used!\n"
     ]
    }
   ],
   "source": [
    "clf.fit(\n",
    "    X_train=X_train, y_train=y_train,\n",
    "    eval_set=[(X_train, y_train), (X_valid, y_valid)],\n",
    "    eval_name=['train', 'valid'],\n",
    "    eval_metric=['auc'],\n",
    "    max_epochs=max_epochs , patience=20,\n",
    "    batch_size=1024, virtual_batch_size=128,\n",
    "    num_workers=0,\n",
    "    weights=1,\n",
    "    drop_last=False\n",
    ")"
   ]
  },
  {
   "cell_type": "code",
   "execution_count": 172,
   "metadata": {},
   "outputs": [
    {
     "data": {
      "text/plain": [
       "[<matplotlib.lines.Line2D at 0x2a51d5cc250>]"
      ]
     },
     "execution_count": 172,
     "metadata": {},
     "output_type": "execute_result"
    },
    {
     "data": {
      "image/png": "[encoded data removed]",
      "text/plain": [
       "<Figure size 432x288 with 1 Axes>"
      ]
     },
     "metadata": {
      "needs_background": "light"
     },
     "output_type": "display_data"
    }
   ],
   "source": [
    "plt.plot(clf.history['loss'])\n"
   ]
  },
  {
   "cell_type": "code",
   "execution_count": 173,
   "metadata": {},
   "outputs": [
    {
     "data": {
      "text/plain": [
       "[<matplotlib.lines.Line2D at 0x2a5205b0a30>]"
      ]
     },
     "execution_count": 173,
     "metadata": {},
     "output_type": "execute_result"
    },
    {
     "data": {
      "image/png": "[encoded data removed]",
      "text/plain": [
       "<Figure size 432x288 with 1 Axes>"
      ]
     },
     "metadata": {
      "needs_background": "light"
     },
     "output_type": "display_data"
    }
   ],
   "source": [
    "# plot auc\n",
    "plt.plot(clf.history['train_auc'])\n",
    "plt.plot(clf.history['valid_auc'])"
   ]
  },
  {
   "cell_type": "code",
   "execution_count": 174,
   "metadata": {},
   "outputs": [
    {
     "data": {
      "text/plain": [
       "[<matplotlib.lines.Line2D at 0x2a52054d400>]"
      ]
     },
     "execution_count": 174,
     "metadata": {},
     "output_type": "execute_result"
    },
    {
     "data": {
      "image/png": "[encoded data removed]",
      "text/plain": [
       "<Figure size 432x288 with 1 Axes>"
      ]
     },
     "metadata": {
      "needs_background": "light"
     },
     "output_type": "display_data"
    }
   ],
   "source": [
    "# plot learning rates\n",
    "plt.plot(clf.history['lr'])"
   ]
  },
  {
   "cell_type": "code",
   "execution_count": 177,
   "metadata": {},
   "outputs": [
    {
     "name": "stdout",
     "output_type": "stream",
     "text": [
      "BEST VALID SCORE FOR CHIP Validation : 0.5470927621565707\n",
      "FINAL TEST SCORE FOR CHIP Validation : 0.5373497142927846\n"
     ]
    }
   ],
   "source": [
    "from sklearn.metrics import roc_auc_score\n",
    "\n",
    "preds = clf.predict_proba(X_test)\n",
    "test_auc = roc_auc_score(y_score=preds[:,1], y_true=y_test)\n",
    "\n",
    "\n",
    "preds_valid = clf.predict_proba(X_valid)\n",
    "valid_auc = roc_auc_score(y_score=preds_valid[:,1], y_true=y_valid)\n",
    "\n",
    "print(f\"BEST VALID SCORE FOR CHIP Validation : {clf.best_cost}\")\n",
    "print(f\"FINAL TEST SCORE FOR CHIP Validation : {test_auc}\")"
   ]
  },
  {
   "cell_type": "code",
   "execution_count": null,
   "metadata": {},
   "outputs": [],
   "source": []
  }
 ],
 "metadata": {
  "kernelspec": {
   "display_name": "Python 3",
   "language": "python",
   "name": "python3"
  },
  "language_info": {
   "codemirror_mode": {
    "name": "ipython",
    "version": 3
   },
   "file_extension": ".py",
   "mimetype": "text/x-python",
   "name": "python",
   "nbconvert_exporter": "python",
   "pygments_lexer": "ipython3",
   "version": "3.8.3"
  }
 },
 "nbformat": 4,
 "nbformat_minor": 4
}
