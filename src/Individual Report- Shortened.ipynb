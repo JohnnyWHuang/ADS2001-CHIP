{
 "cells": [
  {
   "cell_type": "markdown",
   "metadata": {},
   "source": [
    "# Mass Modelling and Label Noise Investigation for CHIP Classification \n",
    "\n",
    "## Wei Jie Huang - 31500315\n",
    "\n",
    "# 1. Introduction\n",
    "This notebook parses through the modelling techniques and methods to find misclassified labels within the datasets. \n",
    "\n",
    "Within both supplied datasets, grouping the 88 participants by their unique `MSID` demonstrates no inconsistencies between dataset1 and dataset2 classifications (44 CHIP, 44 Control). \n",
    "\n",
    "In addition, within each individual dataset, each read of a particular patient presents the same label; thus for every unique `MSID`, no inconsistent classification arises. From these two observations, it's hypothesised that the label noise is large enough to span both datasets, hence, we cannot ascertain that a particular machine produced a ground truth classification. \n",
    "\n",
    "There were two methods in uncovering label noise, the first was utilising a Python package, `cleanlab`, which wraps around sklearn machine learning models working with label noise probabilities as an input; the second consisted of further exploratory analysis of modelling accuracies and averages, inferring structured bias across multiple patients through `MSID` groupings.\n",
    "\n",
    "**NOTE: Although the notebook seems long, it's due to the outputs in attempt to find accuracies of many models.**\n",
    "\n",
    "**It is short, in essence, if you skim over model creating and accuracies**\n",
    "\n",
    "This is a shortened version of: https://drive.google.com/file/d/1RQ__0axKNJsB2sYtb_UThtaoovtyO6JF/view?usp=sharing"
   ]
  },
  {
   "cell_type": "markdown",
   "metadata": {},
   "source": [
    "## Preliminary Modelling Results\n",
    "\n",
    "KNN, ADA, DCT are the best performing, with approximately 81%, 80% and 78% respectively\n",
    "- KNearestNeighbours performs better when data is not normalised; it also contains catagorical values. The underlying reason remains unknown.\n",
    "- AdaBoosting performs, on average, better than all other models. This includes the second dataset. \n",
    "- Decision Trees perform better than Random Forests, most likely due to Random Forests suffering from overfitting.\n",
    "\n",
    "A neural network was also implemented with Fast.ai's Tabnet. It produced about less than 60% accuracy. Other neural networks were attempted to be utilised (Keras), but did not bode high accuracies. \n",
    "\n",
    "Notebook for Fast.ai Tabnet implementation can be found here: https://colab.research.google.com/drive/1kPmhvoxSk40FPfKq86O04F5aT3BNKQ83?usp=sharing \n",
    "\n",
    "(The code is not well documented, simply mentioned to state that neural networks were attempted.)"
   ]
  },
  {
   "cell_type": "markdown",
   "metadata": {},
   "source": [
    "# 2. Label Noise Investigation\n",
    "\n",
    "## Method 1. `cleanlab` Confidnet Learning Library\n",
    "https://github.com/cgnorthcutt/cleanlab \n",
    "\n",
    "`cleanlab` is a framework for confident learning, analogous to how PyTorch and TensorFlow are frameworks for deep learning. \n",
    "\n",
    "Thus, the purpose of the library is to find label errors in datasets, and aid machine learning models with noisy labels in mind. Although confident learning required no hyperparameter tuning, it required a noise matrix providing the predicted probabilities of true labels and those misclassified. \n",
    "\n",
    "Through cross validation to obtain predicted probabilities out-of-sample, it can directly estimate the joint distribution of noisy and true labels, thus output a noise matrix representing the predicted probabilities for a classification. Furthermore, the calculated probabilities for each element in the noise matrix does not assume randomly uniform label noise within the implementation, hence increasing the likelihood of detecting structured bias across MSID groups. \n",
    "\n",
    "By utilising cleanlab within both CHIP datasets, the expectation is that the package's methods will improve the accuracy scores of our binary classification models."
   ]
  },
  {
   "cell_type": "code",
   "execution_count": 540,
   "metadata": {},
   "outputs": [],
   "source": [
    "from __future__ import (print_function, absolute_import, division,\n",
    "                        unicode_literals, with_statement)\n",
    "from sklearn.model_selection import ParameterGrid\n",
    "from cleanlab.classification import LearningWithNoisyLabels\n",
    "from cleanlab.noise_generation import generate_noisy_labels\n",
    "from cleanlab.util import value_counts\n",
    "from cleanlab.latent_algebra import compute_inv_noise_matrix\n",
    "from cleanlab.latent_estimation import estimate_py_noise_matrices_and_cv_pred_proba"
   ]
  },
  {
   "cell_type": "markdown",
   "metadata": {},
   "source": [
    "Examples of latent statistics in uncertainty estimation for dataset labels are the:\n",
    "\n",
    "- Latent Prior: \n",
    "    - the unknown prior of true labels (the prior of noisy labels is known)\n",
    "    - `est_py` is the array p(y)\n",
    "\n",
    "\n",
    "- Noisy Matrix: \n",
    "     - a class-conditional probability dist. mapping true classes to noisy classes\n",
    "     - `est_nm` is the matrix P(s|y) \n",
    "\n",
    "\n",
    "- inverse noise matrix: \n",
    "    - a class-conditional probability dist. mapping noisy classes back to true classes\n",
    "    - `est_inv` is the matrix P(y|s)\n",
    "\n",
    "\n",
    "- Confident Joint: \n",
    "    - `confident_joint` is an unnormalized estimate of the joint distribution of noisy labels and true labels\n",
    "\n",
    "\n",
    "- psx:\n",
    "    -  `psx` n x m predicted probabilities matrix\n",
    "\n"
   ]
  },
  {
   "cell_type": "code",
   "execution_count": 1033,
   "metadata": {},
   "outputs": [],
   "source": [
    "est_py, est_nm, est_inv, confident_joint, psx = (\n",
    "    estimate_py_noise_matrices_and_cv_pred_proba(X = X_train.to_numpy(), s = y_train.to_numpy()))"
   ]
  },
  {
   "cell_type": "code",
   "execution_count": 1045,
   "metadata": {},
   "outputs": [
    {
     "data": {
      "text/plain": [
       "array([[0.56105991, 0.55191325],\n",
       "       [0.43894009, 0.44808675]])"
      ]
     },
     "execution_count": 1045,
     "metadata": {},
     "output_type": "execute_result"
    }
   ],
   "source": [
    "est_nm"
   ]
  },
  {
   "cell_type": "code",
   "execution_count": 1047,
   "metadata": {},
   "outputs": [
    {
     "data": {
      "text/plain": [
       "array([[11688, 39953],\n",
       "       [ 9144, 32437]])"
      ]
     },
     "execution_count": 1047,
     "metadata": {},
     "output_type": "execute_result"
    }
   ],
   "source": [
    "confident_joint"
   ]
  },
  {
   "cell_type": "code",
   "execution_count": 1048,
   "metadata": {
    "scrolled": true
   },
   "outputs": [
    {
     "data": {
      "text/plain": [
       "array([[0.5504991 , 0.4495009 ],\n",
       "       [0.55251686, 0.44748314],\n",
       "       [0.55123444, 0.44876556],\n",
       "       ...,\n",
       "       [0.56489256, 0.43510744],\n",
       "       [0.56643076, 0.43356924],\n",
       "       [0.55298554, 0.44701446]])"
      ]
     },
     "execution_count": 1048,
     "metadata": {},
     "output_type": "execute_result"
    }
   ],
   "source": [
    "psx"
   ]
  },
  {
   "cell_type": "code",
   "execution_count": 1167,
   "metadata": {},
   "outputs": [],
   "source": [
    "est_py2, est_nm2, est_inv2, confident_joint2, psx2 = (\n",
    "estimate_py_noise_matrices_and_cv_pred_proba( X = X_train2.to_numpy(), s = y_train2.to_numpy(),))"
   ]
  },
  {
   "cell_type": "markdown",
   "metadata": {},
   "source": [
    "## `cleanlab` Modelling"
   ]
  },
  {
   "cell_type": "markdown",
   "metadata": {},
   "source": [
    "### `cleanlab` DCT"
   ]
  },
  {
   "cell_type": "code",
   "execution_count": 1066,
   "metadata": {},
   "outputs": [
    {
     "name": "stdout",
     "output_type": "stream",
     "text": [
      "Decision Tree: 0.749\n"
     ]
    }
   ],
   "source": [
    "clf = DecisionTreeClassifier()\n",
    "lnl_dct1 = LearningWithNoisyLabels(clf=clf)\n",
    "lnl_dct1.fit(X = X_train.to_numpy(), s = y_train.to_numpy(), noise_matrix = est_nm)\n",
    "pred_lnl_dct1 = lnl_dct1.predict(X_test.to_numpy())\n",
    "print(\"Decision Tree:\", round(accuracy_score(pred_lnl_dct1, y_test), 3))"
   ]
  },
  {
   "cell_type": "code",
   "execution_count": 1070,
   "metadata": {},
   "outputs": [
    {
     "name": "stdout",
     "output_type": "stream",
     "text": [
      "Decision Tree: 0.602\n"
     ]
    }
   ],
   "source": [
    "clf = DecisionTreeClassifier()\n",
    "lnl_dct2 = LearningWithNoisyLabels(clf=clf)\n",
    "lnl_dct2 = lnl_dct2.fit(X = X_train2.to_numpy(), s = y_train2.to_numpy(), noise_matrix = est_nm2)\n",
    "pred_lnl_dct2 = rp.predict(X_test2.to_numpy())\n",
    "print(\"Decision Tree:\", round(accuracy_score(pred_lnl_dct2, y_test2), 3))"
   ]
  },
  {
   "cell_type": "markdown",
   "metadata": {},
   "source": [
    "### `cleanlab` KNN"
   ]
  },
  {
   "cell_type": "code",
   "execution_count": 1072,
   "metadata": {},
   "outputs": [
    {
     "name": "stdout",
     "output_type": "stream",
     "text": [
      "KNN accuracy: 0.781\n"
     ]
    }
   ],
   "source": [
    "clf = KNeighborsClassifier(n_neighbors = 10, weights='distance', metric = 'manhattan', algorithm = 'kd_tree')\n",
    "lnl_knn1 = LearningWithNoisyLabels(clf=clf)\n",
    "lnl_knn1.fit(X_train.to_numpy(), y_train.to_numpy(), noise_matrix = est_nm)\n",
    "pred_lnl_knn1 = lnl_knn1.predict(X_test.to_numpy())\n",
    "print(\"KNN accuracy:\", round(accuracy_score(pred_lnl_knn1, y_test), 3))"
   ]
  },
  {
   "cell_type": "code",
   "execution_count": 1073,
   "metadata": {},
   "outputs": [
    {
     "name": "stdout",
     "output_type": "stream",
     "text": [
      "KNN: 0.601\n"
     ]
    }
   ],
   "source": [
    "clf = KNeighborsClassifier(n_neighbors = 10, weights='distance', metric = 'manhattan', algorithm = 'kd_tree')\n",
    "lnl_knn2 = LearningWithNoisyLabels(clf=clf)\n",
    "lnl_knn2.fit(X = X_train2.to_numpy(), s = y_train2.to_numpy(), noise_matrix = est_nm2)\n",
    "pred_lnl_knn2 = lnl_knn2.predict(X_test2.to_numpy())\n",
    "print(\"KNN:\", round(accuracy_score(pred_lnl_knn2, y_test2), 3))"
   ]
  },
  {
   "cell_type": "markdown",
   "metadata": {},
   "source": [
    "### `cleanlab` Logistic Regression"
   ]
  },
  {
   "cell_type": "code",
   "execution_count": 1098,
   "metadata": {},
   "outputs": [
    {
     "name": "stdout",
     "output_type": "stream",
     "text": [
      "Logistic Regression: 0.52\n"
     ]
    }
   ],
   "source": [
    "log = LogisticRegression(solver='lbfgs', multi_class='auto', max_iter=1000)\n",
    "lnl_log1 = LearningWithNoisyLabels(clf=log)\n",
    "lnl_log1.fit(X = X_train.to_numpy(), s = y_train.to_numpy(), noise_matrix = est_nm)\n",
    "pred_lnl_log1 = lnl_log1.predict(X_test.to_numpy())\n",
    "print(\"Logistic Regression:\", round(accuracy_score(pred_lnl_log1, y_test), 3))"
   ]
  },
  {
   "cell_type": "code",
   "execution_count": 1097,
   "metadata": {},
   "outputs": [
    {
     "name": "stdout",
     "output_type": "stream",
     "text": [
      "Logistic Regression: 0.516\n"
     ]
    }
   ],
   "source": [
    "clf = LogisticRegression(solver='lbfgs', multi_class='auto', max_iter=1000)\n",
    "lnl_log2 = LearningWithNoisyLabels(clf=clf)\n",
    "lnl_log2.fit(X = X_train2.to_numpy(), s = y_train2.to_numpy(), noise_matrix = est_nm2)\n",
    "pred_lnl_log2 = lnl_log2.predict(X_test2.to_numpy())\n",
    "print(\"Logistic Regression:\", round(accuracy_score(pred_lnl_log2, y_test2), 3))"
   ]
  },
  {
   "cell_type": "markdown",
   "metadata": {},
   "source": [
    "### `cleanlab` AdaBoost Classifier"
   ]
  },
  {
   "cell_type": "code",
   "execution_count": 1076,
   "metadata": {},
   "outputs": [
    {
     "name": "stdout",
     "output_type": "stream",
     "text": [
      "Ada Boost: 0.778\n"
     ]
    }
   ],
   "source": [
    "ada = AdaBoostClassifier(DecisionTreeClassifier(), n_estimators=50, learning_rate = 0.5, algorithm= 'SAMME')\n",
    "lnl_ada1 = LearningWithNoisyLabels(clf=ada)\n",
    "lnl_ada1.fit(X = X_train.to_numpy(), s = y_train.to_numpy(), noise_matrix = est_nm)\n",
    "pred_lnl_ada1 = lnl_ada1.predict(X_test.to_numpy())\n",
    "print(\"Ada Boost:\", round(accuracy_score(pred_lnl_ada1, y_test), 3))"
   ]
  },
  {
   "cell_type": "code",
   "execution_count": 1078,
   "metadata": {},
   "outputs": [
    {
     "name": "stdout",
     "output_type": "stream",
     "text": [
      "AdaBoost: 0.647\n"
     ]
    }
   ],
   "source": [
    "clf = AdaBoostClassifier(DecisionTreeClassifier(), n_estimators=50, learning_rate = 0.5, algorithm= 'SAMME')\n",
    "lnl_ada2 = LearningWithNoisyLabels(clf=clf)\n",
    "lnl_ada2.fit(X = X_train2.to_numpy(), s = y_train2.to_numpy(), noise_matrix = est_nm2)\n",
    "pred_lnl_ada2 = lnl_ada2.predict(X_test2.to_numpy())\n",
    "print(\"AdaBoost:\", round(accuracy_score(pred_lnl_ada2, y_test2), 3))"
   ]
  },
  {
   "cell_type": "markdown",
   "metadata": {},
   "source": [
    "### `cleanlab` Gaussian Naive Bayes"
   ]
  },
  {
   "cell_type": "code",
   "execution_count": 1080,
   "metadata": {},
   "outputs": [
    {
     "name": "stdout",
     "output_type": "stream",
     "text": [
      "Gaussian : 0.474\n"
     ]
    }
   ],
   "source": [
    "gb = GaussianNB()\n",
    "lnl_gb1 = LearningWithNoisyLabels(clf=gb)\n",
    "lnl_gb1.fit(X = X_train.to_numpy(), s = y_train.to_numpy(), noise_matrix = est_nm)\n",
    "pred_lnl_gb1 = lnl_gb1.predict(X_test.to_numpy())\n",
    "print(\"Gaussian :\", round(accuracy_score(pred_lnl_gb1, y_test), 3))"
   ]
  },
  {
   "cell_type": "code",
   "execution_count": 1081,
   "metadata": {},
   "outputs": [
    {
     "name": "stdout",
     "output_type": "stream",
     "text": [
      "Gaussian: 0.49\n"
     ]
    }
   ],
   "source": [
    "clf = GaussianNB()\n",
    "lnl_gb2 = LearningWithNoisyLabels(clf=clf)\n",
    "lnl_gb2.fit(X = X_train2.to_numpy(), s = y_train2.to_numpy(), noise_matrix = est_nm2)\n",
    "pred_lnl_gb2 = lnl_gb2.predict(X_test2.to_numpy())\n",
    "print(\"Gaussian:\", round(accuracy_score(pred_lnl_gb2, y_test2), 3))"
   ]
  },
  {
   "cell_type": "markdown",
   "metadata": {},
   "source": [
    "### `cleanlab` XGBoost Classifer "
   ]
  },
  {
   "cell_type": "code",
   "execution_count": 1082,
   "metadata": {},
   "outputs": [
    {
     "name": "stdout",
     "output_type": "stream",
     "text": [
      "XG Boost: 0.724\n"
     ]
    }
   ],
   "source": [
    "xgf = XGBClassifier(objective='binary:logistic', n_estimators=1000,seed=1, eval_metric='logloss', n_jobs = -1)\n",
    "lnl_xg1 = LearningWithNoisyLabels(clf=xgf)\n",
    "lnl_xg1.fit(X = X_train.to_numpy(), s = y_train.to_numpy(), noise_matrix = est_nm)\n",
    "pred_lnl_xg1 = lnl_xg1.predict(X_test.to_numpy())\n",
    "print(\"XG Boost:\", round(accuracy_score(pred_lnl_xg1, y_test), 3))"
   ]
  },
  {
   "cell_type": "code",
   "execution_count": 1083,
   "metadata": {},
   "outputs": [
    {
     "name": "stdout",
     "output_type": "stream",
     "text": [
      "XG Boost: 0.624\n"
     ]
    }
   ],
   "source": [
    "xgf = XGBClassifier(objective='binary:logistic', n_estimators=1000,seed=1, eval_metric='logloss', n_jobs = -1)\n",
    "lnl_xg2 = LearningWithNoisyLabels(clf=xgf)\n",
    "lnl_xg2.fit(X = X_train2.to_numpy(), s = y_train2.to_numpy(), noise_matrix = est_nm2)\n",
    "pred_lnl_xg2 = lnl_xg2.predict(X_test2.to_numpy())\n",
    "print(\"XG Boost:\", round(accuracy_score(pred_lnl_xg2, y_test2), 3))"
   ]
  },
  {
   "cell_type": "markdown",
   "metadata": {},
   "source": [
    "### `cleanlab` Light Gradient Boosting"
   ]
  },
  {
   "cell_type": "code",
   "execution_count": 1084,
   "metadata": {},
   "outputs": [
    {
     "name": "stdout",
     "output_type": "stream",
     "text": [
      "Light Gradient Boosting: 0.654\n"
     ]
    }
   ],
   "source": [
    "lgbf = LGBMClassifier(n_estimators=1000, num_leaves = 40, n_jobs = -1)\n",
    "lnl_lg1 = LearningWithNoisyLabels(clf=lgbf)\n",
    "lnl_lg1.fit(X = X_train.to_numpy(), s = y_train.to_numpy(), noise_matrix = est_nm)\n",
    "pred_lnl_lg1 = lnl_lg1.predict(X_test.to_numpy())\n",
    "print(\"Light Gradient Boosting:\", round(accuracy_score(pred_lnl_lg1, y_test), 3))"
   ]
  },
  {
   "cell_type": "code",
   "execution_count": 1085,
   "metadata": {},
   "outputs": [
    {
     "name": "stdout",
     "output_type": "stream",
     "text": [
      "Light Gradient Boosting: 0.611\n"
     ]
    }
   ],
   "source": [
    "lgbf = LGBMClassifier(n_estimators=1000, num_leaves = 40, n_jobs = -1)\n",
    "lnl_lg2 = LearningWithNoisyLabels(clf=lgbf)\n",
    "lnl_lg2.fit(X = X_train2.to_numpy(), s = y_train2.to_numpy(), noise_matrix = est_nm2)\n",
    "pred_lnl_lg2 = lnl_lg2.predict(X_test2.to_numpy())\n",
    "print(\"Light Gradient Boosting:\", round(accuracy_score(pred_lnl_lg2, y_test2), 3))"
   ]
  },
  {
   "cell_type": "markdown",
   "metadata": {},
   "source": [
    "### `cleanlab` Random Forests"
   ]
  },
  {
   "cell_type": "code",
   "execution_count": 1090,
   "metadata": {},
   "outputs": [
    {
     "name": "stdout",
     "output_type": "stream",
     "text": [
      "Random Forests: 0.691\n"
     ]
    }
   ],
   "source": [
    "rfc = RandomForestClassifier()\n",
    "lnl_rfc1 = LearningWithNoisyLabels(clf=rfc)\n",
    "lnl_rfc1.fit(X = X_train.to_numpy(), s = y_train.to_numpy(), noise_matrix = est_nm)\n",
    "pred_lnl_rfc1 = lnl_rfc1.predict(X_test.to_numpy())\n",
    "print(\"Random Forests:\", round(accuracy_score(pred_lnl_rfc1, y_test), 3))"
   ]
  },
  {
   "cell_type": "code",
   "execution_count": 1093,
   "metadata": {
    "scrolled": true
   },
   "outputs": [
    {
     "name": "stdout",
     "output_type": "stream",
     "text": [
      "Random Forests Boosting: 0.601\n"
     ]
    }
   ],
   "source": [
    "rfc\n",
    "lnl_rfc2 = LearningWithNoisyLabels(clf=rfc)\n",
    "lnl_rfc2.fit(X = X_train2.to_numpy(), s = y_train2.to_numpy(), noise_matrix = est_nm2)\n",
    "pred_lnl_rfc2 = lnl_rfc2.predict(X_test2.to_numpy())\n",
    "print(\"Random Forests Boosting:\", round(accuracy_score(pred_lnl_rfc2, y_test2), 3))"
   ]
  },
  {
   "cell_type": "markdown",
   "metadata": {},
   "source": [
    "## Preliminary `cleanlab` Results:\n",
    "\n",
    "`cleanlab` performs worse in all machine modelling with it's package in place. Specifically, all models had accuracy scores decreased by around 1-5%.\n",
    "\n",
    "There are two possible reasons for this result:\n",
    "1. The dataset had little to no label noise, resulting in worse performance as cleanlab changes true positive classifications to a falsified label.\n",
    "2. Input parameter, `est_nm`, contained inaccurate values, resulting in the model predicting label noise incorrectly.\n",
    "\n",
    "Though the former is incorrect, due to confirmed false negatives, the latter is supported by the differences between the confusion matrices of high performing models and the estimated noise matrix (`est_nm`), which can output the confident_joint (unnormalized estimate of the joint distribution of noisy labels and true labels) for further analysis.\n",
    "\n",
    "\n",
    "Given that `est_nm` = `array([[11688, 39953], [ 9144, 32437]])`, while the confusion matrix of AdaBoost consists of `array([[10540, 2204], [2302, 8262]])`, it's likely that `cleanlab` did not output a noise matrix to a high enough accuracy nor precision for calculating the models. "
   ]
  },
  {
   "cell_type": "code",
   "execution_count": 1141,
   "metadata": {
    "scrolled": true
   },
   "outputs": [
    {
     "data": {
      "text/plain": [
       "Text(0.5, 1.0, 'Confusion Matrix of AdaBoostClassifer')"
      ]
     },
     "execution_count": 1141,
     "metadata": {},
     "output_type": "execute_result"
    },
    {
     "data": {
      "image/png": "[encoded data removed]",
      "text/plain": [
       "<Figure size 864x288 with 2 Axes>"
      ]
     },
     "metadata": {},
     "output_type": "display_data"
    }
   ],
   "source": [
    "ax= plt.subplot()\n",
    "sns.heatmap(confusion_matrix(y_test, y_predada), annot=True, fmt='g');\n",
    "\n",
    "# labels, title and ticks\n",
    "sns.set(font_scale=1)\n",
    "ax.set_xlabel('Predicted labels');ax.set_ylabel('True labels')\n",
    "ax.set_title('Confusion Matrix of AdaBoostClassifer')"
   ]
  },
  {
   "cell_type": "code",
   "execution_count": 1045,
   "metadata": {},
   "outputs": [
    {
     "data": {
      "text/plain": [
       "array([[0.56105991, 0.55191325],\n",
       "       [0.43894009, 0.44808675]])"
      ]
     },
     "execution_count": 1045,
     "metadata": {},
     "output_type": "execute_result"
    }
   ],
   "source": [
    "est_nm"
   ]
  },
  {
   "cell_type": "markdown",
   "metadata": {},
   "source": [
    "## Method 2: Exploratory Analysis of Structured Bias, Grouped by `MSID`\n",
    "\n",
    "The second method of uncovering label noise was based on the assumption that structured group bias was present within both datasets. \n",
    "\n",
    "By examining the trends and weighted averages of model inaccuracies, we can hope to uncover that perhaps some groups of `MSID` patients are continuously misclassified as `CHIP`, where originally labelled as `Control`."
   ]
  },
  {
   "cell_type": "code",
   "execution_count": 289,
   "metadata": {},
   "outputs": [],
   "source": [
    "# Split up training and testing with the same random state such that \n",
    "# rows and indicies appear in the same indices as the testing/training models\n",
    "\n",
    "tX_train, tX_test, ty_train, ty_test = train_test_split(df.drop(['chipOrControl'], axis = 1), \n",
    "                                                    y, train_size=.8, random_state=0)\n",
    "\n",
    "tX_train2, tX_test2, ty_train2, ty_test2 = train_test_split(df2.drop(['chipOrControl'], axis = 1), \n",
    "                                                    y2, train_size=.8, random_state=0)\n",
    "\n",
    "testing = tX_test\n",
    "testing2 = tX_test2"
   ]
  },
  {
   "cell_type": "code",
   "execution_count": 300,
   "metadata": {},
   "outputs": [],
   "source": [
    "# Append new columns with the predicted classifications of the model\n",
    "testing['ada_pred'] = pd.Series(y_predada).values\n",
    "testing['rfc_pred'] = pd.Series(y_predrfc).values\n",
    "testing['dct_pred'] = pd.Series(y_preddct).values\n",
    "testing['knn_pred'] = pd.Series(y_predknn).values\n",
    "testing['chipOrControl'] = ty_test\n",
    "\n",
    "testing2['ada_pred'] = pd.Series(y_predada2).values\n",
    "testing2['rfc_pred'] = pd.Series(y_predrfc2).values\n",
    "testing2['dct_pred'] = pd.Series(y_preddct2).values\n",
    "testing2['knn_pred'] = pd.Series(y_predknn2).values\n",
    "testing2['chipOrControl'] = ty_test2\n",
    "\n",
    "# Sort by MSID for plotting convenience\n",
    "testing = testing.sort_values(by=['MSID'])\n",
    "testing2 = testing2.sort_values(by=['MSID'])"
   ]
  },
  {
   "cell_type": "code",
   "execution_count": 384,
   "metadata": {},
   "outputs": [],
   "source": [
    "# Create separate DataFrames, showing only rows where the model classification is not aligned with testing classifications\n",
    "\n",
    "testing_ada = testing[testing['ada_pred'] != testing['chipOrControl']]\n",
    "testing_dct = testing[testing['dct_pred'] != testing['chipOrControl']]\n",
    "testing_knn = testing[testing['knn_pred'] != testing['chipOrControl']]\n",
    "testing_rfc = testing[testing['rfc_pred'] != testing['chipOrControl']]\n",
    "\n",
    "testing_ada2 = testing2[testing2['ada_pred'] != testing2['chipOrControl']]\n",
    "testing_dct2 = testing2[testing2['dct_pred'] != testing2['chipOrControl']]\n",
    "testing_knn2 = testing2[testing2['knn_pred'] != testing2['chipOrControl']]\n",
    "testing_rfc2 = testing2[testing2['rfc_pred'] != testing2['chipOrControl']]"
   ]
  },
  {
   "cell_type": "code",
   "execution_count": 478,
   "metadata": {},
   "outputs": [],
   "source": [
    "# Create new dataframe detailing inaccuracies of each model\n",
    "msid_counts = pd.DataFrame()\n",
    "\n",
    "msid_counts['x_train'] = testing.MSID.value_counts(sort=False)\n",
    "msid_counts['x_train2'] = testing2.MSID.value_counts(sort=False)\n",
    "\n",
    "msid_counts['ada'] = testing_ada.MSID.value_counts(sort=False)\n",
    "msid_counts['ada2'] = testing_ada2.MSID.value_counts(sort=False)\n",
    "\n",
    "msid_counts['rfc'] = testing_rfc.MSID.value_counts(sort=False)\n",
    "msid_counts['rfc2'] = testing_rfc2.MSID.value_counts(sort=False)\n",
    "\n",
    "msid_counts['dct'] = testing_dct.MSID.value_counts(sort=False)\n",
    "msid_counts['dct2'] = testing_dct2.MSID.value_counts(sort=False)\n",
    "\n",
    "msid_counts['knn'] = testing_knn.MSID.value_counts(sort=False)\n",
    "msid_counts['knn2'] = testing_knn2.MSID.value_counts(sort=False)"
   ]
  },
  {
   "cell_type": "markdown",
   "metadata": {},
   "source": [
    "`msid_counts` provide the frequency of inaccurate labellings for each model per dataset, while grouped by `MSID`."
   ]
  },
  {
   "cell_type": "code",
   "execution_count": 479,
   "metadata": {},
   "outputs": [
    {
     "data": {
      "text/html": [
       "<div>\n",
       "<style scoped>\n",
       "    .dataframe tbody tr th:only-of-type {\n",
       "        vertical-align: middle;\n",
       "    }\n",
       "\n",
       "    .dataframe tbody tr th {\n",
       "        vertical-align: top;\n",
       "    }\n",
       "\n",
       "    .dataframe thead th {\n",
       "        text-align: right;\n",
       "    }\n",
       "</style>\n",
       "<table border=\"1\" class=\"dataframe\">\n",
       "  <thead>\n",
       "    <tr style=\"text-align: right;\">\n",
       "      <th></th>\n",
       "      <th>x_train</th>\n",
       "      <th>x_train2</th>\n",
       "      <th>ada</th>\n",
       "      <th>ada2</th>\n",
       "      <th>rfc</th>\n",
       "      <th>rfc2</th>\n",
       "      <th>dct</th>\n",
       "      <th>dct2</th>\n",
       "      <th>knn</th>\n",
       "      <th>knn2</th>\n",
       "    </tr>\n",
       "  </thead>\n",
       "  <tbody>\n",
       "    <tr>\n",
       "      <th>MS5488</th>\n",
       "      <td>236</td>\n",
       "      <td>227</td>\n",
       "      <td>46</td>\n",
       "      <td>77</td>\n",
       "      <td>50</td>\n",
       "      <td>70</td>\n",
       "      <td>48</td>\n",
       "      <td>87</td>\n",
       "      <td>53</td>\n",
       "      <td>91</td>\n",
       "    </tr>\n",
       "    <tr>\n",
       "      <th>MS4410</th>\n",
       "      <td>328</td>\n",
       "      <td>299</td>\n",
       "      <td>54</td>\n",
       "      <td>102</td>\n",
       "      <td>119</td>\n",
       "      <td>135</td>\n",
       "      <td>61</td>\n",
       "      <td>107</td>\n",
       "      <td>65</td>\n",
       "      <td>122</td>\n",
       "    </tr>\n",
       "    <tr>\n",
       "      <th>MS6638</th>\n",
       "      <td>327</td>\n",
       "      <td>331</td>\n",
       "      <td>88</td>\n",
       "      <td>122</td>\n",
       "      <td>135</td>\n",
       "      <td>146</td>\n",
       "      <td>87</td>\n",
       "      <td>124</td>\n",
       "      <td>80</td>\n",
       "      <td>155</td>\n",
       "    </tr>\n",
       "    <tr>\n",
       "      <th>MS11186</th>\n",
       "      <td>180</td>\n",
       "      <td>239</td>\n",
       "      <td>36</td>\n",
       "      <td>101</td>\n",
       "      <td>76</td>\n",
       "      <td>121</td>\n",
       "      <td>42</td>\n",
       "      <td>110</td>\n",
       "      <td>47</td>\n",
       "      <td>106</td>\n",
       "    </tr>\n",
       "    <tr>\n",
       "      <th>MS15959</th>\n",
       "      <td>343</td>\n",
       "      <td>243</td>\n",
       "      <td>40</td>\n",
       "      <td>63</td>\n",
       "      <td>45</td>\n",
       "      <td>75</td>\n",
       "      <td>45</td>\n",
       "      <td>64</td>\n",
       "      <td>44</td>\n",
       "      <td>80</td>\n",
       "    </tr>\n",
       "    <tr>\n",
       "      <th>...</th>\n",
       "      <td>...</td>\n",
       "      <td>...</td>\n",
       "      <td>...</td>\n",
       "      <td>...</td>\n",
       "      <td>...</td>\n",
       "      <td>...</td>\n",
       "      <td>...</td>\n",
       "      <td>...</td>\n",
       "      <td>...</td>\n",
       "      <td>...</td>\n",
       "    </tr>\n",
       "    <tr>\n",
       "      <th>MS12764</th>\n",
       "      <td>443</td>\n",
       "      <td>495</td>\n",
       "      <td>51</td>\n",
       "      <td>140</td>\n",
       "      <td>70</td>\n",
       "      <td>174</td>\n",
       "      <td>63</td>\n",
       "      <td>153</td>\n",
       "      <td>59</td>\n",
       "      <td>154</td>\n",
       "    </tr>\n",
       "    <tr>\n",
       "      <th>MS12922</th>\n",
       "      <td>108</td>\n",
       "      <td>155</td>\n",
       "      <td>26</td>\n",
       "      <td>46</td>\n",
       "      <td>51</td>\n",
       "      <td>46</td>\n",
       "      <td>27</td>\n",
       "      <td>58</td>\n",
       "      <td>26</td>\n",
       "      <td>63</td>\n",
       "    </tr>\n",
       "    <tr>\n",
       "      <th>MS3780</th>\n",
       "      <td>370</td>\n",
       "      <td>426</td>\n",
       "      <td>70</td>\n",
       "      <td>126</td>\n",
       "      <td>81</td>\n",
       "      <td>122</td>\n",
       "      <td>80</td>\n",
       "      <td>130</td>\n",
       "      <td>56</td>\n",
       "      <td>140</td>\n",
       "    </tr>\n",
       "    <tr>\n",
       "      <th>MS10108</th>\n",
       "      <td>144</td>\n",
       "      <td>213</td>\n",
       "      <td>35</td>\n",
       "      <td>76</td>\n",
       "      <td>43</td>\n",
       "      <td>69</td>\n",
       "      <td>36</td>\n",
       "      <td>78</td>\n",
       "      <td>32</td>\n",
       "      <td>74</td>\n",
       "    </tr>\n",
       "    <tr>\n",
       "      <th>MS13090</th>\n",
       "      <td>161</td>\n",
       "      <td>203</td>\n",
       "      <td>45</td>\n",
       "      <td>72</td>\n",
       "      <td>68</td>\n",
       "      <td>109</td>\n",
       "      <td>48</td>\n",
       "      <td>74</td>\n",
       "      <td>47</td>\n",
       "      <td>93</td>\n",
       "    </tr>\n",
       "  </tbody>\n",
       "</table>\n",
       "<p>88 rows × 10 columns</p>\n",
       "</div>"
      ],
      "text/plain": [
       "         x_train  x_train2  ada  ada2  rfc  rfc2  dct  dct2  knn  knn2\n",
       "MS5488       236       227   46    77   50    70   48    87   53    91\n",
       "MS4410       328       299   54   102  119   135   61   107   65   122\n",
       "MS6638       327       331   88   122  135   146   87   124   80   155\n",
       "MS11186      180       239   36   101   76   121   42   110   47   106\n",
       "MS15959      343       243   40    63   45    75   45    64   44    80\n",
       "...          ...       ...  ...   ...  ...   ...  ...   ...  ...   ...\n",
       "MS12764      443       495   51   140   70   174   63   153   59   154\n",
       "MS12922      108       155   26    46   51    46   27    58   26    63\n",
       "MS3780       370       426   70   126   81   122   80   130   56   140\n",
       "MS10108      144       213   35    76   43    69   36    78   32    74\n",
       "MS13090      161       203   45    72   68   109   48    74   47    93\n",
       "\n",
       "[88 rows x 10 columns]"
      ]
     },
     "execution_count": 479,
     "metadata": {},
     "output_type": "execute_result"
    }
   ],
   "source": [
    "msid_counts"
   ]
  },
  {
   "cell_type": "markdown",
   "metadata": {},
   "source": [
    "We can transform `msid_counts` to find percentage error per model by dividing the sum of frequency inaccuracies by total, denoted by `X_train` or `X_train2`respectively for both datasets.\n",
    "\n",
    "Denote `pct_msid_counts` as the percentage error for a particualr dataset and its model."
   ]
  },
  {
   "cell_type": "code",
   "execution_count": 482,
   "metadata": {},
   "outputs": [],
   "source": [
    "pct_msid_counts = msid_counts.copy(deep=True)\n",
    "\n",
    "pct_msid_counts['ada pct'] = pct_msid_counts.ada / pct_msid_counts.x_train \n",
    "pct_msid_counts['rfc pct'] = pct_msid_counts.rfc / pct_msid_counts.x_train \n",
    "pct_msid_counts['dct pct'] = pct_msid_counts.dct / pct_msid_counts.x_train \n",
    "pct_msid_counts['knn pct'] = pct_msid_counts.knn / pct_msid_counts.x_train \n",
    "\n",
    "pct_msid_counts['ada2 pct'] = pct_msid_counts.ada2 / pct_msid_counts.x_train2\n",
    "pct_msid_counts['rfc2 pct'] = pct_msid_counts.rfc2 / pct_msid_counts.x_train2 \n",
    "pct_msid_counts['dct2 pct'] = pct_msid_counts.dct2 / pct_msid_counts.x_train2 \n",
    "pct_msid_counts['knn2 pct'] = pct_msid_counts.knn2 / pct_msid_counts.x_train2\n",
    "\n",
    "pct_msid_counts.drop(['x_train', 'x_train2'], axis=1, inplace=True)"
   ]
  },
  {
   "cell_type": "code",
   "execution_count": 1148,
   "metadata": {
    "scrolled": false
   },
   "outputs": [
    {
     "data": {
      "text/html": [
       "<div>\n",
       "<style scoped>\n",
       "    .dataframe tbody tr th:only-of-type {\n",
       "        vertical-align: middle;\n",
       "    }\n",
       "\n",
       "    .dataframe tbody tr th {\n",
       "        vertical-align: top;\n",
       "    }\n",
       "\n",
       "    .dataframe thead th {\n",
       "        text-align: right;\n",
       "    }\n",
       "</style>\n",
       "<table border=\"1\" class=\"dataframe\">\n",
       "  <thead>\n",
       "    <tr style=\"text-align: right;\">\n",
       "      <th></th>\n",
       "      <th>ada pct</th>\n",
       "      <th>rfc pct</th>\n",
       "      <th>dct pct</th>\n",
       "      <th>knn pct</th>\n",
       "      <th>ada2 pct</th>\n",
       "      <th>rfc2 pct</th>\n",
       "      <th>dct2 pct</th>\n",
       "      <th>knn2 pct</th>\n",
       "    </tr>\n",
       "  </thead>\n",
       "  <tbody>\n",
       "    <tr>\n",
       "      <th>MS10080</th>\n",
       "      <td>0.271</td>\n",
       "      <td>0.372</td>\n",
       "      <td>0.264</td>\n",
       "      <td>0.310</td>\n",
       "      <td>0.341</td>\n",
       "      <td>0.493</td>\n",
       "      <td>0.363</td>\n",
       "      <td>0.390</td>\n",
       "    </tr>\n",
       "    <tr>\n",
       "      <th>MS10108</th>\n",
       "      <td>0.243</td>\n",
       "      <td>0.299</td>\n",
       "      <td>0.250</td>\n",
       "      <td>0.222</td>\n",
       "      <td>0.357</td>\n",
       "      <td>0.324</td>\n",
       "      <td>0.366</td>\n",
       "      <td>0.347</td>\n",
       "    </tr>\n",
       "    <tr>\n",
       "      <th>MS10284</th>\n",
       "      <td>0.203</td>\n",
       "      <td>0.416</td>\n",
       "      <td>0.255</td>\n",
       "      <td>0.271</td>\n",
       "      <td>0.443</td>\n",
       "      <td>0.500</td>\n",
       "      <td>0.426</td>\n",
       "      <td>0.523</td>\n",
       "    </tr>\n",
       "    <tr>\n",
       "      <th>MS10285</th>\n",
       "      <td>0.205</td>\n",
       "      <td>0.216</td>\n",
       "      <td>0.239</td>\n",
       "      <td>0.170</td>\n",
       "      <td>0.340</td>\n",
       "      <td>0.187</td>\n",
       "      <td>0.351</td>\n",
       "      <td>0.378</td>\n",
       "    </tr>\n",
       "    <tr>\n",
       "      <th>MS10716</th>\n",
       "      <td>0.249</td>\n",
       "      <td>0.249</td>\n",
       "      <td>0.240</td>\n",
       "      <td>0.141</td>\n",
       "      <td>0.387</td>\n",
       "      <td>0.390</td>\n",
       "      <td>0.379</td>\n",
       "      <td>0.398</td>\n",
       "    </tr>\n",
       "    <tr>\n",
       "      <th>...</th>\n",
       "      <td>...</td>\n",
       "      <td>...</td>\n",
       "      <td>...</td>\n",
       "      <td>...</td>\n",
       "      <td>...</td>\n",
       "      <td>...</td>\n",
       "      <td>...</td>\n",
       "      <td>...</td>\n",
       "    </tr>\n",
       "    <tr>\n",
       "      <th>MS8569</th>\n",
       "      <td>0.147</td>\n",
       "      <td>0.154</td>\n",
       "      <td>0.170</td>\n",
       "      <td>0.124</td>\n",
       "      <td>0.371</td>\n",
       "      <td>0.267</td>\n",
       "      <td>0.376</td>\n",
       "      <td>0.407</td>\n",
       "    </tr>\n",
       "    <tr>\n",
       "      <th>MS8886</th>\n",
       "      <td>0.230</td>\n",
       "      <td>0.426</td>\n",
       "      <td>0.241</td>\n",
       "      <td>0.213</td>\n",
       "      <td>0.395</td>\n",
       "      <td>0.571</td>\n",
       "      <td>0.415</td>\n",
       "      <td>0.405</td>\n",
       "    </tr>\n",
       "    <tr>\n",
       "      <th>MS917</th>\n",
       "      <td>0.347</td>\n",
       "      <td>0.408</td>\n",
       "      <td>0.306</td>\n",
       "      <td>0.388</td>\n",
       "      <td>0.367</td>\n",
       "      <td>0.467</td>\n",
       "      <td>0.400</td>\n",
       "      <td>0.420</td>\n",
       "    </tr>\n",
       "    <tr>\n",
       "      <th>MS9695</th>\n",
       "      <td>0.160</td>\n",
       "      <td>0.215</td>\n",
       "      <td>0.189</td>\n",
       "      <td>0.148</td>\n",
       "      <td>0.319</td>\n",
       "      <td>0.310</td>\n",
       "      <td>0.348</td>\n",
       "      <td>0.343</td>\n",
       "    </tr>\n",
       "    <tr>\n",
       "      <th>MS9816</th>\n",
       "      <td>0.227</td>\n",
       "      <td>0.348</td>\n",
       "      <td>0.254</td>\n",
       "      <td>0.194</td>\n",
       "      <td>0.310</td>\n",
       "      <td>0.425</td>\n",
       "      <td>0.334</td>\n",
       "      <td>0.452</td>\n",
       "    </tr>\n",
       "  </tbody>\n",
       "</table>\n",
       "<p>88 rows × 8 columns</p>\n",
       "</div>"
      ],
      "text/plain": [
       "         ada pct  rfc pct  dct pct  knn pct  ada2 pct  rfc2 pct  dct2 pct  \\\n",
       "MS10080    0.271    0.372    0.264    0.310     0.341     0.493     0.363   \n",
       "MS10108    0.243    0.299    0.250    0.222     0.357     0.324     0.366   \n",
       "MS10284    0.203    0.416    0.255    0.271     0.443     0.500     0.426   \n",
       "MS10285    0.205    0.216    0.239    0.170     0.340     0.187     0.351   \n",
       "MS10716    0.249    0.249    0.240    0.141     0.387     0.390     0.379   \n",
       "...          ...      ...      ...      ...       ...       ...       ...   \n",
       "MS8569     0.147    0.154    0.170    0.124     0.371     0.267     0.376   \n",
       "MS8886     0.230    0.426    0.241    0.213     0.395     0.571     0.415   \n",
       "MS917      0.347    0.408    0.306    0.388     0.367     0.467     0.400   \n",
       "MS9695     0.160    0.215    0.189    0.148     0.319     0.310     0.348   \n",
       "MS9816     0.227    0.348    0.254    0.194     0.310     0.425     0.334   \n",
       "\n",
       "         knn2 pct  \n",
       "MS10080     0.390  \n",
       "MS10108     0.347  \n",
       "MS10284     0.523  \n",
       "MS10285     0.378  \n",
       "MS10716     0.398  \n",
       "...           ...  \n",
       "MS8569      0.407  \n",
       "MS8886      0.405  \n",
       "MS917       0.420  \n",
       "MS9695      0.343  \n",
       "MS9816      0.452  \n",
       "\n",
       "[88 rows x 8 columns]"
      ]
     },
     "execution_count": 1148,
     "metadata": {},
     "output_type": "execute_result"
    }
   ],
   "source": [
    "pct_msid_counts.round(3)"
   ]
  },
  {
   "cell_type": "markdown",
   "metadata": {},
   "source": [
    "With the `pct_msid_counts` DataFrame, by averaging inaccuracies across models, separated by datasets, we can find the average error that a model will predict a `MSID`incorrectly."
   ]
  },
  {
   "cell_type": "code",
   "execution_count": 491,
   "metadata": {},
   "outputs": [],
   "source": [
    "pct_msid_counts1 = pct_msid_counts.drop(['ada2 pct', 'rfc2 pct', 'dct2 pct', 'knn2 pct'], axis=1)\n",
    "pct_msid_counts2 = pct_msid_counts.drop(['ada pct', 'rfc pct', 'dct pct', 'knn pct'], axis=1)"
   ]
  },
  {
   "cell_type": "code",
   "execution_count": 502,
   "metadata": {},
   "outputs": [],
   "source": [
    "errors = pd.DataFrame()\n",
    "errors['run1_avg'] = pct_msid_counts1.T.mean()\n",
    "errors['run2_avg'] = pct_msid_counts2.T.mean()"
   ]
  },
  {
   "cell_type": "markdown",
   "metadata": {},
   "source": [
    "Denote `errors` as the average error rate a dataset will predict a `MSID` incorrectly."
   ]
  },
  {
   "cell_type": "code",
   "execution_count": 973,
   "metadata": {},
   "outputs": [
    {
     "data": {
      "text/html": [
       "<div>\n",
       "<style scoped>\n",
       "    .dataframe tbody tr th:only-of-type {\n",
       "        vertical-align: middle;\n",
       "    }\n",
       "\n",
       "    .dataframe tbody tr th {\n",
       "        vertical-align: top;\n",
       "    }\n",
       "\n",
       "    .dataframe thead th {\n",
       "        text-align: right;\n",
       "    }\n",
       "</style>\n",
       "<table border=\"1\" class=\"dataframe\">\n",
       "  <thead>\n",
       "    <tr style=\"text-align: right;\">\n",
       "      <th></th>\n",
       "      <th>run1_avg</th>\n",
       "      <th>run2_avg</th>\n",
       "      <th>chipOrControl</th>\n",
       "    </tr>\n",
       "  </thead>\n",
       "  <tbody>\n",
       "    <tr>\n",
       "      <th>MS10080</th>\n",
       "      <td>0.304</td>\n",
       "      <td>0.397</td>\n",
       "      <td>Control</td>\n",
       "    </tr>\n",
       "    <tr>\n",
       "      <th>MS10108</th>\n",
       "      <td>0.253</td>\n",
       "      <td>0.349</td>\n",
       "      <td>CHIP</td>\n",
       "    </tr>\n",
       "    <tr>\n",
       "      <th>MS10284</th>\n",
       "      <td>0.286</td>\n",
       "      <td>0.473</td>\n",
       "      <td>Control</td>\n",
       "    </tr>\n",
       "    <tr>\n",
       "      <th>MS10285</th>\n",
       "      <td>0.207</td>\n",
       "      <td>0.314</td>\n",
       "      <td>CHIP</td>\n",
       "    </tr>\n",
       "    <tr>\n",
       "      <th>MS10716</th>\n",
       "      <td>0.220</td>\n",
       "      <td>0.389</td>\n",
       "      <td>CHIP</td>\n",
       "    </tr>\n",
       "    <tr>\n",
       "      <th>...</th>\n",
       "      <td>...</td>\n",
       "      <td>...</td>\n",
       "      <td>...</td>\n",
       "    </tr>\n",
       "    <tr>\n",
       "      <th>MS8569</th>\n",
       "      <td>0.149</td>\n",
       "      <td>0.355</td>\n",
       "      <td>CHIP</td>\n",
       "    </tr>\n",
       "    <tr>\n",
       "      <th>MS8886</th>\n",
       "      <td>0.277</td>\n",
       "      <td>0.446</td>\n",
       "      <td>Control</td>\n",
       "    </tr>\n",
       "    <tr>\n",
       "      <th>MS917</th>\n",
       "      <td>0.362</td>\n",
       "      <td>0.413</td>\n",
       "      <td>Control</td>\n",
       "    </tr>\n",
       "    <tr>\n",
       "      <th>MS9695</th>\n",
       "      <td>0.178</td>\n",
       "      <td>0.330</td>\n",
       "      <td>CHIP</td>\n",
       "    </tr>\n",
       "    <tr>\n",
       "      <th>MS9816</th>\n",
       "      <td>0.256</td>\n",
       "      <td>0.380</td>\n",
       "      <td>Control</td>\n",
       "    </tr>\n",
       "  </tbody>\n",
       "</table>\n",
       "<p>88 rows × 3 columns</p>\n",
       "</div>"
      ],
      "text/plain": [
       "         run1_avg  run2_avg chipOrControl\n",
       "MS10080     0.304     0.397       Control\n",
       "MS10108     0.253     0.349          CHIP\n",
       "MS10284     0.286     0.473       Control\n",
       "MS10285     0.207     0.314          CHIP\n",
       "MS10716     0.220     0.389          CHIP\n",
       "...           ...       ...           ...\n",
       "MS8569      0.149     0.355          CHIP\n",
       "MS8886      0.277     0.446       Control\n",
       "MS917       0.362     0.413       Control\n",
       "MS9695      0.178     0.330          CHIP\n",
       "MS9816      0.256     0.380       Control\n",
       "\n",
       "[88 rows x 3 columns]"
      ]
     },
     "execution_count": 973,
     "metadata": {},
     "output_type": "execute_result"
    }
   ],
   "source": [
    "errors"
   ]
  },
  {
   "cell_type": "markdown",
   "metadata": {},
   "source": [
    "Finally, by placing a filter on a minimum average, we can visualise which groups of `MSID` a model classifies inaccurately.\n",
    "Particularly, we find that a 30 and 35% filter is appropriate, as this presents only 9 patients out of the total 88."
   ]
  },
  {
   "cell_type": "code",
   "execution_count": 1155,
   "metadata": {
    "scrolled": true
   },
   "outputs": [
    {
     "data": {
      "text/html": [
       "<style  type=\"text/css\" >\n",
       "</style><table id=\"T_31f62fb4_bea8_11eb_8eec_18dbf24d743f\" ><caption>MSID with high inaccuracy rates per dataset, minimum 30% and 35% respectively</caption><thead>    <tr>        <th class=\"blank level0\" ></th>        <th class=\"col_heading level0 col0\" >run1_avg</th>        <th class=\"col_heading level0 col1\" >run2_avg</th>        <th class=\"col_heading level0 col2\" >chipOrControl</th>    </tr></thead><tbody>\n",
       "                <tr>\n",
       "                        <th id=\"T_31f62fb4_bea8_11eb_8eec_18dbf24d743flevel0_row0\" class=\"row_heading level0 row0\" >MS10080</th>\n",
       "                        <td id=\"T_31f62fb4_bea8_11eb_8eec_18dbf24d743frow0_col0\" class=\"data row0 col0\" >0.304264</td>\n",
       "                        <td id=\"T_31f62fb4_bea8_11eb_8eec_18dbf24d743frow0_col1\" class=\"data row0 col1\" >0.396861</td>\n",
       "                        <td id=\"T_31f62fb4_bea8_11eb_8eec_18dbf24d743frow0_col2\" class=\"data row0 col2\" >Control</td>\n",
       "            </tr>\n",
       "            <tr>\n",
       "                        <th id=\"T_31f62fb4_bea8_11eb_8eec_18dbf24d743flevel0_row1\" class=\"row_heading level0 row1\" >MS13090</th>\n",
       "                        <td id=\"T_31f62fb4_bea8_11eb_8eec_18dbf24d743frow1_col0\" class=\"data row1 col0\" >0.322981</td>\n",
       "                        <td id=\"T_31f62fb4_bea8_11eb_8eec_18dbf24d743frow1_col1\" class=\"data row1 col1\" >0.428571</td>\n",
       "                        <td id=\"T_31f62fb4_bea8_11eb_8eec_18dbf24d743frow1_col2\" class=\"data row1 col2\" >Control</td>\n",
       "            </tr>\n",
       "            <tr>\n",
       "                        <th id=\"T_31f62fb4_bea8_11eb_8eec_18dbf24d743flevel0_row2\" class=\"row_heading level0 row2\" >MS13994</th>\n",
       "                        <td id=\"T_31f62fb4_bea8_11eb_8eec_18dbf24d743frow2_col0\" class=\"data row2 col0\" >0.323864</td>\n",
       "                        <td id=\"T_31f62fb4_bea8_11eb_8eec_18dbf24d743frow2_col1\" class=\"data row2 col1\" >0.441489</td>\n",
       "                        <td id=\"T_31f62fb4_bea8_11eb_8eec_18dbf24d743frow2_col2\" class=\"data row2 col2\" >Control</td>\n",
       "            </tr>\n",
       "            <tr>\n",
       "                        <th id=\"T_31f62fb4_bea8_11eb_8eec_18dbf24d743flevel0_row3\" class=\"row_heading level0 row3\" >MS17137</th>\n",
       "                        <td id=\"T_31f62fb4_bea8_11eb_8eec_18dbf24d743frow3_col0\" class=\"data row3 col0\" >0.333916</td>\n",
       "                        <td id=\"T_31f62fb4_bea8_11eb_8eec_18dbf24d743frow3_col1\" class=\"data row3 col1\" >0.444976</td>\n",
       "                        <td id=\"T_31f62fb4_bea8_11eb_8eec_18dbf24d743frow3_col2\" class=\"data row3 col2\" >Control</td>\n",
       "            </tr>\n",
       "            <tr>\n",
       "                        <th id=\"T_31f62fb4_bea8_11eb_8eec_18dbf24d743flevel0_row4\" class=\"row_heading level0 row4\" >MS5053</th>\n",
       "                        <td id=\"T_31f62fb4_bea8_11eb_8eec_18dbf24d743frow4_col0\" class=\"data row4 col0\" >0.329646</td>\n",
       "                        <td id=\"T_31f62fb4_bea8_11eb_8eec_18dbf24d743frow4_col1\" class=\"data row4 col1\" >0.399148</td>\n",
       "                        <td id=\"T_31f62fb4_bea8_11eb_8eec_18dbf24d743frow4_col2\" class=\"data row4 col2\" >Control</td>\n",
       "            </tr>\n",
       "            <tr>\n",
       "                        <th id=\"T_31f62fb4_bea8_11eb_8eec_18dbf24d743flevel0_row5\" class=\"row_heading level0 row5\" >MS5082</th>\n",
       "                        <td id=\"T_31f62fb4_bea8_11eb_8eec_18dbf24d743frow5_col0\" class=\"data row5 col0\" >0.337500</td>\n",
       "                        <td id=\"T_31f62fb4_bea8_11eb_8eec_18dbf24d743frow5_col1\" class=\"data row5 col1\" >0.462670</td>\n",
       "                        <td id=\"T_31f62fb4_bea8_11eb_8eec_18dbf24d743frow5_col2\" class=\"data row5 col2\" >Control</td>\n",
       "            </tr>\n",
       "            <tr>\n",
       "                        <th id=\"T_31f62fb4_bea8_11eb_8eec_18dbf24d743flevel0_row6\" class=\"row_heading level0 row6\" >MS7260</th>\n",
       "                        <td id=\"T_31f62fb4_bea8_11eb_8eec_18dbf24d743frow6_col0\" class=\"data row6 col0\" >0.317235</td>\n",
       "                        <td id=\"T_31f62fb4_bea8_11eb_8eec_18dbf24d743frow6_col1\" class=\"data row6 col1\" >0.524221</td>\n",
       "                        <td id=\"T_31f62fb4_bea8_11eb_8eec_18dbf24d743frow6_col2\" class=\"data row6 col2\" >Control</td>\n",
       "            </tr>\n",
       "            <tr>\n",
       "                        <th id=\"T_31f62fb4_bea8_11eb_8eec_18dbf24d743flevel0_row7\" class=\"row_heading level0 row7\" >MS8519</th>\n",
       "                        <td id=\"T_31f62fb4_bea8_11eb_8eec_18dbf24d743frow7_col0\" class=\"data row7 col0\" >0.360390</td>\n",
       "                        <td id=\"T_31f62fb4_bea8_11eb_8eec_18dbf24d743frow7_col1\" class=\"data row7 col1\" >0.403974</td>\n",
       "                        <td id=\"T_31f62fb4_bea8_11eb_8eec_18dbf24d743frow7_col2\" class=\"data row7 col2\" >Control</td>\n",
       "            </tr>\n",
       "            <tr>\n",
       "                        <th id=\"T_31f62fb4_bea8_11eb_8eec_18dbf24d743flevel0_row8\" class=\"row_heading level0 row8\" >MS917</th>\n",
       "                        <td id=\"T_31f62fb4_bea8_11eb_8eec_18dbf24d743frow8_col0\" class=\"data row8 col0\" >0.362245</td>\n",
       "                        <td id=\"T_31f62fb4_bea8_11eb_8eec_18dbf24d743frow8_col1\" class=\"data row8 col1\" >0.413333</td>\n",
       "                        <td id=\"T_31f62fb4_bea8_11eb_8eec_18dbf24d743frow8_col2\" class=\"data row8 col2\" >Control</td>\n",
       "            </tr>\n",
       "    </tbody></table>"
      ],
      "text/plain": [
       "<pandas.io.formats.style.Styler at 0x179e6cfb820>"
      ]
     },
     "execution_count": 1155,
     "metadata": {},
     "output_type": "execute_result"
    }
   ],
   "source": [
    "higherror = errors.loc[(errors['run1_avg']>=0.3) & (errors['run2_avg']>= errors.run2_avg.mean())] # run2 avg = 0.354\n",
    "higherror.style.set_caption(\"MSID with high inaccuracy rates per dataset, minimum 30% and 35% respectively\")"
   ]
  },
  {
   "cell_type": "code",
   "execution_count": 896,
   "metadata": {},
   "outputs": [
    {
     "data": {
      "text/plain": [
       "<PandasArray>\n",
       "['MS10080', 'MS13090', 'MS13994', 'MS17137',  'MS5053',  'MS5082',  'MS7260',\n",
       "  'MS8519',   'MS917']\n",
       "Length: 9, dtype: object"
      ]
     },
     "execution_count": 896,
     "metadata": {},
     "output_type": "execute_result"
    }
   ],
   "source": [
    "higherror_msid = higherror.index.array\n",
    "higherror_msid"
   ]
  },
  {
   "cell_type": "markdown",
   "metadata": {},
   "source": [
    "## Assume that for the above MSID, labels are incorrect. \n",
    "### Flip models and rerun models:"
   ]
  },
  {
   "cell_type": "code",
   "execution_count": 887,
   "metadata": {},
   "outputs": [],
   "source": [
    "df_flip = df.copy(deep=True)\n",
    "df_flip2 = df2.copy(deep=True)\n",
    "\n",
    "for msid in higherror_msid:\n",
    "    df_flip.loc[df_flip.MSID == msid, \"chipOrControl\"] = 0\n",
    "\n",
    "for msid in higherror_msid:\n",
    "    df_flip2.loc[df_flip2.MSID == msid, \"chipOrControl\"] = 0\n",
    "    \n",
    "Xf = df_flip.drop(['MSID', 'chipOrControl'], axis = 1) \n",
    "yf = df_flip['chipOrControl'] \n",
    "X_trainf, X_testf, y_trainf, y_testf = train_test_split(Xf, yf, train_size=.8, random_state=0)\n",
    "\n",
    "X2f = df2.drop(['MSID', 'chipOrControl'], axis = 1) \n",
    "y2f = df2['chipOrControl'] \n",
    "X_train2f, X_test2f, y_train2f, y_test2f = train_test_split(X2f, y2f, train_size=.8, random_state=2)"
   ]
  },
  {
   "cell_type": "markdown",
   "metadata": {},
   "source": [
    "### AdaBoost Flipped "
   ]
  },
  {
   "cell_type": "code",
   "execution_count": 904,
   "metadata": {},
   "outputs": [
    {
     "name": "stdout",
     "output_type": "stream",
     "text": [
      "Accuracy 0.823\n"
     ]
    }
   ],
   "source": [
    "adaf = AdaBoostClassifier(DecisionTreeClassifier(), n_estimators=50, learning_rate = 0.5, algorithm= 'SAMME')\n",
    "adaf.fit(X_trainf, y_trainf)\n",
    "y_predadaf = adaf.predict(X_testf)\n",
    "print('Accuracy {0}'.format(np.round(accuracy_score(y_testf, y_predadaf),3)))"
   ]
  },
  {
   "cell_type": "code",
   "execution_count": 908,
   "metadata": {},
   "outputs": [
    {
     "name": "stdout",
     "output_type": "stream",
     "text": [
      "Accuracy 0.692\n"
     ]
    }
   ],
   "source": [
    "adaf2 = AdaBoostClassifier(DecisionTreeClassifier(), n_estimators=50, learning_rate = 0.5, algorithm= 'SAMME')\n",
    "adaf2.fit(X_train2f, y_train2f)\n",
    "y_predadaf2 = adaf2.predict(X_test2f)\n",
    "print('Accuracy {0}'.format(np.round(accuracy_score(y_test2f, y_predadaf2),3)))"
   ]
  },
  {
   "cell_type": "markdown",
   "metadata": {},
   "source": [
    "### KNN Flipped"
   ]
  },
  {
   "cell_type": "code",
   "execution_count": 912,
   "metadata": {
    "scrolled": false
   },
   "outputs": [
    {
     "name": "stdout",
     "output_type": "stream",
     "text": [
      "2 Accuracy 0.821\n",
      "3 Accuracy 0.825\n",
      "4 Accuracy 0.826\n",
      "5 Accuracy 0.823\n",
      "6 Accuracy 0.824\n",
      "7 Accuracy 0.823\n",
      "8 Accuracy 0.821\n",
      "9 Accuracy 0.82\n"
     ]
    }
   ],
   "source": [
    "for i in range(2, 10):\n",
    "    knnf = KNeighborsClassifier(n_neighbors = i, weights='distance', metric = 'manhattan', algorithm = 'kd_tree')\n",
    "    knnf.fit(X_trainf, y_trainf)\n",
    "    y_predknnf = knnf.predict(X_testf)\n",
    "    print(i, 'Accuracy {0}'.format(np.round(accuracy_score(y_testf, y_predknnf),3)))"
   ]
  },
  {
   "cell_type": "code",
   "execution_count": 915,
   "metadata": {},
   "outputs": [
    {
     "name": "stdout",
     "output_type": "stream",
     "text": [
      "10 Accuracy 0.63\n",
      "11 Accuracy 0.629\n",
      "12 Accuracy 0.632\n",
      "13 Accuracy 0.632\n",
      "14 Accuracy 0.633\n"
     ]
    }
   ],
   "source": [
    "for i in range(10, 15):\n",
    "    knn2f = KNeighborsClassifier(n_neighbors = i, weights='distance', metric = 'manhattan', algorithm = 'kd_tree')\n",
    "    knn2f.fit(X_train2f, y_train2f)\n",
    "    y_predknn2f = knn2f.predict(X_test2f)\n",
    "    print(i, 'Accuracy {0}'.format(np.round(accuracy_score(y_test2f, y_predknn2f),3)))"
   ]
  },
  {
   "cell_type": "code",
   "execution_count": 924,
   "metadata": {},
   "outputs": [
    {
     "name": "stdout",
     "output_type": "stream",
     "text": [
      "Accuracy 0.826\n"
     ]
    }
   ],
   "source": [
    "knnf = KNeighborsClassifier(n_neighbors = 4, weights='distance', metric = 'manhattan', algorithm = 'kd_tree')\n",
    "knnf.fit(X_trainf, y_trainf)\n",
    "y_predknnf = knnf.predict(X_testf)\n",
    "print('Accuracy {0}'.format(np.round(accuracy_score(y_testf, y_predknnf),3)))"
   ]
  },
  {
   "cell_type": "code",
   "execution_count": 926,
   "metadata": {},
   "outputs": [
    {
     "name": "stdout",
     "output_type": "stream",
     "text": [
      "Accuracy 0.633\n"
     ]
    }
   ],
   "source": [
    "knn2f = KNeighborsClassifier(n_neighbors = 14, weights='distance', metric = 'manhattan', algorithm = 'kd_tree')\n",
    "knn2f.fit(X_train2f, y_train2f)\n",
    "y_predknn2f = knn2f.predict(X_test2f)\n",
    "print('Accuracy {0}'.format(np.round(accuracy_score(y_test2f, y_predknn2f),3)))"
   ]
  },
  {
   "cell_type": "markdown",
   "metadata": {},
   "source": [
    "### RFC Flipped"
   ]
  },
  {
   "cell_type": "code",
   "execution_count": 918,
   "metadata": {},
   "outputs": [
    {
     "name": "stdout",
     "output_type": "stream",
     "text": [
      "Accuracy 0.736\n"
     ]
    }
   ],
   "source": [
    "rfcf = RandomForestClassifier(n_estimators = 100)\n",
    "rfcf.fit(X_trainf, y_trainf)\n",
    "y_predrfcf = rfcf.predict(X_testf)  \n",
    "print('Accuracy {0}'.format(np.round(accuracy_score(y_testf, y_predrfcf),3)))"
   ]
  },
  {
   "cell_type": "code",
   "execution_count": 921,
   "metadata": {},
   "outputs": [
    {
     "name": "stdout",
     "output_type": "stream",
     "text": [
      "Accuracy 0.629\n"
     ]
    }
   ],
   "source": [
    "rfc2f = RandomForestClassifier(n_estimators = 100)\n",
    "rfc2f.fit(X_train2f, y_train2f)\n",
    "y_predrfc2f = rfc2f.predict(X_test2f)  \n",
    "print('Accuracy {0}'.format(np.round(accuracy_score(y_test2f, y_predrfc2f),3)))"
   ]
  },
  {
   "cell_type": "markdown",
   "metadata": {},
   "source": [
    "### DCT Flipped"
   ]
  },
  {
   "cell_type": "code",
   "execution_count": 927,
   "metadata": {},
   "outputs": [
    {
     "name": "stdout",
     "output_type": "stream",
     "text": [
      "Accuracy 0.793\n"
     ]
    }
   ],
   "source": [
    "dtf = DecisionTreeClassifier()\n",
    "dtf.fit(X_trainf, y_trainf)\n",
    "y_preddctf = dtf.predict(X_testf)  \n",
    "print('Accuracy {0}'.format(np.round(accuracy_score(y_testf, y_preddctf),3)))"
   ]
  },
  {
   "cell_type": "code",
   "execution_count": 922,
   "metadata": {},
   "outputs": [
    {
     "name": "stdout",
     "output_type": "stream",
     "text": [
      "Accuracy 0.66\n"
     ]
    }
   ],
   "source": [
    "dt2f = DecisionTreeClassifier()\n",
    "dt2f.fit(X_train2f, y_train2f)\n",
    "y_preddt2f = dt2f.predict(X_test2f)  \n",
    "print('Accuracy {0}'.format(np.round(accuracy_score(y_test2f, y_preddt2f),3)))"
   ]
  },
  {
   "cell_type": "markdown",
   "metadata": {},
   "source": [
    "### Logistic Regression Flipped"
   ]
  },
  {
   "cell_type": "code",
   "execution_count": 929,
   "metadata": {},
   "outputs": [
    {
     "name": "stdout",
     "output_type": "stream",
     "text": [
      "Accuracy 0.599\n"
     ]
    }
   ],
   "source": [
    "logregf = LogisticRegression(multi_class='ovr')\n",
    "logregf.fit(X_trainf, y_trainf)\n",
    "y_predlogregf = logregf.predict(X_testf)  \n",
    "print('Accuracy {0}'.format(np.round(accuracy_score(y_testf, y_predlogregf),3)))"
   ]
  },
  {
   "cell_type": "code",
   "execution_count": 930,
   "metadata": {},
   "outputs": [
    {
     "name": "stdout",
     "output_type": "stream",
     "text": [
      "Accuracy 0.521\n"
     ]
    }
   ],
   "source": [
    "logreg2f = LogisticRegression(multi_class='ovr')\n",
    "logreg2f.fit(X_train2f, y_train2f)\n",
    "y_predlogreg2f = logreg.predict(X_test2f)  \n",
    "print('Accuracy {0}'.format(np.round(accuracy_score(y_test2f, y_predlogreg2f),3)))"
   ]
  },
  {
   "cell_type": "markdown",
   "metadata": {},
   "source": [
    "### Gaussian Naive Bayes Flipped"
   ]
  },
  {
   "cell_type": "code",
   "execution_count": 961,
   "metadata": {},
   "outputs": [
    {
     "name": "stdout",
     "output_type": "stream",
     "text": [
      "Accuracy 0.463\n"
     ]
    }
   ],
   "source": [
    "gnbf = GaussianNB()\n",
    "gnbf.fit(X_trainf, y_trainf)\n",
    "y_predgnbf = gnbf.predict(X_testf)\n",
    "print('Accuracy {0}'.format(np.round(accuracy_score(y_testf, y_predgnbf),3)))"
   ]
  },
  {
   "cell_type": "code",
   "execution_count": 932,
   "metadata": {},
   "outputs": [
    {
     "name": "stdout",
     "output_type": "stream",
     "text": [
      "Accuracy 0.488\n"
     ]
    }
   ],
   "source": [
    "gnb2f = GaussianNB()\n",
    "gnb2f.fit(X_train2f, y_train2f)\n",
    "y_predgnb2f = gnb2f.predict(X_test2f)\n",
    "print('Accuracy {0}'.format(np.round(accuracy_score(y_test2f, y_predgnb2f),3)))"
   ]
  },
  {
   "cell_type": "markdown",
   "metadata": {},
   "source": [
    "### XGBoost Classifer Flipped"
   ]
  },
  {
   "cell_type": "code",
   "execution_count": 933,
   "metadata": {},
   "outputs": [
    {
     "name": "stdout",
     "output_type": "stream",
     "text": [
      "Accuracy 0.763\n"
     ]
    }
   ],
   "source": [
    "xgf = XGBClassifier(objective='binary:logistic', n_estimators=1000,seed=1, eval_metric='logloss', n_jobs = -1)\n",
    "xgf.fit(X_trainf,y_trainf)\n",
    "y_predxgbf = xgf.predict(X_testf)\n",
    "print('Accuracy {0}'.format(np.round(accuracy_score(y_testf, y_predxgbf),3)))"
   ]
  },
  {
   "cell_type": "code",
   "execution_count": 934,
   "metadata": {},
   "outputs": [
    {
     "name": "stdout",
     "output_type": "stream",
     "text": [
      "Accuracy 0.632\n"
     ]
    }
   ],
   "source": [
    "xg2f = XGBClassifier(objective='binary:logistic', n_estimators=1000,seed=1, eval_metric='logloss', n_jobs = -1)\n",
    "xg2f.fit(X_train2f,y_train2f)\n",
    "y_predxgb2f = xg2f.predict(X_test2f)\n",
    "print('Accuracy {0}'.format(np.round(accuracy_score(y_test2f, y_predxgb2f),3)))"
   ]
  },
  {
   "cell_type": "markdown",
   "metadata": {},
   "source": [
    "### Light Gradient Boosting Flipped"
   ]
  },
  {
   "cell_type": "code",
   "execution_count": 935,
   "metadata": {},
   "outputs": [
    {
     "name": "stdout",
     "output_type": "stream",
     "text": [
      "Accuracy 0.697\n"
     ]
    }
   ],
   "source": [
    "lgbf = LGBMClassifier(n_estimators=1000, num_leaves = 40, n_jobs = -1)\n",
    "lgbf.fit(X_trainf, y_trainf)\n",
    "y_predlgbf = lgbf.predict(X_testf)\n",
    "print('Accuracy {0}'.format(np.round(accuracy_score(y_testf, y_predlgbf),3)))"
   ]
  },
  {
   "cell_type": "code",
   "execution_count": 936,
   "metadata": {},
   "outputs": [
    {
     "name": "stdout",
     "output_type": "stream",
     "text": [
      "Accuracy 0.623\n"
     ]
    }
   ],
   "source": [
    "lgb2f = LGBMClassifier(n_estimators=1000, num_leaves = 40, n_jobs = -1)\n",
    "lgb2f.fit(X_train2f, y_train2f)\n",
    "y_predlgb2f = lgb2f.predict(X_test2f)\n",
    "print('Accuracy {0}'.format(np.round(accuracy_score(y_test2f, y_predlgb2f),3)))"
   ]
  },
  {
   "cell_type": "markdown",
   "metadata": {},
   "source": [
    "# 3. Final Results\n",
    "Finally, now that all accuracy of models have been run over both datasets under different conditions, place all accuracy results into DataFrames and visualise performance of each model."
   ]
  },
  {
   "cell_type": "code",
   "execution_count": 780,
   "metadata": {},
   "outputs": [],
   "source": [
    "res1 = {}\n",
    "res2 = {}\n",
    "\n",
    "res1['K Neighbours'] = np.round(accuracy_score(y_test, y_predknn),3)*100\n",
    "res2['K Neighbours'] = np.round(accuracy_score(y_test2, y_predknn2),3)*100\n",
    "\n",
    "res1['Random Forest'] = np.round(accuracy_score(y_test, y_predrfc),3)*100\n",
    "res2['Random Forest'] = np.round(accuracy_score(y_test2, y_predrfc2),3)*100\n",
    "\n",
    "res1['AdaBoost'] = np.round(accuracy_score(y_test, y_predada),3)*100\n",
    "res2['AdaBoost'] = np.round(accuracy_score(y_test2, y_predada2),3)*100\n",
    "\n",
    "res1['XG Boost'] = np.round(accuracy_score(y_test, y_predxgb),3)*100\n",
    "res2['XG Boost'] = np.round(accuracy_score(y_test2, y_predxgb2),3)*100\n",
    "\n",
    "res1['Decision Trees'] = np.round(accuracy_score(y_test, y_preddct),3)*100\n",
    "res2['Decision Trees'] = np.round(accuracy_score(y_test2, y_preddct2),3)*100\n",
    "\n",
    "res1['Logistic Regression'] = np.round(accuracy_score(y_test, y_predlogreg),3)*100\n",
    "res2['Logistic Regression'] = np.round(accuracy_score(y_test2, y_predlogreg2),3)*100\n",
    "\n",
    "res1['Guassian Naive Bayes'] = np.round(accuracy_score(y_test, y_predgnb),3)*100\n",
    "res2['Guassian Naive Bayes'] = np.round(accuracy_score(y_test2, y_predgnb2),3)*100\n",
    "\n",
    "res1['Light Gradient Boosting'] = np.round(accuracy_score(y_test, y_predlgb),3)*100\n",
    "res2['Light Gradient Boosting'] = np.round(accuracy_score(y_test2, y_predlgb2),3)*100"
   ]
  },
  {
   "cell_type": "code",
   "execution_count": 952,
   "metadata": {},
   "outputs": [
    {
     "data": {
      "text/html": [
       "<div>\n",
       "<style scoped>\n",
       "    .dataframe tbody tr th:only-of-type {\n",
       "        vertical-align: middle;\n",
       "    }\n",
       "\n",
       "    .dataframe tbody tr th {\n",
       "        vertical-align: top;\n",
       "    }\n",
       "\n",
       "    .dataframe thead th {\n",
       "        text-align: right;\n",
       "    }\n",
       "</style>\n",
       "<table border=\"1\" class=\"dataframe\">\n",
       "  <thead>\n",
       "    <tr style=\"text-align: right;\">\n",
       "      <th></th>\n",
       "      <th>Dataset 1</th>\n",
       "      <th>Dataset 2</th>\n",
       "    </tr>\n",
       "  </thead>\n",
       "  <tbody>\n",
       "    <tr>\n",
       "      <th>K Neighbours</th>\n",
       "      <td>81.500</td>\n",
       "      <td>63.000</td>\n",
       "    </tr>\n",
       "    <tr>\n",
       "      <th>Random Forest</th>\n",
       "      <td>72.300</td>\n",
       "      <td>62.500</td>\n",
       "    </tr>\n",
       "    <tr>\n",
       "      <th>AdaBoost</th>\n",
       "      <td>80.700</td>\n",
       "      <td>68.900</td>\n",
       "    </tr>\n",
       "    <tr>\n",
       "      <th>XG Boost</th>\n",
       "      <td>75.600</td>\n",
       "      <td>63.200</td>\n",
       "    </tr>\n",
       "    <tr>\n",
       "      <th>Decision Trees</th>\n",
       "      <td>78.800</td>\n",
       "      <td>66.100</td>\n",
       "    </tr>\n",
       "    <tr>\n",
       "      <th>Logistic Regression</th>\n",
       "      <td>54.700</td>\n",
       "      <td>52.100</td>\n",
       "    </tr>\n",
       "    <tr>\n",
       "      <th>Guassian Naive Bayes</th>\n",
       "      <td>52.700</td>\n",
       "      <td>48.800</td>\n",
       "    </tr>\n",
       "    <tr>\n",
       "      <th>Light Gradient Boosting</th>\n",
       "      <td>67.500</td>\n",
       "      <td>62.300</td>\n",
       "    </tr>\n",
       "  </tbody>\n",
       "</table>\n",
       "</div>"
      ],
      "text/plain": [
       "                         Dataset 1  Dataset 2\n",
       "K Neighbours                81.500     63.000\n",
       "Random Forest               72.300     62.500\n",
       "AdaBoost                    80.700     68.900\n",
       "XG Boost                    75.600     63.200\n",
       "Decision Trees              78.800     66.100\n",
       "Logistic Regression         54.700     52.100\n",
       "Guassian Naive Bayes        52.700     48.800\n",
       "Light Gradient Boosting     67.500     62.300"
      ]
     },
     "execution_count": 952,
     "metadata": {},
     "output_type": "execute_result"
    }
   ],
   "source": [
    "results = pd.DataFrame()\n",
    "results['Dataset 1'] = pd.Series(res1)\n",
    "results['Dataset 2'] = pd.Series(res2)\n",
    "results"
   ]
  },
  {
   "cell_type": "markdown",
   "metadata": {},
   "source": [
    "## `cleanlab` Results"
   ]
  },
  {
   "cell_type": "code",
   "execution_count": 1115,
   "metadata": {},
   "outputs": [],
   "source": [
    "res1_cleanlab = {}\n",
    "res2_cleanlab = {}\n",
    "\n",
    "res1_cleanlab['K Neighbours'] = np.round(accuracy_score(y_testf, pred_lnl_knn1),3)*100\n",
    "res2_cleanlab['K Neighbours'] = np.round(accuracy_score(y_test2f, pred_lnl_knn2),3)*100\n",
    "\n",
    "res1_cleanlab['Random Forest'] = np.round(accuracy_score(y_testf, pred_lnl_rfc1),3)*100\n",
    "res2_cleanlab['Random Forest'] = np.round(accuracy_score(y_test2f, pred_lnl_rfc2),3)*100\n",
    "\n",
    "res1_cleanlab['AdaBoost'] = np.round(accuracy_score(y_testf, pred_lnl_ada1),3)*100\n",
    "res2_cleanlab['AdaBoost'] = np.round(accuracy_score(y_test2f, pred_lnl_ada2),3)*100\n",
    "\n",
    "res1_cleanlab['XG Boost'] = np.round(accuracy_score(y_testf, pred_lnl_xg1),3)*100\n",
    "res2_cleanlab['XG Boost'] = np.round(accuracy_score(y_test2f, pred_lnl_xg2),3)*100\n",
    "\n",
    "res1_cleanlab['Decision Trees'] = np.round(accuracy_score(y_testf, pred_lnl_dct1),3)*100\n",
    "res2_cleanlab['Decision Trees'] = np.round(accuracy_score(y_test2f, pred_lnl_dct2),3)*100\n",
    "\n",
    "res1_cleanlab['Logistic Regression'] = np.round(accuracy_score(y_testf, pred_lnl_log1),3)*100\n",
    "res2_cleanlab['Logistic Regression'] = np.round(accuracy_score(y_test2f, pred_lnl_log2),3)*100\n",
    "\n",
    "res1_cleanlab['Guassian Naive Bayes'] = np.round(accuracy_score(y_testf, pred_lnl_gb1),3)*100\n",
    "res2_cleanlab['Guassian Naive Bayes'] = np.round(accuracy_score(y_test2f, pred_lnl_gb2),3)*100\n",
    "\n",
    "res1_cleanlab['Light Gradient Boosting'] = np.round(accuracy_score(y_testf, pred_lnl_lg1),3)*100\n",
    "res2_cleanlab['Light Gradient Boosting'] = np.round(accuracy_score(y_test2f, pred_lnl_lg2),3)*100"
   ]
  },
  {
   "cell_type": "code",
   "execution_count": 1116,
   "metadata": {},
   "outputs": [
    {
     "data": {
      "text/html": [
       "<div>\n",
       "<style scoped>\n",
       "    .dataframe tbody tr th:only-of-type {\n",
       "        vertical-align: middle;\n",
       "    }\n",
       "\n",
       "    .dataframe tbody tr th {\n",
       "        vertical-align: top;\n",
       "    }\n",
       "\n",
       "    .dataframe thead th {\n",
       "        text-align: right;\n",
       "    }\n",
       "</style>\n",
       "<table border=\"1\" class=\"dataframe\">\n",
       "  <thead>\n",
       "    <tr style=\"text-align: right;\">\n",
       "      <th></th>\n",
       "      <th>Cleanlab Dataset 1</th>\n",
       "      <th>Cleanlab Dataset 2</th>\n",
       "    </tr>\n",
       "  </thead>\n",
       "  <tbody>\n",
       "    <tr>\n",
       "      <th>K Neighbours</th>\n",
       "      <td>76.600</td>\n",
       "      <td>60.100</td>\n",
       "    </tr>\n",
       "    <tr>\n",
       "      <th>Random Forest</th>\n",
       "      <td>68.500</td>\n",
       "      <td>60.100</td>\n",
       "    </tr>\n",
       "    <tr>\n",
       "      <th>AdaBoost</th>\n",
       "      <td>75.900</td>\n",
       "      <td>64.700</td>\n",
       "    </tr>\n",
       "    <tr>\n",
       "      <th>XG Boost</th>\n",
       "      <td>71.600</td>\n",
       "      <td>62.400</td>\n",
       "    </tr>\n",
       "    <tr>\n",
       "      <th>Decision Trees</th>\n",
       "      <td>73.200</td>\n",
       "      <td>60.200</td>\n",
       "    </tr>\n",
       "    <tr>\n",
       "      <th>Logistic Regression</th>\n",
       "      <td>53.800</td>\n",
       "      <td>51.600</td>\n",
       "    </tr>\n",
       "    <tr>\n",
       "      <th>Guassian Naive Bayes</th>\n",
       "      <td>44.200</td>\n",
       "      <td>49.000</td>\n",
       "    </tr>\n",
       "    <tr>\n",
       "      <th>Light Gradient Boosting</th>\n",
       "      <td>64.900</td>\n",
       "      <td>60.600</td>\n",
       "    </tr>\n",
       "  </tbody>\n",
       "</table>\n",
       "</div>"
      ],
      "text/plain": [
       "                         Cleanlab Dataset 1  Cleanlab Dataset 2\n",
       "K Neighbours                         76.600              60.100\n",
       "Random Forest                        68.500              60.100\n",
       "AdaBoost                             75.900              64.700\n",
       "XG Boost                             71.600              62.400\n",
       "Decision Trees                       73.200              60.200\n",
       "Logistic Regression                  53.800              51.600\n",
       "Guassian Naive Bayes                 44.200              49.000\n",
       "Light Gradient Boosting              64.900              60.600"
      ]
     },
     "execution_count": 1116,
     "metadata": {},
     "output_type": "execute_result"
    }
   ],
   "source": [
    "results_lnl = pd.DataFrame()\n",
    "results_lnl['Cleanlab Dataset 1'] = pd.Series(res1_cleanlab)\n",
    "results_lnl['Cleanlab Dataset 2'] = pd.Series(res2_cleanlab)\n",
    "results_lnl"
   ]
  },
  {
   "cell_type": "code",
   "execution_count": 1129,
   "metadata": {},
   "outputs": [
    {
     "data": {
      "image/png": "[encoded data removed]",
      "text/plain": [
       "<Figure size 864x288 with 1 Axes>"
      ]
     },
     "metadata": {
      "needs_background": "light"
     },
     "output_type": "display_data"
    }
   ],
   "source": [
    "res_lnl = pd.concat([results, results_lnl],axis=1)\n",
    "\n",
    "ax = res_lnl.round(2).plot(kind='bar', rot=15)\n",
    "for p in ax.patches:\n",
    "    ax.annotate(str(p.get_height()), (p.get_x()*1.005, p.get_height()*1.005))\n",
    "plt.legend(loc='center left', bbox_to_anchor=(1.0, 0.5))\n",
    "plt.ylabel(\"Accuracy\")\n",
    "plt.title(\"Accuracy scores across datasets with and without Cleanlab Framework\")\n",
    "plt.ylim(0, 100, 10);"
   ]
  },
  {
   "cell_type": "markdown",
   "metadata": {},
   "source": [
    "As previously stated, the accuracy score on the models are subpar, hence, can conclude are not a reliable method of detecting false classifications of `control` within the dataset.\n",
    "\n",
    "In future, perhaps investigating the mathematics more in-depth would aide the performance of these models.\n",
    "\n",
    "Further investigations would start with this paper, *Confident Learning: Estimating Uncertainty in Dataset Labels*:\n",
    "https://arxiv.org/abs/1911.00068"
   ]
  },
  {
   "cell_type": "markdown",
   "metadata": {},
   "source": [
    "## Flipped MSID Models Results"
   ]
  },
  {
   "cell_type": "code",
   "execution_count": 940,
   "metadata": {},
   "outputs": [],
   "source": [
    "res1f = {}\n",
    "res2f = {}\n",
    "\n",
    "res1f['K Neighbours'] = np.round(accuracy_score(y_testf, y_predknnf),3)*100\n",
    "res2f['K Neighbours'] = np.round(accuracy_score(y_test2f, y_predknn2f),3)*100\n",
    "\n",
    "res1f['Random Forest'] = np.round(accuracy_score(y_testf, y_predrfcf),3)*100\n",
    "res2f['Random Forest'] = np.round(accuracy_score(y_test2f, y_predrfc2f),3)*100\n",
    "\n",
    "res1f['AdaBoost'] = np.round(accuracy_score(y_testf, y_predadaf),3)*100\n",
    "res2f['AdaBoost'] = np.round(accuracy_score(y_test2f, y_predadaf2),3)*100\n",
    "\n",
    "res1f['XG Boost'] = np.round(accuracy_score(y_testf, y_predxgb),3)*100\n",
    "res2f['XG Boost'] = np.round(accuracy_score(y_test2f, y_predxgb2),3)*100\n",
    "\n",
    "res1f['Decision Trees'] = np.round(accuracy_score(y_testf, y_preddctf),3)*100\n",
    "res2f['Decision Trees'] = np.round(accuracy_score(y_test2f, y_preddt2f),3)*100\n",
    "\n",
    "res1f['Logistic Regression'] = np.round(accuracy_score(y_testf, y_predlogregf),3)*100\n",
    "res2f['Logistic Regression'] = np.round(accuracy_score(y_test2f, y_predlogreg2f),3)*100\n",
    "\n",
    "res1f['Guassian Naive Bayes'] = np.round(accuracy_score(y_testf, y_predgnbf),3)*100\n",
    "res2f['Guassian Naive Bayes'] = np.round(accuracy_score(y_test2f, y_predgnb2f),3)*100\n",
    "\n",
    "res1f['Light Gradient Boosting'] = np.round(accuracy_score(y_testf, y_predlgbf),3)*100\n",
    "res2f['Light Gradient Boosting'] = np.round(accuracy_score(y_test2f, y_predlgb2f),3)*100"
   ]
  },
  {
   "cell_type": "code",
   "execution_count": 947,
   "metadata": {},
   "outputs": [
    {
     "data": {
      "text/html": [
       "<div>\n",
       "<style scoped>\n",
       "    .dataframe tbody tr th:only-of-type {\n",
       "        vertical-align: middle;\n",
       "    }\n",
       "\n",
       "    .dataframe tbody tr th {\n",
       "        vertical-align: top;\n",
       "    }\n",
       "\n",
       "    .dataframe thead th {\n",
       "        text-align: right;\n",
       "    }\n",
       "</style>\n",
       "<table border=\"1\" class=\"dataframe\">\n",
       "  <thead>\n",
       "    <tr style=\"text-align: right;\">\n",
       "      <th></th>\n",
       "      <th>Dataset 1 Flipped</th>\n",
       "      <th>Dataset 2 Flipped</th>\n",
       "    </tr>\n",
       "  </thead>\n",
       "  <tbody>\n",
       "    <tr>\n",
       "      <th>K Neighbours</th>\n",
       "      <td>82.600</td>\n",
       "      <td>63.300</td>\n",
       "    </tr>\n",
       "    <tr>\n",
       "      <th>Random Forest</th>\n",
       "      <td>73.600</td>\n",
       "      <td>62.900</td>\n",
       "    </tr>\n",
       "    <tr>\n",
       "      <th>AdaBoost</th>\n",
       "      <td>82.300</td>\n",
       "      <td>69.200</td>\n",
       "    </tr>\n",
       "    <tr>\n",
       "      <th>XG Boost</th>\n",
       "      <td>74.400</td>\n",
       "      <td>63.200</td>\n",
       "    </tr>\n",
       "    <tr>\n",
       "      <th>Decision Trees</th>\n",
       "      <td>79.300</td>\n",
       "      <td>66.000</td>\n",
       "    </tr>\n",
       "    <tr>\n",
       "      <th>Logistic Regression</th>\n",
       "      <td>59.900</td>\n",
       "      <td>52.100</td>\n",
       "    </tr>\n",
       "    <tr>\n",
       "      <th>Guassian Naive Bayes</th>\n",
       "      <td>46.300</td>\n",
       "      <td>48.800</td>\n",
       "    </tr>\n",
       "    <tr>\n",
       "      <th>Light Gradient Boosting</th>\n",
       "      <td>69.700</td>\n",
       "      <td>62.300</td>\n",
       "    </tr>\n",
       "  </tbody>\n",
       "</table>\n",
       "</div>"
      ],
      "text/plain": [
       "                         Dataset 1 Flipped  Dataset 2 Flipped\n",
       "K Neighbours                        82.600             63.300\n",
       "Random Forest                       73.600             62.900\n",
       "AdaBoost                            82.300             69.200\n",
       "XG Boost                            74.400             63.200\n",
       "Decision Trees                      79.300             66.000\n",
       "Logistic Regression                 59.900             52.100\n",
       "Guassian Naive Bayes                46.300             48.800\n",
       "Light Gradient Boosting             69.700             62.300"
      ]
     },
     "execution_count": 947,
     "metadata": {},
     "output_type": "execute_result"
    }
   ],
   "source": [
    "results2 = pd.DataFrame()\n",
    "results2['Dataset 1 Flipped'] = pd.Series(res1f)\n",
    "results2['Dataset 2 Flipped'] = pd.Series(res2f)\n",
    "results2"
   ]
  },
  {
   "cell_type": "code",
   "execution_count": 1128,
   "metadata": {},
   "outputs": [
    {
     "data": {
      "image/png": "[encoded data removed]",
      "text/plain": [
       "<Figure size 864x288 with 1 Axes>"
      ]
     },
     "metadata": {
      "needs_background": "light"
     },
     "output_type": "display_data"
    }
   ],
   "source": [
    "restotal = pd.concat([results, results2],axis=1)\n",
    "restotal\n",
    "\n",
    "ax = restotal.round(2).plot(kind='bar', rot=15)\n",
    "for p in ax.patches:\n",
    "    ax.annotate(str(p.get_height()), (p.get_x()*1.005, p.get_height()*1.005))\n",
    "plt.legend(loc='center left', bbox_to_anchor=(1.0, 0.5))\n",
    "plt.ylabel(\"Accuracy\")\n",
    "plt.title(\"Accuracy of CHIP vs Control classification across datasets with and without MSID classification changes\")\n",
    "plt.ylim(0, 100, 10);"
   ]
  },
  {
   "cell_type": "markdown",
   "metadata": {},
   "source": [
    "By flipping the `MSID` of commonly misclassified patients, we visualise that the accuracy of most models increase by a range of 1-5%.\n",
    "\n",
    "Thus, this method via data investigation of structured bias produced favourable results, given that accuracies of better performing models had all increased.\n",
    "\n",
    "# 4. Conclusions\n",
    "\n",
    "From noise label investigation, its uncovered that the `cleanlab` package was not useful in finding misclassified labels given structured bias in `MSID` misclassification. \n",
    "\n",
    "However, further data analysis elucidated particular groups of patients who were continously misclassified (`MSID`: `MS7260` especially with over 50% misclassification rate). As a result, by visualising these trends in data, under the assumption that these sets of labels are ones which are indeed under sequencing noise, have improved our models by changing the labels of these patients."
   ]
  },
  {
   "cell_type": "code",
   "execution_count": null,
   "metadata": {},
   "outputs": [],
   "source": []
  }
 ],
 "metadata": {
  "kernelspec": {
   "display_name": "Python 3",
   "language": "python",
   "name": "python3"
  },
  "language_info": {
   "codemirror_mode": {
    "name": "ipython",
    "version": 3
   },
   "file_extension": ".py",
   "mimetype": "text/x-python",
   "name": "python",
   "nbconvert_exporter": "python",
   "pygments_lexer": "ipython3",
   "version": "3.8.5"
  }
 },
 "nbformat": 4,
 "nbformat_minor": 4
}
