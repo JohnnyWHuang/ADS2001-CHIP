{
 "cells": [
  {
   "cell_type": "markdown",
   "metadata": {},
   "source": [
    "## Imports"
   ]
  },
  {
   "cell_type": "code",
   "execution_count": 1,
   "metadata": {},
   "outputs": [
    {
     "name": "stderr",
     "output_type": "stream",
     "text": [
      "C:\\Users\\Nick\\AppData\\Roaming\\Python\\Python38\\site-packages\\IPython\\core\\interactiveshell.py:3145: DtypeWarning: Columns (10,16) have mixed types.Specify dtype option on import or set low_memory=False.\n",
      "  has_raised = await self.run_ast_nodes(code_ast.body, cell_name,\n"
     ]
    }
   ],
   "source": [
    "import pandas as pd\n",
    "df = pd.read_csv(r'C:\\Users\\Nick\\Documents\\Year 2 Semester 1\\ADS2001\\Group Project\\chipVariantCalling\\chipVariantCalling_run1.tsv', sep = '\\t')\n",
    "df2 = pd.read_csv(r'C:\\Users\\Nick\\Documents\\Year 2 Semester 1\\ADS2001\\Group Project\\chipVariantCalling\\chipVariantCalling_run2.tsv', sep = '\\t')\n",
    "import numpy as np\n",
    "import matplotlib.pyplot as plt\n",
    "from sklearn.model_selection import train_test_split "
   ]
  },
  {
   "cell_type": "code",
   "execution_count": 2,
   "metadata": {
    "scrolled": false
   },
   "outputs": [
    {
     "data": {
      "text/html": [
       "<div>\n",
       "<style scoped>\n",
       "    .dataframe tbody tr th:only-of-type {\n",
       "        vertical-align: middle;\n",
       "    }\n",
       "\n",
       "    .dataframe tbody tr th {\n",
       "        vertical-align: top;\n",
       "    }\n",
       "\n",
       "    .dataframe thead th {\n",
       "        text-align: right;\n",
       "    }\n",
       "</style>\n",
       "<table border=\"1\" class=\"dataframe\">\n",
       "  <thead>\n",
       "    <tr style=\"text-align: right;\">\n",
       "      <th></th>\n",
       "      <th>d.barcode</th>\n",
       "      <th>DP</th>\n",
       "      <th>VD</th>\n",
       "      <th>AF</th>\n",
       "      <th>HIAF</th>\n",
       "      <th>IMPACT</th>\n",
       "      <th>SYMBOL</th>\n",
       "      <th>loci</th>\n",
       "      <th>sampleTimePt</th>\n",
       "      <th>gender</th>\n",
       "      <th>MSID</th>\n",
       "      <th>BIAS</th>\n",
       "      <th>REFBIAS</th>\n",
       "      <th>VARBIAS</th>\n",
       "      <th>QUAL</th>\n",
       "      <th>ODDRATIO</th>\n",
       "      <th>chipOrControl</th>\n",
       "    </tr>\n",
       "  </thead>\n",
       "  <tbody>\n",
       "    <tr>\n",
       "      <th>0</th>\n",
       "      <td>4010289633</td>\n",
       "      <td>7281</td>\n",
       "      <td>26</td>\n",
       "      <td>0.0036</td>\n",
       "      <td>0.0033</td>\n",
       "      <td>MODERATE</td>\n",
       "      <td>GNB1</td>\n",
       "      <td>chr1:1747196_T/C</td>\n",
       "      <td>Baseline</td>\n",
       "      <td>Male</td>\n",
       "      <td>MS2083</td>\n",
       "      <td>2:2</td>\n",
       "      <td>3644:3596</td>\n",
       "      <td>12:14</td>\n",
       "      <td>34.0</td>\n",
       "      <td>1.182210</td>\n",
       "      <td>CHIP</td>\n",
       "    </tr>\n",
       "    <tr>\n",
       "      <th>1</th>\n",
       "      <td>4010289633</td>\n",
       "      <td>7281</td>\n",
       "      <td>26</td>\n",
       "      <td>0.0036</td>\n",
       "      <td>0.0033</td>\n",
       "      <td>MODERATE</td>\n",
       "      <td>GNB1</td>\n",
       "      <td>chr1:1747196_T/C</td>\n",
       "      <td>Baseline</td>\n",
       "      <td>Male</td>\n",
       "      <td>MS2083</td>\n",
       "      <td>2:2</td>\n",
       "      <td>3644:3596</td>\n",
       "      <td>12:14</td>\n",
       "      <td>34.0</td>\n",
       "      <td>1.182210</td>\n",
       "      <td>CHIP</td>\n",
       "    </tr>\n",
       "    <tr>\n",
       "      <th>2</th>\n",
       "      <td>4010289633</td>\n",
       "      <td>7281</td>\n",
       "      <td>26</td>\n",
       "      <td>0.0036</td>\n",
       "      <td>0.0033</td>\n",
       "      <td>MODERATE</td>\n",
       "      <td>GNB1</td>\n",
       "      <td>chr1:1747196_T/C</td>\n",
       "      <td>Baseline</td>\n",
       "      <td>Male</td>\n",
       "      <td>MS2083</td>\n",
       "      <td>2:2</td>\n",
       "      <td>3644:3596</td>\n",
       "      <td>12:14</td>\n",
       "      <td>34.0</td>\n",
       "      <td>1.182210</td>\n",
       "      <td>CHIP</td>\n",
       "    </tr>\n",
       "    <tr>\n",
       "      <th>3</th>\n",
       "      <td>4010289633</td>\n",
       "      <td>7281</td>\n",
       "      <td>26</td>\n",
       "      <td>0.0036</td>\n",
       "      <td>0.0033</td>\n",
       "      <td>MODERATE</td>\n",
       "      <td>GNB1</td>\n",
       "      <td>chr1:1747196_T/C</td>\n",
       "      <td>Baseline</td>\n",
       "      <td>Male</td>\n",
       "      <td>MS2083</td>\n",
       "      <td>2:2</td>\n",
       "      <td>3644:3596</td>\n",
       "      <td>12:14</td>\n",
       "      <td>34.0</td>\n",
       "      <td>1.182210</td>\n",
       "      <td>CHIP</td>\n",
       "    </tr>\n",
       "    <tr>\n",
       "      <th>4</th>\n",
       "      <td>4010289633</td>\n",
       "      <td>7282</td>\n",
       "      <td>29</td>\n",
       "      <td>0.0040</td>\n",
       "      <td>0.0036</td>\n",
       "      <td>MODERATE</td>\n",
       "      <td>GNB1</td>\n",
       "      <td>chr1:1747250_T/C</td>\n",
       "      <td>Baseline</td>\n",
       "      <td>Male</td>\n",
       "      <td>MS2083</td>\n",
       "      <td>2:2</td>\n",
       "      <td>3639:3606</td>\n",
       "      <td>15:14</td>\n",
       "      <td>32.7</td>\n",
       "      <td>1.061729</td>\n",
       "      <td>CHIP</td>\n",
       "    </tr>\n",
       "  </tbody>\n",
       "</table>\n",
       "</div>"
      ],
      "text/plain": [
       "    d.barcode    DP  VD      AF    HIAF    IMPACT SYMBOL              loci  \\\n",
       "0  4010289633  7281  26  0.0036  0.0033  MODERATE   GNB1  chr1:1747196_T/C   \n",
       "1  4010289633  7281  26  0.0036  0.0033  MODERATE   GNB1  chr1:1747196_T/C   \n",
       "2  4010289633  7281  26  0.0036  0.0033  MODERATE   GNB1  chr1:1747196_T/C   \n",
       "3  4010289633  7281  26  0.0036  0.0033  MODERATE   GNB1  chr1:1747196_T/C   \n",
       "4  4010289633  7282  29  0.0040  0.0036  MODERATE   GNB1  chr1:1747250_T/C   \n",
       "\n",
       "  sampleTimePt gender    MSID BIAS    REFBIAS VARBIAS  QUAL  ODDRATIO  \\\n",
       "0     Baseline   Male  MS2083  2:2  3644:3596   12:14  34.0  1.182210   \n",
       "1     Baseline   Male  MS2083  2:2  3644:3596   12:14  34.0  1.182210   \n",
       "2     Baseline   Male  MS2083  2:2  3644:3596   12:14  34.0  1.182210   \n",
       "3     Baseline   Male  MS2083  2:2  3644:3596   12:14  34.0  1.182210   \n",
       "4     Baseline   Male  MS2083  2:2  3639:3606   15:14  32.7  1.061729   \n",
       "\n",
       "  chipOrControl  \n",
       "0          CHIP  \n",
       "1          CHIP  \n",
       "2          CHIP  \n",
       "3          CHIP  \n",
       "4          CHIP  "
      ]
     },
     "execution_count": 2,
     "metadata": {},
     "output_type": "execute_result"
    }
   ],
   "source": [
    "df.head()"
   ]
  },
  {
   "cell_type": "markdown",
   "metadata": {},
   "source": [
    "## Cleaning"
   ]
  },
  {
   "cell_type": "markdown",
   "metadata": {},
   "source": [
    "### Dropping Blanks & Duplicates"
   ]
  },
  {
   "cell_type": "code",
   "execution_count": 3,
   "metadata": {},
   "outputs": [],
   "source": [
    "for i in df:\n",
    "    df.dropna(subset=[i], how='any',inplace=True)\n",
    "df = df[(df.chipOrControl != \"Blank\") & (df.chipOrControl != \"Unknown\")]\n",
    "df.drop_duplicates(inplace=True)"
   ]
  },
  {
   "cell_type": "markdown",
   "metadata": {},
   "source": [
    "### Converting Ratio to Integers"
   ]
  },
  {
   "cell_type": "code",
   "execution_count": 4,
   "metadata": {},
   "outputs": [],
   "source": [
    "def ratio_to_int(string):\n",
    "    a, b = string.split(\":\")\n",
    "    if int(b) == 0:\n",
    "        return 0\n",
    "    else:\n",
    "        return int(a) / int(b)\n",
    "\n",
    "refbias = []\n",
    "varbias = []\n",
    "\n",
    "for ratio in df.REFBIAS.array:\n",
    "    refbias.append(ratio_to_int(ratio)) \n",
    "\n",
    "for ratio in df.VARBIAS.array:\n",
    "    varbias.append(ratio_to_int(ratio)) \n",
    "    \n",
    "refbias = pd.Series(refbias)\n",
    "varbias = pd.Series(varbias)\n",
    "\n",
    "df['REFBIAS'] = refbias.values\n",
    "df['VARBIAS'] = varbias.values"
   ]
  },
  {
   "cell_type": "markdown",
   "metadata": {},
   "source": [
    "### Grouping Location into Chromosome Number"
   ]
  },
  {
   "cell_type": "code",
   "execution_count": 5,
   "metadata": {
    "scrolled": true
   },
   "outputs": [],
   "source": [
    "location = []\n",
    "for loci in df.loci:\n",
    "    location.append(loci.split(\":\")[0])\n",
    "\n",
    "df['loci_shortened'] = pd.Series(location, index=df.index)\n",
    "dict = {}\n",
    "df_new = df\n",
    "for ix, loci_shortened in zip(range(len(df_new['loci_shortened'].unique())), df_new['loci_shortened'].unique() ):\n",
    "    dict[loci_shortened] = ix\n",
    "    \n",
    "df = df.replace({'loci_shortened': dict})\n",
    "df[\"loci_shortened\"] = df[\"loci_shortened\"].astype(str).astype(float)"
   ]
  },
  {
   "cell_type": "markdown",
   "metadata": {},
   "source": [
    "### Dropping Unnecessary Columns & Converting to Float"
   ]
  },
  {
   "cell_type": "code",
   "execution_count": 6,
   "metadata": {},
   "outputs": [],
   "source": [
    "df = df.drop(['d.barcode','MSID','HIAF','loci','BIAS'], axis = 1)\n",
    "shorted = ['IMPACT','sampleTimePt', 'gender', 'chipOrControl']\n",
    "for i in shorted:\n",
    "    df[f\"{i}\"] = df[f\"{i}\"].astype('category').cat.codes"
   ]
  },
  {
   "cell_type": "code",
   "execution_count": 7,
   "metadata": {},
   "outputs": [],
   "source": [
    "genes = df['SYMBOL'].unique()\n",
    "df = pd.concat([df,pd.get_dummies(df['SYMBOL'], prefix='GENE')],axis=1)\n",
    "df.drop(['SYMBOL'],axis=1, inplace=True)\n",
    "dummy_genes = df.columns[15:]\n",
    "\n",
    "d = {}\n",
    "\n",
    "for i in range(len(dummy_genes)):\n",
    "    d[dummy_genes[i]] = genes[i]\n",
    "    \n",
    "df = df.rename(d, axis=1)\n",
    "\n",
    "df = df[['AF', 'IMPACT', 'sampleTimePt', 'gender',\n",
    "         'REFBIAS', 'VARBIAS', 'QUAL', 'ODDRATIO', 'chipOrControl', 'DNMT3A', 'TET2', 'TP53', 'ASXL1', 'BCOR']]\n",
    "\n",
    "encoder = df[['DNMT3A', 'TET2', 'TP53', 'ASXL1', 'BCOR']]\n",
    "\n",
    "p = encoder[list(encoder)].sum(axis=1).array\n",
    "for i in range(len(p)):\n",
    "    if p[i] == 0:\n",
    "        p[i] = 1\n",
    "    else:\n",
    "        p[i] = 0\n",
    "\n",
    "df[\"other\"] = p"
   ]
  },
  {
   "cell_type": "code",
   "execution_count": 8,
   "metadata": {
    "scrolled": true
   },
   "outputs": [
    {
     "data": {
      "text/html": [
       "<div>\n",
       "<style scoped>\n",
       "    .dataframe tbody tr th:only-of-type {\n",
       "        vertical-align: middle;\n",
       "    }\n",
       "\n",
       "    .dataframe tbody tr th {\n",
       "        vertical-align: top;\n",
       "    }\n",
       "\n",
       "    .dataframe thead th {\n",
       "        text-align: right;\n",
       "    }\n",
       "</style>\n",
       "<table border=\"1\" class=\"dataframe\">\n",
       "  <thead>\n",
       "    <tr style=\"text-align: right;\">\n",
       "      <th></th>\n",
       "      <th>AF</th>\n",
       "      <th>IMPACT</th>\n",
       "      <th>sampleTimePt</th>\n",
       "      <th>gender</th>\n",
       "      <th>REFBIAS</th>\n",
       "      <th>VARBIAS</th>\n",
       "      <th>QUAL</th>\n",
       "      <th>ODDRATIO</th>\n",
       "      <th>chipOrControl</th>\n",
       "      <th>DNMT3A</th>\n",
       "      <th>TET2</th>\n",
       "      <th>TP53</th>\n",
       "      <th>ASXL1</th>\n",
       "      <th>BCOR</th>\n",
       "      <th>other</th>\n",
       "    </tr>\n",
       "  </thead>\n",
       "  <tbody>\n",
       "    <tr>\n",
       "      <th>0</th>\n",
       "      <td>0.0036</td>\n",
       "      <td>1</td>\n",
       "      <td>0</td>\n",
       "      <td>1</td>\n",
       "      <td>1.013348</td>\n",
       "      <td>0.857143</td>\n",
       "      <td>34.0</td>\n",
       "      <td>1.182210</td>\n",
       "      <td>0</td>\n",
       "      <td>0</td>\n",
       "      <td>0</td>\n",
       "      <td>0</td>\n",
       "      <td>0</td>\n",
       "      <td>0</td>\n",
       "      <td>1</td>\n",
       "    </tr>\n",
       "    <tr>\n",
       "      <th>4</th>\n",
       "      <td>0.0040</td>\n",
       "      <td>1</td>\n",
       "      <td>0</td>\n",
       "      <td>1</td>\n",
       "      <td>1.009151</td>\n",
       "      <td>1.071429</td>\n",
       "      <td>32.7</td>\n",
       "      <td>1.061729</td>\n",
       "      <td>0</td>\n",
       "      <td>0</td>\n",
       "      <td>0</td>\n",
       "      <td>0</td>\n",
       "      <td>0</td>\n",
       "      <td>0</td>\n",
       "      <td>1</td>\n",
       "    </tr>\n",
       "    <tr>\n",
       "      <th>8</th>\n",
       "      <td>0.0033</td>\n",
       "      <td>1</td>\n",
       "      <td>0</td>\n",
       "      <td>1</td>\n",
       "      <td>1.005268</td>\n",
       "      <td>1.000000</td>\n",
       "      <td>34.9</td>\n",
       "      <td>1.005270</td>\n",
       "      <td>0</td>\n",
       "      <td>0</td>\n",
       "      <td>0</td>\n",
       "      <td>0</td>\n",
       "      <td>0</td>\n",
       "      <td>0</td>\n",
       "      <td>1</td>\n",
       "    </tr>\n",
       "    <tr>\n",
       "      <th>12</th>\n",
       "      <td>0.0112</td>\n",
       "      <td>1</td>\n",
       "      <td>0</td>\n",
       "      <td>1</td>\n",
       "      <td>1.000000</td>\n",
       "      <td>1.000000</td>\n",
       "      <td>37.0</td>\n",
       "      <td>1.000000</td>\n",
       "      <td>0</td>\n",
       "      <td>0</td>\n",
       "      <td>0</td>\n",
       "      <td>0</td>\n",
       "      <td>1</td>\n",
       "      <td>0</td>\n",
       "      <td>0</td>\n",
       "    </tr>\n",
       "    <tr>\n",
       "      <th>13</th>\n",
       "      <td>0.0034</td>\n",
       "      <td>1</td>\n",
       "      <td>0</td>\n",
       "      <td>1</td>\n",
       "      <td>1.017162</td>\n",
       "      <td>1.000000</td>\n",
       "      <td>37.0</td>\n",
       "      <td>1.017150</td>\n",
       "      <td>0</td>\n",
       "      <td>0</td>\n",
       "      <td>0</td>\n",
       "      <td>0</td>\n",
       "      <td>1</td>\n",
       "      <td>0</td>\n",
       "      <td>0</td>\n",
       "    </tr>\n",
       "  </tbody>\n",
       "</table>\n",
       "</div>"
      ],
      "text/plain": [
       "        AF  IMPACT  sampleTimePt  gender   REFBIAS   VARBIAS  QUAL  ODDRATIO  \\\n",
       "0   0.0036       1             0       1  1.013348  0.857143  34.0  1.182210   \n",
       "4   0.0040       1             0       1  1.009151  1.071429  32.7  1.061729   \n",
       "8   0.0033       1             0       1  1.005268  1.000000  34.9  1.005270   \n",
       "12  0.0112       1             0       1  1.000000  1.000000  37.0  1.000000   \n",
       "13  0.0034       1             0       1  1.017162  1.000000  37.0  1.017150   \n",
       "\n",
       "    chipOrControl  DNMT3A  TET2  TP53  ASXL1  BCOR  other  \n",
       "0               0       0     0     0      0     0      1  \n",
       "4               0       0     0     0      0     0      1  \n",
       "8               0       0     0     0      0     0      1  \n",
       "12              0       0     0     0      1     0      0  \n",
       "13              0       0     0     0      1     0      0  "
      ]
     },
     "execution_count": 8,
     "metadata": {},
     "output_type": "execute_result"
    }
   ],
   "source": [
    "df.head()"
   ]
  },
  {
   "cell_type": "code",
   "execution_count": 9,
   "metadata": {
    "scrolled": true
   },
   "outputs": [
    {
     "data": {
      "text/plain": [
       "AF               float64\n",
       "IMPACT              int8\n",
       "sampleTimePt        int8\n",
       "gender              int8\n",
       "REFBIAS          float64\n",
       "VARBIAS          float64\n",
       "QUAL             float64\n",
       "ODDRATIO         float64\n",
       "chipOrControl       int8\n",
       "DNMT3A             uint8\n",
       "TET2               uint8\n",
       "TP53               uint8\n",
       "ASXL1              uint8\n",
       "BCOR               uint8\n",
       "other              int64\n",
       "dtype: object"
      ]
     },
     "execution_count": 9,
     "metadata": {},
     "output_type": "execute_result"
    }
   ],
   "source": [
    "df.dtypes"
   ]
  },
  {
   "cell_type": "markdown",
   "metadata": {},
   "source": [
    "## Decision Trees & Random Forests"
   ]
  },
  {
   "cell_type": "code",
   "execution_count": 11,
   "metadata": {
    "scrolled": false
   },
   "outputs": [],
   "source": [
    "from sklearn.tree import DecisionTreeClassifier, plot_tree\n",
    "from sklearn.ensemble import RandomForestClassifier\n",
    "from sklearn.metrics import confusion_matrix, accuracy_score\n",
    "from logitplots import plt_confusion_matrix"
   ]
  },
  {
   "cell_type": "code",
   "execution_count": 10,
   "metadata": {},
   "outputs": [],
   "source": [
    "X = df.drop('chipOrControl', axis = 1)\n",
    "y = df['chipOrControl']\n",
    "X_train, X_test, y_train, y_test = train_test_split(X, y, train_size=.8, random_state=0)"
   ]
  },
  {
   "cell_type": "code",
   "execution_count": 61,
   "metadata": {},
   "outputs": [
    {
     "data": {
      "text/html": [
       "<div>\n",
       "<style scoped>\n",
       "    .dataframe tbody tr th:only-of-type {\n",
       "        vertical-align: middle;\n",
       "    }\n",
       "\n",
       "    .dataframe tbody tr th {\n",
       "        vertical-align: top;\n",
       "    }\n",
       "\n",
       "    .dataframe thead th {\n",
       "        text-align: right;\n",
       "    }\n",
       "</style>\n",
       "<table border=\"1\" class=\"dataframe\">\n",
       "  <thead>\n",
       "    <tr style=\"text-align: right;\">\n",
       "      <th></th>\n",
       "      <th>AF</th>\n",
       "      <th>IMPACT</th>\n",
       "      <th>sampleTimePt</th>\n",
       "      <th>gender</th>\n",
       "      <th>REFBIAS</th>\n",
       "      <th>VARBIAS</th>\n",
       "      <th>QUAL</th>\n",
       "      <th>ODDRATIO</th>\n",
       "      <th>chipOrControl</th>\n",
       "      <th>DNMT3A</th>\n",
       "      <th>TET2</th>\n",
       "      <th>TP53</th>\n",
       "      <th>ASXL1</th>\n",
       "      <th>BCOR</th>\n",
       "      <th>other</th>\n",
       "    </tr>\n",
       "  </thead>\n",
       "  <tbody>\n",
       "    <tr>\n",
       "      <th>261299</th>\n",
       "      <td>0.0032</td>\n",
       "      <td>1</td>\n",
       "      <td>1</td>\n",
       "      <td>1</td>\n",
       "      <td>1.013043</td>\n",
       "      <td>0.500000</td>\n",
       "      <td>24.3</td>\n",
       "      <td>2.02459</td>\n",
       "      <td>1</td>\n",
       "      <td>0</td>\n",
       "      <td>0</td>\n",
       "      <td>0</td>\n",
       "      <td>0</td>\n",
       "      <td>0</td>\n",
       "      <td>1</td>\n",
       "    </tr>\n",
       "    <tr>\n",
       "      <th>256490</th>\n",
       "      <td>0.0069</td>\n",
       "      <td>1</td>\n",
       "      <td>1</td>\n",
       "      <td>0</td>\n",
       "      <td>1.009259</td>\n",
       "      <td>0.500000</td>\n",
       "      <td>24.3</td>\n",
       "      <td>2.01539</td>\n",
       "      <td>0</td>\n",
       "      <td>0</td>\n",
       "      <td>0</td>\n",
       "      <td>0</td>\n",
       "      <td>0</td>\n",
       "      <td>0</td>\n",
       "      <td>1</td>\n",
       "    </tr>\n",
       "    <tr>\n",
       "      <th>294150</th>\n",
       "      <td>0.0037</td>\n",
       "      <td>1</td>\n",
       "      <td>1</td>\n",
       "      <td>0</td>\n",
       "      <td>1.011236</td>\n",
       "      <td>1.000000</td>\n",
       "      <td>31.0</td>\n",
       "      <td>1.01122</td>\n",
       "      <td>1</td>\n",
       "      <td>0</td>\n",
       "      <td>0</td>\n",
       "      <td>0</td>\n",
       "      <td>0</td>\n",
       "      <td>0</td>\n",
       "      <td>1</td>\n",
       "    </tr>\n",
       "    <tr>\n",
       "      <th>212878</th>\n",
       "      <td>0.0068</td>\n",
       "      <td>1</td>\n",
       "      <td>1</td>\n",
       "      <td>0</td>\n",
       "      <td>1.027586</td>\n",
       "      <td>1.000000</td>\n",
       "      <td>37.0</td>\n",
       "      <td>1.02754</td>\n",
       "      <td>1</td>\n",
       "      <td>0</td>\n",
       "      <td>0</td>\n",
       "      <td>0</td>\n",
       "      <td>0</td>\n",
       "      <td>0</td>\n",
       "      <td>1</td>\n",
       "    </tr>\n",
       "    <tr>\n",
       "      <th>305355</th>\n",
       "      <td>0.0025</td>\n",
       "      <td>1</td>\n",
       "      <td>1</td>\n",
       "      <td>1</td>\n",
       "      <td>1.040506</td>\n",
       "      <td>1.000000</td>\n",
       "      <td>37.0</td>\n",
       "      <td>1.04047</td>\n",
       "      <td>0</td>\n",
       "      <td>0</td>\n",
       "      <td>0</td>\n",
       "      <td>0</td>\n",
       "      <td>0</td>\n",
       "      <td>0</td>\n",
       "      <td>1</td>\n",
       "    </tr>\n",
       "    <tr>\n",
       "      <th>24268</th>\n",
       "      <td>0.0066</td>\n",
       "      <td>1</td>\n",
       "      <td>1</td>\n",
       "      <td>0</td>\n",
       "      <td>1.027027</td>\n",
       "      <td>1.000000</td>\n",
       "      <td>37.0</td>\n",
       "      <td>1.02694</td>\n",
       "      <td>1</td>\n",
       "      <td>0</td>\n",
       "      <td>0</td>\n",
       "      <td>0</td>\n",
       "      <td>0</td>\n",
       "      <td>0</td>\n",
       "      <td>1</td>\n",
       "    </tr>\n",
       "    <tr>\n",
       "      <th>206795</th>\n",
       "      <td>0.0029</td>\n",
       "      <td>1</td>\n",
       "      <td>0</td>\n",
       "      <td>0</td>\n",
       "      <td>1.017857</td>\n",
       "      <td>1.000000</td>\n",
       "      <td>37.0</td>\n",
       "      <td>1.01783</td>\n",
       "      <td>1</td>\n",
       "      <td>0</td>\n",
       "      <td>0</td>\n",
       "      <td>0</td>\n",
       "      <td>1</td>\n",
       "      <td>0</td>\n",
       "      <td>0</td>\n",
       "    </tr>\n",
       "    <tr>\n",
       "      <th>520317</th>\n",
       "      <td>0.0025</td>\n",
       "      <td>1</td>\n",
       "      <td>1</td>\n",
       "      <td>1</td>\n",
       "      <td>1.033195</td>\n",
       "      <td>0.666667</td>\n",
       "      <td>27.0</td>\n",
       "      <td>1.54944</td>\n",
       "      <td>0</td>\n",
       "      <td>0</td>\n",
       "      <td>0</td>\n",
       "      <td>0</td>\n",
       "      <td>0</td>\n",
       "      <td>0</td>\n",
       "      <td>1</td>\n",
       "    </tr>\n",
       "    <tr>\n",
       "      <th>23316</th>\n",
       "      <td>0.0108</td>\n",
       "      <td>1</td>\n",
       "      <td>1</td>\n",
       "      <td>0</td>\n",
       "      <td>1.050279</td>\n",
       "      <td>1.000000</td>\n",
       "      <td>27.5</td>\n",
       "      <td>1.05016</td>\n",
       "      <td>1</td>\n",
       "      <td>0</td>\n",
       "      <td>0</td>\n",
       "      <td>0</td>\n",
       "      <td>0</td>\n",
       "      <td>0</td>\n",
       "      <td>1</td>\n",
       "    </tr>\n",
       "    <tr>\n",
       "      <th>228120</th>\n",
       "      <td>0.0030</td>\n",
       "      <td>1</td>\n",
       "      <td>1</td>\n",
       "      <td>0</td>\n",
       "      <td>1.037500</td>\n",
       "      <td>1.000000</td>\n",
       "      <td>31.0</td>\n",
       "      <td>1.03745</td>\n",
       "      <td>0</td>\n",
       "      <td>0</td>\n",
       "      <td>0</td>\n",
       "      <td>0</td>\n",
       "      <td>0</td>\n",
       "      <td>0</td>\n",
       "      <td>1</td>\n",
       "    </tr>\n",
       "  </tbody>\n",
       "</table>\n",
       "</div>"
      ],
      "text/plain": [
       "            AF  IMPACT  sampleTimePt  gender   REFBIAS   VARBIAS  QUAL  \\\n",
       "261299  0.0032       1             1       1  1.013043  0.500000  24.3   \n",
       "256490  0.0069       1             1       0  1.009259  0.500000  24.3   \n",
       "294150  0.0037       1             1       0  1.011236  1.000000  31.0   \n",
       "212878  0.0068       1             1       0  1.027586  1.000000  37.0   \n",
       "305355  0.0025       1             1       1  1.040506  1.000000  37.0   \n",
       "24268   0.0066       1             1       0  1.027027  1.000000  37.0   \n",
       "206795  0.0029       1             0       0  1.017857  1.000000  37.0   \n",
       "520317  0.0025       1             1       1  1.033195  0.666667  27.0   \n",
       "23316   0.0108       1             1       0  1.050279  1.000000  27.5   \n",
       "228120  0.0030       1             1       0  1.037500  1.000000  31.0   \n",
       "\n",
       "        ODDRATIO  chipOrControl  DNMT3A  TET2  TP53  ASXL1  BCOR  other  \n",
       "261299   2.02459              1       0     0     0      0     0      1  \n",
       "256490   2.01539              0       0     0     0      0     0      1  \n",
       "294150   1.01122              1       0     0     0      0     0      1  \n",
       "212878   1.02754              1       0     0     0      0     0      1  \n",
       "305355   1.04047              0       0     0     0      0     0      1  \n",
       "24268    1.02694              1       0     0     0      0     0      1  \n",
       "206795   1.01783              1       0     0     0      1     0      0  \n",
       "520317   1.54944              0       0     0     0      0     0      1  \n",
       "23316    1.05016              1       0     0     0      0     0      1  \n",
       "228120   1.03745              0       0     0     0      0     0      1  "
      ]
     },
     "execution_count": 61,
     "metadata": {},
     "output_type": "execute_result"
    }
   ],
   "source": [
    "from sklearn.utils import shuffle\n",
    "X = shuffle(df)\n",
    "df_new = X\n",
    "df_new['chipOrControl'].describe()\n",
    "df_new.head(10)"
   ]
  },
  {
   "cell_type": "markdown",
   "metadata": {},
   "source": [
    "### Random Forest "
   ]
  },
  {
   "cell_type": "code",
   "execution_count": 62,
   "metadata": {
    "scrolled": true
   },
   "outputs": [
    {
     "name": "stdout",
     "output_type": "stream",
     "text": [
      "Accuracy 0.613\n"
     ]
    }
   ],
   "source": [
    "from sklearn.ensemble import RandomForestClassifier\n",
    "from sklearn.metrics import accuracy_score\n",
    "X = df_new.drop('chipOrControl', axis = 1)\n",
    "y = df_new['chipOrControl']\n",
    "X_train, X_test, y_train, y_test = train_test_split(X, y, train_size=.8, random_state=0)\n",
    "clf = RandomForestClassifier(n_estimators=50).fit(X_train, y_train)\n",
    "Y_pred = clf.predict(X_test) \n",
    "print('Accuracy {0}'.format(np.round(accuracy_score(y_test, Y_pred),3)))"
   ]
  },
  {
   "cell_type": "code",
   "execution_count": 63,
   "metadata": {},
   "outputs": [
    {
     "data": {
      "text/plain": [
       "REFBIAS         0.314562\n",
       "ODDRATIO        0.311113\n",
       "AF              0.196637\n",
       "QUAL            0.099613\n",
       "VARBIAS         0.049624\n",
       "gender          0.008287\n",
       "sampleTimePt    0.007267\n",
       "IMPACT          0.005445\n",
       "other           0.002488\n",
       "DNMT3A          0.001581\n",
       "ASXL1           0.001262\n",
       "TET2            0.001247\n",
       "BCOR            0.000686\n",
       "TP53            0.000188\n",
       "dtype: float64"
      ]
     },
     "execution_count": 63,
     "metadata": {},
     "output_type": "execute_result"
    }
   ],
   "source": [
    "FI = pd.Series(clf.feature_importances_, index=X.columns)\n",
    "FI.sort_values(ascending=False)"
   ]
  },
  {
   "cell_type": "code",
   "execution_count": 22,
   "metadata": {},
   "outputs": [],
   "source": [
    "X = df.drop('chipOrControl', axis = 1) # drop the target variable for the features\n",
    "y = df['chipOrControl'] # create a target dataframe\n",
    "# split the data into training and testing sets\n",
    "X_train, X_test, y_train, y_test = train_test_split(X, y, train_size=.8, random_state=0)\n",
    "# instantatiate the RFC with 100 ensemble members\n",
    "clf = RandomForestClassifier(n_estimators=100).fit(X_train, y_train)\n",
    "Y_pred = clf.predict(X_test)  # calculate the predicted values"
   ]
  },
  {
   "cell_type": "code",
   "execution_count": 20,
   "metadata": {},
   "outputs": [
    {
     "name": "stdout",
     "output_type": "stream",
     "text": [
      "Random Forest Accuracy: 0.549\n"
     ]
    },
    {
     "data": {
      "image/png": "[encoded data removed]",
      "text/plain": [
       "<Figure size 504x432 with 2 Axes>"
      ]
     },
     "metadata": {
      "needs_background": "light"
     },
     "output_type": "display_data"
    }
   ],
   "source": [
    "from sklearn.metrics import confusion_matrix, accuracy_score\n",
    "from logitplots import plt_confusion_matrix\n",
    "Y_pred = clf.predict(X_test) # calculate the predictions of the model for our test set\n",
    "# plot the confusion matrix for the test and predicted target values\n",
    "cm = confusion_matrix(y_test, Y_pred)\n",
    "plt_confusion_matrix(cm, ['Chip','Control'], 'Decision Tree') \n",
    "print(\"Random Forest Accuracy:\",np.round(accuracy_score(y_test, Y_pred),3)) # calculate and print the accuracy score"
   ]
  },
  {
   "cell_type": "markdown",
   "metadata": {},
   "source": [
    "### Decision Tree"
   ]
  },
  {
   "cell_type": "code",
   "execution_count": 64,
   "metadata": {
    "scrolled": true
   },
   "outputs": [],
   "source": [
    "X = df_new.drop('chipOrControl', axis = 1)\n",
    "y = df_new['chipOrControl']\n",
    "X_train, X_test, y_train, y_test = train_test_split(X, y,train_size =.5, random_state = 0)\n",
    "clf = DecisionTreeClassifier(random_state = 0, min_samples_leaf=4).fit(X_train, y_train)\n",
    "path = clf.cost_complexity_pruning_path(X_train, y_train)\n",
    "ccp_alphas, impurities = path.ccp_alphas, path.impurities\n",
    "clf = DecisionTreeClassifier(random_state = 0).fit(X_train, y_train)"
   ]
  },
  {
   "cell_type": "code",
   "execution_count": 65,
   "metadata": {
    "scrolled": false
   },
   "outputs": [
    {
     "name": "stdout",
     "output_type": "stream",
     "text": [
      "Decision Tree Accuracy: 0.594\n"
     ]
    },
    {
     "data": {
      "image/png": "[encoded data removed]",
      "text/plain": [
       "<Figure size 504x432 with 2 Axes>"
      ]
     },
     "metadata": {},
     "output_type": "display_data"
    }
   ],
   "source": [
    "from sklearn.metrics import confusion_matrix, accuracy_score\n",
    "from logitplots import plt_confusion_matrix\n",
    "Y_pred = clf.predict(X_test) # calculate the predictions of the model for our test set\n",
    "# plot the confusion matrix for the test and predicted target values\n",
    "cm = confusion_matrix(y_test, Y_pred)\n",
    "plt_confusion_matrix(cm, ['Chip','Control'], 'Decision Tree') \n",
    "print(\"Decision Tree Accuracy:\",np.round(accuracy_score(y_test, Y_pred),3)) # calculate and print the accuracy score"
   ]
  },
  {
   "cell_type": "code",
   "execution_count": 65,
   "metadata": {},
   "outputs": [
    {
     "name": "stdout",
     "output_type": "stream",
     "text": [
      "Accuracy 0.5\n",
      "Decision Tree Accuracy: 0.52\n"
     ]
    },
    {
     "data": {
      "image/png": "[encoded data removed]",
      "text/plain": [
       "<Figure size 504x432 with 2 Axes>"
      ]
     },
     "metadata": {
      "needs_background": "light"
     },
     "output_type": "display_data"
    }
   ],
   "source": [
    "from sklearn.model_selection import train_test_split, GridSearchCV\n",
    "decision_tree = DecisionTreeClassifier()\n",
    "param_grid = {'criterion': ['gini','entropy'], 'min_samples_split': [2, 5, 10, 20, 50], 'max_leaf_nodes': [3,4,5,6,7,8,9], 'max_depth': [3, 4, 5, 6], 'random_state': [0]}\n",
    "\n",
    "decision_tree_CV = GridSearchCV(estimator=decision_tree, param_grid=param_grid)\n",
    "decision_tree_CV.fit(X_train, y_train)\n",
    "\n",
    "y_pred = decision_tree_CV.predict(X_test)\n",
    "cm = confusion_matrix(y_test, Y_pred)\n",
    "plt_confusion_matrix(cm, ['Chip','Control'], 'Decision Tree') \n",
    "print(\"Decision Tree Accuracy:\",np.round(accuracy_score(y_test, Y_pred),3)) # calculate and print the accuracy score"
   ]
  },
  {
   "cell_type": "code",
   "execution_count": 27,
   "metadata": {},
   "outputs": [
    {
     "data": {
      "text/plain": [
       "Text(0.5, 1.0, 'Total Impurity vs effective alpha for training set')"
      ]
     },
     "execution_count": 27,
     "metadata": {},
     "output_type": "execute_result"
    },
    {
     "data": {
      "image/png": "[encoded data removed]",
      "text/plain": [
       "<Figure size 432x288 with 1 Axes>"
      ]
     },
     "metadata": {
      "needs_background": "light"
     },
     "output_type": "display_data"
    }
   ],
   "source": [
    "fig, ax = plt.subplots()\n",
    "ax.plot(ccp_alphas[:-1], impurities[:-1], marker='o', drawstyle=\"steps-post\")\n",
    "ax.set_xlabel(\"effective alpha\")\n",
    "ax.set_ylabel(\"total impurity of leaves\")\n",
    "ax.set_title(\"Total Impurity vs effective alpha for training set\")"
   ]
  },
  {
   "cell_type": "code",
   "execution_count": 28,
   "metadata": {},
   "outputs": [
    {
     "name": "stdout",
     "output_type": "stream",
     "text": [
      "Number of nodes in the last tree is: 5 with ccp_alpha: 0.027069309685272103\n"
     ]
    }
   ],
   "source": [
    "clfs = []\n",
    "for ccp_alpha in ccp_alphas:\n",
    "    clf = DecisionTreeClassifier(random_state=0, ccp_alpha=ccp_alpha)\n",
    "    clf.fit(X_train, y_train)\n",
    "    clfs.append(clf)\n",
    "print(\"Number of nodes in the last tree is: {} with ccp_alpha: {}\".format(\n",
    "      clfs[-1].tree_.node_count, ccp_alphas[-1]))"
   ]
  },
  {
   "cell_type": "code",
   "execution_count": 29,
   "metadata": {},
   "outputs": [
    {
     "data": {
      "image/png": "[encoded data removed]",
      "text/plain": [
       "<Figure size 432x288 with 2 Axes>"
      ]
     },
     "metadata": {
      "needs_background": "light"
     },
     "output_type": "display_data"
    }
   ],
   "source": [
    "clfs = clfs[:-1]\n",
    "ccp_alphas = ccp_alphas[:-1]\n",
    "\n",
    "node_counts = [clf.tree_.node_count for clf in clfs]\n",
    "depth = [clf.tree_.max_depth for clf in clfs]\n",
    "fig, ax = plt.subplots(2, 1)\n",
    "ax[0].plot(ccp_alphas, node_counts, marker='o', drawstyle=\"steps-post\")\n",
    "ax[0].set_xlabel(\"alpha\")\n",
    "ax[0].set_ylabel(\"number of nodes\")\n",
    "ax[0].set_title(\"Number of nodes vs alpha\")\n",
    "ax[1].plot(ccp_alphas, depth, marker='o', drawstyle=\"steps-post\")\n",
    "ax[1].set_xlabel(\"alpha\")\n",
    "ax[1].set_ylabel(\"depth of tree\")\n",
    "ax[1].set_title(\"Depth vs alpha\")\n",
    "fig.tight_layout()"
   ]
  },
  {
   "cell_type": "code",
   "execution_count": 30,
   "metadata": {},
   "outputs": [
    {
     "data": {
      "image/png": "[encoded data removed]",
      "text/plain": [
       "<Figure size 432x288 with 1 Axes>"
      ]
     },
     "metadata": {
      "needs_background": "light"
     },
     "output_type": "display_data"
    }
   ],
   "source": [
    "train_scores = [clf.score(X_train, y_train) for clf in clfs]\n",
    "test_scores = [clf.score(X_test, y_test) for clf in clfs]\n",
    "\n",
    "fig, ax = plt.subplots()\n",
    "ax.set_xlabel(\"alpha\")\n",
    "ax.set_ylabel(\"accuracy\")\n",
    "ax.set_title(\"Accuracy vs alpha for training and testing sets\")\n",
    "ax.plot(ccp_alphas, train_scores, marker='o', label=\"train\",\n",
    "        drawstyle=\"steps-post\")\n",
    "ax.plot(ccp_alphas, test_scores, marker='o', label=\"test\",\n",
    "        drawstyle=\"steps-post\")\n",
    "ax.legend()\n",
    "plt.show()"
   ]
  },
  {
   "cell_type": "markdown",
   "metadata": {},
   "source": [
    "## Ada Boosting Classifier"
   ]
  },
  {
   "cell_type": "code",
   "execution_count": 12,
   "metadata": {},
   "outputs": [],
   "source": [
    "from sklearn.ensemble import AdaBoostClassifier"
   ]
  },
  {
   "cell_type": "code",
   "execution_count": 13,
   "metadata": {},
   "outputs": [
    {
     "name": "stdout",
     "output_type": "stream",
     "text": [
      "Accuracy 0.609\n"
     ]
    }
   ],
   "source": [
    "ada_clf = AdaBoostClassifier(DecisionTreeClassifier(), n_estimators=50, learning_rate=0.5, algorithm= 'SAMME')\n",
    "ada_clf.fit(X_train, y_train)\n",
    "y_pred = ada_clf.predict(X_test)  # calculate the predicted values\n",
    "# print the accuracy of the classifier\n",
    "print('Accuracy {0}'.format(np.round(accuracy_score(y_test, y_pred),3)))"
   ]
  },
  {
   "cell_type": "code",
   "execution_count": null,
   "metadata": {},
   "outputs": [],
   "source": [
    "ada_clf = AdaBoostClassifier(DecisionTreeClassifier(), n_estimators=50, learning_rate=0.5, algorithm= 'SAMME')\n",
    "ada_clf.fit(X_train, y_train)\n",
    "y_pred = ada_clf.predict(X_test)  # calculate the predicted values\n",
    "# print the accuracy of the classifier\n",
    "print('Accuracy {0}'.format(np.round(accuracy_score(y_test, y_pred),3)))"
   ]
  },
  {
   "cell_type": "code",
   "execution_count": 14,
   "metadata": {
    "scrolled": true
   },
   "outputs": [
    {
     "data": {
      "text/plain": [
       "REFBIAS         0.315386\n",
       "ODDRATIO        0.300622\n",
       "AF              0.189961\n",
       "QUAL            0.087007\n",
       "VARBIAS         0.034219\n",
       "sampleTimePt    0.020029\n",
       "gender          0.019547\n",
       "IMPACT          0.017066\n",
       "other           0.006104\n",
       "DNMT3A          0.003661\n",
       "ASXL1           0.002910\n",
       "TET2            0.002302\n",
       "BCOR            0.001079\n",
       "TP53            0.000107\n",
       "dtype: float64"
      ]
     },
     "execution_count": 14,
     "metadata": {},
     "output_type": "execute_result"
    }
   ],
   "source": [
    "FI = pd.Series(ada_clf.feature_importances_, index=X.columns)\n",
    "FI.sort_values(ascending=False)"
   ]
  },
  {
   "cell_type": "code",
   "execution_count": 69,
   "metadata": {},
   "outputs": [
    {
     "name": "stdout",
     "output_type": "stream",
     "text": [
      "6 19\r"
     ]
    },
    {
     "data": {
      "text/html": [
       "<div>\n",
       "<style scoped>\n",
       "    .dataframe tbody tr th:only-of-type {\n",
       "        vertical-align: middle;\n",
       "    }\n",
       "\n",
       "    .dataframe tbody tr th {\n",
       "        vertical-align: top;\n",
       "    }\n",
       "\n",
       "    .dataframe thead th {\n",
       "        text-align: right;\n",
       "    }\n",
       "</style>\n",
       "<table border=\"1\" class=\"dataframe\">\n",
       "  <thead>\n",
       "    <tr style=\"text-align: right;\">\n",
       "      <th></th>\n",
       "      <th>0.2</th>\n",
       "      <th>0.5</th>\n",
       "      <th>0.8</th>\n",
       "      <th>1.1</th>\n",
       "      <th>1.4</th>\n",
       "      <th>1.7</th>\n",
       "      <th>2.0</th>\n",
       "    </tr>\n",
       "  </thead>\n",
       "  <tbody>\n",
       "    <tr>\n",
       "      <th>5</th>\n",
       "      <td>0.552733</td>\n",
       "      <td>0.552733</td>\n",
       "      <td>0.552897</td>\n",
       "      <td>0.553946</td>\n",
       "      <td>0.555029</td>\n",
       "      <td>0.553471</td>\n",
       "      <td>0.552733</td>\n",
       "    </tr>\n",
       "    <tr>\n",
       "      <th>10</th>\n",
       "      <td>0.552733</td>\n",
       "      <td>0.552733</td>\n",
       "      <td>0.554078</td>\n",
       "      <td>0.553044</td>\n",
       "      <td>0.553208</td>\n",
       "      <td>0.553356</td>\n",
       "      <td>0.454698</td>\n",
       "    </tr>\n",
       "    <tr>\n",
       "      <th>15</th>\n",
       "      <td>0.552733</td>\n",
       "      <td>0.553356</td>\n",
       "      <td>0.553602</td>\n",
       "      <td>0.553077</td>\n",
       "      <td>0.553143</td>\n",
       "      <td>0.553405</td>\n",
       "      <td>0.552733</td>\n",
       "    </tr>\n",
       "    <tr>\n",
       "      <th>20</th>\n",
       "      <td>0.552733</td>\n",
       "      <td>0.553536</td>\n",
       "      <td>0.553881</td>\n",
       "      <td>0.554389</td>\n",
       "      <td>0.553372</td>\n",
       "      <td>0.553733</td>\n",
       "      <td>0.454698</td>\n",
       "    </tr>\n",
       "    <tr>\n",
       "      <th>25</th>\n",
       "      <td>0.552782</td>\n",
       "      <td>0.553700</td>\n",
       "      <td>0.553372</td>\n",
       "      <td>0.554078</td>\n",
       "      <td>0.554455</td>\n",
       "      <td>0.553487</td>\n",
       "      <td>0.552733</td>\n",
       "    </tr>\n",
       "    <tr>\n",
       "      <th>30</th>\n",
       "      <td>0.552782</td>\n",
       "      <td>0.552880</td>\n",
       "      <td>0.553487</td>\n",
       "      <td>0.553914</td>\n",
       "      <td>0.553356</td>\n",
       "      <td>0.554160</td>\n",
       "      <td>0.454698</td>\n",
       "    </tr>\n",
       "    <tr>\n",
       "      <th>35</th>\n",
       "      <td>0.552782</td>\n",
       "      <td>0.552634</td>\n",
       "      <td>0.553225</td>\n",
       "      <td>0.554045</td>\n",
       "      <td>0.553274</td>\n",
       "      <td>0.551519</td>\n",
       "      <td>0.552733</td>\n",
       "    </tr>\n",
       "    <tr>\n",
       "      <th>40</th>\n",
       "      <td>0.552864</td>\n",
       "      <td>0.553028</td>\n",
       "      <td>0.553946</td>\n",
       "      <td>0.554012</td>\n",
       "      <td>0.552831</td>\n",
       "      <td>0.551224</td>\n",
       "      <td>0.454698</td>\n",
       "    </tr>\n",
       "    <tr>\n",
       "      <th>45</th>\n",
       "      <td>0.553241</td>\n",
       "      <td>0.553143</td>\n",
       "      <td>0.553339</td>\n",
       "      <td>0.554028</td>\n",
       "      <td>0.552733</td>\n",
       "      <td>0.551355</td>\n",
       "      <td>0.552733</td>\n",
       "    </tr>\n",
       "    <tr>\n",
       "      <th>50</th>\n",
       "      <td>0.553208</td>\n",
       "      <td>0.553520</td>\n",
       "      <td>0.553520</td>\n",
       "      <td>0.554537</td>\n",
       "      <td>0.553159</td>\n",
       "      <td>0.550075</td>\n",
       "      <td>0.454698</td>\n",
       "    </tr>\n",
       "    <tr>\n",
       "      <th>55</th>\n",
       "      <td>0.553290</td>\n",
       "      <td>0.553602</td>\n",
       "      <td>0.553996</td>\n",
       "      <td>0.554570</td>\n",
       "      <td>0.554192</td>\n",
       "      <td>0.552076</td>\n",
       "      <td>0.552733</td>\n",
       "    </tr>\n",
       "    <tr>\n",
       "      <th>60</th>\n",
       "      <td>0.553454</td>\n",
       "      <td>0.553635</td>\n",
       "      <td>0.553881</td>\n",
       "      <td>0.556472</td>\n",
       "      <td>0.553848</td>\n",
       "      <td>0.552651</td>\n",
       "      <td>0.454698</td>\n",
       "    </tr>\n",
       "    <tr>\n",
       "      <th>65</th>\n",
       "      <td>0.553471</td>\n",
       "      <td>0.554012</td>\n",
       "      <td>0.554061</td>\n",
       "      <td>0.555193</td>\n",
       "      <td>0.552880</td>\n",
       "      <td>0.552224</td>\n",
       "      <td>0.552733</td>\n",
       "    </tr>\n",
       "    <tr>\n",
       "      <th>70</th>\n",
       "      <td>0.553454</td>\n",
       "      <td>0.553963</td>\n",
       "      <td>0.554488</td>\n",
       "      <td>0.554832</td>\n",
       "      <td>0.554258</td>\n",
       "      <td>0.554930</td>\n",
       "      <td>0.454698</td>\n",
       "    </tr>\n",
       "    <tr>\n",
       "      <th>75</th>\n",
       "      <td>0.553766</td>\n",
       "      <td>0.554537</td>\n",
       "      <td>0.554028</td>\n",
       "      <td>0.554947</td>\n",
       "      <td>0.553175</td>\n",
       "      <td>0.552257</td>\n",
       "      <td>0.552733</td>\n",
       "    </tr>\n",
       "    <tr>\n",
       "      <th>80</th>\n",
       "      <td>0.553832</td>\n",
       "      <td>0.553963</td>\n",
       "      <td>0.554192</td>\n",
       "      <td>0.554258</td>\n",
       "      <td>0.552864</td>\n",
       "      <td>0.554324</td>\n",
       "      <td>0.454698</td>\n",
       "    </tr>\n",
       "    <tr>\n",
       "      <th>85</th>\n",
       "      <td>0.553832</td>\n",
       "      <td>0.553782</td>\n",
       "      <td>0.554176</td>\n",
       "      <td>0.554504</td>\n",
       "      <td>0.552765</td>\n",
       "      <td>0.554488</td>\n",
       "      <td>0.552733</td>\n",
       "    </tr>\n",
       "    <tr>\n",
       "      <th>90</th>\n",
       "      <td>0.553815</td>\n",
       "      <td>0.553963</td>\n",
       "      <td>0.554274</td>\n",
       "      <td>0.554652</td>\n",
       "      <td>0.554127</td>\n",
       "      <td>0.554668</td>\n",
       "      <td>0.454698</td>\n",
       "    </tr>\n",
       "    <tr>\n",
       "      <th>95</th>\n",
       "      <td>0.553963</td>\n",
       "      <td>0.554324</td>\n",
       "      <td>0.554602</td>\n",
       "      <td>0.554307</td>\n",
       "      <td>0.554028</td>\n",
       "      <td>0.552864</td>\n",
       "      <td>0.552733</td>\n",
       "    </tr>\n",
       "    <tr>\n",
       "      <th>100</th>\n",
       "      <td>0.553946</td>\n",
       "      <td>0.554110</td>\n",
       "      <td>0.554176</td>\n",
       "      <td>0.554865</td>\n",
       "      <td>0.553881</td>\n",
       "      <td>0.553405</td>\n",
       "      <td>0.454698</td>\n",
       "    </tr>\n",
       "  </tbody>\n",
       "</table>\n",
       "</div>"
      ],
      "text/plain": [
       "          0.2       0.5       0.8       1.1       1.4       1.7       2.0\n",
       "5    0.552733  0.552733  0.552897  0.553946  0.555029  0.553471  0.552733\n",
       "10   0.552733  0.552733  0.554078  0.553044  0.553208  0.553356  0.454698\n",
       "15   0.552733  0.553356  0.553602  0.553077  0.553143  0.553405  0.552733\n",
       "20   0.552733  0.553536  0.553881  0.554389  0.553372  0.553733  0.454698\n",
       "25   0.552782  0.553700  0.553372  0.554078  0.554455  0.553487  0.552733\n",
       "30   0.552782  0.552880  0.553487  0.553914  0.553356  0.554160  0.454698\n",
       "35   0.552782  0.552634  0.553225  0.554045  0.553274  0.551519  0.552733\n",
       "40   0.552864  0.553028  0.553946  0.554012  0.552831  0.551224  0.454698\n",
       "45   0.553241  0.553143  0.553339  0.554028  0.552733  0.551355  0.552733\n",
       "50   0.553208  0.553520  0.553520  0.554537  0.553159  0.550075  0.454698\n",
       "55   0.553290  0.553602  0.553996  0.554570  0.554192  0.552076  0.552733\n",
       "60   0.553454  0.553635  0.553881  0.556472  0.553848  0.552651  0.454698\n",
       "65   0.553471  0.554012  0.554061  0.555193  0.552880  0.552224  0.552733\n",
       "70   0.553454  0.553963  0.554488  0.554832  0.554258  0.554930  0.454698\n",
       "75   0.553766  0.554537  0.554028  0.554947  0.553175  0.552257  0.552733\n",
       "80   0.553832  0.553963  0.554192  0.554258  0.552864  0.554324  0.454698\n",
       "85   0.553832  0.553782  0.554176  0.554504  0.552765  0.554488  0.552733\n",
       "90   0.553815  0.553963  0.554274  0.554652  0.554127  0.554668  0.454698\n",
       "95   0.553963  0.554324  0.554602  0.554307  0.554028  0.552864  0.552733\n",
       "100  0.553946  0.554110  0.554176  0.554865  0.553881  0.553405  0.454698"
      ]
     },
     "execution_count": 69,
     "metadata": {},
     "output_type": "execute_result"
    }
   ],
   "source": [
    "lrates = np.arange(0.2, 2.3, 0.3)\n",
    "nests = np.arange(5, 105, 5)\n",
    "results = np.zeros((len(nests), len(lrates)))\n",
    "for i in range(len(lrates)):\n",
    "    for j in range(len(nests)):\n",
    "        print(i, j, end='\\r')\n",
    "        ada_clf = AdaBoostClassifier(n_estimators=nests[j], learning_rate=lrates[i])\n",
    "        ada_clf.fit(X_train, y_train)\n",
    "        y_pred = ada_clf.predict(X_test)  # calculate the predicted values\n",
    "        # evaluate the model and collect the results\n",
    "        results[j,i] = accuracy_score(y_test, y_pred)\n",
    "\n",
    "results_df = pd.DataFrame(results, columns=np.round(lrates, 1), index=nests)\n",
    "results_df"
   ]
  },
  {
   "cell_type": "code",
   "execution_count": 72,
   "metadata": {},
   "outputs": [
    {
     "data": {
      "text/html": [
       "<div>\n",
       "<style scoped>\n",
       "    .dataframe tbody tr th:only-of-type {\n",
       "        vertical-align: middle;\n",
       "    }\n",
       "\n",
       "    .dataframe tbody tr th {\n",
       "        vertical-align: top;\n",
       "    }\n",
       "\n",
       "    .dataframe thead th {\n",
       "        text-align: right;\n",
       "    }\n",
       "</style>\n",
       "<table border=\"1\" class=\"dataframe\">\n",
       "  <thead>\n",
       "    <tr style=\"text-align: right;\">\n",
       "      <th></th>\n",
       "      <th>0.2</th>\n",
       "      <th>0.5</th>\n",
       "      <th>0.8</th>\n",
       "      <th>1.1</th>\n",
       "      <th>1.4</th>\n",
       "      <th>1.7</th>\n",
       "      <th>2.0</th>\n",
       "    </tr>\n",
       "  </thead>\n",
       "  <tbody>\n",
       "    <tr>\n",
       "      <th>idxmax</th>\n",
       "      <td>95.000000</td>\n",
       "      <td>75.000000</td>\n",
       "      <td>95.000000</td>\n",
       "      <td>60.000000</td>\n",
       "      <td>5.000000</td>\n",
       "      <td>70.000000</td>\n",
       "      <td>5.000000</td>\n",
       "    </tr>\n",
       "    <tr>\n",
       "      <th>max</th>\n",
       "      <td>0.553963</td>\n",
       "      <td>0.554537</td>\n",
       "      <td>0.554602</td>\n",
       "      <td>0.556472</td>\n",
       "      <td>0.555029</td>\n",
       "      <td>0.554930</td>\n",
       "      <td>0.552733</td>\n",
       "    </tr>\n",
       "    <tr>\n",
       "      <th>min</th>\n",
       "      <td>0.552733</td>\n",
       "      <td>0.552634</td>\n",
       "      <td>0.552897</td>\n",
       "      <td>0.553044</td>\n",
       "      <td>0.552733</td>\n",
       "      <td>0.550075</td>\n",
       "      <td>0.454698</td>\n",
       "    </tr>\n",
       "  </tbody>\n",
       "</table>\n",
       "</div>"
      ],
      "text/plain": [
       "              0.2        0.5        0.8        1.1       1.4        1.7  \\\n",
       "idxmax  95.000000  75.000000  95.000000  60.000000  5.000000  70.000000   \n",
       "max      0.553963   0.554537   0.554602   0.556472  0.555029   0.554930   \n",
       "min      0.552733   0.552634   0.552897   0.553044  0.552733   0.550075   \n",
       "\n",
       "             2.0  \n",
       "idxmax  5.000000  \n",
       "max     0.552733  \n",
       "min     0.454698  "
      ]
     },
     "execution_count": 72,
     "metadata": {},
     "output_type": "execute_result"
    }
   ],
   "source": [
    "results_df.agg(['idxmax', 'max','min'], axis=0)"
   ]
  },
  {
   "cell_type": "code",
   "execution_count": 74,
   "metadata": {},
   "outputs": [
    {
     "data": {
      "text/plain": [
       "<matplotlib.legend.Legend at 0x8241fe8>"
      ]
     },
     "execution_count": 74,
     "metadata": {},
     "output_type": "execute_result"
    },
    {
     "data": {
      "image/png": "[encoded data removed]",
      "text/plain": [
       "<Figure size 432x288 with 1 Axes>"
      ]
     },
     "metadata": {},
     "output_type": "display_data"
    }
   ],
   "source": [
    "import seaborn as sns\n",
    "sns.set();\n",
    "sns.lineplot(data=results_df)\n",
    "plt.ylim((.45,.6))\n",
    "plt.xlabel('Estimators')\n",
    "plt.ylabel('Accuracy')\n",
    "plt.legend(bbox_to_anchor=(1.02, 0.85), loc='upper left', borderaxespad=0)"
   ]
  },
  {
   "cell_type": "code",
   "execution_count": 75,
   "metadata": {},
   "outputs": [],
   "source": [
    "from sklearn.model_selection import cross_val_score\n",
    "from sklearn.model_selection import RepeatedStratifiedKFold"
   ]
  },
  {
   "cell_type": "code",
   "execution_count": 76,
   "metadata": {},
   "outputs": [
    {
     "name": "stdout",
     "output_type": "stream",
     "text": [
      "6.00 0.457 0.006\r"
     ]
    },
    {
     "data": {
      "text/plain": [
       "(0.45, 0.6)"
      ]
     },
     "execution_count": 76,
     "metadata": {},
     "output_type": "execute_result"
    },
    {
     "data": {
      "image/png": "[encoded data removed]",
      "text/plain": [
       "<Figure size 432x288 with 1 Axes>"
      ]
     },
     "metadata": {},
     "output_type": "display_data"
    }
   ],
   "source": [
    "results = np.zeros((len(lrates),15))\n",
    "for i in range(len(lrates)):\n",
    "    model = AdaBoostClassifier(learning_rate=lrates[i])\n",
    "    cv = RepeatedStratifiedKFold(n_splits=5, n_repeats=3, random_state=1)\n",
    "    # evaluate the model and collect the results\n",
    "    scores = cross_val_score(model, X, y, scoring='accuracy', cv=cv)\n",
    "    results[i,:] = scores\n",
    "    print('%.2f %.3f %.3f' % (i, np.mean(scores), np.std(scores)), end='\\r')\n",
    "\n",
    "results_df = pd.DataFrame(results.T, columns=np.round(lrates, 1))\n",
    "sns.boxplot(data=results_df)\n",
    "plt.xlabel('Learning rate')\n",
    "plt.ylabel('Accuracy')\n",
    "plt.ylim((.45,.6))"
   ]
  },
  {
   "cell_type": "code",
   "execution_count": 77,
   "metadata": {},
   "outputs": [
    {
     "name": "stdout",
     "output_type": "stream",
     "text": [
      "19.00 0.554 0.001\r"
     ]
    },
    {
     "data": {
      "text/plain": [
       "(0.5, 0.6)"
      ]
     },
     "execution_count": 77,
     "metadata": {},
     "output_type": "execute_result"
    },
    {
     "data": {
      "image/png": "[encoded data removed]",
      "text/plain": [
       "<Figure size 432x288 with 1 Axes>"
      ]
     },
     "metadata": {},
     "output_type": "display_data"
    }
   ],
   "source": [
    "results = np.zeros((len(nests),15))\n",
    "for i in np.arange(len(nests)):\n",
    "    model = AdaBoostClassifier(n_estimators=nests[i], learning_rate=0.5)\n",
    "    cv = RepeatedStratifiedKFold(n_splits=5, n_repeats=3, random_state=1)\n",
    "    # evaluate the model and collect the results\n",
    "    scores = cross_val_score(model, X, y, scoring='accuracy', cv=cv)\n",
    "    results[i,:] = scores\n",
    "    print('%.2f %.3f %.3f' % (i, np.mean(scores), np.std(scores)), end='\\r')\n",
    "\n",
    "results_df = pd.DataFrame(results.T, columns=nests)\n",
    "sns.boxplot(data=results_df)\n",
    "plt.xlabel('Iterations')\n",
    "plt.ylabel('Accuracy')\n",
    "plt.ylim((.54,.56))"
   ]
  },
  {
   "cell_type": "code",
   "execution_count": 28,
   "metadata": {},
   "outputs": [
    {
     "name": "stdout",
     "output_type": "stream",
     "text": [
      "Ada Boosted Accuracy: 0.556\n"
     ]
    },
    {
     "data": {
      "image/png": "[encoded data removed]",
      "text/plain": [
       "<Figure size 504x432 with 2 Axes>"
      ]
     },
     "metadata": {
      "needs_background": "light"
     },
     "output_type": "display_data"
    }
   ],
   "source": [
    "Y_pred = clf.predict(X_test3) # calculate the predictions of the model for our test set\n",
    "# plot the confusion matrix for the test and predicted target values\n",
    "cm = confusion_matrix(y_test3, Y_pred)\n",
    "plt_confusion_matrix(cm, ['Chip','Control'], 'Ada Boosted Classifier') \n",
    "print(\"Ada Boosted Accuracy:\",np.round(accuracy_score(y_test3, Y_pred),3)) # calculate and print the accuracy score"
   ]
  },
  {
   "cell_type": "markdown",
   "metadata": {},
   "source": [
    "## Using DataFrame 2"
   ]
  },
  {
   "cell_type": "code",
   "execution_count": null,
   "metadata": {},
   "outputs": [],
   "source": [
    "for i in df2:\n",
    "    df2.dropna(subset=[i], how='any',inplace=True)\n",
    "df2 = df2[(df2.chipOrControl != \"Blank\") & (df2.chipOrControl != \"Unknown\")]\n",
    "\n",
    "refbias = []\n",
    "for ratio in df2.REFBIAS.array:\n",
    "    refbias.append(ratio_to_int(ratio)) \n",
    "df2['REFBIAS'] = pd.Series(refbias).values\n",
    "\n",
    "location = []\n",
    "for loci in df2.loci:\n",
    "    location.append(loci.split(\":\")[0])\n",
    "\n",
    "df2['loci_shortened'] = pd.Series(location, index=df2.index)\n",
    "dict = {}\n",
    "df2_new = df2\n",
    "for ix, loci_shortened in zip(range(len(df2_new['loci_shortened'].unique())), df2_new['loci_shortened'].unique() ):\n",
    "    dict[loci_shortened] = ix\n",
    "    \n",
    "df2 = df2.replace({'loci_shortened': dict})\n",
    "df2[\"loci_shortened\"] = df2[\"loci_shortened\"].astype(str).astype(float)\n",
    "\n",
    "df2 = df2.drop(['d.barcode','MSID','DP','HIAF','VD','loci','BIAS','VARBIAS'], axis = 1)\n",
    "shorted = ['SYMBOL', 'IMPACT','sampleTimePt', 'gender', 'chipOrControl']\n",
    "for i in shorted:\n",
    "    df2[f\"{i}\"] = df2[f\"{i}\"].astype('category').cat.codes\n"
   ]
  },
  {
   "cell_type": "code",
   "execution_count": 25,
   "metadata": {},
   "outputs": [
    {
     "data": {
      "text/html": [
       "<div>\n",
       "<style scoped>\n",
       "    .dataframe tbody tr th:only-of-type {\n",
       "        vertical-align: middle;\n",
       "    }\n",
       "\n",
       "    .dataframe tbody tr th {\n",
       "        vertical-align: top;\n",
       "    }\n",
       "\n",
       "    .dataframe thead th {\n",
       "        text-align: right;\n",
       "    }\n",
       "</style>\n",
       "<table border=\"1\" class=\"dataframe\">\n",
       "  <thead>\n",
       "    <tr style=\"text-align: right;\">\n",
       "      <th></th>\n",
       "      <th>d.barcode</th>\n",
       "      <th>DP</th>\n",
       "      <th>VD</th>\n",
       "      <th>AF</th>\n",
       "      <th>HIAF</th>\n",
       "      <th>IMPACT</th>\n",
       "      <th>SYMBOL</th>\n",
       "      <th>loci</th>\n",
       "      <th>sampleTimePt</th>\n",
       "      <th>gender</th>\n",
       "      <th>MSID</th>\n",
       "      <th>BIAS</th>\n",
       "      <th>REFBIAS</th>\n",
       "      <th>VARBIAS</th>\n",
       "      <th>QUAL</th>\n",
       "      <th>ODDRATIO</th>\n",
       "      <th>chipOrControl</th>\n",
       "    </tr>\n",
       "  </thead>\n",
       "  <tbody>\n",
       "    <tr>\n",
       "      <th>447850</th>\n",
       "      <td>4010289733</td>\n",
       "      <td>2432</td>\n",
       "      <td>6</td>\n",
       "      <td>0.0025</td>\n",
       "      <td>0.0033</td>\n",
       "      <td>MODERATE</td>\n",
       "      <td>DNMT3A</td>\n",
       "      <td>chr2:25471042_TCCA/GCCC</td>\n",
       "      <td>Baseline</td>\n",
       "      <td>Male</td>\n",
       "      <td>MS13311</td>\n",
       "      <td>2:0</td>\n",
       "      <td>823:1256</td>\n",
       "      <td>6:0</td>\n",
       "      <td>34.0</td>\n",
       "      <td>0.000000</td>\n",
       "      <td>Control</td>\n",
       "    </tr>\n",
       "    <tr>\n",
       "      <th>474357</th>\n",
       "      <td>4010289743</td>\n",
       "      <td>754</td>\n",
       "      <td>2</td>\n",
       "      <td>0.0027</td>\n",
       "      <td>0.0027</td>\n",
       "      <td>HIGH</td>\n",
       "      <td>DNMT3A</td>\n",
       "      <td>chr2:25463170_C/T</td>\n",
       "      <td>Baseline</td>\n",
       "      <td>Female</td>\n",
       "      <td>MS13994</td>\n",
       "      <td>2:2</td>\n",
       "      <td>388:362</td>\n",
       "      <td>1:1</td>\n",
       "      <td>37.0</td>\n",
       "      <td>1.071690</td>\n",
       "      <td>Control</td>\n",
       "    </tr>\n",
       "    <tr>\n",
       "      <th>664032</th>\n",
       "      <td>4010289806</td>\n",
       "      <td>1100</td>\n",
       "      <td>4</td>\n",
       "      <td>0.0036</td>\n",
       "      <td>0.0029</td>\n",
       "      <td>MODERATE</td>\n",
       "      <td>TET2</td>\n",
       "      <td>chr4:106157353_A/G</td>\n",
       "      <td>Y3</td>\n",
       "      <td>Male</td>\n",
       "      <td>MS11186</td>\n",
       "      <td>2:2</td>\n",
       "      <td>564:505</td>\n",
       "      <td>2:2</td>\n",
       "      <td>30.5</td>\n",
       "      <td>1.116720</td>\n",
       "      <td>Control</td>\n",
       "    </tr>\n",
       "    <tr>\n",
       "      <th>1133079</th>\n",
       "      <td>4010289939</td>\n",
       "      <td>4602</td>\n",
       "      <td>15</td>\n",
       "      <td>0.0033</td>\n",
       "      <td>0.0031</td>\n",
       "      <td>MODERATE</td>\n",
       "      <td>DNMT3A</td>\n",
       "      <td>chr2:25463239_A/G</td>\n",
       "      <td>Baseline</td>\n",
       "      <td>Male</td>\n",
       "      <td>MS9016</td>\n",
       "      <td>2:2</td>\n",
       "      <td>2332:2115</td>\n",
       "      <td>9:6</td>\n",
       "      <td>33.5</td>\n",
       "      <td>1.360322</td>\n",
       "      <td>Unknown</td>\n",
       "    </tr>\n",
       "    <tr>\n",
       "      <th>1213827</th>\n",
       "      <td>4010289962</td>\n",
       "      <td>8836</td>\n",
       "      <td>80</td>\n",
       "      <td>0.0091</td>\n",
       "      <td>0.0058</td>\n",
       "      <td>MODERATE</td>\n",
       "      <td>TET2</td>\n",
       "      <td>chr4:106155366_G/T</td>\n",
       "      <td>Y3</td>\n",
       "      <td>Male</td>\n",
       "      <td>MS13208</td>\n",
       "      <td>2:2</td>\n",
       "      <td>3214:5534</td>\n",
       "      <td>49:31</td>\n",
       "      <td>25.4</td>\n",
       "      <td>2.721311</td>\n",
       "      <td>Unknown</td>\n",
       "    </tr>\n",
       "    <tr>\n",
       "      <th>583669</th>\n",
       "      <td>4010289779</td>\n",
       "      <td>6407</td>\n",
       "      <td>36</td>\n",
       "      <td>0.0056</td>\n",
       "      <td>0.0049</td>\n",
       "      <td>MODERATE</td>\n",
       "      <td>TP53</td>\n",
       "      <td>chr17:7577096_T/C</td>\n",
       "      <td>Baseline</td>\n",
       "      <td>Female</td>\n",
       "      <td>MS4019</td>\n",
       "      <td>2:2</td>\n",
       "      <td>3149:3216</td>\n",
       "      <td>19:17</td>\n",
       "      <td>32.7</td>\n",
       "      <td>1.141396</td>\n",
       "      <td>CHIP</td>\n",
       "    </tr>\n",
       "    <tr>\n",
       "      <th>1077132</th>\n",
       "      <td>4010289920</td>\n",
       "      <td>2784</td>\n",
       "      <td>15</td>\n",
       "      <td>0.0054</td>\n",
       "      <td>0.0047</td>\n",
       "      <td>MODERATE</td>\n",
       "      <td>TET2</td>\n",
       "      <td>chr4:106194049_A/C</td>\n",
       "      <td>Blank</td>\n",
       "      <td>Blank</td>\n",
       "      <td>NaN</td>\n",
       "      <td>2:2</td>\n",
       "      <td>1439:1316</td>\n",
       "      <td>7:8</td>\n",
       "      <td>26.2</td>\n",
       "      <td>1.249570</td>\n",
       "      <td>NaN</td>\n",
       "    </tr>\n",
       "    <tr>\n",
       "      <th>693810</th>\n",
       "      <td>4010289818</td>\n",
       "      <td>394</td>\n",
       "      <td>2</td>\n",
       "      <td>0.0051</td>\n",
       "      <td>0.0052</td>\n",
       "      <td>MODERATE</td>\n",
       "      <td>TET2</td>\n",
       "      <td>chr4:106196280_C/G</td>\n",
       "      <td>Blank</td>\n",
       "      <td>Blank</td>\n",
       "      <td>NaN</td>\n",
       "      <td>2:2</td>\n",
       "      <td>200:191</td>\n",
       "      <td>1:1</td>\n",
       "      <td>37.0</td>\n",
       "      <td>1.047010</td>\n",
       "      <td>Blank</td>\n",
       "    </tr>\n",
       "    <tr>\n",
       "      <th>390816</th>\n",
       "      <td>4010289717</td>\n",
       "      <td>19490</td>\n",
       "      <td>49</td>\n",
       "      <td>0.0025</td>\n",
       "      <td>0.0021</td>\n",
       "      <td>MODERATE</td>\n",
       "      <td>RAD21</td>\n",
       "      <td>chr8:117875480_T/C</td>\n",
       "      <td>Baseline</td>\n",
       "      <td>Male</td>\n",
       "      <td>MS9816</td>\n",
       "      <td>2:2</td>\n",
       "      <td>9846:9578</td>\n",
       "      <td>21:28</td>\n",
       "      <td>31.0</td>\n",
       "      <td>1.370610</td>\n",
       "      <td>Control</td>\n",
       "    </tr>\n",
       "    <tr>\n",
       "      <th>1204515</th>\n",
       "      <td>4010289959</td>\n",
       "      <td>2163</td>\n",
       "      <td>32</td>\n",
       "      <td>0.0148</td>\n",
       "      <td>0.0288</td>\n",
       "      <td>MODERATE</td>\n",
       "      <td>ASXL1</td>\n",
       "      <td>chr20:31021164_T/G</td>\n",
       "      <td>Baseline</td>\n",
       "      <td>Male</td>\n",
       "      <td>MS9607</td>\n",
       "      <td>1:1</td>\n",
       "      <td>2125:0</td>\n",
       "      <td>32:0</td>\n",
       "      <td>30.8</td>\n",
       "      <td>0.000000</td>\n",
       "      <td>Unknown</td>\n",
       "    </tr>\n",
       "  </tbody>\n",
       "</table>\n",
       "</div>"
      ],
      "text/plain": [
       "          d.barcode     DP  VD      AF    HIAF    IMPACT  SYMBOL  \\\n",
       "447850   4010289733   2432   6  0.0025  0.0033  MODERATE  DNMT3A   \n",
       "474357   4010289743    754   2  0.0027  0.0027      HIGH  DNMT3A   \n",
       "664032   4010289806   1100   4  0.0036  0.0029  MODERATE    TET2   \n",
       "1133079  4010289939   4602  15  0.0033  0.0031  MODERATE  DNMT3A   \n",
       "1213827  4010289962   8836  80  0.0091  0.0058  MODERATE    TET2   \n",
       "583669   4010289779   6407  36  0.0056  0.0049  MODERATE    TP53   \n",
       "1077132  4010289920   2784  15  0.0054  0.0047  MODERATE    TET2   \n",
       "693810   4010289818    394   2  0.0051  0.0052  MODERATE    TET2   \n",
       "390816   4010289717  19490  49  0.0025  0.0021  MODERATE   RAD21   \n",
       "1204515  4010289959   2163  32  0.0148  0.0288  MODERATE   ASXL1   \n",
       "\n",
       "                            loci sampleTimePt  gender     MSID BIAS  \\\n",
       "447850   chr2:25471042_TCCA/GCCC     Baseline    Male  MS13311  2:0   \n",
       "474357         chr2:25463170_C/T     Baseline  Female  MS13994  2:2   \n",
       "664032        chr4:106157353_A/G           Y3    Male  MS11186  2:2   \n",
       "1133079        chr2:25463239_A/G     Baseline    Male   MS9016  2:2   \n",
       "1213827       chr4:106155366_G/T           Y3    Male  MS13208  2:2   \n",
       "583669         chr17:7577096_T/C     Baseline  Female   MS4019  2:2   \n",
       "1077132       chr4:106194049_A/C        Blank   Blank      NaN  2:2   \n",
       "693810        chr4:106196280_C/G        Blank   Blank      NaN  2:2   \n",
       "390816        chr8:117875480_T/C     Baseline    Male   MS9816  2:2   \n",
       "1204515       chr20:31021164_T/G     Baseline    Male   MS9607  1:1   \n",
       "\n",
       "           REFBIAS VARBIAS  QUAL  ODDRATIO chipOrControl  \n",
       "447850    823:1256     6:0  34.0  0.000000       Control  \n",
       "474357     388:362     1:1  37.0  1.071690       Control  \n",
       "664032     564:505     2:2  30.5  1.116720       Control  \n",
       "1133079  2332:2115     9:6  33.5  1.360322       Unknown  \n",
       "1213827  3214:5534   49:31  25.4  2.721311       Unknown  \n",
       "583669   3149:3216   19:17  32.7  1.141396          CHIP  \n",
       "1077132  1439:1316     7:8  26.2  1.249570           NaN  \n",
       "693810     200:191     1:1  37.0  1.047010         Blank  \n",
       "390816   9846:9578   21:28  31.0  1.370610       Control  \n",
       "1204515     2125:0    32:0  30.8  0.000000       Unknown  "
      ]
     },
     "execution_count": 25,
     "metadata": {},
     "output_type": "execute_result"
    }
   ],
   "source": [
    "X = shuffle(df2)\n",
    "df2_new = X.head(20000)\n",
    "df2_new['chipOrControl'].describe()\n",
    "df2_new.head(10)##"
   ]
  },
  {
   "cell_type": "markdown",
   "metadata": {},
   "source": [
    "## SVM\n"
   ]
  },
  {
   "cell_type": "code",
   "execution_count": 26,
   "metadata": {},
   "outputs": [],
   "source": [
    "from sklearn.datasets import make_classification\n",
    "from sklearn.multiclass import OneVsOneClassifier\n",
    "import pandas as pd\n",
    "import seaborn as sns\n",
    "from sklearn.svm import SVC"
   ]
  },
  {
   "cell_type": "code",
   "execution_count": 43,
   "metadata": {},
   "outputs": [],
   "source": [
    "X = df_new.drop('chipOrControl', axis = 1)\n",
    "XX = (X-X.mean())/X.std();\n",
    "y = df_new['chipOrControl']\n",
    "X_train, X_test, y_train, y_test = train_test_split(XX, y,train_size =.8, random_state = 10)"
   ]
  },
  {
   "cell_type": "code",
   "execution_count": 44,
   "metadata": {
    "scrolled": true
   },
   "outputs": [
    {
     "name": "stdout",
     "output_type": "stream",
     "text": [
      "[LibSVM][LibSVM]Accuracy:  0.55\n"
     ]
    }
   ],
   "source": [
    "model = SVC(kernel='rbf', gamma='scale', C=1.E10,verbose=True) \n",
    "model.fit(X_train, y_train);\n",
    "\n",
    "ovo = OneVsOneClassifier(model)\n",
    "ovo.fit(X_train, y_train)\n",
    "y_pred = ovo.predict(X_test)\n",
    "print(\"Accuracy: \",np.round(accuracy_score(y_test, y_pred),3))"
   ]
  },
  {
   "cell_type": "code",
   "execution_count": 153,
   "metadata": {
    "scrolled": true
   },
   "outputs": [
    {
     "name": "stdout",
     "output_type": "stream",
     "text": [
      "criterion = 'entropy',max_depth = '5',max_leaf_nodes = '6',min_samples_split = '20',random_state = '0'\n"
     ]
    }
   ],
   "source": [
    "lst = []\n",
    "lst2 = []\n",
    "for i in decision_tree_CV.best_params_:\n",
    "    lst.append(\"'\" + str(decision_tree_CV.best_params_[i])+ \"'\")\n",
    "    lst2.append(i)\n",
    "\n",
    "i = 0\n",
    "lst3 = []\n",
    "while i < (len(lst)):\n",
    "    best_params = str(lst2[i]) + ' = ' + str(lst[i])\n",
    "    lst3.append(best_params)\n",
    "    i += 1\n",
    "\n",
    "converted = ','.join(lst3)\n",
    "    \n",
    "print(converted)"
   ]
  }
 ],
 "metadata": {
  "kernelspec": {
   "display_name": "Python 3",
   "language": "python",
   "name": "python3"
  },
  "language_info": {
   "codemirror_mode": {
    "name": "ipython",
    "version": 3
   },
   "file_extension": ".py",
   "mimetype": "text/x-python",
   "name": "python",
   "nbconvert_exporter": "python",
   "pygments_lexer": "ipython3",
   "version": "3.8.5"
  }
 },
 "nbformat": 4,
 "nbformat_minor": 4
}
